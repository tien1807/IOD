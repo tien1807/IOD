{
 "cells": [
  {
   "cell_type": "markdown",
   "id": "dd7b71a2",
   "metadata": {},
   "source": [
    "<div>\n",
    "<img src=https://www.institutedata.com/wp-content/uploads/2019/10/iod_h_tp_primary_c.svg width=\"300\">\n",
    "</div>\n",
    "\n"
   ]
  },
  {
   "cell_type": "markdown",
   "id": "4d89fd3b",
   "metadata": {},
   "source": [
    "# Lab 8.2: Web Scraping\n",
    "INSTRUCTIONS:\n",
    "- Read the guides and hints then create the necessary analysis and code to find an answer and conclusion for the task below."
   ]
  },
  {
   "cell_type": "markdown",
   "id": "42172677",
   "metadata": {},
   "source": [
    "# Web Scraping in Python (using BeautifulSoup)\n",
    "\n",
    "## Scraping Rules\n",
    "1. **Always** check a website’s **Terms and Conditions** before you scrape it. Be careful to read the statements about legal use of data. Usually, the retrieved data should not be used for commercial purposes.\n",
    "2. **Do not** request data from the website too aggressively with a program (also known as spamming), as this may break the website. Make sure the program behaves in a reasonable manner (i.e. acts like a human). One request for one webpage per second is good practice.\n",
    "3. The layout of a website may change from time to time, so make sure to revisit the site and rewrite the code as needed."
   ]
  },
  {
   "cell_type": "markdown",
   "id": "0746b9b7",
   "metadata": {},
   "source": [
    "## Inspecting a Wikipedia Page\n",
    "Let’s take one page from **Wikipedia** as an example.\n",
    "\n",
    "Open the web page on [List of years in film](https://en.wikipedia.org/wiki/List_of_years_in_film) with the browser and inspect it.\n",
    "\n",
    "It has a number of movies listed by year. We shall scrape these (focus on the years 1900 onwards) and load our results into a dataframe having the following structure:\n",
    "\n",
    "|Year   |Movie   |URL   |\n",
    "|---|---|---|\n",
    "|...   |...   |...   | "
   ]
  },
  {
   "cell_type": "code",
   "execution_count": 1,
   "id": "cd5fb091",
   "metadata": {},
   "outputs": [],
   "source": [
    "## Import Libraries\n",
    "import pandas as pd\n",
    "import requests\n",
    "from bs4 import BeautifulSoup\n",
    "import re\n",
    "pd.set_option('display.max_colwidth', None) #enables columns to be displayed entirely"
   ]
  },
  {
   "cell_type": "markdown",
   "id": "bffc1226",
   "metadata": {},
   "source": [
    "### Define the content to retrieve (webpage's URL)"
   ]
  },
  {
   "cell_type": "code",
   "execution_count": 2,
   "id": "20f9c958",
   "metadata": {},
   "outputs": [],
   "source": [
    "url = \"https://en.wikipedia.org/wiki/List_of_years_in_film\""
   ]
  },
  {
   "cell_type": "code",
   "execution_count": 3,
   "id": "8d3c6bbb",
   "metadata": {},
   "outputs": [
    {
     "name": "stdout",
     "output_type": "stream",
     "text": [
      "Type of the variable 'page': bytes\n",
      "Page Retrieved. Request Status Code: 200, Page Size: 239281\n"
     ]
    }
   ],
   "source": [
    "# Retrieve the page content\n",
    "r = requests.get(url)\n",
    "if r.status_code == 200:\n",
    "    page = r.content\n",
    "    print('Type of the variable \\'page\\':', page.__class__.__name__)\n",
    "    print('Page Retrieved. Request Status Code: %d, Page Size: %d' % (r.status_code, len(page)))\n",
    "else:\n",
    "    print('Some problem occurred. Request Status Code: %d' % r.status_code)"
   ]
  },
  {
   "cell_type": "markdown",
   "id": "ace5c1b8",
   "metadata": {},
   "source": [
    "### Convert the stream of bytes into a BeautifulSoup representation"
   ]
  },
  {
   "cell_type": "code",
   "execution_count": 4,
   "id": "7c0bfacf",
   "metadata": {},
   "outputs": [],
   "source": [
    "# Convert to BeautifulSoup object\n",
    "soup = BeautifulSoup(page, 'html.parser')"
   ]
  },
  {
   "cell_type": "markdown",
   "id": "a5185004",
   "metadata": {},
   "source": [
    "### Check the content\n",
    "- The HTML source\n",
    "- Includes all tags and scripts\n",
    "- Can be long!"
   ]
  },
  {
   "cell_type": "markdown",
   "id": "7d0130b8",
   "metadata": {},
   "source": [
    "### Check the HTML's Title"
   ]
  },
  {
   "cell_type": "code",
   "execution_count": 28,
   "id": "99b8fc61",
   "metadata": {},
   "outputs": [
    {
     "name": "stdout",
     "output_type": "stream",
     "text": [
      "Page title: List of years in film - Wikipedia\n"
     ]
    }
   ],
   "source": [
    "# Check the HTML's Title\n",
    "print(\"Page title:\", soup.title.string)"
   ]
  },
  {
   "cell_type": "markdown",
   "id": "5120d2fd",
   "metadata": {},
   "source": [
    "### `<li>` tags\n",
    "- This page uses the tag `li` to introduce each year in the list of films\n",
    "\n",
    "Example:\n",
    "        `<li><b><a href=\"/wiki/1971_in_film\" title=\"1971 in film\">1971</a></b>`"
   ]
  },
  {
   "cell_type": "markdown",
   "id": "9f345e78",
   "metadata": {},
   "source": [
    "Use the find_all method to extract all `li` tags not containing any class or id attributes."
   ]
  },
  {
   "cell_type": "code",
   "execution_count": 19,
   "id": "e3bd7aea",
   "metadata": {},
   "outputs": [
    {
     "name": "stdout",
     "output_type": "stream",
     "text": [
      "Total number of <li> tags without class or id: 343\n"
     ]
    }
   ],
   "source": [
    "# Extract all li tags without class or id attributes\n",
    "list_of_li_tags = soup.find_all('li', class_=False, id=False)\n",
    "print(f\"Total number of <li> tags without class or id: {len(list_of_li_tags)}\")"
   ]
  },
  {
   "cell_type": "code",
   "execution_count": 7,
   "id": "dd4b1860",
   "metadata": {},
   "outputs": [
    {
     "data": {
      "text/plain": [
       "343"
      ]
     },
     "execution_count": 7,
     "metadata": {},
     "output_type": "execute_result"
    }
   ],
   "source": [
    "len(list_of_li_tags)"
   ]
  },
  {
   "cell_type": "markdown",
   "id": "2aeceeaf",
   "metadata": {},
   "source": [
    "Identify those tags which correspond to the years 1900 to 2023."
   ]
  },
  {
   "cell_type": "code",
   "execution_count": 20,
   "id": "ed4f80f3",
   "metadata": {},
   "outputs": [
    {
     "name": "stdout",
     "output_type": "stream",
     "text": [
      "Number of relevant tags (1900-2023): 124\n"
     ]
    }
   ],
   "source": [
    "relevant_tags = list_of_li_tags[-124:]  # Assuming 2023 is the last year\n",
    "print(f\"Number of relevant tags (1900-2023): {len(relevant_tags)}\")"
   ]
  },
  {
   "cell_type": "markdown",
   "id": "c981c141",
   "metadata": {},
   "source": [
    "Let's focus on parsing one tag, then extend that to all tags afterwards."
   ]
  },
  {
   "cell_type": "code",
   "execution_count": 22,
   "id": "92b35c28",
   "metadata": {},
   "outputs": [
    {
     "name": "stdout",
     "output_type": "stream",
     "text": [
      "Content of the last <li> tag:\n",
      "<li><a href=\"/wiki/Category:Short_description_is_different_from_Wikidata\" title=\"Category:Short description is different from Wikidata\">Short description is different from Wikidata</a></li>\n"
     ]
    }
   ],
   "source": [
    "li_tag = relevant_tags[-1]\n",
    "print(\"Content of the last <li> tag:\")\n",
    "print(li_tag)"
   ]
  },
  {
   "cell_type": "markdown",
   "id": "9a4f0d5a",
   "metadata": {},
   "source": [
    "To identify the year let us look for the pattern \"x in film\" in the `title` attribute of the link tag:\n"
   ]
  },
  {
   "cell_type": "code",
   "execution_count": 23,
   "id": "0e308346",
   "metadata": {},
   "outputs": [
    {
     "data": {
      "text/plain": [
       "<a href=\"/wiki/Category:Short_description_is_different_from_Wikidata\" title=\"Category:Short description is different from Wikidata\">Short description is different from Wikidata</a>"
      ]
     },
     "execution_count": 23,
     "metadata": {},
     "output_type": "execute_result"
    }
   ],
   "source": [
    "year_tag = li_tag.find('a', title = lambda x: x)\n",
    "year_tag"
   ]
  },
  {
   "cell_type": "markdown",
   "id": "05484e1c",
   "metadata": {},
   "source": [
    "From this we extract the year:"
   ]
  },
  {
   "cell_type": "code",
   "execution_count": 25,
   "id": "7da6dd31-561b-4ad7-8205-66224272a701",
   "metadata": {},
   "outputs": [
    {
     "name": "stdout",
     "output_type": "stream",
     "text": [
      "\n",
      "Extracted year: 2024\n"
     ]
    }
   ],
   "source": [
    "# Extract the year\n",
    "year_tag = li_tag.find('a', title=lambda x: x and 'in film' in x)\n",
    "if year_tag:\n",
    "    year = year_tag.text.strip()\n",
    "print(f\"\\nExtracted year: {year}\")"
   ]
  },
  {
   "cell_type": "markdown",
   "id": "6cd6c8f3",
   "metadata": {},
   "source": [
    "Next we extract the movie titles and urls:"
   ]
  },
  {
   "cell_type": "code",
   "execution_count": 27,
   "id": "27d2a2ec",
   "metadata": {},
   "outputs": [
    {
     "name": "stdout",
     "output_type": "stream",
     "text": [
      "\n",
      "Number of movies found: 0\n"
     ]
    }
   ],
   "source": [
    "movie_tags = li_tag.find_all('i')\n",
    "print(f\"\\nNumber of movies found: {len(movie_tags)}\")"
   ]
  },
  {
   "cell_type": "markdown",
   "id": "45cf6b1d",
   "metadata": {},
   "source": [
    "Extract the movie name and url from the first of these movie tags:"
   ]
  },
  {
   "cell_type": "code",
   "execution_count": 13,
   "id": "79c9ad25",
   "metadata": {},
   "outputs": [
    {
     "ename": "SyntaxError",
     "evalue": "invalid syntax (2920884761.py, line 1)",
     "output_type": "error",
     "traceback": [
      "\u001b[1;36m  Cell \u001b[1;32mIn[13], line 1\u001b[1;36m\u001b[0m\n\u001b[1;33m    first_movie_name = movie_tags[0].???\u001b[0m\n\u001b[1;37m                                     ^\u001b[0m\n\u001b[1;31mSyntaxError\u001b[0m\u001b[1;31m:\u001b[0m invalid syntax\n"
     ]
    }
   ],
   "source": [
    "first_movie_name = movie_tags[0].???\n",
    "first_movie_name"
   ]
  },
  {
   "cell_type": "markdown",
   "id": "cc3b97bf",
   "metadata": {},
   "source": [
    "The url can be extracted as follows:"
   ]
  },
  {
   "cell_type": "code",
   "execution_count": null,
   "id": "8279e0ec",
   "metadata": {},
   "outputs": [],
   "source": [
    "first_movie_url_tag = movie_tags[0].find('a')['href']\n",
    "'http://en.wikipedia.org' + first_movie_url_tag"
   ]
  },
  {
   "cell_type": "markdown",
   "id": "049d5ee2",
   "metadata": {},
   "source": [
    "## Parsing all elements"
   ]
  },
  {
   "cell_type": "markdown",
   "id": "d2a03dcd",
   "metadata": {},
   "source": [
    "Complete the code below to extract all the years, movies and movie_urls into lists:"
   ]
  },
  {
   "cell_type": "code",
   "execution_count": 14,
   "id": "51a95f45",
   "metadata": {},
   "outputs": [],
   "source": [
    "years = []\n",
    "movies = []\n",
    "movie_urls = []\n",
    "\n",
    "for li in relevant_tags:\n",
    "    year_tag = li.find('a', title=lambda x: x and 'in film' in x)\n",
    "    if year_tag:\n",
    "        year = year_tag.text.strip()\n",
    "        movie_tags = li.find_all('i')\n",
    "        \n",
    "        for movie_tag in movie_tags:\n",
    "            movie_title = movie_tag.text.strip()\n",
    "            movie_url_tag = movie_tag.find('a')\n",
    "            \n",
    "            if movie_url_tag and 'href' in movie_url_tag.attrs:\n",
    "                movie_url = 'http://en.wikipedia.org' + movie_url_tag['href']\n",
    "               \n",
    "                years.append(year)\n",
    "                movies.append(movie_title)\n",
    "                movie_urls.append(movie_url)"
   ]
  },
  {
   "cell_type": "markdown",
   "id": "120e1ec3",
   "metadata": {},
   "source": [
    "Create a dataframe containing this information:"
   ]
  },
  {
   "cell_type": "code",
   "execution_count": 15,
   "id": "dcc87fa2",
   "metadata": {},
   "outputs": [],
   "source": [
    "df = pd.DataFrame({'year': years, 'movie': movies, 'movie_url': movie_urls})"
   ]
  },
  {
   "cell_type": "code",
   "execution_count": 16,
   "id": "3f603dce",
   "metadata": {},
   "outputs": [
    {
     "data": {
      "text/html": [
       "<div>\n",
       "<style scoped>\n",
       "    .dataframe tbody tr th:only-of-type {\n",
       "        vertical-align: middle;\n",
       "    }\n",
       "\n",
       "    .dataframe tbody tr th {\n",
       "        vertical-align: top;\n",
       "    }\n",
       "\n",
       "    .dataframe thead th {\n",
       "        text-align: right;\n",
       "    }\n",
       "</style>\n",
       "<table border=\"1\" class=\"dataframe\">\n",
       "  <thead>\n",
       "    <tr style=\"text-align: right;\">\n",
       "      <th></th>\n",
       "      <th>year</th>\n",
       "      <th>movie</th>\n",
       "      <th>movie_url</th>\n",
       "    </tr>\n",
       "  </thead>\n",
       "  <tbody>\n",
       "    <tr>\n",
       "      <th>0</th>\n",
       "      <td>1943</td>\n",
       "      <td>The Song of Bernadette</td>\n",
       "      <td>http://en.wikipedia.org/wiki/The_Song_of_Bernadette_(film)</td>\n",
       "    </tr>\n",
       "    <tr>\n",
       "      <th>1</th>\n",
       "      <td>1943</td>\n",
       "      <td>Heaven Can Wait</td>\n",
       "      <td>http://en.wikipedia.org/wiki/Heaven_Can_Wait_(1943_film)</td>\n",
       "    </tr>\n",
       "    <tr>\n",
       "      <th>2</th>\n",
       "      <td>1943</td>\n",
       "      <td>Phantom of the Opera</td>\n",
       "      <td>http://en.wikipedia.org/wiki/Phantom_of_the_Opera_(1943_film)</td>\n",
       "    </tr>\n",
       "    <tr>\n",
       "      <th>3</th>\n",
       "      <td>1943</td>\n",
       "      <td>The Life and Death of Colonel Blimp</td>\n",
       "      <td>http://en.wikipedia.org/wiki/The_Life_and_Death_of_Colonel_Blimp</td>\n",
       "    </tr>\n",
       "    <tr>\n",
       "      <th>4</th>\n",
       "      <td>1943</td>\n",
       "      <td>For Whom the Bell Tolls</td>\n",
       "      <td>http://en.wikipedia.org/wiki/For_Whom_the_Bell_Tolls_(film)</td>\n",
       "    </tr>\n",
       "    <tr>\n",
       "      <th>...</th>\n",
       "      <td>...</td>\n",
       "      <td>...</td>\n",
       "      <td>...</td>\n",
       "    </tr>\n",
       "    <tr>\n",
       "      <th>862</th>\n",
       "      <td>2024</td>\n",
       "      <td>Civil War</td>\n",
       "      <td>http://en.wikipedia.org/wiki/Civil_War_(film)</td>\n",
       "    </tr>\n",
       "    <tr>\n",
       "      <th>863</th>\n",
       "      <td>2024</td>\n",
       "      <td>Deadpool &amp; Wolverine</td>\n",
       "      <td>http://en.wikipedia.org/wiki/Deadpool_%26_Wolverine</td>\n",
       "    </tr>\n",
       "    <tr>\n",
       "      <th>864</th>\n",
       "      <td>2024</td>\n",
       "      <td>Inside Out 2</td>\n",
       "      <td>http://en.wikipedia.org/wiki/Inside_Out_2</td>\n",
       "    </tr>\n",
       "    <tr>\n",
       "      <th>865</th>\n",
       "      <td>2024</td>\n",
       "      <td>Dune: Part Two</td>\n",
       "      <td>http://en.wikipedia.org/wiki/Dune:_Part_Two</td>\n",
       "    </tr>\n",
       "    <tr>\n",
       "      <th>866</th>\n",
       "      <td>2024</td>\n",
       "      <td>Bad Boys: Ride or Die</td>\n",
       "      <td>http://en.wikipedia.org/wiki/Bad_Boys:_Ride_or_Die</td>\n",
       "    </tr>\n",
       "  </tbody>\n",
       "</table>\n",
       "<p>867 rows × 3 columns</p>\n",
       "</div>"
      ],
      "text/plain": [
       "     year                                movie  \\\n",
       "0    1943               The Song of Bernadette   \n",
       "1    1943                      Heaven Can Wait   \n",
       "2    1943                 Phantom of the Opera   \n",
       "3    1943  The Life and Death of Colonel Blimp   \n",
       "4    1943              For Whom the Bell Tolls   \n",
       "..    ...                                  ...   \n",
       "862  2024                            Civil War   \n",
       "863  2024                 Deadpool & Wolverine   \n",
       "864  2024                         Inside Out 2   \n",
       "865  2024                       Dune: Part Two   \n",
       "866  2024                Bad Boys: Ride or Die   \n",
       "\n",
       "                                                            movie_url  \n",
       "0          http://en.wikipedia.org/wiki/The_Song_of_Bernadette_(film)  \n",
       "1            http://en.wikipedia.org/wiki/Heaven_Can_Wait_(1943_film)  \n",
       "2       http://en.wikipedia.org/wiki/Phantom_of_the_Opera_(1943_film)  \n",
       "3    http://en.wikipedia.org/wiki/The_Life_and_Death_of_Colonel_Blimp  \n",
       "4         http://en.wikipedia.org/wiki/For_Whom_the_Bell_Tolls_(film)  \n",
       "..                                                                ...  \n",
       "862                     http://en.wikipedia.org/wiki/Civil_War_(film)  \n",
       "863               http://en.wikipedia.org/wiki/Deadpool_%26_Wolverine  \n",
       "864                         http://en.wikipedia.org/wiki/Inside_Out_2  \n",
       "865                       http://en.wikipedia.org/wiki/Dune:_Part_Two  \n",
       "866                http://en.wikipedia.org/wiki/Bad_Boys:_Ride_or_Die  \n",
       "\n",
       "[867 rows x 3 columns]"
      ]
     },
     "execution_count": 16,
     "metadata": {},
     "output_type": "execute_result"
    }
   ],
   "source": [
    "df"
   ]
  },
  {
   "cell_type": "code",
   "execution_count": 18,
   "id": "7ac45fc9-d425-4039-88f6-74e3e7ba4fbd",
   "metadata": {},
   "outputs": [
    {
     "name": "stdout",
     "output_type": "stream",
     "text": [
      "   year                                movie  \\\n",
      "0  1943               The Song of Bernadette   \n",
      "1  1943                      Heaven Can Wait   \n",
      "2  1943                 Phantom of the Opera   \n",
      "3  1943  The Life and Death of Colonel Blimp   \n",
      "4  1943              For Whom the Bell Tolls   \n",
      "\n",
      "                                                          movie_url  \n",
      "0        http://en.wikipedia.org/wiki/The_Song_of_Bernadette_(film)  \n",
      "1          http://en.wikipedia.org/wiki/Heaven_Can_Wait_(1943_film)  \n",
      "2     http://en.wikipedia.org/wiki/Phantom_of_the_Opera_(1943_film)  \n",
      "3  http://en.wikipedia.org/wiki/The_Life_and_Death_of_Colonel_Blimp  \n",
      "4       http://en.wikipedia.org/wiki/For_Whom_the_Bell_Tolls_(film)  \n"
     ]
    }
   ],
   "source": [
    "# Display the first few rows of the dataframe\n",
    "print(df.head())"
   ]
  },
  {
   "cell_type": "markdown",
   "id": "074ac1e0",
   "metadata": {},
   "source": [
    "**Question**: Which year had the most movies listed?\n"
   ]
  },
  {
   "cell_type": "code",
   "execution_count": 17,
   "id": "9ec982b1",
   "metadata": {},
   "outputs": [
    {
     "name": "stdout",
     "output_type": "stream",
     "text": [
      "The year with the most movies listed is 2002 with 22 movies.\n"
     ]
    }
   ],
   "source": [
    "#ANSWER:\n",
    "# Find the year with the most movies listed\n",
    "year_with_most_movies = df['year'].value_counts().index[0]\n",
    "number_of_movies = df['year'].value_counts().iloc[0]\n",
    "\n",
    "print(f\"The year with the most movies listed is {year_with_most_movies} with {number_of_movies} movies.\")"
   ]
  },
  {
   "cell_type": "markdown",
   "id": "fcd0e3ae",
   "metadata": {},
   "source": [
    "Through webscraping from Wikipedia we now have a dataframe containing a list of prominent movies by year together with their Wikipedia links."
   ]
  },
  {
   "cell_type": "markdown",
   "id": "b4347a64",
   "metadata": {},
   "source": [
    "\n",
    "\n",
    "---\n",
    "\n",
    "\n",
    "\n",
    "---\n",
    "\n",
    "\n",
    "\n",
    "> > > > > > > > > © 2024 Institute of Data\n",
    "\n",
    "\n",
    "---\n",
    "\n",
    "\n",
    "\n",
    "---\n",
    "\n",
    "\n",
    "\n"
   ]
  }
 ],
 "metadata": {
  "kernelspec": {
   "display_name": "Python 3 (ipykernel)",
   "language": "python",
   "name": "python3"
  },
  "language_info": {
   "codemirror_mode": {
    "name": "ipython",
    "version": 3
   },
   "file_extension": ".py",
   "mimetype": "text/x-python",
   "name": "python",
   "nbconvert_exporter": "python",
   "pygments_lexer": "ipython3",
   "version": "3.10.14"
  }
 },
 "nbformat": 4,
 "nbformat_minor": 5
}
