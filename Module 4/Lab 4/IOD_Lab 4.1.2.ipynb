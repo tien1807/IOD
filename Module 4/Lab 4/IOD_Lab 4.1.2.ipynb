{
 "cells": [
  {
   "cell_type": "markdown",
   "metadata": {
    "id": "fpsJ8d42XWua"
   },
   "source": [
    "<div>\n",
    "<img src=https://www.institutedata.com/wp-content/uploads/2019/10/iod_h_tp_primary_c.svg width=\"300\">\n",
    "</div>"
   ]
  },
  {
   "cell_type": "markdown",
   "metadata": {
    "id": "CSHa05-1XWub"
   },
   "source": [
    "# Lab 4.1.2 Linear Regression"
   ]
  },
  {
   "cell_type": "markdown",
   "metadata": {
    "id": "D9_NTE0oDTWT"
   },
   "source": [
    "In Lab 4.1.1 we were able to predict house price via a predictor variable from first principles. Here we the see how the same can be done using scikit-learn.\n",
    "\n",
    "For comparison purposes, we will continue with the same predictor `sq__ft` in our dataset as last time."
   ]
  },
  {
   "cell_type": "markdown",
   "metadata": {
    "id": "lZ0RQEDgXWuc"
   },
   "source": [
    "## Prediction of House Price Using Linear Regression"
   ]
  },
  {
   "cell_type": "markdown",
   "metadata": {
    "id": "96_GqGXCXWud"
   },
   "source": [
    "### Data\n",
    "\n",
    "The Sacramento real estate transactions file is a list of 985 real estate transactions in the Sacramento area reported over a five-day period, as reported by the Sacramento Bee."
   ]
  },
  {
   "cell_type": "code",
   "execution_count": 2,
   "metadata": {},
   "outputs": [
    {
     "name": "stdout",
     "output_type": "stream",
     "text": [
      "Collecting seaborn\n",
      "  Downloading seaborn-0.13.2-py3-none-any.whl.metadata (5.4 kB)\n",
      "Requirement already satisfied: numpy!=1.24.0,>=1.20 in c:\\users\\tien\\appdata\\roaming\\python\\python310\\site-packages (from seaborn) (2.0.0)\n",
      "Requirement already satisfied: pandas>=1.2 in c:\\users\\tien\\anaconda3\\envs\\iod\\lib\\site-packages (from seaborn) (2.2.2)\n",
      "Collecting matplotlib!=3.6.1,>=3.4 (from seaborn)\n",
      "  Downloading matplotlib-3.9.1-cp310-cp310-win_amd64.whl.metadata (11 kB)\n",
      "Collecting contourpy>=1.0.1 (from matplotlib!=3.6.1,>=3.4->seaborn)\n",
      "  Downloading contourpy-1.2.1-cp310-cp310-win_amd64.whl.metadata (5.8 kB)\n",
      "Collecting cycler>=0.10 (from matplotlib!=3.6.1,>=3.4->seaborn)\n",
      "  Downloading cycler-0.12.1-py3-none-any.whl.metadata (3.8 kB)\n",
      "Collecting fonttools>=4.22.0 (from matplotlib!=3.6.1,>=3.4->seaborn)\n",
      "  Downloading fonttools-4.53.1-cp310-cp310-win_amd64.whl.metadata (165 kB)\n",
      "     ---------------------------------------- 0.0/165.9 kB ? eta -:--:--\n",
      "     ---------------- ---------------------- 71.7/165.9 kB 2.0 MB/s eta 0:00:01\n",
      "     -------------------------------------- 165.9/165.9 kB 2.5 MB/s eta 0:00:00\n",
      "Collecting kiwisolver>=1.3.1 (from matplotlib!=3.6.1,>=3.4->seaborn)\n",
      "  Downloading kiwisolver-1.4.5-cp310-cp310-win_amd64.whl.metadata (6.5 kB)\n",
      "Requirement already satisfied: packaging>=20.0 in c:\\users\\tien\\anaconda3\\envs\\iod\\lib\\site-packages (from matplotlib!=3.6.1,>=3.4->seaborn) (23.2)\n",
      "Collecting pillow>=8 (from matplotlib!=3.6.1,>=3.4->seaborn)\n",
      "  Downloading pillow-10.4.0-cp310-cp310-win_amd64.whl.metadata (9.3 kB)\n",
      "Collecting pyparsing>=2.3.1 (from matplotlib!=3.6.1,>=3.4->seaborn)\n",
      "  Downloading pyparsing-3.1.2-py3-none-any.whl.metadata (5.1 kB)\n",
      "Requirement already satisfied: python-dateutil>=2.7 in c:\\users\\tien\\anaconda3\\envs\\iod\\lib\\site-packages (from matplotlib!=3.6.1,>=3.4->seaborn) (2.8.2)\n",
      "Requirement already satisfied: pytz>=2020.1 in c:\\users\\tien\\anaconda3\\envs\\iod\\lib\\site-packages (from pandas>=1.2->seaborn) (2024.1)\n",
      "Requirement already satisfied: tzdata>=2022.7 in c:\\users\\tien\\anaconda3\\envs\\iod\\lib\\site-packages (from pandas>=1.2->seaborn) (2024.1)\n",
      "Requirement already satisfied: six>=1.5 in c:\\users\\tien\\anaconda3\\envs\\iod\\lib\\site-packages (from python-dateutil>=2.7->matplotlib!=3.6.1,>=3.4->seaborn) (1.16.0)\n",
      "Downloading seaborn-0.13.2-py3-none-any.whl (294 kB)\n",
      "   ---------------------------------------- 0.0/294.9 kB ? eta -:--:--\n",
      "   ------------------- -------------------- 143.4/294.9 kB 8.3 MB/s eta 0:00:01\n",
      "   ---------------------------------------- 294.9/294.9 kB 3.6 MB/s eta 0:00:00\n",
      "Downloading matplotlib-3.9.1-cp310-cp310-win_amd64.whl (8.0 MB)\n",
      "   ---------------------------------------- 0.0/8.0 MB ? eta -:--:--\n",
      "   - -------------------------------------- 0.2/8.0 MB 6.6 MB/s eta 0:00:02\n",
      "   -- ------------------------------------- 0.4/8.0 MB 5.4 MB/s eta 0:00:02\n",
      "   --- ------------------------------------ 0.6/8.0 MB 4.8 MB/s eta 0:00:02\n",
      "   ---- ----------------------------------- 0.8/8.0 MB 4.8 MB/s eta 0:00:02\n",
      "   ----- ---------------------------------- 1.1/8.0 MB 5.1 MB/s eta 0:00:02\n",
      "   ------- -------------------------------- 1.4/8.0 MB 5.3 MB/s eta 0:00:02\n",
      "   -------- ------------------------------- 1.6/8.0 MB 5.3 MB/s eta 0:00:02\n",
      "   ---------- ----------------------------- 2.0/8.0 MB 5.6 MB/s eta 0:00:02\n",
      "   ----------- ---------------------------- 2.3/8.0 MB 5.7 MB/s eta 0:00:01\n",
      "   ------------- -------------------------- 2.6/8.0 MB 5.8 MB/s eta 0:00:01\n",
      "   -------------- ------------------------- 3.0/8.0 MB 5.9 MB/s eta 0:00:01\n",
      "   ---------------- ----------------------- 3.3/8.0 MB 6.3 MB/s eta 0:00:01\n",
      "   ------------------ --------------------- 3.7/8.0 MB 6.4 MB/s eta 0:00:01\n",
      "   ------------------- -------------------- 3.9/8.0 MB 6.2 MB/s eta 0:00:01\n",
      "   --------------------- ------------------ 4.2/8.0 MB 6.3 MB/s eta 0:00:01\n",
      "   ---------------------- ----------------- 4.5/8.0 MB 6.2 MB/s eta 0:00:01\n",
      "   ----------------------- ---------------- 4.6/8.0 MB 6.1 MB/s eta 0:00:01\n",
      "   ------------------------ --------------- 4.9/8.0 MB 6.0 MB/s eta 0:00:01\n",
      "   ------------------------- -------------- 5.2/8.0 MB 6.0 MB/s eta 0:00:01\n",
      "   ---------------------------- ----------- 5.6/8.0 MB 6.1 MB/s eta 0:00:01\n",
      "   ----------------------------- ---------- 5.9/8.0 MB 6.2 MB/s eta 0:00:01\n",
      "   ------------------------------- -------- 6.3/8.0 MB 6.3 MB/s eta 0:00:01\n",
      "   --------------------------------- ------ 6.6/8.0 MB 6.3 MB/s eta 0:00:01\n",
      "   ---------------------------------- ----- 6.9/8.0 MB 6.3 MB/s eta 0:00:01\n",
      "   ------------------------------------ --- 7.3/8.0 MB 6.4 MB/s eta 0:00:01\n",
      "   ------------------------------------- -- 7.4/8.0 MB 6.3 MB/s eta 0:00:01\n",
      "   ---------------------------------------  7.8/8.0 MB 6.3 MB/s eta 0:00:01\n",
      "   ---------------------------------------- 8.0/8.0 MB 6.3 MB/s eta 0:00:00\n",
      "Downloading contourpy-1.2.1-cp310-cp310-win_amd64.whl (187 kB)\n",
      "   ---------------------------------------- 0.0/187.5 kB ? eta -:--:--\n",
      "   ---------------------------------------- 187.5/187.5 kB 5.7 MB/s eta 0:00:00\n",
      "Downloading cycler-0.12.1-py3-none-any.whl (8.3 kB)\n",
      "Downloading fonttools-4.53.1-cp310-cp310-win_amd64.whl (2.2 MB)\n",
      "   ---------------------------------------- 0.0/2.2 MB ? eta -:--:--\n",
      "   ---- ----------------------------------- 0.3/2.2 MB 7.9 MB/s eta 0:00:01\n",
      "   ----- ---------------------------------- 0.3/2.2 MB 6.1 MB/s eta 0:00:01\n",
      "   ---------------- ----------------------- 0.9/2.2 MB 7.4 MB/s eta 0:00:01\n",
      "   ---------------------- ----------------- 1.3/2.2 MB 7.3 MB/s eta 0:00:01\n",
      "   --------------------------- ------------ 1.5/2.2 MB 6.9 MB/s eta 0:00:01\n",
      "   ---------------------------------- ----- 1.9/2.2 MB 7.2 MB/s eta 0:00:01\n",
      "   ---------------------------------------- 2.2/2.2 MB 7.0 MB/s eta 0:00:00\n",
      "Downloading kiwisolver-1.4.5-cp310-cp310-win_amd64.whl (56 kB)\n",
      "   ---------------------------------------- 0.0/56.1 kB ? eta -:--:--\n",
      "   ---------------------------------------- 56.1/56.1 kB 2.9 MB/s eta 0:00:00\n",
      "Downloading pillow-10.4.0-cp310-cp310-win_amd64.whl (2.6 MB)\n",
      "   ---------------------------------------- 0.0/2.6 MB ? eta -:--:--\n",
      "   --- ------------------------------------ 0.2/2.6 MB 7.3 MB/s eta 0:00:01\n",
      "   ------- -------------------------------- 0.5/2.6 MB 5.6 MB/s eta 0:00:01\n",
      "   ---------- ----------------------------- 0.7/2.6 MB 5.2 MB/s eta 0:00:01\n",
      "   ------------ --------------------------- 0.8/2.6 MB 4.8 MB/s eta 0:00:01\n",
      "   ---------------- ----------------------- 1.1/2.6 MB 4.8 MB/s eta 0:00:01\n",
      "   ------------------ --------------------- 1.2/2.6 MB 4.5 MB/s eta 0:00:01\n",
      "   ------------------------ --------------- 1.5/2.6 MB 4.9 MB/s eta 0:00:01\n",
      "   ----------------------------- ---------- 1.9/2.6 MB 5.3 MB/s eta 0:00:01\n",
      "   ---------------------------------- ----- 2.2/2.6 MB 5.5 MB/s eta 0:00:01\n",
      "   ---------------------------------------  2.5/2.6 MB 5.6 MB/s eta 0:00:01\n",
      "   ---------------------------------------- 2.6/2.6 MB 5.6 MB/s eta 0:00:00\n",
      "Downloading pyparsing-3.1.2-py3-none-any.whl (103 kB)\n",
      "   ---------------------------------------- 0.0/103.2 kB ? eta -:--:--\n",
      "   ---------------------------------------- 103.2/103.2 kB 5.8 MB/s eta 0:00:00\n",
      "Installing collected packages: pyparsing, pillow, kiwisolver, fonttools, cycler, contourpy, matplotlib, seaborn\n",
      "Successfully installed contourpy-1.2.1 cycler-0.12.1 fonttools-4.53.1 kiwisolver-1.4.5 matplotlib-3.9.1 pillow-10.4.0 pyparsing-3.1.2 seaborn-0.13.2\n",
      "Note: you may need to restart the kernel to use updated packages.\n"
     ]
    }
   ],
   "source": [
    "%pip install seaborn"
   ]
  },
  {
   "cell_type": "code",
   "execution_count": 4,
   "metadata": {},
   "outputs": [
    {
     "name": "stdout",
     "output_type": "stream",
     "text": [
      "Collecting scipy\n",
      "  Downloading scipy-1.14.0-cp310-cp310-win_amd64.whl.metadata (60 kB)\n",
      "     ---------------------------------------- 0.0/60.8 kB ? eta -:--:--\n",
      "     ------------ ------------------------- 20.5/60.8 kB 320.0 kB/s eta 0:00:01\n",
      "     -------------------------------------- 60.8/60.8 kB 537.5 kB/s eta 0:00:00\n",
      "Requirement already satisfied: numpy<2.3,>=1.23.5 in c:\\users\\tien\\appdata\\roaming\\python\\python310\\site-packages (from scipy) (2.0.0)\n",
      "Downloading scipy-1.14.0-cp310-cp310-win_amd64.whl (44.8 MB)\n",
      "   ---------------------------------------- 0.0/44.8 MB ? eta -:--:--\n",
      "   ---------------------------------------- 0.2/44.8 MB 4.1 MB/s eta 0:00:11\n",
      "   ---------------------------------------- 0.5/44.8 MB 5.1 MB/s eta 0:00:09\n",
      "    --------------------------------------- 0.7/44.8 MB 6.0 MB/s eta 0:00:08\n",
      "    --------------------------------------- 1.1/44.8 MB 5.7 MB/s eta 0:00:08\n",
      "   - -------------------------------------- 1.5/44.8 MB 7.0 MB/s eta 0:00:07\n",
      "   - -------------------------------------- 1.9/44.8 MB 7.1 MB/s eta 0:00:07\n",
      "   -- ------------------------------------- 2.3/44.8 MB 7.2 MB/s eta 0:00:06\n",
      "   -- ------------------------------------- 2.7/44.8 MB 7.5 MB/s eta 0:00:06\n",
      "   -- ------------------------------------- 3.0/44.8 MB 7.4 MB/s eta 0:00:06\n",
      "   --- ------------------------------------ 3.4/44.8 MB 7.5 MB/s eta 0:00:06\n",
      "   --- ------------------------------------ 3.9/44.8 MB 7.7 MB/s eta 0:00:06\n",
      "   --- ------------------------------------ 4.2/44.8 MB 7.6 MB/s eta 0:00:06\n",
      "   ---- ----------------------------------- 4.5/44.8 MB 7.6 MB/s eta 0:00:06\n",
      "   ---- ----------------------------------- 4.8/44.8 MB 7.5 MB/s eta 0:00:06\n",
      "   ---- ----------------------------------- 5.1/44.8 MB 7.4 MB/s eta 0:00:06\n",
      "   ---- ----------------------------------- 5.5/44.8 MB 7.4 MB/s eta 0:00:06\n",
      "   ----- ---------------------------------- 5.8/44.8 MB 7.4 MB/s eta 0:00:06\n",
      "   ----- ---------------------------------- 6.2/44.8 MB 7.4 MB/s eta 0:00:06\n",
      "   ----- ---------------------------------- 6.6/44.8 MB 7.5 MB/s eta 0:00:06\n",
      "   ------ --------------------------------- 6.9/44.8 MB 7.5 MB/s eta 0:00:06\n",
      "   ------ --------------------------------- 7.3/44.8 MB 7.6 MB/s eta 0:00:05\n",
      "   ------ --------------------------------- 7.6/44.8 MB 7.5 MB/s eta 0:00:05\n",
      "   ------- -------------------------------- 8.0/44.8 MB 7.6 MB/s eta 0:00:05\n",
      "   ------- -------------------------------- 8.4/44.8 MB 7.6 MB/s eta 0:00:05\n",
      "   ------- -------------------------------- 8.8/44.8 MB 7.7 MB/s eta 0:00:05\n",
      "   -------- ------------------------------- 9.1/44.8 MB 7.7 MB/s eta 0:00:05\n",
      "   -------- ------------------------------- 9.6/44.8 MB 7.7 MB/s eta 0:00:05\n",
      "   -------- ------------------------------- 10.0/44.8 MB 7.8 MB/s eta 0:00:05\n",
      "   --------- ------------------------------ 10.4/44.8 MB 7.9 MB/s eta 0:00:05\n",
      "   --------- ------------------------------ 10.8/44.8 MB 8.0 MB/s eta 0:00:05\n",
      "   ---------- ----------------------------- 11.2/44.8 MB 8.2 MB/s eta 0:00:05\n",
      "   ---------- ----------------------------- 11.6/44.8 MB 8.2 MB/s eta 0:00:05\n",
      "   ---------- ----------------------------- 11.9/44.8 MB 8.0 MB/s eta 0:00:05\n",
      "   ---------- ----------------------------- 12.3/44.8 MB 8.0 MB/s eta 0:00:05\n",
      "   ----------- ---------------------------- 12.5/44.8 MB 7.9 MB/s eta 0:00:05\n",
      "   ----------- ---------------------------- 12.9/44.8 MB 7.9 MB/s eta 0:00:05\n",
      "   ----------- ---------------------------- 13.4/44.8 MB 8.0 MB/s eta 0:00:04\n",
      "   ------------ --------------------------- 13.7/44.8 MB 8.0 MB/s eta 0:00:04\n",
      "   ------------ --------------------------- 13.9/44.8 MB 7.9 MB/s eta 0:00:04\n",
      "   ------------ --------------------------- 14.3/44.8 MB 7.9 MB/s eta 0:00:04\n",
      "   ------------- -------------------------- 14.8/44.8 MB 7.9 MB/s eta 0:00:04\n",
      "   ------------- -------------------------- 15.2/44.8 MB 8.1 MB/s eta 0:00:04\n",
      "   ------------- -------------------------- 15.6/44.8 MB 8.0 MB/s eta 0:00:04\n",
      "   -------------- ------------------------- 16.0/44.8 MB 8.1 MB/s eta 0:00:04\n",
      "   -------------- ------------------------- 16.4/44.8 MB 8.2 MB/s eta 0:00:04\n",
      "   --------------- ------------------------ 16.8/44.8 MB 8.3 MB/s eta 0:00:04\n",
      "   --------------- ------------------------ 17.2/44.8 MB 8.3 MB/s eta 0:00:04\n",
      "   --------------- ------------------------ 17.5/44.8 MB 8.2 MB/s eta 0:00:04\n",
      "   ---------------- ----------------------- 18.0/44.8 MB 8.4 MB/s eta 0:00:04\n",
      "   ---------------- ----------------------- 18.4/44.8 MB 8.4 MB/s eta 0:00:04\n",
      "   ---------------- ----------------------- 18.8/44.8 MB 8.4 MB/s eta 0:00:04\n",
      "   ----------------- ---------------------- 19.1/44.8 MB 8.3 MB/s eta 0:00:04\n",
      "   ----------------- ---------------------- 19.5/44.8 MB 8.3 MB/s eta 0:00:04\n",
      "   ----------------- ---------------------- 19.8/44.8 MB 8.2 MB/s eta 0:00:04\n",
      "   ----------------- ---------------------- 20.1/44.8 MB 8.1 MB/s eta 0:00:04\n",
      "   ------------------ --------------------- 20.4/44.8 MB 8.1 MB/s eta 0:00:04\n",
      "   ------------------ --------------------- 20.8/44.8 MB 8.1 MB/s eta 0:00:03\n",
      "   ------------------ --------------------- 21.2/44.8 MB 8.0 MB/s eta 0:00:03\n",
      "   ------------------- -------------------- 21.6/44.8 MB 8.0 MB/s eta 0:00:03\n",
      "   ------------------- -------------------- 22.0/44.8 MB 8.2 MB/s eta 0:00:03\n",
      "   ------------------- -------------------- 22.3/44.8 MB 8.2 MB/s eta 0:00:03\n",
      "   -------------------- ------------------- 22.6/44.8 MB 8.2 MB/s eta 0:00:03\n",
      "   -------------------- ------------------- 23.0/44.8 MB 8.1 MB/s eta 0:00:03\n",
      "   -------------------- ------------------- 23.4/44.8 MB 8.1 MB/s eta 0:00:03\n",
      "   --------------------- ------------------ 23.8/44.8 MB 8.1 MB/s eta 0:00:03\n",
      "   --------------------- ------------------ 24.1/44.8 MB 8.0 MB/s eta 0:00:03\n",
      "   --------------------- ------------------ 24.3/44.8 MB 8.0 MB/s eta 0:00:03\n",
      "   --------------------- ------------------ 24.5/44.8 MB 7.9 MB/s eta 0:00:03\n",
      "   ---------------------- ----------------- 24.9/44.8 MB 7.9 MB/s eta 0:00:03\n",
      "   ---------------------- ----------------- 25.2/44.8 MB 7.8 MB/s eta 0:00:03\n",
      "   ---------------------- ----------------- 25.5/44.8 MB 7.7 MB/s eta 0:00:03\n",
      "   ----------------------- ---------------- 25.9/44.8 MB 7.8 MB/s eta 0:00:03\n",
      "   ----------------------- ---------------- 26.3/44.8 MB 7.7 MB/s eta 0:00:03\n",
      "   ----------------------- ---------------- 26.6/44.8 MB 7.6 MB/s eta 0:00:03\n",
      "   ------------------------ --------------- 27.1/44.8 MB 7.7 MB/s eta 0:00:03\n",
      "   ------------------------ --------------- 27.5/44.8 MB 7.8 MB/s eta 0:00:03\n",
      "   ------------------------- -------------- 28.0/44.8 MB 7.8 MB/s eta 0:00:03\n",
      "   ------------------------- -------------- 28.4/44.8 MB 7.8 MB/s eta 0:00:03\n",
      "   ------------------------- -------------- 28.7/44.8 MB 7.7 MB/s eta 0:00:03\n",
      "   -------------------------- ------------- 29.1/44.8 MB 7.7 MB/s eta 0:00:03\n",
      "   -------------------------- ------------- 29.5/44.8 MB 7.7 MB/s eta 0:00:02\n",
      "   -------------------------- ------------- 29.9/44.8 MB 7.8 MB/s eta 0:00:02\n",
      "   -------------------------- ------------- 30.2/44.8 MB 7.7 MB/s eta 0:00:02\n",
      "   --------------------------- ------------ 30.5/44.8 MB 7.8 MB/s eta 0:00:02\n",
      "   --------------------------- ------------ 30.8/44.8 MB 7.8 MB/s eta 0:00:02\n",
      "   --------------------------- ------------ 31.3/44.8 MB 7.9 MB/s eta 0:00:02\n",
      "   ---------------------------- ----------- 31.7/44.8 MB 7.9 MB/s eta 0:00:02\n",
      "   ---------------------------- ----------- 32.2/44.8 MB 8.0 MB/s eta 0:00:02\n",
      "   ----------------------------- ---------- 32.5/44.8 MB 7.9 MB/s eta 0:00:02\n",
      "   ----------------------------- ---------- 33.0/44.8 MB 8.0 MB/s eta 0:00:02\n",
      "   ----------------------------- ---------- 33.3/44.8 MB 8.0 MB/s eta 0:00:02\n",
      "   ------------------------------ --------- 33.6/44.8 MB 7.9 MB/s eta 0:00:02\n",
      "   ------------------------------ --------- 33.7/44.8 MB 7.7 MB/s eta 0:00:02\n",
      "   ------------------------------ --------- 33.8/44.8 MB 7.4 MB/s eta 0:00:02\n",
      "   ------------------------------ --------- 33.9/44.8 MB 7.4 MB/s eta 0:00:02\n",
      "   ------------------------------ --------- 33.9/44.8 MB 7.4 MB/s eta 0:00:02\n",
      "   ------------------------------ --------- 34.1/44.8 MB 7.0 MB/s eta 0:00:02\n",
      "   ------------------------------ --------- 34.4/44.8 MB 7.0 MB/s eta 0:00:02\n",
      "   ------------------------------- -------- 34.8/44.8 MB 7.2 MB/s eta 0:00:02\n",
      "   ------------------------------- -------- 35.3/44.8 MB 7.3 MB/s eta 0:00:02\n",
      "   ------------------------------- -------- 35.6/44.8 MB 7.3 MB/s eta 0:00:02\n",
      "   -------------------------------- ------- 35.9/44.8 MB 7.3 MB/s eta 0:00:02\n",
      "   -------------------------------- ------- 36.4/44.8 MB 7.3 MB/s eta 0:00:02\n",
      "   -------------------------------- ------- 36.8/44.8 MB 7.4 MB/s eta 0:00:02\n",
      "   --------------------------------- ------ 37.2/44.8 MB 7.4 MB/s eta 0:00:02\n",
      "   --------------------------------- ------ 37.7/44.8 MB 7.4 MB/s eta 0:00:01\n",
      "   ---------------------------------- ----- 38.1/44.8 MB 7.4 MB/s eta 0:00:01\n",
      "   ---------------------------------- ----- 38.5/44.8 MB 7.4 MB/s eta 0:00:01\n",
      "   ---------------------------------- ----- 38.9/44.8 MB 7.4 MB/s eta 0:00:01\n",
      "   ----------------------------------- ---- 39.4/44.8 MB 7.4 MB/s eta 0:00:01\n",
      "   ----------------------------------- ---- 39.8/44.8 MB 7.4 MB/s eta 0:00:01\n",
      "   ----------------------------------- ---- 40.1/44.8 MB 7.5 MB/s eta 0:00:01\n",
      "   ------------------------------------ --- 40.4/44.8 MB 7.4 MB/s eta 0:00:01\n",
      "   ------------------------------------ --- 40.8/44.8 MB 7.5 MB/s eta 0:00:01\n",
      "   ------------------------------------ --- 41.2/44.8 MB 7.5 MB/s eta 0:00:01\n",
      "   ------------------------------------- -- 41.6/44.8 MB 7.4 MB/s eta 0:00:01\n",
      "   ------------------------------------- -- 41.8/44.8 MB 7.3 MB/s eta 0:00:01\n",
      "   ------------------------------------- -- 42.1/44.8 MB 7.3 MB/s eta 0:00:01\n",
      "   -------------------------------------- - 42.6/44.8 MB 7.2 MB/s eta 0:00:01\n",
      "   -------------------------------------- - 43.0/44.8 MB 7.4 MB/s eta 0:00:01\n",
      "   -------------------------------------- - 43.5/44.8 MB 7.4 MB/s eta 0:00:01\n",
      "   ---------------------------------------  43.9/44.8 MB 7.6 MB/s eta 0:00:01\n",
      "   ---------------------------------------  44.3/44.8 MB 8.5 MB/s eta 0:00:01\n",
      "   ---------------------------------------  44.7/44.8 MB 8.5 MB/s eta 0:00:01\n",
      "   ---------------------------------------  44.8/44.8 MB 8.5 MB/s eta 0:00:01\n",
      "   ---------------------------------------- 44.8/44.8 MB 8.2 MB/s eta 0:00:00\n",
      "Installing collected packages: scipy\n",
      "Successfully installed scipy-1.14.0\n",
      "Note: you may need to restart the kernel to use updated packages.\n"
     ]
    }
   ],
   "source": [
    "%pip install scipy"
   ]
  },
  {
   "cell_type": "code",
   "execution_count": 5,
   "metadata": {
    "id": "l1leeqkAXWug"
   },
   "outputs": [],
   "source": [
    "import pandas as pd\n",
    "import numpy as np\n",
    "import math\n",
    "import seaborn as sns\n",
    "import pandas as pd\n",
    "\n",
    "from scipy import stats\n",
    "from matplotlib import pyplot as plt\n",
    "\n",
    "sns.set_context(\"poster\")\n",
    "sns.set(rc={'figure.figsize': (10, 6)})\n",
    "sns.set_style(\"whitegrid\")\n",
    "\n",
    "%matplotlib inline"
   ]
  },
  {
   "cell_type": "markdown",
   "metadata": {
    "id": "S0zFU75NXWuj"
   },
   "source": [
    "### 1. Read in the data"
   ]
  },
  {
   "cell_type": "code",
   "execution_count": 15,
   "metadata": {
    "id": "oj3kd7vqXWul"
   },
   "outputs": [],
   "source": [
    "# Read CSV\n",
    "house_csv = \"Sacramento_transactions.csv\"\n",
    "df = pd.read_csv(house_csv)"
   ]
  },
  {
   "cell_type": "markdown",
   "metadata": {
    "id": "kQ_sd0-VXWuo"
   },
   "source": [
    "### 2. Predict Price"
   ]
  },
  {
   "cell_type": "markdown",
   "metadata": {
    "id": "BsxIS3qqXWuq"
   },
   "source": [
    "We are going to predict the target variable `price` from `sq__ft` using sklearn's linear_model."
   ]
  },
  {
   "cell_type": "markdown",
   "metadata": {
    "id": "tgWfh5snXWu8"
   },
   "source": [
    "Read up on the following methods and attributes here: [sklearn.linear_model.LinearRegression](https://scikit-learn.org/stable/modules/generated/sklearn.linear_model.LinearRegression.html)\n",
    "\n",
    "- coef_\n",
    "- intercept_\n",
    "- fit()\n",
    "- predict()\n",
    "- score()"
   ]
  },
  {
   "cell_type": "code",
   "execution_count": 9,
   "metadata": {},
   "outputs": [
    {
     "name": "stdout",
     "output_type": "stream",
     "text": [
      "Collecting scikit-learn\n",
      "  Downloading scikit_learn-1.5.1-cp310-cp310-win_amd64.whl.metadata (12 kB)\n",
      "Requirement already satisfied: numpy>=1.19.5 in c:\\users\\tien\\appdata\\roaming\\python\\python310\\site-packages (from scikit-learn) (2.0.0)\n",
      "Requirement already satisfied: scipy>=1.6.0 in c:\\users\\tien\\anaconda3\\envs\\iod\\lib\\site-packages (from scikit-learn) (1.14.0)\n",
      "Collecting joblib>=1.2.0 (from scikit-learn)\n",
      "  Downloading joblib-1.4.2-py3-none-any.whl.metadata (5.4 kB)\n",
      "Collecting threadpoolctl>=3.1.0 (from scikit-learn)\n",
      "  Downloading threadpoolctl-3.5.0-py3-none-any.whl.metadata (13 kB)\n",
      "Downloading scikit_learn-1.5.1-cp310-cp310-win_amd64.whl (11.0 MB)\n",
      "   ---------------------------------------- 0.0/11.0 MB ? eta -:--:--\n",
      "    --------------------------------------- 0.1/11.0 MB 2.8 MB/s eta 0:00:04\n",
      "   - -------------------------------------- 0.4/11.0 MB 3.8 MB/s eta 0:00:03\n",
      "   -- ------------------------------------- 0.6/11.0 MB 4.6 MB/s eta 0:00:03\n",
      "   --- ------------------------------------ 0.9/11.0 MB 5.2 MB/s eta 0:00:02\n",
      "   ---- ----------------------------------- 1.1/11.0 MB 5.1 MB/s eta 0:00:02\n",
      "   ---- ----------------------------------- 1.3/11.0 MB 5.0 MB/s eta 0:00:02\n",
      "   ----- ---------------------------------- 1.5/11.0 MB 4.8 MB/s eta 0:00:02\n",
      "   ------ --------------------------------- 1.9/11.0 MB 5.1 MB/s eta 0:00:02\n",
      "   -------- ------------------------------- 2.3/11.0 MB 5.6 MB/s eta 0:00:02\n",
      "   --------- ------------------------------ 2.6/11.0 MB 5.7 MB/s eta 0:00:02\n",
      "   ---------- ----------------------------- 3.0/11.0 MB 5.9 MB/s eta 0:00:02\n",
      "   ------------ --------------------------- 3.4/11.0 MB 6.2 MB/s eta 0:00:02\n",
      "   ------------- -------------------------- 3.8/11.0 MB 6.3 MB/s eta 0:00:02\n",
      "   -------------- ------------------------- 4.1/11.0 MB 6.4 MB/s eta 0:00:02\n",
      "   ---------------- ----------------------- 4.4/11.0 MB 6.4 MB/s eta 0:00:02\n",
      "   ----------------- ---------------------- 4.7/11.0 MB 6.5 MB/s eta 0:00:01\n",
      "   ------------------ --------------------- 4.9/11.0 MB 6.3 MB/s eta 0:00:01\n",
      "   ------------------- -------------------- 5.2/11.0 MB 6.3 MB/s eta 0:00:01\n",
      "   -------------------- ------------------- 5.6/11.0 MB 6.5 MB/s eta 0:00:01\n",
      "   -------------------- ------------------- 5.8/11.0 MB 6.4 MB/s eta 0:00:01\n",
      "   -------------------- ------------------- 5.8/11.0 MB 6.4 MB/s eta 0:00:01\n",
      "   -------------------- ------------------- 5.8/11.0 MB 6.4 MB/s eta 0:00:01\n",
      "   -------------------- ------------------- 5.8/11.0 MB 6.4 MB/s eta 0:00:01\n",
      "   --------------------- ------------------ 5.8/11.0 MB 5.3 MB/s eta 0:00:01\n",
      "   ---------------------- ----------------- 6.1/11.0 MB 5.3 MB/s eta 0:00:01\n",
      "   ----------------------- ---------------- 6.5/11.0 MB 5.5 MB/s eta 0:00:01\n",
      "   ------------------------- -------------- 6.9/11.0 MB 5.6 MB/s eta 0:00:01\n",
      "   ------------------------- -------------- 7.1/11.0 MB 5.5 MB/s eta 0:00:01\n",
      "   --------------------------- ------------ 7.5/11.0 MB 5.6 MB/s eta 0:00:01\n",
      "   ---------------------------- ----------- 7.8/11.0 MB 5.7 MB/s eta 0:00:01\n",
      "   ----------------------------- ---------- 8.0/11.0 MB 5.6 MB/s eta 0:00:01\n",
      "   ------------------------------ --------- 8.3/11.0 MB 5.7 MB/s eta 0:00:01\n",
      "   ------------------------------- -------- 8.7/11.0 MB 5.7 MB/s eta 0:00:01\n",
      "   --------------------------------- ------ 9.1/11.0 MB 5.8 MB/s eta 0:00:01\n",
      "   ---------------------------------- ----- 9.4/11.0 MB 5.8 MB/s eta 0:00:01\n",
      "   ----------------------------------- ---- 9.8/11.0 MB 5.9 MB/s eta 0:00:01\n",
      "   ------------------------------------- -- 10.2/11.0 MB 6.1 MB/s eta 0:00:01\n",
      "   -------------------------------------- - 10.6/11.0 MB 6.2 MB/s eta 0:00:01\n",
      "   ---------------------------------------  10.9/11.0 MB 6.3 MB/s eta 0:00:01\n",
      "   ---------------------------------------- 11.0/11.0 MB 6.1 MB/s eta 0:00:00\n",
      "Downloading joblib-1.4.2-py3-none-any.whl (301 kB)\n",
      "   ---------------------------------------- 0.0/301.8 kB ? eta -:--:--\n",
      "   ---------------------------------------- 301.8/301.8 kB 9.4 MB/s eta 0:00:00\n",
      "Downloading threadpoolctl-3.5.0-py3-none-any.whl (18 kB)\n",
      "Installing collected packages: threadpoolctl, joblib, scikit-learn\n",
      "Successfully installed joblib-1.4.2 scikit-learn-1.5.1 threadpoolctl-3.5.0\n",
      "Note: you may need to restart the kernel to use updated packages.\n"
     ]
    }
   ],
   "source": [
    "%pip install scikit-learn"
   ]
  },
  {
   "cell_type": "code",
   "execution_count": 10,
   "metadata": {
    "id": "SbiQavKvXWu9"
   },
   "outputs": [],
   "source": [
    "# import the LinearRegression class from the sklearn.linear_model module\n",
    "from sklearn.linear_model import LinearRegression"
   ]
  },
  {
   "cell_type": "markdown",
   "metadata": {
    "id": "R-5D6tUvtjAG"
   },
   "source": [
    "#### 2.1 Create an instance of LinearRegression."
   ]
  },
  {
   "cell_type": "code",
   "execution_count": 11,
   "metadata": {
    "id": "BEsqE8-etC_B"
   },
   "outputs": [],
   "source": [
    "# ANSWER\n",
    "linreg = LinearRegression()"
   ]
  },
  {
   "cell_type": "markdown",
   "metadata": {
    "id": "lVWhSV7BXWu_"
   },
   "source": [
    "#### 2.2 Fit predictor and target variables using linear regression"
   ]
  },
  {
   "cell_type": "code",
   "execution_count": 16,
   "metadata": {
    "id": "XZyQHDfEtM1V"
   },
   "outputs": [],
   "source": [
    "X = df['sq__ft'].values.reshape(-1,1)\n",
    "y = df['price']"
   ]
  },
  {
   "cell_type": "code",
   "execution_count": 17,
   "metadata": {
    "id": "oW7GuxuzkZV2"
   },
   "outputs": [
    {
     "data": {
      "text/html": [
       "<style>#sk-container-id-1 {\n",
       "  /* Definition of color scheme common for light and dark mode */\n",
       "  --sklearn-color-text: black;\n",
       "  --sklearn-color-line: gray;\n",
       "  /* Definition of color scheme for unfitted estimators */\n",
       "  --sklearn-color-unfitted-level-0: #fff5e6;\n",
       "  --sklearn-color-unfitted-level-1: #f6e4d2;\n",
       "  --sklearn-color-unfitted-level-2: #ffe0b3;\n",
       "  --sklearn-color-unfitted-level-3: chocolate;\n",
       "  /* Definition of color scheme for fitted estimators */\n",
       "  --sklearn-color-fitted-level-0: #f0f8ff;\n",
       "  --sklearn-color-fitted-level-1: #d4ebff;\n",
       "  --sklearn-color-fitted-level-2: #b3dbfd;\n",
       "  --sklearn-color-fitted-level-3: cornflowerblue;\n",
       "\n",
       "  /* Specific color for light theme */\n",
       "  --sklearn-color-text-on-default-background: var(--sg-text-color, var(--theme-code-foreground, var(--jp-content-font-color1, black)));\n",
       "  --sklearn-color-background: var(--sg-background-color, var(--theme-background, var(--jp-layout-color0, white)));\n",
       "  --sklearn-color-border-box: var(--sg-text-color, var(--theme-code-foreground, var(--jp-content-font-color1, black)));\n",
       "  --sklearn-color-icon: #696969;\n",
       "\n",
       "  @media (prefers-color-scheme: dark) {\n",
       "    /* Redefinition of color scheme for dark theme */\n",
       "    --sklearn-color-text-on-default-background: var(--sg-text-color, var(--theme-code-foreground, var(--jp-content-font-color1, white)));\n",
       "    --sklearn-color-background: var(--sg-background-color, var(--theme-background, var(--jp-layout-color0, #111)));\n",
       "    --sklearn-color-border-box: var(--sg-text-color, var(--theme-code-foreground, var(--jp-content-font-color1, white)));\n",
       "    --sklearn-color-icon: #878787;\n",
       "  }\n",
       "}\n",
       "\n",
       "#sk-container-id-1 {\n",
       "  color: var(--sklearn-color-text);\n",
       "}\n",
       "\n",
       "#sk-container-id-1 pre {\n",
       "  padding: 0;\n",
       "}\n",
       "\n",
       "#sk-container-id-1 input.sk-hidden--visually {\n",
       "  border: 0;\n",
       "  clip: rect(1px 1px 1px 1px);\n",
       "  clip: rect(1px, 1px, 1px, 1px);\n",
       "  height: 1px;\n",
       "  margin: -1px;\n",
       "  overflow: hidden;\n",
       "  padding: 0;\n",
       "  position: absolute;\n",
       "  width: 1px;\n",
       "}\n",
       "\n",
       "#sk-container-id-1 div.sk-dashed-wrapped {\n",
       "  border: 1px dashed var(--sklearn-color-line);\n",
       "  margin: 0 0.4em 0.5em 0.4em;\n",
       "  box-sizing: border-box;\n",
       "  padding-bottom: 0.4em;\n",
       "  background-color: var(--sklearn-color-background);\n",
       "}\n",
       "\n",
       "#sk-container-id-1 div.sk-container {\n",
       "  /* jupyter's `normalize.less` sets `[hidden] { display: none; }`\n",
       "     but bootstrap.min.css set `[hidden] { display: none !important; }`\n",
       "     so we also need the `!important` here to be able to override the\n",
       "     default hidden behavior on the sphinx rendered scikit-learn.org.\n",
       "     See: https://github.com/scikit-learn/scikit-learn/issues/21755 */\n",
       "  display: inline-block !important;\n",
       "  position: relative;\n",
       "}\n",
       "\n",
       "#sk-container-id-1 div.sk-text-repr-fallback {\n",
       "  display: none;\n",
       "}\n",
       "\n",
       "div.sk-parallel-item,\n",
       "div.sk-serial,\n",
       "div.sk-item {\n",
       "  /* draw centered vertical line to link estimators */\n",
       "  background-image: linear-gradient(var(--sklearn-color-text-on-default-background), var(--sklearn-color-text-on-default-background));\n",
       "  background-size: 2px 100%;\n",
       "  background-repeat: no-repeat;\n",
       "  background-position: center center;\n",
       "}\n",
       "\n",
       "/* Parallel-specific style estimator block */\n",
       "\n",
       "#sk-container-id-1 div.sk-parallel-item::after {\n",
       "  content: \"\";\n",
       "  width: 100%;\n",
       "  border-bottom: 2px solid var(--sklearn-color-text-on-default-background);\n",
       "  flex-grow: 1;\n",
       "}\n",
       "\n",
       "#sk-container-id-1 div.sk-parallel {\n",
       "  display: flex;\n",
       "  align-items: stretch;\n",
       "  justify-content: center;\n",
       "  background-color: var(--sklearn-color-background);\n",
       "  position: relative;\n",
       "}\n",
       "\n",
       "#sk-container-id-1 div.sk-parallel-item {\n",
       "  display: flex;\n",
       "  flex-direction: column;\n",
       "}\n",
       "\n",
       "#sk-container-id-1 div.sk-parallel-item:first-child::after {\n",
       "  align-self: flex-end;\n",
       "  width: 50%;\n",
       "}\n",
       "\n",
       "#sk-container-id-1 div.sk-parallel-item:last-child::after {\n",
       "  align-self: flex-start;\n",
       "  width: 50%;\n",
       "}\n",
       "\n",
       "#sk-container-id-1 div.sk-parallel-item:only-child::after {\n",
       "  width: 0;\n",
       "}\n",
       "\n",
       "/* Serial-specific style estimator block */\n",
       "\n",
       "#sk-container-id-1 div.sk-serial {\n",
       "  display: flex;\n",
       "  flex-direction: column;\n",
       "  align-items: center;\n",
       "  background-color: var(--sklearn-color-background);\n",
       "  padding-right: 1em;\n",
       "  padding-left: 1em;\n",
       "}\n",
       "\n",
       "\n",
       "/* Toggleable style: style used for estimator/Pipeline/ColumnTransformer box that is\n",
       "clickable and can be expanded/collapsed.\n",
       "- Pipeline and ColumnTransformer use this feature and define the default style\n",
       "- Estimators will overwrite some part of the style using the `sk-estimator` class\n",
       "*/\n",
       "\n",
       "/* Pipeline and ColumnTransformer style (default) */\n",
       "\n",
       "#sk-container-id-1 div.sk-toggleable {\n",
       "  /* Default theme specific background. It is overwritten whether we have a\n",
       "  specific estimator or a Pipeline/ColumnTransformer */\n",
       "  background-color: var(--sklearn-color-background);\n",
       "}\n",
       "\n",
       "/* Toggleable label */\n",
       "#sk-container-id-1 label.sk-toggleable__label {\n",
       "  cursor: pointer;\n",
       "  display: block;\n",
       "  width: 100%;\n",
       "  margin-bottom: 0;\n",
       "  padding: 0.5em;\n",
       "  box-sizing: border-box;\n",
       "  text-align: center;\n",
       "}\n",
       "\n",
       "#sk-container-id-1 label.sk-toggleable__label-arrow:before {\n",
       "  /* Arrow on the left of the label */\n",
       "  content: \"▸\";\n",
       "  float: left;\n",
       "  margin-right: 0.25em;\n",
       "  color: var(--sklearn-color-icon);\n",
       "}\n",
       "\n",
       "#sk-container-id-1 label.sk-toggleable__label-arrow:hover:before {\n",
       "  color: var(--sklearn-color-text);\n",
       "}\n",
       "\n",
       "/* Toggleable content - dropdown */\n",
       "\n",
       "#sk-container-id-1 div.sk-toggleable__content {\n",
       "  max-height: 0;\n",
       "  max-width: 0;\n",
       "  overflow: hidden;\n",
       "  text-align: left;\n",
       "  /* unfitted */\n",
       "  background-color: var(--sklearn-color-unfitted-level-0);\n",
       "}\n",
       "\n",
       "#sk-container-id-1 div.sk-toggleable__content.fitted {\n",
       "  /* fitted */\n",
       "  background-color: var(--sklearn-color-fitted-level-0);\n",
       "}\n",
       "\n",
       "#sk-container-id-1 div.sk-toggleable__content pre {\n",
       "  margin: 0.2em;\n",
       "  border-radius: 0.25em;\n",
       "  color: var(--sklearn-color-text);\n",
       "  /* unfitted */\n",
       "  background-color: var(--sklearn-color-unfitted-level-0);\n",
       "}\n",
       "\n",
       "#sk-container-id-1 div.sk-toggleable__content.fitted pre {\n",
       "  /* unfitted */\n",
       "  background-color: var(--sklearn-color-fitted-level-0);\n",
       "}\n",
       "\n",
       "#sk-container-id-1 input.sk-toggleable__control:checked~div.sk-toggleable__content {\n",
       "  /* Expand drop-down */\n",
       "  max-height: 200px;\n",
       "  max-width: 100%;\n",
       "  overflow: auto;\n",
       "}\n",
       "\n",
       "#sk-container-id-1 input.sk-toggleable__control:checked~label.sk-toggleable__label-arrow:before {\n",
       "  content: \"▾\";\n",
       "}\n",
       "\n",
       "/* Pipeline/ColumnTransformer-specific style */\n",
       "\n",
       "#sk-container-id-1 div.sk-label input.sk-toggleable__control:checked~label.sk-toggleable__label {\n",
       "  color: var(--sklearn-color-text);\n",
       "  background-color: var(--sklearn-color-unfitted-level-2);\n",
       "}\n",
       "\n",
       "#sk-container-id-1 div.sk-label.fitted input.sk-toggleable__control:checked~label.sk-toggleable__label {\n",
       "  background-color: var(--sklearn-color-fitted-level-2);\n",
       "}\n",
       "\n",
       "/* Estimator-specific style */\n",
       "\n",
       "/* Colorize estimator box */\n",
       "#sk-container-id-1 div.sk-estimator input.sk-toggleable__control:checked~label.sk-toggleable__label {\n",
       "  /* unfitted */\n",
       "  background-color: var(--sklearn-color-unfitted-level-2);\n",
       "}\n",
       "\n",
       "#sk-container-id-1 div.sk-estimator.fitted input.sk-toggleable__control:checked~label.sk-toggleable__label {\n",
       "  /* fitted */\n",
       "  background-color: var(--sklearn-color-fitted-level-2);\n",
       "}\n",
       "\n",
       "#sk-container-id-1 div.sk-label label.sk-toggleable__label,\n",
       "#sk-container-id-1 div.sk-label label {\n",
       "  /* The background is the default theme color */\n",
       "  color: var(--sklearn-color-text-on-default-background);\n",
       "}\n",
       "\n",
       "/* On hover, darken the color of the background */\n",
       "#sk-container-id-1 div.sk-label:hover label.sk-toggleable__label {\n",
       "  color: var(--sklearn-color-text);\n",
       "  background-color: var(--sklearn-color-unfitted-level-2);\n",
       "}\n",
       "\n",
       "/* Label box, darken color on hover, fitted */\n",
       "#sk-container-id-1 div.sk-label.fitted:hover label.sk-toggleable__label.fitted {\n",
       "  color: var(--sklearn-color-text);\n",
       "  background-color: var(--sklearn-color-fitted-level-2);\n",
       "}\n",
       "\n",
       "/* Estimator label */\n",
       "\n",
       "#sk-container-id-1 div.sk-label label {\n",
       "  font-family: monospace;\n",
       "  font-weight: bold;\n",
       "  display: inline-block;\n",
       "  line-height: 1.2em;\n",
       "}\n",
       "\n",
       "#sk-container-id-1 div.sk-label-container {\n",
       "  text-align: center;\n",
       "}\n",
       "\n",
       "/* Estimator-specific */\n",
       "#sk-container-id-1 div.sk-estimator {\n",
       "  font-family: monospace;\n",
       "  border: 1px dotted var(--sklearn-color-border-box);\n",
       "  border-radius: 0.25em;\n",
       "  box-sizing: border-box;\n",
       "  margin-bottom: 0.5em;\n",
       "  /* unfitted */\n",
       "  background-color: var(--sklearn-color-unfitted-level-0);\n",
       "}\n",
       "\n",
       "#sk-container-id-1 div.sk-estimator.fitted {\n",
       "  /* fitted */\n",
       "  background-color: var(--sklearn-color-fitted-level-0);\n",
       "}\n",
       "\n",
       "/* on hover */\n",
       "#sk-container-id-1 div.sk-estimator:hover {\n",
       "  /* unfitted */\n",
       "  background-color: var(--sklearn-color-unfitted-level-2);\n",
       "}\n",
       "\n",
       "#sk-container-id-1 div.sk-estimator.fitted:hover {\n",
       "  /* fitted */\n",
       "  background-color: var(--sklearn-color-fitted-level-2);\n",
       "}\n",
       "\n",
       "/* Specification for estimator info (e.g. \"i\" and \"?\") */\n",
       "\n",
       "/* Common style for \"i\" and \"?\" */\n",
       "\n",
       ".sk-estimator-doc-link,\n",
       "a:link.sk-estimator-doc-link,\n",
       "a:visited.sk-estimator-doc-link {\n",
       "  float: right;\n",
       "  font-size: smaller;\n",
       "  line-height: 1em;\n",
       "  font-family: monospace;\n",
       "  background-color: var(--sklearn-color-background);\n",
       "  border-radius: 1em;\n",
       "  height: 1em;\n",
       "  width: 1em;\n",
       "  text-decoration: none !important;\n",
       "  margin-left: 1ex;\n",
       "  /* unfitted */\n",
       "  border: var(--sklearn-color-unfitted-level-1) 1pt solid;\n",
       "  color: var(--sklearn-color-unfitted-level-1);\n",
       "}\n",
       "\n",
       ".sk-estimator-doc-link.fitted,\n",
       "a:link.sk-estimator-doc-link.fitted,\n",
       "a:visited.sk-estimator-doc-link.fitted {\n",
       "  /* fitted */\n",
       "  border: var(--sklearn-color-fitted-level-1) 1pt solid;\n",
       "  color: var(--sklearn-color-fitted-level-1);\n",
       "}\n",
       "\n",
       "/* On hover */\n",
       "div.sk-estimator:hover .sk-estimator-doc-link:hover,\n",
       ".sk-estimator-doc-link:hover,\n",
       "div.sk-label-container:hover .sk-estimator-doc-link:hover,\n",
       ".sk-estimator-doc-link:hover {\n",
       "  /* unfitted */\n",
       "  background-color: var(--sklearn-color-unfitted-level-3);\n",
       "  color: var(--sklearn-color-background);\n",
       "  text-decoration: none;\n",
       "}\n",
       "\n",
       "div.sk-estimator.fitted:hover .sk-estimator-doc-link.fitted:hover,\n",
       ".sk-estimator-doc-link.fitted:hover,\n",
       "div.sk-label-container:hover .sk-estimator-doc-link.fitted:hover,\n",
       ".sk-estimator-doc-link.fitted:hover {\n",
       "  /* fitted */\n",
       "  background-color: var(--sklearn-color-fitted-level-3);\n",
       "  color: var(--sklearn-color-background);\n",
       "  text-decoration: none;\n",
       "}\n",
       "\n",
       "/* Span, style for the box shown on hovering the info icon */\n",
       ".sk-estimator-doc-link span {\n",
       "  display: none;\n",
       "  z-index: 9999;\n",
       "  position: relative;\n",
       "  font-weight: normal;\n",
       "  right: .2ex;\n",
       "  padding: .5ex;\n",
       "  margin: .5ex;\n",
       "  width: min-content;\n",
       "  min-width: 20ex;\n",
       "  max-width: 50ex;\n",
       "  color: var(--sklearn-color-text);\n",
       "  box-shadow: 2pt 2pt 4pt #999;\n",
       "  /* unfitted */\n",
       "  background: var(--sklearn-color-unfitted-level-0);\n",
       "  border: .5pt solid var(--sklearn-color-unfitted-level-3);\n",
       "}\n",
       "\n",
       ".sk-estimator-doc-link.fitted span {\n",
       "  /* fitted */\n",
       "  background: var(--sklearn-color-fitted-level-0);\n",
       "  border: var(--sklearn-color-fitted-level-3);\n",
       "}\n",
       "\n",
       ".sk-estimator-doc-link:hover span {\n",
       "  display: block;\n",
       "}\n",
       "\n",
       "/* \"?\"-specific style due to the `<a>` HTML tag */\n",
       "\n",
       "#sk-container-id-1 a.estimator_doc_link {\n",
       "  float: right;\n",
       "  font-size: 1rem;\n",
       "  line-height: 1em;\n",
       "  font-family: monospace;\n",
       "  background-color: var(--sklearn-color-background);\n",
       "  border-radius: 1rem;\n",
       "  height: 1rem;\n",
       "  width: 1rem;\n",
       "  text-decoration: none;\n",
       "  /* unfitted */\n",
       "  color: var(--sklearn-color-unfitted-level-1);\n",
       "  border: var(--sklearn-color-unfitted-level-1) 1pt solid;\n",
       "}\n",
       "\n",
       "#sk-container-id-1 a.estimator_doc_link.fitted {\n",
       "  /* fitted */\n",
       "  border: var(--sklearn-color-fitted-level-1) 1pt solid;\n",
       "  color: var(--sklearn-color-fitted-level-1);\n",
       "}\n",
       "\n",
       "/* On hover */\n",
       "#sk-container-id-1 a.estimator_doc_link:hover {\n",
       "  /* unfitted */\n",
       "  background-color: var(--sklearn-color-unfitted-level-3);\n",
       "  color: var(--sklearn-color-background);\n",
       "  text-decoration: none;\n",
       "}\n",
       "\n",
       "#sk-container-id-1 a.estimator_doc_link.fitted:hover {\n",
       "  /* fitted */\n",
       "  background-color: var(--sklearn-color-fitted-level-3);\n",
       "}\n",
       "</style><div id=\"sk-container-id-1\" class=\"sk-top-container\"><div class=\"sk-text-repr-fallback\"><pre>LinearRegression()</pre><b>In a Jupyter environment, please rerun this cell to show the HTML representation or trust the notebook. <br />On GitHub, the HTML representation is unable to render, please try loading this page with nbviewer.org.</b></div><div class=\"sk-container\" hidden><div class=\"sk-item\"><div class=\"sk-estimator fitted sk-toggleable\"><input class=\"sk-toggleable__control sk-hidden--visually\" id=\"sk-estimator-id-1\" type=\"checkbox\" checked><label for=\"sk-estimator-id-1\" class=\"sk-toggleable__label fitted sk-toggleable__label-arrow fitted\">&nbsp;&nbsp;LinearRegression<a class=\"sk-estimator-doc-link fitted\" rel=\"noreferrer\" target=\"_blank\" href=\"https://scikit-learn.org/1.5/modules/generated/sklearn.linear_model.LinearRegression.html\">?<span>Documentation for LinearRegression</span></a><span class=\"sk-estimator-doc-link fitted\">i<span>Fitted</span></span></label><div class=\"sk-toggleable__content fitted\"><pre>LinearRegression()</pre></div> </div></div></div></div>"
      ],
      "text/plain": [
       "LinearRegression()"
      ]
     },
     "execution_count": 17,
     "metadata": {},
     "output_type": "execute_result"
    }
   ],
   "source": [
    "# ANSWER\n",
    "linreg.fit(X, y)"
   ]
  },
  {
   "cell_type": "markdown",
   "metadata": {
    "id": "lwTCDqCdtRMO"
   },
   "source": [
    "#### 2.3. Using attributes of the LinearRegression() class find coefficient and intercept."
   ]
  },
  {
   "cell_type": "code",
   "execution_count": 18,
   "metadata": {
    "id": "6cplIG9RXWvA"
   },
   "outputs": [
    {
     "name": "stdout",
     "output_type": "stream",
     "text": [
      "[54.15863969] 162930.16140699777\n"
     ]
    }
   ],
   "source": [
    "# ANSWER\n",
    "\n",
    "print(linreg.coef_, linreg.intercept_)"
   ]
  },
  {
   "cell_type": "markdown",
   "metadata": {
    "id": "0Qv0pyZNXWvC"
   },
   "source": [
    "#### 2.4 Find R^2 Score"
   ]
  },
  {
   "cell_type": "markdown",
   "metadata": {
    "id": "j5Lix6tlXWvD"
   },
   "source": [
    "Find $R^2$ Using the ```score``` method of LinearRegression."
   ]
  },
  {
   "cell_type": "code",
   "execution_count": 19,
   "metadata": {
    "id": "JrJDTlJrXWvF"
   },
   "outputs": [
    {
     "data": {
      "text/plain": [
       "0.11148717682951437"
      ]
     },
     "execution_count": 19,
     "metadata": {},
     "output_type": "execute_result"
    }
   ],
   "source": [
    "# ANSWER\n",
    "linreg.score(X, y)"
   ]
  },
  {
   "cell_type": "markdown",
   "metadata": {
    "id": "BiVDrqFhXWvN"
   },
   "source": [
    "### 3. Splitting Data"
   ]
  },
  {
   "cell_type": "markdown",
   "metadata": {
    "id": "CKFkeQA6EBEs"
   },
   "source": [
    "\n",
    "Splitting the data into training and test sets is important in supervised learning.\n",
    "\n",
    "- We ensure that the test set remains untouched during the model training process. This isolation prevents any information leakage about the test set into the training process.\n",
    "\n",
    "- It allows us to evaluate the performance of our machine learning model on unseen data.\n"
   ]
  },
  {
   "cell_type": "code",
   "execution_count": 20,
   "metadata": {
    "id": "I4tgG88GXWvQ"
   },
   "outputs": [],
   "source": [
    "from sklearn.model_selection import train_test_split"
   ]
  },
  {
   "cell_type": "markdown",
   "metadata": {
    "id": "hTgSdUpwXWvW"
   },
   "source": [
    "#### 3.1 Create training and testing subsets\n",
    "\n",
    "Hint: Use the `train_test_split` Library.\n",
    "\n",
    "```\n",
    "X_train, X_test, y_train, y_test = train_test_split(X, y, test_size=0.33, random_state=42)\n",
    "```"
   ]
  },
  {
   "cell_type": "code",
   "execution_count": 21,
   "metadata": {
    "id": "iYSlAV_gXWvX"
   },
   "outputs": [],
   "source": [
    "# ANSWER\n",
    "## Create training and testing subsets\n",
    "X_train, X_test, y_train, y_test = train_test_split(X, y, test_size = 0.2)"
   ]
  },
  {
   "cell_type": "markdown",
   "metadata": {
    "id": "P62hTi0IXWva"
   },
   "source": [
    "#### 3.2 Check Shape, Sample of Test Train Data"
   ]
  },
  {
   "cell_type": "code",
   "execution_count": 23,
   "metadata": {
    "id": "larfqlLQXWvb"
   },
   "outputs": [
    {
     "name": "stdout",
     "output_type": "stream",
     "text": [
      "X_train is a <class 'numpy.ndarray'>\n",
      "X_train has %d rows 788\n",
      "\n",
      "Sample of X_train__________________________________________________\n",
      "[[   0]\n",
      " [2577]\n",
      " [ 722]\n",
      " [   0]\n",
      " [ 795]\n",
      " [   0]\n",
      " [1371]\n",
      " [   0]\n",
      " [1670]\n",
      " [1939]]\n",
      "\n",
      "y_train is a <class 'pandas.core.series.Series'>\n",
      "y_train has %d rows (788,)\n",
      "\n",
      "Sample of y_train__________________________________________________\n",
      "789    313000\n",
      "818    367463\n",
      "193    145000\n",
      "753    267750\n",
      "377    126960\n",
      "861    622500\n",
      "955    208250\n",
      "689    195000\n",
      "910    157296\n",
      "529    423000\n",
      "Name: price, dtype: int64\n"
     ]
    }
   ],
   "source": [
    "# ANSWER\n",
    "## Training\n",
    "print('X_train is a %s' % type(X_train))\n",
    "print('X_train has %d rows', X_train.shape[0])\n",
    "print('')\n",
    "print('Sample of X_train%s' % ('_'*50))\n",
    "print(X_train[:10])\n",
    "\n",
    "print('')\n",
    "print('y_train is a %s' % type(y_train))\n",
    "print('y_train has %d rows', y_train.shape)\n",
    "print('')\n",
    "print('Sample of y_train%s' % ('_'*50))\n",
    "print(y_train[:10])"
   ]
  },
  {
   "cell_type": "code",
   "execution_count": 24,
   "metadata": {},
   "outputs": [
    {
     "name": "stdout",
     "output_type": "stream",
     "text": [
      "X_train is a <class 'numpy.ndarray'>\n",
      "X_train has %d rows (197, 1)\n",
      "\n",
      "Sample of X_train__________________________________________________\n",
      "[[1744]\n",
      " [1204]\n",
      " [1326]\n",
      " [   0]\n",
      " [1353]\n",
      " [   0]\n",
      " [2607]\n",
      " [1465]\n",
      " [2160]\n",
      " [1595]]\n",
      "\n",
      "y_train is a <class 'pandas.core.series.Series'>\n",
      "y_train has %d rows (197,)\n",
      "\n",
      "Sample of y_train__________________________________________________\n",
      "527    416767\n",
      "930    174250\n",
      "94     250134\n",
      "589      4897\n",
      "417    192000\n",
      "585      4897\n",
      "305    402000\n",
      "239    225000\n",
      "769    290000\n",
      "295    339000\n",
      "Name: price, dtype: int64\n"
     ]
    }
   ],
   "source": [
    "#Test\n",
    "print('X_train is a %s' % type(X_test))\n",
    "print('X_train has %d rows', X_test.shape)\n",
    "print('')\n",
    "print('Sample of X_train%s' % ('_'*50))\n",
    "print(X_test[:10])\n",
    "\n",
    "print('')\n",
    "print('y_train is a %s' % type(y_test))\n",
    "print('y_train has %d rows', y_test.shape)\n",
    "print('')\n",
    "print('Sample of y_train%s' % ('_'*50))\n",
    "print(y_test[:10])"
   ]
  },
  {
   "cell_type": "markdown",
   "metadata": {
    "id": "FhemsdjyXWvd"
   },
   "source": [
    "#### 3.3 Using Linear Regression Find The Score\n",
    "\n",
    "1. Fit model using X_train, y_train\n",
    "2. Find score using X_test, y_test"
   ]
  },
  {
   "cell_type": "code",
   "execution_count": 25,
   "metadata": {
    "id": "yqNCjOW3XWve"
   },
   "outputs": [
    {
     "name": "stdout",
     "output_type": "stream",
     "text": [
      "[54.52848679] 165161.4403527058\n"
     ]
    }
   ],
   "source": [
    "# ANSWER\n",
    "linreg = LinearRegression()\n",
    "linreg.fit(X_train, y_train)\n",
    "\n",
    "print(linreg.coef_, linreg.intercept_)"
   ]
  },
  {
   "cell_type": "code",
   "execution_count": 26,
   "metadata": {
    "id": "rT5Qvx_pXWvi"
   },
   "outputs": [
    {
     "data": {
      "text/plain": [
       "0.09347855366421687"
      ]
     },
     "execution_count": 26,
     "metadata": {},
     "output_type": "execute_result"
    }
   ],
   "source": [
    "# ANSWER\n",
    "linreg.score(X_test, y_test)"
   ]
  },
  {
   "cell_type": "markdown",
   "metadata": {
    "id": "wSAtgNXXXWvk"
   },
   "source": [
    "### 4. Predict House Price\n",
    "\n",
    "Let's assume we have information of following house:\n",
    "\n",
    "- street:\t1140 EDMONTON DR\n",
    "- city:\tSACRAMENTO\n",
    "- zip:\t95833\n",
    "- state:\tCA\n",
    "- beds:\t3\n",
    "- baths:\t2\n",
    "- sq__ft:\t1204\n",
    "- type:\tResidential\n",
    "\n",
    "**Predict the price of this house using the linear regression model.**"
   ]
  },
  {
   "cell_type": "code",
   "execution_count": 29,
   "metadata": {
    "id": "zwMk_GoVXWvk"
   },
   "outputs": [
    {
     "data": {
      "text/plain": [
       "(np.float64(165161.4403527058), array([54.52848679]))"
      ]
     },
     "execution_count": 29,
     "metadata": {},
     "output_type": "execute_result"
    }
   ],
   "source": [
    "# ANSWER\n",
    "linreg.intercept_, linreg.coef_"
   ]
  },
  {
   "cell_type": "code",
   "execution_count": 30,
   "metadata": {},
   "outputs": [
    {
     "name": "stdout",
     "output_type": "stream",
     "text": [
      "Predicted house price:  230813.73845315297\n"
     ]
    }
   ],
   "source": [
    "beta0 = linreg.intercept_\n",
    "beta1 = linreg.coef_\n",
    "x = 1204\n",
    "\n",
    "Ypred = beta1 * x + beta0\n",
    "print('Predicted house price: ', Ypred[0])"
   ]
  },
  {
   "cell_type": "code",
   "execution_count": 31,
   "metadata": {},
   "outputs": [
    {
     "name": "stdout",
     "output_type": "stream",
     "text": [
      "Predicted house price:  230813.73845315297\n"
     ]
    }
   ],
   "source": [
    "x = [[1204]]\n",
    "Ypred = linreg.predict(x)\n",
    "print('Predicted house price: ', Ypred[0])"
   ]
  },
  {
   "cell_type": "markdown",
   "metadata": {
    "id": "RBKhEYCZlXTJ"
   },
   "source": [
    "#### Find the error"
   ]
  },
  {
   "cell_type": "code",
   "execution_count": 32,
   "metadata": {
    "id": "j1eXj-9zlXTK"
   },
   "outputs": [
    {
     "data": {
      "text/plain": [
       "array([260259.12132212, 230813.73845315, 237466.21384207, 165161.44035271,\n",
       "       238938.48298552, 165161.44035271, 307317.20542568, 245045.67350649,\n",
       "       282942.97182859, 252134.37678976])"
      ]
     },
     "execution_count": 32,
     "metadata": {},
     "output_type": "execute_result"
    }
   ],
   "source": [
    "# Predict price from X_test\n",
    "y_preds = linreg.predict(X_test)\n",
    "\n",
    "y_preds[:10]"
   ]
  },
  {
   "cell_type": "code",
   "execution_count": 38,
   "metadata": {},
   "outputs": [],
   "source": [
    "import warnings\n",
    "warnings.simplefilter(action='ignore', category=FutureWarning)"
   ]
  },
  {
   "cell_type": "code",
   "execution_count": 39,
   "metadata": {},
   "outputs": [
    {
     "data": {
      "text/plain": [
       "np.float64(19855015988.78231)"
      ]
     },
     "execution_count": 39,
     "metadata": {},
     "output_type": "execute_result"
    }
   ],
   "source": [
    "from sklearn.metrics import mean_squared_error\n",
    "\n",
    "mean_squared_error(y_test, y_preds, squared=True)"
   ]
  },
  {
   "cell_type": "markdown",
   "metadata": {
    "id": "xNfpied5EufU"
   },
   "source": [
    "### Conclusion\n",
    "We have seen that through scikit-learn, minimal code is needed to implement and evaluate a linear regression model."
   ]
  },
  {
   "cell_type": "markdown",
   "metadata": {
    "id": "fRx7LEfql5pu"
   },
   "source": [
    "\n",
    "\n",
    "---\n",
    "\n",
    "\n",
    "\n",
    "---\n",
    "\n",
    "\n",
    "\n",
    "> > > > > > > > > © 2024 Institute of Data\n",
    "\n",
    "\n",
    "---\n",
    "\n",
    "\n",
    "\n",
    "---\n",
    "\n",
    "\n",
    "\n"
   ]
  }
 ],
 "metadata": {
  "colab": {
   "provenance": []
  },
  "kernelspec": {
   "display_name": "Python 3 (ipykernel)",
   "language": "python",
   "name": "python3"
  },
  "language_info": {
   "codemirror_mode": {
    "name": "ipython",
    "version": 3
   },
   "file_extension": ".py",
   "mimetype": "text/x-python",
   "name": "python",
   "nbconvert_exporter": "python",
   "pygments_lexer": "ipython3",
   "version": "3.11.7"
  }
 },
 "nbformat": 4,
 "nbformat_minor": 4
}
