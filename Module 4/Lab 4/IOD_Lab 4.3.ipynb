{
 "cells": [
  {
   "cell_type": "markdown",
   "metadata": {
    "id": "gm7oR_yWsjnk"
   },
   "source": [
    "<div>\n",
    "<img src=https://www.institutedata.com/wp-content/uploads/2019/10/iod_h_tp_primary_c.svg width=\"300\">\n",
    "</div>"
   ]
  },
  {
   "cell_type": "markdown",
   "metadata": {
    "id": "UlfytRuusjnn"
   },
   "source": [
    "# Lab 4.3: Measurements"
   ]
  },
  {
   "cell_type": "markdown",
   "metadata": {
    "id": "oiMOGCtNGfRH"
   },
   "source": [
    "Building upon the forward feature selection technique, we apply it to the diabetes dataset. By iterating over the entire dataset, we identify the subset of features that yield the best adjusted R-squared score. Furthermore, we visualise the results by plotting the R-squared and adjusted R-squared values, providing insights into the model's performance with different feature combinations."
   ]
  },
  {
   "cell_type": "code",
   "execution_count": 1,
   "metadata": {
    "id": "xHsJeO0tsjno"
   },
   "outputs": [],
   "source": [
    "## Import Libraries\n",
    "\n",
    "import pandas as pd\n",
    "\n",
    "%matplotlib inline\n",
    "import matplotlib.pyplot as plt\n",
    "\n",
    "from sklearn import datasets\n",
    "from sklearn.linear_model import LinearRegression\n",
    "from sklearn.model_selection import train_test_split"
   ]
  },
  {
   "cell_type": "markdown",
   "metadata": {
    "id": "j-Y7yPDBsjnw"
   },
   "source": [
    "### 1. Forward Feature Selection\n",
    "\n",
    "> Forward Selection: Forward selection is an iterative method in which we start with having no feature in the model. In each iteration, we keep adding the feature which best improves our model till an addition of a new variable does not improve the performance of the model.\n",
    "\n",
    "Create a Regression model using Forward Feature Selection by looping over all the features adding one at a time until there are no improvements on the prediction metric ( R2  and  AdjustedR2  in this case)."
   ]
  },
  {
   "cell_type": "markdown",
   "metadata": {
    "id": "mFSxSn2hsjnz"
   },
   "source": [
    "#### 1.1 Load Diabetics Data Using datasets of sklearn"
   ]
  },
  {
   "cell_type": "code",
   "execution_count": 2,
   "metadata": {
    "id": "l2gHGPKVsjn0"
   },
   "outputs": [],
   "source": [
    "## Load the Diabetes Housing dataset\n",
    "\n",
    "# Load the diabetes dataset from sklearn\n",
    "diabetes = datasets.load_diabetes()"
   ]
  },
  {
   "cell_type": "code",
   "execution_count": 3,
   "metadata": {
    "colab": {
     "base_uri": "https://localhost:8080/",
     "height": 712
    },
    "id": "VNyg3soKsjn3",
    "outputId": "230ac33d-8184-4fe3-c144-a594e8ee0a20",
    "scrolled": true
   },
   "outputs": [
    {
     "name": "stdout",
     "output_type": "stream",
     "text": [
      ".. _diabetes_dataset:\n",
      "\n",
      "Diabetes dataset\n",
      "----------------\n",
      "\n",
      "Ten baseline variables, age, sex, body mass index, average blood\n",
      "pressure, and six blood serum measurements were obtained for each of n =\n",
      "442 diabetes patients, as well as the response of interest, a\n",
      "quantitative measure of disease progression one year after baseline.\n",
      "\n",
      "**Data Set Characteristics:**\n",
      "\n",
      ":Number of Instances: 442\n",
      "\n",
      ":Number of Attributes: First 10 columns are numeric predictive values\n",
      "\n",
      ":Target: Column 11 is a quantitative measure of disease progression one year after baseline\n",
      "\n",
      ":Attribute Information:\n",
      "    - age     age in years\n",
      "    - sex\n",
      "    - bmi     body mass index\n",
      "    - bp      average blood pressure\n",
      "    - s1      tc, total serum cholesterol\n",
      "    - s2      ldl, low-density lipoproteins\n",
      "    - s3      hdl, high-density lipoproteins\n",
      "    - s4      tch, total cholesterol / HDL\n",
      "    - s5      ltg, possibly log of serum triglycerides level\n",
      "    - s6      glu, blood sugar level\n",
      "\n",
      "Note: Each of these 10 feature variables have been mean centered and scaled by the standard deviation times the square root of `n_samples` (i.e. the sum of squares of each column totals 1).\n",
      "\n",
      "Source URL:\n",
      "https://www4.stat.ncsu.edu/~boos/var.select/diabetes.html\n",
      "\n",
      "For more information see:\n",
      "Bradley Efron, Trevor Hastie, Iain Johnstone and Robert Tibshirani (2004) \"Least Angle Regression,\" Annals of Statistics (with discussion), 407-499.\n",
      "(https://web.stanford.edu/~hastie/Papers/LARS/LeastAngle_2002.pdf)\n",
      "\n"
     ]
    }
   ],
   "source": [
    "# Description\n",
    "print(diabetes.DESCR)"
   ]
  },
  {
   "cell_type": "code",
   "execution_count": 4,
   "metadata": {},
   "outputs": [
    {
     "data": {
      "text/plain": [
       "sklearn.utils._bunch.Bunch"
      ]
     },
     "execution_count": 4,
     "metadata": {},
     "output_type": "execute_result"
    }
   ],
   "source": [
    "type(diabetes)"
   ]
  },
  {
   "cell_type": "code",
   "execution_count": 5,
   "metadata": {},
   "outputs": [
    {
     "data": {
      "text/html": [
       "<div>\n",
       "<style scoped>\n",
       "    .dataframe tbody tr th:only-of-type {\n",
       "        vertical-align: middle;\n",
       "    }\n",
       "\n",
       "    .dataframe tbody tr th {\n",
       "        vertical-align: top;\n",
       "    }\n",
       "\n",
       "    .dataframe thead th {\n",
       "        text-align: right;\n",
       "    }\n",
       "</style>\n",
       "<table border=\"1\" class=\"dataframe\">\n",
       "  <thead>\n",
       "    <tr style=\"text-align: right;\">\n",
       "      <th></th>\n",
       "      <th>0</th>\n",
       "      <th>1</th>\n",
       "      <th>2</th>\n",
       "      <th>3</th>\n",
       "      <th>4</th>\n",
       "    </tr>\n",
       "  </thead>\n",
       "  <tbody>\n",
       "    <tr>\n",
       "      <th>0</th>\n",
       "      <td>0.038076</td>\n",
       "      <td>-0.001882</td>\n",
       "      <td>0.085299</td>\n",
       "      <td>-0.089063</td>\n",
       "      <td>0.005383</td>\n",
       "    </tr>\n",
       "    <tr>\n",
       "      <th>1</th>\n",
       "      <td>0.050680</td>\n",
       "      <td>-0.044642</td>\n",
       "      <td>0.050680</td>\n",
       "      <td>-0.044642</td>\n",
       "      <td>-0.044642</td>\n",
       "    </tr>\n",
       "    <tr>\n",
       "      <th>2</th>\n",
       "      <td>0.061696</td>\n",
       "      <td>-0.051474</td>\n",
       "      <td>0.044451</td>\n",
       "      <td>-0.011595</td>\n",
       "      <td>-0.036385</td>\n",
       "    </tr>\n",
       "    <tr>\n",
       "      <th>3</th>\n",
       "      <td>0.021872</td>\n",
       "      <td>-0.026328</td>\n",
       "      <td>-0.005670</td>\n",
       "      <td>-0.036656</td>\n",
       "      <td>0.021872</td>\n",
       "    </tr>\n",
       "    <tr>\n",
       "      <th>4</th>\n",
       "      <td>-0.044223</td>\n",
       "      <td>-0.008449</td>\n",
       "      <td>-0.045599</td>\n",
       "      <td>0.012191</td>\n",
       "      <td>0.003935</td>\n",
       "    </tr>\n",
       "    <tr>\n",
       "      <th>5</th>\n",
       "      <td>-0.034821</td>\n",
       "      <td>-0.019163</td>\n",
       "      <td>-0.034194</td>\n",
       "      <td>0.024991</td>\n",
       "      <td>0.015596</td>\n",
       "    </tr>\n",
       "    <tr>\n",
       "      <th>6</th>\n",
       "      <td>-0.043401</td>\n",
       "      <td>0.074412</td>\n",
       "      <td>-0.032356</td>\n",
       "      <td>-0.036038</td>\n",
       "      <td>0.008142</td>\n",
       "    </tr>\n",
       "    <tr>\n",
       "      <th>7</th>\n",
       "      <td>-0.002592</td>\n",
       "      <td>-0.039493</td>\n",
       "      <td>-0.002592</td>\n",
       "      <td>0.034309</td>\n",
       "      <td>-0.002592</td>\n",
       "    </tr>\n",
       "    <tr>\n",
       "      <th>8</th>\n",
       "      <td>0.019907</td>\n",
       "      <td>-0.068332</td>\n",
       "      <td>0.002861</td>\n",
       "      <td>0.022688</td>\n",
       "      <td>-0.031988</td>\n",
       "    </tr>\n",
       "    <tr>\n",
       "      <th>9</th>\n",
       "      <td>-0.017646</td>\n",
       "      <td>-0.092204</td>\n",
       "      <td>-0.025930</td>\n",
       "      <td>-0.009362</td>\n",
       "      <td>-0.046641</td>\n",
       "    </tr>\n",
       "  </tbody>\n",
       "</table>\n",
       "</div>"
      ],
      "text/plain": [
       "          0         1         2         3         4\n",
       "0  0.038076 -0.001882  0.085299 -0.089063  0.005383\n",
       "1  0.050680 -0.044642  0.050680 -0.044642 -0.044642\n",
       "2  0.061696 -0.051474  0.044451 -0.011595 -0.036385\n",
       "3  0.021872 -0.026328 -0.005670 -0.036656  0.021872\n",
       "4 -0.044223 -0.008449 -0.045599  0.012191  0.003935\n",
       "5 -0.034821 -0.019163 -0.034194  0.024991  0.015596\n",
       "6 -0.043401  0.074412 -0.032356 -0.036038  0.008142\n",
       "7 -0.002592 -0.039493 -0.002592  0.034309 -0.002592\n",
       "8  0.019907 -0.068332  0.002861  0.022688 -0.031988\n",
       "9 -0.017646 -0.092204 -0.025930 -0.009362 -0.046641"
      ]
     },
     "execution_count": 5,
     "metadata": {},
     "output_type": "execute_result"
    }
   ],
   "source": [
    "df = pd.DataFrame(diabetes.data)\n",
    "df.head().T"
   ]
  },
  {
   "cell_type": "code",
   "execution_count": 6,
   "metadata": {
    "scrolled": true
   },
   "outputs": [
    {
     "data": {
      "text/plain": [
       "0    0\n",
       "1    0\n",
       "2    0\n",
       "3    0\n",
       "4    0\n",
       "5    0\n",
       "6    0\n",
       "7    0\n",
       "8    0\n",
       "9    0\n",
       "dtype: int64"
      ]
     },
     "execution_count": 6,
     "metadata": {},
     "output_type": "execute_result"
    }
   ],
   "source": [
    "df.isnull().sum()"
   ]
  },
  {
   "cell_type": "code",
   "execution_count": 7,
   "metadata": {
    "scrolled": true
   },
   "outputs": [
    {
     "data": {
      "text/html": [
       "<div>\n",
       "<style scoped>\n",
       "    .dataframe tbody tr th:only-of-type {\n",
       "        vertical-align: middle;\n",
       "    }\n",
       "\n",
       "    .dataframe tbody tr th {\n",
       "        vertical-align: top;\n",
       "    }\n",
       "\n",
       "    .dataframe thead th {\n",
       "        text-align: right;\n",
       "    }\n",
       "</style>\n",
       "<table border=\"1\" class=\"dataframe\">\n",
       "  <thead>\n",
       "    <tr style=\"text-align: right;\">\n",
       "      <th></th>\n",
       "      <th>count</th>\n",
       "      <th>mean</th>\n",
       "      <th>std</th>\n",
       "      <th>min</th>\n",
       "      <th>25%</th>\n",
       "      <th>50%</th>\n",
       "      <th>75%</th>\n",
       "      <th>max</th>\n",
       "    </tr>\n",
       "  </thead>\n",
       "  <tbody>\n",
       "    <tr>\n",
       "      <th>0</th>\n",
       "      <td>442.0</td>\n",
       "      <td>-2.511817e-19</td>\n",
       "      <td>0.047619</td>\n",
       "      <td>-0.107226</td>\n",
       "      <td>-0.037299</td>\n",
       "      <td>0.005383</td>\n",
       "      <td>0.038076</td>\n",
       "      <td>0.110727</td>\n",
       "    </tr>\n",
       "    <tr>\n",
       "      <th>1</th>\n",
       "      <td>442.0</td>\n",
       "      <td>1.230790e-17</td>\n",
       "      <td>0.047619</td>\n",
       "      <td>-0.044642</td>\n",
       "      <td>-0.044642</td>\n",
       "      <td>-0.044642</td>\n",
       "      <td>0.050680</td>\n",
       "      <td>0.050680</td>\n",
       "    </tr>\n",
       "    <tr>\n",
       "      <th>2</th>\n",
       "      <td>442.0</td>\n",
       "      <td>-2.245564e-16</td>\n",
       "      <td>0.047619</td>\n",
       "      <td>-0.090275</td>\n",
       "      <td>-0.034229</td>\n",
       "      <td>-0.007284</td>\n",
       "      <td>0.031248</td>\n",
       "      <td>0.170555</td>\n",
       "    </tr>\n",
       "    <tr>\n",
       "      <th>3</th>\n",
       "      <td>442.0</td>\n",
       "      <td>-4.797570e-17</td>\n",
       "      <td>0.047619</td>\n",
       "      <td>-0.112399</td>\n",
       "      <td>-0.036656</td>\n",
       "      <td>-0.005670</td>\n",
       "      <td>0.035644</td>\n",
       "      <td>0.132044</td>\n",
       "    </tr>\n",
       "    <tr>\n",
       "      <th>4</th>\n",
       "      <td>442.0</td>\n",
       "      <td>-1.381499e-17</td>\n",
       "      <td>0.047619</td>\n",
       "      <td>-0.126781</td>\n",
       "      <td>-0.034248</td>\n",
       "      <td>-0.004321</td>\n",
       "      <td>0.028358</td>\n",
       "      <td>0.153914</td>\n",
       "    </tr>\n",
       "    <tr>\n",
       "      <th>5</th>\n",
       "      <td>442.0</td>\n",
       "      <td>3.918434e-17</td>\n",
       "      <td>0.047619</td>\n",
       "      <td>-0.115613</td>\n",
       "      <td>-0.030358</td>\n",
       "      <td>-0.003819</td>\n",
       "      <td>0.029844</td>\n",
       "      <td>0.198788</td>\n",
       "    </tr>\n",
       "    <tr>\n",
       "      <th>6</th>\n",
       "      <td>442.0</td>\n",
       "      <td>-5.777179e-18</td>\n",
       "      <td>0.047619</td>\n",
       "      <td>-0.102307</td>\n",
       "      <td>-0.035117</td>\n",
       "      <td>-0.006584</td>\n",
       "      <td>0.029312</td>\n",
       "      <td>0.181179</td>\n",
       "    </tr>\n",
       "    <tr>\n",
       "      <th>7</th>\n",
       "      <td>442.0</td>\n",
       "      <td>-9.042540e-18</td>\n",
       "      <td>0.047619</td>\n",
       "      <td>-0.076395</td>\n",
       "      <td>-0.039493</td>\n",
       "      <td>-0.002592</td>\n",
       "      <td>0.034309</td>\n",
       "      <td>0.185234</td>\n",
       "    </tr>\n",
       "    <tr>\n",
       "      <th>8</th>\n",
       "      <td>442.0</td>\n",
       "      <td>9.293722e-17</td>\n",
       "      <td>0.047619</td>\n",
       "      <td>-0.126097</td>\n",
       "      <td>-0.033246</td>\n",
       "      <td>-0.001947</td>\n",
       "      <td>0.032432</td>\n",
       "      <td>0.133597</td>\n",
       "    </tr>\n",
       "    <tr>\n",
       "      <th>9</th>\n",
       "      <td>442.0</td>\n",
       "      <td>1.130318e-17</td>\n",
       "      <td>0.047619</td>\n",
       "      <td>-0.137767</td>\n",
       "      <td>-0.033179</td>\n",
       "      <td>-0.001078</td>\n",
       "      <td>0.027917</td>\n",
       "      <td>0.135612</td>\n",
       "    </tr>\n",
       "  </tbody>\n",
       "</table>\n",
       "</div>"
      ],
      "text/plain": [
       "   count          mean       std       min       25%       50%       75%  \\\n",
       "0  442.0 -2.511817e-19  0.047619 -0.107226 -0.037299  0.005383  0.038076   \n",
       "1  442.0  1.230790e-17  0.047619 -0.044642 -0.044642 -0.044642  0.050680   \n",
       "2  442.0 -2.245564e-16  0.047619 -0.090275 -0.034229 -0.007284  0.031248   \n",
       "3  442.0 -4.797570e-17  0.047619 -0.112399 -0.036656 -0.005670  0.035644   \n",
       "4  442.0 -1.381499e-17  0.047619 -0.126781 -0.034248 -0.004321  0.028358   \n",
       "5  442.0  3.918434e-17  0.047619 -0.115613 -0.030358 -0.003819  0.029844   \n",
       "6  442.0 -5.777179e-18  0.047619 -0.102307 -0.035117 -0.006584  0.029312   \n",
       "7  442.0 -9.042540e-18  0.047619 -0.076395 -0.039493 -0.002592  0.034309   \n",
       "8  442.0  9.293722e-17  0.047619 -0.126097 -0.033246 -0.001947  0.032432   \n",
       "9  442.0  1.130318e-17  0.047619 -0.137767 -0.033179 -0.001078  0.027917   \n",
       "\n",
       "        max  \n",
       "0  0.110727  \n",
       "1  0.050680  \n",
       "2  0.170555  \n",
       "3  0.132044  \n",
       "4  0.153914  \n",
       "5  0.198788  \n",
       "6  0.181179  \n",
       "7  0.185234  \n",
       "8  0.133597  \n",
       "9  0.135612  "
      ]
     },
     "execution_count": 7,
     "metadata": {},
     "output_type": "execute_result"
    }
   ],
   "source": [
    "df.describe().T"
   ]
  },
  {
   "cell_type": "code",
   "execution_count": 8,
   "metadata": {
    "id": "0Le6yeYXsjn-"
   },
   "outputs": [],
   "source": [
    "# Predictors\n",
    "X = pd.DataFrame(diabetes.data, columns = diabetes.feature_names)"
   ]
  },
  {
   "cell_type": "code",
   "execution_count": 9,
   "metadata": {
    "id": "iR8WVIqssjoD"
   },
   "outputs": [],
   "source": [
    "# Target\n",
    "y = diabetes.target"
   ]
  },
  {
   "cell_type": "code",
   "execution_count": 10,
   "metadata": {},
   "outputs": [
    {
     "data": {
      "text/plain": [
       "(442, 10)"
      ]
     },
     "execution_count": 10,
     "metadata": {},
     "output_type": "execute_result"
    }
   ],
   "source": [
    "X.shape"
   ]
  },
  {
   "cell_type": "code",
   "execution_count": 11,
   "metadata": {},
   "outputs": [
    {
     "data": {
      "text/plain": [
       "(442,)"
      ]
     },
     "execution_count": 11,
     "metadata": {},
     "output_type": "execute_result"
    }
   ],
   "source": [
    "y.shape"
   ]
  },
  {
   "cell_type": "code",
   "execution_count": 12,
   "metadata": {
    "id": "QaaJqQxUsjoG"
   },
   "outputs": [],
   "source": [
    "## Create training and testing subsets\n",
    "\n",
    "X_train, X_test, y_train, y_test = train_test_split(X, y, test_size = 0.2, random_state = 42)"
   ]
  },
  {
   "cell_type": "code",
   "execution_count": 13,
   "metadata": {},
   "outputs": [
    {
     "name": "stdout",
     "output_type": "stream",
     "text": [
      "(353, 10) (353,)\n"
     ]
    }
   ],
   "source": [
    "print(X_train.shape,y_train.shape)"
   ]
  },
  {
   "cell_type": "code",
   "execution_count": 14,
   "metadata": {
    "scrolled": true
   },
   "outputs": [
    {
     "data": {
      "text/html": [
       "<div>\n",
       "<style scoped>\n",
       "    .dataframe tbody tr th:only-of-type {\n",
       "        vertical-align: middle;\n",
       "    }\n",
       "\n",
       "    .dataframe tbody tr th {\n",
       "        vertical-align: top;\n",
       "    }\n",
       "\n",
       "    .dataframe thead th {\n",
       "        text-align: right;\n",
       "    }\n",
       "</style>\n",
       "<table border=\"1\" class=\"dataframe\">\n",
       "  <thead>\n",
       "    <tr style=\"text-align: right;\">\n",
       "      <th></th>\n",
       "      <th>0</th>\n",
       "      <th>1</th>\n",
       "      <th>2</th>\n",
       "      <th>3</th>\n",
       "      <th>4</th>\n",
       "      <th>5</th>\n",
       "      <th>6</th>\n",
       "      <th>7</th>\n",
       "      <th>8</th>\n",
       "      <th>9</th>\n",
       "    </tr>\n",
       "  </thead>\n",
       "  <tbody>\n",
       "    <tr>\n",
       "      <th>0</th>\n",
       "      <td>1.000000</td>\n",
       "      <td>0.173737</td>\n",
       "      <td>0.185085</td>\n",
       "      <td>0.335428</td>\n",
       "      <td>0.260061</td>\n",
       "      <td>0.219243</td>\n",
       "      <td>-0.075181</td>\n",
       "      <td>0.203841</td>\n",
       "      <td>0.270774</td>\n",
       "      <td>0.301731</td>\n",
       "    </tr>\n",
       "    <tr>\n",
       "      <th>1</th>\n",
       "      <td>0.173737</td>\n",
       "      <td>1.000000</td>\n",
       "      <td>0.088161</td>\n",
       "      <td>0.241010</td>\n",
       "      <td>0.035277</td>\n",
       "      <td>0.142637</td>\n",
       "      <td>-0.379090</td>\n",
       "      <td>0.332115</td>\n",
       "      <td>0.149916</td>\n",
       "      <td>0.208133</td>\n",
       "    </tr>\n",
       "    <tr>\n",
       "      <th>2</th>\n",
       "      <td>0.185085</td>\n",
       "      <td>0.088161</td>\n",
       "      <td>1.000000</td>\n",
       "      <td>0.395411</td>\n",
       "      <td>0.249777</td>\n",
       "      <td>0.261170</td>\n",
       "      <td>-0.366811</td>\n",
       "      <td>0.413807</td>\n",
       "      <td>0.446157</td>\n",
       "      <td>0.388680</td>\n",
       "    </tr>\n",
       "    <tr>\n",
       "      <th>3</th>\n",
       "      <td>0.335428</td>\n",
       "      <td>0.241010</td>\n",
       "      <td>0.395411</td>\n",
       "      <td>1.000000</td>\n",
       "      <td>0.242464</td>\n",
       "      <td>0.185548</td>\n",
       "      <td>-0.178762</td>\n",
       "      <td>0.257650</td>\n",
       "      <td>0.393480</td>\n",
       "      <td>0.390430</td>\n",
       "    </tr>\n",
       "    <tr>\n",
       "      <th>4</th>\n",
       "      <td>0.260061</td>\n",
       "      <td>0.035277</td>\n",
       "      <td>0.249777</td>\n",
       "      <td>0.242464</td>\n",
       "      <td>1.000000</td>\n",
       "      <td>0.896663</td>\n",
       "      <td>0.051519</td>\n",
       "      <td>0.542207</td>\n",
       "      <td>0.515503</td>\n",
       "      <td>0.325717</td>\n",
       "    </tr>\n",
       "    <tr>\n",
       "      <th>5</th>\n",
       "      <td>0.219243</td>\n",
       "      <td>0.142637</td>\n",
       "      <td>0.261170</td>\n",
       "      <td>0.185548</td>\n",
       "      <td>0.896663</td>\n",
       "      <td>1.000000</td>\n",
       "      <td>-0.196455</td>\n",
       "      <td>0.659817</td>\n",
       "      <td>0.318357</td>\n",
       "      <td>0.290600</td>\n",
       "    </tr>\n",
       "    <tr>\n",
       "      <th>6</th>\n",
       "      <td>-0.075181</td>\n",
       "      <td>-0.379090</td>\n",
       "      <td>-0.366811</td>\n",
       "      <td>-0.178762</td>\n",
       "      <td>0.051519</td>\n",
       "      <td>-0.196455</td>\n",
       "      <td>1.000000</td>\n",
       "      <td>-0.738493</td>\n",
       "      <td>-0.398577</td>\n",
       "      <td>-0.273697</td>\n",
       "    </tr>\n",
       "    <tr>\n",
       "      <th>7</th>\n",
       "      <td>0.203841</td>\n",
       "      <td>0.332115</td>\n",
       "      <td>0.413807</td>\n",
       "      <td>0.257650</td>\n",
       "      <td>0.542207</td>\n",
       "      <td>0.659817</td>\n",
       "      <td>-0.738493</td>\n",
       "      <td>1.000000</td>\n",
       "      <td>0.617859</td>\n",
       "      <td>0.417212</td>\n",
       "    </tr>\n",
       "    <tr>\n",
       "      <th>8</th>\n",
       "      <td>0.270774</td>\n",
       "      <td>0.149916</td>\n",
       "      <td>0.446157</td>\n",
       "      <td>0.393480</td>\n",
       "      <td>0.515503</td>\n",
       "      <td>0.318357</td>\n",
       "      <td>-0.398577</td>\n",
       "      <td>0.617859</td>\n",
       "      <td>1.000000</td>\n",
       "      <td>0.464669</td>\n",
       "    </tr>\n",
       "    <tr>\n",
       "      <th>9</th>\n",
       "      <td>0.301731</td>\n",
       "      <td>0.208133</td>\n",
       "      <td>0.388680</td>\n",
       "      <td>0.390430</td>\n",
       "      <td>0.325717</td>\n",
       "      <td>0.290600</td>\n",
       "      <td>-0.273697</td>\n",
       "      <td>0.417212</td>\n",
       "      <td>0.464669</td>\n",
       "      <td>1.000000</td>\n",
       "    </tr>\n",
       "  </tbody>\n",
       "</table>\n",
       "</div>"
      ],
      "text/plain": [
       "          0         1         2         3         4         5         6  \\\n",
       "0  1.000000  0.173737  0.185085  0.335428  0.260061  0.219243 -0.075181   \n",
       "1  0.173737  1.000000  0.088161  0.241010  0.035277  0.142637 -0.379090   \n",
       "2  0.185085  0.088161  1.000000  0.395411  0.249777  0.261170 -0.366811   \n",
       "3  0.335428  0.241010  0.395411  1.000000  0.242464  0.185548 -0.178762   \n",
       "4  0.260061  0.035277  0.249777  0.242464  1.000000  0.896663  0.051519   \n",
       "5  0.219243  0.142637  0.261170  0.185548  0.896663  1.000000 -0.196455   \n",
       "6 -0.075181 -0.379090 -0.366811 -0.178762  0.051519 -0.196455  1.000000   \n",
       "7  0.203841  0.332115  0.413807  0.257650  0.542207  0.659817 -0.738493   \n",
       "8  0.270774  0.149916  0.446157  0.393480  0.515503  0.318357 -0.398577   \n",
       "9  0.301731  0.208133  0.388680  0.390430  0.325717  0.290600 -0.273697   \n",
       "\n",
       "          7         8         9  \n",
       "0  0.203841  0.270774  0.301731  \n",
       "1  0.332115  0.149916  0.208133  \n",
       "2  0.413807  0.446157  0.388680  \n",
       "3  0.257650  0.393480  0.390430  \n",
       "4  0.542207  0.515503  0.325717  \n",
       "5  0.659817  0.318357  0.290600  \n",
       "6 -0.738493 -0.398577 -0.273697  \n",
       "7  1.000000  0.617859  0.417212  \n",
       "8  0.617859  1.000000  0.464669  \n",
       "9  0.417212  0.464669  1.000000  "
      ]
     },
     "execution_count": 14,
     "metadata": {},
     "output_type": "execute_result"
    }
   ],
   "source": [
    "df.corr()"
   ]
  },
  {
   "cell_type": "markdown",
   "metadata": {
    "id": "9NPcYC45sjoI"
   },
   "source": [
    "#### 1.2 Use Forward Feature Selection to pick a good model\n",
    "\n",
    "**Hint: Same as Lab 4.2.2**\n",
    "\n",
    "- Add R^2 value in a list\n",
    "- Add Adjusted R^2 in another list\n",
    "- Display both R^2 and Adjusted R^2"
   ]
  },
  {
   "cell_type": "code",
   "execution_count": 31,
   "metadata": {
    "id": "Xnk9hncbsjoJ"
   },
   "outputs": [],
   "source": [
    "## Flag intermediate output\n",
    "\n",
    "show_steps = False   # for testing/debugging\n",
    "# show_steps = False  # without showing steps"
   ]
  },
  {
   "cell_type": "code",
   "execution_count": 33,
   "metadata": {
    "id": "DEqC7hHbsjoN"
   },
   "outputs": [
    {
     "name": "stdout",
     "output_type": "stream",
     "text": [
      "Added feature bmi  with R^2 = 0.366 and adjusted R^2 = 0.364\n",
      "Added feature s5   with R^2 = 0.458 and adjusted R^2 = 0.455\n",
      "Added feature bp   with R^2 = 0.483 and adjusted R^2 = 0.479\n",
      "Added feature s1   with R^2 = 0.499 and adjusted R^2 = 0.493\n",
      "Added feature s2   with R^2 = 0.509 and adjusted R^2 = 0.502\n",
      "Added feature sex  with R^2 = 0.523 and adjusted R^2 = 0.515\n",
      "Added feature s4   with R^2 = 0.526 and adjusted R^2 = 0.516\n",
      "**************************************************\n",
      "\n",
      "Resulting features:\n",
      "bmi, s5, bp, s1, s2, sex, s4\n"
     ]
    }
   ],
   "source": [
    "## Use Forward Feature Selection to pick a good model\n",
    "\n",
    "# start with no predictors\n",
    "included = []\n",
    "# keep track of model and parameters\n",
    "best = {'feature': '', 'r2': 0, 'a_r2': 0}\n",
    "# create a model object to hold the modelling parameters\n",
    "model = LinearRegression()\n",
    "# get the number of cases in the training data\n",
    "n = X_train.shape[0]\n",
    "\n",
    "while True:\n",
    "    changed = False\n",
    "\n",
    "    if show_steps:\n",
    "        print('')\n",
    "\n",
    "    # list the features to be evaluated\n",
    "    excluded = list(set(X.columns) - set(included))\n",
    "\n",
    "    if show_steps:\n",
    "        print('(Step) Excluded = %s' % ', '.join(excluded))\n",
    "\n",
    "    # for each remaining feature to be evaluated\n",
    "    for new_column in excluded:\n",
    "\n",
    "        if show_steps:\n",
    "            print('(Step) Trying %s...' % new_column)\n",
    "            print('(Step) - Features = %s' % ', '.join(included + [new_column]))\n",
    "\n",
    "        # fit the model with the Training data\n",
    "        fit = model.fit(X_train[included + [new_column]], y_train)\n",
    "        # calculate the score (R^2 for Regression)\n",
    "        r2 = fit.score(X_train[included + [new_column]], y_train)\n",
    "        # number of predictors in this model\n",
    "        k = len(included + [new_column])\n",
    "        # calculate the adjusted R^2\n",
    "        adjusted_r2 = 1 - ( ( (1 - r2) * (n - 1) ) / (n - k - 1) )\n",
    "\n",
    "        if show_steps:\n",
    "            print('(Step) - Adjusted R^2: This = %.3f; Best = %.3f' %\n",
    "                  (adjusted_r2, best['a_r2']))\n",
    "\n",
    "        # if model improves\n",
    "        if adjusted_r2 > best['a_r2']:\n",
    "            # record new parameters\n",
    "            best = {'feature': new_column, 'r2': r2, 'a_r2': adjusted_r2}\n",
    "            # flag that found a better model\n",
    "            changed = True\n",
    "            if show_steps:\n",
    "                print('(Step) - New Best!   : Feature = %s; R^2 = %.3f; Adjusted R^2 = %.3f' %\n",
    "                      (best['feature'], best['r2'], best['a_r2']))\n",
    "    # END for\n",
    "\n",
    "    # if found a better model after testing all remaining features\n",
    "    if changed:\n",
    "        # update control details\n",
    "        included.append(best['feature'])\n",
    "        excluded = list(set(excluded) - set(best['feature']))\n",
    "        print('Added feature %-4s with R^2 = %.3f and adjusted R^2 = %.3f' %\n",
    "              (best['feature'], best['r2'], best['a_r2']))\n",
    "    else:\n",
    "        # terminate if no better model\n",
    "        print('*'*50)\n",
    "        break\n",
    "\n",
    "print('')\n",
    "print('Resulting features:')\n",
    "print(', '.join(included))"
   ]
  },
  {
   "cell_type": "code",
   "execution_count": 32,
   "metadata": {},
   "outputs": [],
   "source": [
    "## Use Forward Feature Selection to pick a good model\n",
    "# start with no predictors\n",
    "included = []\n",
    "# keep track of model and parameters\n",
    "best = {'feature': '', 'r2': 0, 'a_r2': 0}\n",
    "# create a model object to hold the modelling parameters\n",
    "model = LinearRegression()\n",
    "# get the number of cases in the training data\n",
    "n = X_train.shape[0]\n",
    "r2_list = []\n",
    "adjusted_r2_list = []"
   ]
  },
  {
   "cell_type": "code",
   "execution_count": 34,
   "metadata": {
    "colab": {
     "base_uri": "https://localhost:8080/",
     "height": 337
    },
    "id": "whvMHo6rsjoU",
    "outputId": "0f05a34f-f5bd-46ac-9798-73b43c8e4d95"
   },
   "outputs": [
    {
     "data": {
      "image/png": "[encoded data removed]",
      "text/plain": [
       "<Figure size 1000x500 with 1 Axes>"
      ]
     },
     "metadata": {},
     "output_type": "display_data"
    }
   ],
   "source": [
    "## Chart both R^2 and Adjusted R^2\n",
    "\n",
    "_range = range(1, len(r2_list)+1)\n",
    "\n",
    "# define chart size\n",
    "plt.figure(figsize = (10, 5))\n",
    "# plot each metric\n",
    "plt.plot(_range, r2_list, label = '$R^2$')\n",
    "plt.plot(_range, adjusted_r2_list, label = '$Adjusted \\: R^2$')\n",
    "# add some better visualisation\n",
    "plt.xlabel('Number of Features')\n",
    "plt.legend()\n",
    "# output the chart\n",
    "plt.show()"
   ]
  },
  {
   "cell_type": "markdown",
   "metadata": {
    "id": "ZNsyA27Dlwxs"
   },
   "source": [
    "\n",
    "\n",
    "---\n",
    "\n",
    "\n",
    "\n",
    "---\n",
    "\n",
    "\n",
    "\n",
    "> > > > > > > > > © 2024 Institute of Data\n",
    "\n",
    "\n",
    "---\n",
    "\n",
    "\n",
    "\n",
    "---\n",
    "\n",
    "\n",
    "\n"
   ]
  }
 ],
 "metadata": {
  "colab": {
   "provenance": []
  },
  "kernelspec": {
   "display_name": "Python 3 (ipykernel)",
   "language": "python",
   "name": "python3"
  },
  "language_info": {
   "codemirror_mode": {
    "name": "ipython",
    "version": 3
   },
   "file_extension": ".py",
   "mimetype": "text/x-python",
   "name": "python",
   "nbconvert_exporter": "python",
   "pygments_lexer": "ipython3",
   "version": "3.10.14"
  }
 },
 "nbformat": 4,
 "nbformat_minor": 4
}
