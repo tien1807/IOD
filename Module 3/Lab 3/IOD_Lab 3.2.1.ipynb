{
 "cells": [
  {
   "cell_type": "markdown",
   "metadata": {
    "id": "fneIB8BIGtiY"
   },
   "source": [
    "<div>\n",
    "<img src=https://www.institutedata.com/wp-content/uploads/2019/10/iod_h_tp_primary_c.svg width=\"300\">\n",
    "</div>"
   ]
  },
  {
   "cell_type": "markdown",
   "metadata": {
    "id": "rdipUchUGtih"
   },
   "source": [
    "# Lab 3.2.1\n",
    "# *Querying the International Space Station*"
   ]
  },
  {
   "cell_type": "markdown",
   "metadata": {
    "id": "b2RLpeJNGtil"
   },
   "source": [
    "## The OpenNotify API"
   ]
  },
  {
   "cell_type": "markdown",
   "metadata": {
    "id": "rrunXmMNGtip"
   },
   "source": [
    "The OpenNotify API exposes a few attributes of the International Space Station (ISS) via a simple, authentication-free interface. The simplicity of this API precludes any need for a dedicated Python library. However, as with many APIs, it accepts requests according to HTTP standards and returns responses in JSON format, so the Python libraries request and json will make managing the I/O simpler still."
   ]
  },
  {
   "cell_type": "code",
   "execution_count": 1,
   "metadata": {
    "id": "xz4PaIIjGtis"
   },
   "outputs": [],
   "source": [
    "import requests #this is used for HTTP request\n",
    "import json #this is used for parsing json data\n",
    "from datetime import datetime, date, time"
   ]
  },
  {
   "cell_type": "markdown",
   "metadata": {
    "id": "tE2vsQo3Gti0"
   },
   "source": [
    "This request fetches the latest position of the international space station:"
   ]
  },
  {
   "cell_type": "code",
   "execution_count": 2,
   "metadata": {
    "id": "bXBJ6YSPGti3"
   },
   "outputs": [],
   "source": [
    "response = requests.get(\"http://api.open-notify.org/iss-now.json\")"
   ]
  },
  {
   "cell_type": "markdown",
   "metadata": {
    "id": "wTbnWjPGGti-"
   },
   "source": [
    "Print the status code and text of the response:"
   ]
  },
  {
   "cell_type": "code",
   "execution_count": 3,
   "metadata": {
    "colab": {
     "base_uri": "https://localhost:8080/"
    },
    "executionInfo": {
     "elapsed": 349,
     "status": "ok",
     "timestamp": 1656486719496,
     "user": {
      "displayName": "Muru Raj",
      "userId": "16263509272652930332"
     },
     "user_tz": -480
    },
    "id": "_I6hU3-AGtjA",
    "outputId": "063d1285-3a8f-409a-aed5-76511912fb1c"
   },
   "outputs": [
    {
     "data": {
      "text/plain": [
       "200"
      ]
     },
     "execution_count": 3,
     "metadata": {},
     "output_type": "execute_result"
    }
   ],
   "source": [
    "#ANSWER\n",
    "response.status_code"
   ]
  },
  {
   "cell_type": "code",
   "execution_count": 6,
   "metadata": {},
   "outputs": [],
   "source": [
    "# it prints the status of the response (200 if correct)"
   ]
  },
  {
   "cell_type": "code",
   "execution_count": 4,
   "metadata": {},
   "outputs": [
    {
     "name": "stdout",
     "output_type": "stream",
     "text": [
      "{\"iss_position\": {\"longitude\": \"12.2458\", \"latitude\": \"-4.7854\"}, \"message\": \"success\", \"timestamp\": 1723095411}\n"
     ]
    }
   ],
   "source": [
    "print(response.text)"
   ]
  },
  {
   "cell_type": "code",
   "execution_count": null,
   "metadata": {
    "colab": {
     "base_uri": "https://localhost:8080/"
    },
    "executionInfo": {
     "elapsed": 324,
     "status": "ok",
     "timestamp": 1656486759324,
     "user": {
      "displayName": "Muru Raj",
      "userId": "16263509272652930332"
     },
     "user_tz": -480
    },
    "id": "-WdeRA2iTYNy",
    "outputId": "ce58f787-ddf2-41e3-fa25-169380a569f6"
   },
   "outputs": [
    {
     "name": "stdout",
     "output_type": "stream",
     "text": [
      "{\"iss_position\": {\"latitude\": \"-30.3403\", \"longitude\": \"-135.9143\"}, \"message\": \"success\", \"timestamp\": 1656486612}\n"
     ]
    }
   ],
   "source": [
    "#ANSWER\n"
   ]
  },
  {
   "cell_type": "markdown",
   "metadata": {
    "id": "eiziNer-GtjF"
   },
   "source": [
    "We can use another API to request the current position of the ISS and the next few times at which it will be over a certain location. The latitude and longitude of Sydney are (-33.87, 151.21)."
   ]
  },
  {
   "cell_type": "code",
   "execution_count": 5,
   "metadata": {
    "id": "2XZ-ygFkGtjH"
   },
   "outputs": [],
   "source": [
    "response = requests.get(\"https://api.g7vrd.co.uk/v1/satellite-passes/25544/-33.87/151.21.json?minelevation=0&hours=24\")"
   ]
  },
  {
   "cell_type": "markdown",
   "metadata": {
    "id": "aEl3pwmHGtjN"
   },
   "source": [
    "Print the response header:"
   ]
  },
  {
   "cell_type": "code",
   "execution_count": 6,
   "metadata": {
    "id": "6rsz7gwbGtjP"
   },
   "outputs": [
    {
     "name": "stdout",
     "output_type": "stream",
     "text": [
      "{'Date': 'Thu, 08 Aug 2024 05:37:03 GMT', 'Server': 'Apache', 'Vary': 'Origin,Access-Control-Request-Method,Access-Control-Request-Headers', 'Access-Control-Allow-Origin': '*', 'X-Content-Type-Options': 'nosniff', 'X-XSS-Protection': '0', 'Cache-Control': 'no-cache, no-store, max-age=0, must-revalidate', 'Pragma': 'no-cache', 'Expires': '0', 'X-Frame-Options': 'DENY', 'Content-Type': 'application/json', 'Keep-Alive': 'timeout=5, max=100', 'Connection': 'Keep-Alive', 'Transfer-Encoding': 'chunked'}\n"
     ]
    }
   ],
   "source": [
    "#ANSWER - Response header\n",
    "print(response.headers)\n"
   ]
  },
  {
   "cell_type": "markdown",
   "metadata": {
    "id": "W6tqlzySGtjR"
   },
   "source": [
    "Print the content of the response (the data that the server returned):"
   ]
  },
  {
   "cell_type": "code",
   "execution_count": 7,
   "metadata": {
    "id": "HbxepzDZGtjS"
   },
   "outputs": [
    {
     "name": "stdout",
     "output_type": "stream",
     "text": [
      "b'{\"api_status\":\"ALPHA\",\"request_timestamp\":\"2024-08-08T05:37:03.541972972Z\",\"norad_id\":25544,\"satellite_name\":\"ISS\",\"tle_last_retrieved\":\"2024-08-07T22:42:30.599397092Z\",\"lat\":-33.87,\"lon\":151.21,\"hours\":24,\"min_elevation\":0,\"query_ms\":16,\"passes\":[{\"start\":\"2024-08-08T09:35:08.525Z\",\"tca\":\"2024-08-08T09:40:08.525Z\",\"end\":\"2024-08-08T09:44:58.525Z\",\"aos_azimuth\":347,\"los_azimuth\":116,\"max_elevation\":18.0},{\"start\":\"2024-08-08T11:11:18.525Z\",\"tca\":\"2024-08-08T11:16:18.525Z\",\"end\":\"2024-08-08T11:21:58.525Z\",\"aos_azimuth\":294,\"los_azimuth\":140,\"max_elevation\":33.0},{\"start\":\"2024-08-08T12:50:13.525Z\",\"tca\":\"2024-08-08T12:54:13.525Z\",\"end\":\"2024-08-08T12:58:13.525Z\",\"aos_azimuth\":246,\"los_azimuth\":152,\"max_elevation\":7.0},{\"start\":\"2024-08-08T14:29:48.525Z\",\"tca\":\"2024-08-08T14:32:48.525Z\",\"end\":\"2024-08-08T14:35:28.525Z\",\"aos_azimuth\":209,\"los_azimuth\":147,\"max_elevation\":3.0},{\"start\":\"2024-08-08T16:06:53.525Z\",\"tca\":\"2024-08-08T16:10:53.525Z\",\"end\":\"2024-08-08T16:15:13.525Z\",\"aos_azimuth\":206,\"los_azimuth\":108,\"max_elevation\":8.0},{\"start\":\"2024-08-08T17:43:03.525Z\",\"tca\":\"2024-08-08T17:48:33.525Z\",\"end\":\"2024-08-08T17:53:58.525Z\",\"aos_azimuth\":221,\"los_azimuth\":59,\"max_elevation\":43.0},{\"start\":\"2024-08-08T19:20:18.525Z\",\"tca\":\"2024-08-08T19:24:48.525Z\",\"end\":\"2024-08-08T19:29:43.525Z\",\"aos_azimuth\":247,\"los_azimuth\":6,\"max_elevation\":14.0},{\"start\":\"2024-08-09T08:47:53.525Z\",\"tca\":\"2024-08-09T08:51:53.525Z\",\"end\":\"2024-08-09T08:56:18.525Z\",\"aos_azimuth\":4,\"los_azimuth\":106,\"max_elevation\":9.0}]}'\n"
     ]
    }
   ],
   "source": [
    "#ANSWER - Content of the response\n",
    "print(response.content)"
   ]
  },
  {
   "cell_type": "code",
   "execution_count": 8,
   "metadata": {},
   "outputs": [
    {
     "name": "stdout",
     "output_type": "stream",
     "text": [
      "<class 'bytes'>\n"
     ]
    }
   ],
   "source": [
    "print(type(response.content)) # result is the type of content"
   ]
  },
  {
   "cell_type": "markdown",
   "metadata": {
    "id": "N7tHPQzDGtjU"
   },
   "source": [
    "Note that this is a Python byte string:"
   ]
  },
  {
   "cell_type": "code",
   "execution_count": 9,
   "metadata": {
    "id": "k8AMo0yWGtjV"
   },
   "outputs": [
    {
     "name": "stdout",
     "output_type": "stream",
     "text": [
      "<class 'bytes'>\n"
     ]
    }
   ],
   "source": [
    "print(type(response.content))"
   ]
  },
  {
   "cell_type": "markdown",
   "metadata": {
    "id": "5tvv9ht_GtjX"
   },
   "source": [
    "Print just the \"content-type\" value from the header:"
   ]
  },
  {
   "cell_type": "code",
   "execution_count": 10,
   "metadata": {
    "id": "nxWxxLI7GtjX"
   },
   "outputs": [
    {
     "name": "stdout",
     "output_type": "stream",
     "text": [
      "application/json\n"
     ]
    }
   ],
   "source": [
    "#ANSWER\n",
    "print(response.headers['content-type'])\n"
   ]
  },
  {
   "cell_type": "markdown",
   "metadata": {
    "id": "7lPlgn_hGtjZ"
   },
   "source": [
    "JSON was designed to be easy for computers to read, not for people. The `requests` library can decode the JSON byte string:"
   ]
  },
  {
   "cell_type": "code",
   "execution_count": 11,
   "metadata": {
    "id": "nGVtgDaqGtja"
   },
   "outputs": [
    {
     "name": "stdout",
     "output_type": "stream",
     "text": [
      "{'api_status': 'ALPHA', 'request_timestamp': '2024-08-08T05:37:03.541972972Z', 'norad_id': 25544, 'satellite_name': 'ISS', 'tle_last_retrieved': '2024-08-07T22:42:30.599397092Z', 'lat': -33.87, 'lon': 151.21, 'hours': 24, 'min_elevation': 0, 'query_ms': 16, 'passes': [{'start': '2024-08-08T09:35:08.525Z', 'tca': '2024-08-08T09:40:08.525Z', 'end': '2024-08-08T09:44:58.525Z', 'aos_azimuth': 347, 'los_azimuth': 116, 'max_elevation': 18.0}, {'start': '2024-08-08T11:11:18.525Z', 'tca': '2024-08-08T11:16:18.525Z', 'end': '2024-08-08T11:21:58.525Z', 'aos_azimuth': 294, 'los_azimuth': 140, 'max_elevation': 33.0}, {'start': '2024-08-08T12:50:13.525Z', 'tca': '2024-08-08T12:54:13.525Z', 'end': '2024-08-08T12:58:13.525Z', 'aos_azimuth': 246, 'los_azimuth': 152, 'max_elevation': 7.0}, {'start': '2024-08-08T14:29:48.525Z', 'tca': '2024-08-08T14:32:48.525Z', 'end': '2024-08-08T14:35:28.525Z', 'aos_azimuth': 209, 'los_azimuth': 147, 'max_elevation': 3.0}, {'start': '2024-08-08T16:06:53.525Z', 'tca': '2024-08-08T16:10:53.525Z', 'end': '2024-08-08T16:15:13.525Z', 'aos_azimuth': 206, 'los_azimuth': 108, 'max_elevation': 8.0}, {'start': '2024-08-08T17:43:03.525Z', 'tca': '2024-08-08T17:48:33.525Z', 'end': '2024-08-08T17:53:58.525Z', 'aos_azimuth': 221, 'los_azimuth': 59, 'max_elevation': 43.0}, {'start': '2024-08-08T19:20:18.525Z', 'tca': '2024-08-08T19:24:48.525Z', 'end': '2024-08-08T19:29:43.525Z', 'aos_azimuth': 247, 'los_azimuth': 6, 'max_elevation': 14.0}, {'start': '2024-08-09T08:47:53.525Z', 'tca': '2024-08-09T08:51:53.525Z', 'end': '2024-08-09T08:56:18.525Z', 'aos_azimuth': 4, 'los_azimuth': 106, 'max_elevation': 9.0}]}\n"
     ]
    }
   ],
   "source": [
    "overheads = response.json()\n",
    "print(overheads)"
   ]
  },
  {
   "cell_type": "markdown",
   "metadata": {
    "id": "l9GOdNK5Gtjc"
   },
   "source": [
    "What kind of object did this give us?"
   ]
  },
  {
   "cell_type": "code",
   "execution_count": 12,
   "metadata": {
    "id": "JBS4nRmSGtjd"
   },
   "outputs": [
    {
     "name": "stdout",
     "output_type": "stream",
     "text": [
      "<class 'dict'>\n"
     ]
    }
   ],
   "source": [
    "#ANSWER:\n",
    "print(type(overheads))"
   ]
  },
  {
   "cell_type": "markdown",
   "metadata": {
    "id": "2ZYJabXQGtjg"
   },
   "source": [
    "Python dicts are easier to work with, but the data we want is still buried in that data structure, so we have to dig it out. First, extract the `passes` value to a separate list:"
   ]
  },
  {
   "cell_type": "code",
   "execution_count": 13,
   "metadata": {
    "id": "0u8LZg4dGtjh"
   },
   "outputs": [],
   "source": [
    "#ANSWER:\n",
    "passes = overheads['passes']"
   ]
  },
  {
   "cell_type": "code",
   "execution_count": 14,
   "metadata": {},
   "outputs": [
    {
     "data": {
      "text/plain": [
       "[{'start': '2024-08-08T09:35:08.525Z',\n",
       "  'tca': '2024-08-08T09:40:08.525Z',\n",
       "  'end': '2024-08-08T09:44:58.525Z',\n",
       "  'aos_azimuth': 347,\n",
       "  'los_azimuth': 116,\n",
       "  'max_elevation': 18.0},\n",
       " {'start': '2024-08-08T11:11:18.525Z',\n",
       "  'tca': '2024-08-08T11:16:18.525Z',\n",
       "  'end': '2024-08-08T11:21:58.525Z',\n",
       "  'aos_azimuth': 294,\n",
       "  'los_azimuth': 140,\n",
       "  'max_elevation': 33.0},\n",
       " {'start': '2024-08-08T12:50:13.525Z',\n",
       "  'tca': '2024-08-08T12:54:13.525Z',\n",
       "  'end': '2024-08-08T12:58:13.525Z',\n",
       "  'aos_azimuth': 246,\n",
       "  'los_azimuth': 152,\n",
       "  'max_elevation': 7.0},\n",
       " {'start': '2024-08-08T14:29:48.525Z',\n",
       "  'tca': '2024-08-08T14:32:48.525Z',\n",
       "  'end': '2024-08-08T14:35:28.525Z',\n",
       "  'aos_azimuth': 209,\n",
       "  'los_azimuth': 147,\n",
       "  'max_elevation': 3.0},\n",
       " {'start': '2024-08-08T16:06:53.525Z',\n",
       "  'tca': '2024-08-08T16:10:53.525Z',\n",
       "  'end': '2024-08-08T16:15:13.525Z',\n",
       "  'aos_azimuth': 206,\n",
       "  'los_azimuth': 108,\n",
       "  'max_elevation': 8.0},\n",
       " {'start': '2024-08-08T17:43:03.525Z',\n",
       "  'tca': '2024-08-08T17:48:33.525Z',\n",
       "  'end': '2024-08-08T17:53:58.525Z',\n",
       "  'aos_azimuth': 221,\n",
       "  'los_azimuth': 59,\n",
       "  'max_elevation': 43.0},\n",
       " {'start': '2024-08-08T19:20:18.525Z',\n",
       "  'tca': '2024-08-08T19:24:48.525Z',\n",
       "  'end': '2024-08-08T19:29:43.525Z',\n",
       "  'aos_azimuth': 247,\n",
       "  'los_azimuth': 6,\n",
       "  'max_elevation': 14.0},\n",
       " {'start': '2024-08-09T08:47:53.525Z',\n",
       "  'tca': '2024-08-09T08:51:53.525Z',\n",
       "  'end': '2024-08-09T08:56:18.525Z',\n",
       "  'aos_azimuth': 4,\n",
       "  'los_azimuth': 106,\n",
       "  'max_elevation': 9.0}]"
      ]
     },
     "execution_count": 14,
     "metadata": {},
     "output_type": "execute_result"
    }
   ],
   "source": [
    "passes"
   ]
  },
  {
   "cell_type": "markdown",
   "metadata": {
    "id": "hMHzLrfoGtjj"
   },
   "source": [
    "Now extract the `start` strings into an array called `srisetimes`:"
   ]
  },
  {
   "cell_type": "code",
   "execution_count": 15,
   "metadata": {
    "id": "nXqJ8_F2Gtjj"
   },
   "outputs": [],
   "source": [
    "#ANSWER:\n",
    "srisetimes = [xpass['start'] for xpass in passes]"
   ]
  },
  {
   "cell_type": "code",
   "execution_count": 16,
   "metadata": {},
   "outputs": [
    {
     "data": {
      "text/plain": [
       "['2024-08-08T09:35:08.525Z',\n",
       " '2024-08-08T11:11:18.525Z',\n",
       " '2024-08-08T12:50:13.525Z',\n",
       " '2024-08-08T14:29:48.525Z',\n",
       " '2024-08-08T16:06:53.525Z',\n",
       " '2024-08-08T17:43:03.525Z',\n",
       " '2024-08-08T19:20:18.525Z',\n",
       " '2024-08-09T08:47:53.525Z']"
      ]
     },
     "execution_count": 16,
     "metadata": {},
     "output_type": "execute_result"
    }
   ],
   "source": [
    "srisetimes"
   ]
  },
  {
   "cell_type": "markdown",
   "metadata": {
    "id": "RItuBRt-Gtjl"
   },
   "source": [
    "These are strings. We convert these to an array of Python `datetime` values called `risetimes`:"
   ]
  },
  {
   "cell_type": "code",
   "execution_count": 17,
   "metadata": {
    "id": "8rzyAcLTGtjm"
   },
   "outputs": [
    {
     "data": {
      "text/plain": [
       "[datetime.datetime(2024, 8, 8, 9, 35, 8, 525000),\n",
       " datetime.datetime(2024, 8, 8, 11, 11, 18, 525000),\n",
       " datetime.datetime(2024, 8, 8, 12, 50, 13, 525000),\n",
       " datetime.datetime(2024, 8, 8, 14, 29, 48, 525000),\n",
       " datetime.datetime(2024, 8, 8, 16, 6, 53, 525000),\n",
       " datetime.datetime(2024, 8, 8, 17, 43, 3, 525000),\n",
       " datetime.datetime(2024, 8, 8, 19, 20, 18, 525000),\n",
       " datetime.datetime(2024, 8, 9, 8, 47, 53, 525000)]"
      ]
     },
     "execution_count": 17,
     "metadata": {},
     "output_type": "execute_result"
    }
   ],
   "source": [
    "risetimes = [datetime.strptime(xpass['start'], \"%Y-%m-%dT%H:%M:%S.%fZ\") for xpass in passes]\n",
    "risetimes"
   ]
  },
  {
   "cell_type": "markdown",
   "metadata": {
    "id": "l1EmKOFqGtjn"
   },
   "source": [
    "Finally, use `risetime.strftime` to print these in a format that people understand:\n",
    "\n",
    "```\n",
    "e.g.\n",
    "18/10/22 07:05\n",
    "18/10/22 08:41\n",
    "18/10/22 10:20\n",
    "18/10/22 12:00\n",
    "18/10/22 01:37\n",
    "18/10/22 03:13\n",
    "```\n",
    "\n"
   ]
  },
  {
   "cell_type": "code",
   "execution_count": 18,
   "metadata": {
    "id": "AkBE76VqGtjo"
   },
   "outputs": [
    {
     "name": "stdout",
     "output_type": "stream",
     "text": [
      "08/08/24 09:35\n",
      "08/08/24 11:11\n",
      "08/08/24 12:50\n",
      "08/08/24 02:29\n",
      "08/08/24 04:06\n",
      "08/08/24 05:43\n",
      "08/08/24 07:20\n",
      "09/08/24 08:47\n"
     ]
    }
   ],
   "source": [
    "#ANSWER:\n",
    "for risetime in risetimes:\n",
    "    print(risetime.strftime('%d/%m/%y %I:%M'))"
   ]
  },
  {
   "cell_type": "markdown",
   "metadata": {
    "id": "iNm6GjX3Gtjq"
   },
   "source": [
    "Finally, here is an endpoint that tells us who is on board:"
   ]
  },
  {
   "cell_type": "code",
   "execution_count": 19,
   "metadata": {
    "id": "12yXs_OgGtjs"
   },
   "outputs": [],
   "source": [
    "response = requests.get(\"http://api.open-notify.org/astros.json\")"
   ]
  },
  {
   "cell_type": "code",
   "execution_count": 20,
   "metadata": {},
   "outputs": [
    {
     "data": {
      "text/plain": [
       "<Response [200]>"
      ]
     },
     "execution_count": 20,
     "metadata": {},
     "output_type": "execute_result"
    }
   ],
   "source": [
    "response"
   ]
  },
  {
   "cell_type": "code",
   "execution_count": 21,
   "metadata": {},
   "outputs": [
    {
     "name": "stdout",
     "output_type": "stream",
     "text": [
      "{\"people\": [{\"craft\": \"ISS\", \"name\": \"Oleg Kononenko\"}, {\"craft\": \"ISS\", \"name\": \"Nikolai Chub\"}, {\"craft\": \"ISS\", \"name\": \"Tracy Caldwell Dyson\"}, {\"craft\": \"ISS\", \"name\": \"Matthew Dominick\"}, {\"craft\": \"ISS\", \"name\": \"Michael Barratt\"}, {\"craft\": \"ISS\", \"name\": \"Jeanette Epps\"}, {\"craft\": \"ISS\", \"name\": \"Alexander Grebenkin\"}, {\"craft\": \"ISS\", \"name\": \"Butch Wilmore\"}, {\"craft\": \"ISS\", \"name\": \"Sunita Williams\"}, {\"craft\": \"Tiangong\", \"name\": \"Li Guangsu\"}, {\"craft\": \"Tiangong\", \"name\": \"Li Cong\"}, {\"craft\": \"Tiangong\", \"name\": \"Ye Guangfu\"}], \"number\": 12, \"message\": \"success\"}\n"
     ]
    }
   ],
   "source": [
    "print(response.text)"
   ]
  },
  {
   "cell_type": "markdown",
   "metadata": {
    "id": "0Np4S0aAGtj0"
   },
   "source": [
    "Referring to the methods used above, extract the number of astronauts and their names:"
   ]
  },
  {
   "cell_type": "code",
   "execution_count": 22,
   "metadata": {
    "id": "Oqx5L19_Gtj1"
   },
   "outputs": [
    {
     "name": "stdout",
     "output_type": "stream",
     "text": [
      "{'people': [{'craft': 'ISS', 'name': 'Oleg Kononenko'}, {'craft': 'ISS', 'name': 'Nikolai Chub'}, {'craft': 'ISS', 'name': 'Tracy Caldwell Dyson'}, {'craft': 'ISS', 'name': 'Matthew Dominick'}, {'craft': 'ISS', 'name': 'Michael Barratt'}, {'craft': 'ISS', 'name': 'Jeanette Epps'}, {'craft': 'ISS', 'name': 'Alexander Grebenkin'}, {'craft': 'ISS', 'name': 'Butch Wilmore'}, {'craft': 'ISS', 'name': 'Sunita Williams'}, {'craft': 'Tiangong', 'name': 'Li Guangsu'}, {'craft': 'Tiangong', 'name': 'Li Cong'}, {'craft': 'Tiangong', 'name': 'Ye Guangfu'}], 'number': 12, 'message': 'success'}\n",
      "12\n",
      "Oleg Kononenko\n",
      "Nikolai Chub\n",
      "Tracy Caldwell Dyson\n",
      "Matthew Dominick\n",
      "Michael Barratt\n",
      "Jeanette Epps\n",
      "Alexander Grebenkin\n",
      "Butch Wilmore\n",
      "Sunita Williams\n",
      "Li Guangsu\n",
      "Li Cong\n",
      "Ye Guangfu\n"
     ]
    }
   ],
   "source": [
    "#ANSWER:\n",
    "astros = response.json()\n",
    "print(astros)\n",
    "print(astros['number'])\n",
    "for astronaut in astros['people']:\n",
    "    print(astronaut['name'])"
   ]
  },
  {
   "cell_type": "markdown",
   "metadata": {
    "id": "A4-DBw_bGtj2"
   },
   "source": [
    "## HOMEWORK\n"
   ]
  },
  {
   "cell_type": "markdown",
   "metadata": {
    "id": "c134mC6WGtj3"
   },
   "source": [
    "1. Write a simple handler for the response status code (refer to lab resources slide for HTTP response codes). As this Jupyter Notebook is an interactive device, the handler does not need to manage subsequent code execution (i.e. by branching or aborting execution), although it should return something that could be used to do so if deployed in a Python program."
   ]
  },
  {
   "cell_type": "code",
   "execution_count": null,
   "metadata": {
    "id": "FZM2NAWuGtj4"
   },
   "outputs": [],
   "source": [
    "#ANSWER:\n",
    "def handleResponse(response, verbose = False):\n",
    "    '''\n",
    "    Returns Boolean Value, Status Code,\n",
    "    '''\n",
    "  # if Status Code is 200 return false, and status code\n",
    "  # Otherwise Return True and Status Code"
   ]
  },
  {
   "cell_type": "code",
   "execution_count": 23,
   "metadata": {},
   "outputs": [],
   "source": [
    "def handleResponse(response, verbose=False):\n",
    "    '''\n",
    "    Handles the HTTP response status code.\n",
    "    \n",
    "    Parameters:\n",
    "    response (requests.Response): The response object from a request.\n",
    "    verbose (bool): If True, prints detailed information about the response.\n",
    "    \n",
    "    Returns:\n",
    "    tuple: (success, status_code, message)\n",
    "        - success (bool): True if the request was successful, False otherwise.\n",
    "        - status_code (int): The HTTP status code.\n",
    "        - message (str): A descriptive message about the response status.\n",
    "    '''\n",
    "    success = False\n",
    "    message = \"\"\n",
    "    \n",
    "    if 200 <= response.status_code < 300:\n",
    "        success = True\n",
    "        message = \"Request successful\"\n",
    "    elif 300 <= response.status_code < 400:\n",
    "        message = \"Redirection\"\n",
    "    elif 400 <= response.status_code < 500:\n",
    "        message = \"Client error\"\n",
    "    elif 500 <= response.status_code < 600:\n",
    "        message = \"Server error\"\n",
    "    else:\n",
    "        message = \"Unknown status code\"\n",
    "    \n",
    "    if verbose:\n",
    "        print(f\"Status Code: {response.status_code}\")\n",
    "        print(f\"Status: {'Success' if success else 'Failure'}\")\n",
    "        print(f\"Message: {message}\")\n",
    "    \n",
    "    return success, response.status_code, message"
   ]
  },
  {
   "cell_type": "markdown",
   "metadata": {
    "id": "9aPstlTIGtj5"
   },
   "source": [
    "2. Test your response handler on some correct and incorrect API calls."
   ]
  },
  {
   "cell_type": "code",
   "execution_count": 24,
   "metadata": {
    "id": "GYT1LAb8Gtj6"
   },
   "outputs": [
    {
     "name": "stdout",
     "output_type": "stream",
     "text": [
      "API call failed. Resolve issue before continuing!\n",
      "Status Code: 200\n",
      "Status: Success\n",
      "Message: Request successful\n"
     ]
    },
    {
     "data": {
      "text/plain": [
       "True"
      ]
     },
     "execution_count": 24,
     "metadata": {},
     "output_type": "execute_result"
    }
   ],
   "source": [
    "response = requests.get(\"http://api.open-notify.org/astros.json\")\n",
    "if handleResponse(response)[0]:\n",
    "    print('API call failed. Resolve issue before continuing!')\n",
    "\n",
    "response = requests.get(\"http://api.open-notify.org/iss-now.json\")\n",
    "handleResponse(response, True)[0]"
   ]
  },
  {
   "cell_type": "code",
   "execution_count": 25,
   "metadata": {},
   "outputs": [
    {
     "name": "stdout",
     "output_type": "stream",
     "text": [
      "Test 1: Correct API call (Current ISS location)\n",
      "Status Code: 200\n",
      "Status: Success\n",
      "Message: Request successful\n",
      "Return values: success=True, status_code=200, message='Request successful'\n",
      "\n",
      "Test 2: Correct API call (Astronauts in space)\n",
      "Status Code: 200\n",
      "Status: Success\n",
      "Message: Request successful\n",
      "Return values: success=True, status_code=200, message='Request successful'\n",
      "\n",
      "Test 3: Incorrect API call (Non-existent endpoint)\n",
      "Status Code: 404\n",
      "Status: Failure\n",
      "Message: Client error\n",
      "Return values: success=False, status_code=404, message='Client error'\n",
      "\n",
      "Test 4: Incorrect API call (Invalid domain)\n",
      "An error occurred: HTTPConnectionPool(host='nonexistent-domain.com', port=80): Max retries exceeded with url: / (Caused by NameResolutionError(\"<urllib3.connection.HTTPConnection object at 0x000001C2A84FAE60>: Failed to resolve 'nonexistent-domain.com' ([Errno 11001] getaddrinfo failed)\"))\n",
      "\n"
     ]
    }
   ],
   "source": [
    "# Test 1: Correct API call (Current ISS location)\n",
    "print(\"Test 1: Correct API call (Current ISS location)\")\n",
    "response = requests.get(\"http://api.open-notify.org/iss-now.json\")\n",
    "success, status_code, message = handleResponse(response, verbose=True)\n",
    "print(f\"Return values: success={success}, status_code={status_code}, message='{message}'\\n\")\n",
    "\n",
    "# Test 2: Correct API call (Astronauts in space)\n",
    "print(\"Test 2: Correct API call (Astronauts in space)\")\n",
    "response = requests.get(\"http://api.open-notify.org/astros.json\")\n",
    "success, status_code, message = handleResponse(response, verbose=True)\n",
    "print(f\"Return values: success={success}, status_code={status_code}, message='{message}'\\n\")\n",
    "\n",
    "# Test 3: Incorrect API call (Non-existent endpoint)\n",
    "print(\"Test 3: Incorrect API call (Non-existent endpoint)\")\n",
    "response = requests.get(\"http://api.open-notify.org/nonexistent-endpoint\")\n",
    "success, status_code, message = handleResponse(response, verbose=True)\n",
    "print(f\"Return values: success={success}, status_code={status_code}, message='{message}'\\n\")\n",
    "\n",
    "# Test 4: Incorrect API call (Invalid domain)\n",
    "print(\"Test 4: Incorrect API call (Invalid domain)\")\n",
    "try:\n",
    "    response = requests.get(\"http://nonexistent-domain.com\", timeout=5)\n",
    "    success, status_code, message = handleResponse(response, verbose=True)\n",
    "except requests.exceptions.RequestException as e:\n",
    "    print(f\"An error occurred: {e}\")\n",
    "print()"
   ]
  },
  {
   "cell_type": "markdown",
   "metadata": {
    "id": "k0AWq0rIIPza"
   },
   "source": [
    ">"
   ]
  },
  {
   "cell_type": "markdown",
   "metadata": {
    "id": "561tVw5LITP8"
   },
   "source": [
    ">"
   ]
  },
  {
   "cell_type": "markdown",
   "metadata": {
    "id": "H8Z7AkhTIUi3"
   },
   "source": [
    ">"
   ]
  },
  {
   "cell_type": "markdown",
   "metadata": {
    "id": "2lHXfE7KIHQp"
   },
   "source": [
    "\n",
    "\n",
    "---\n",
    "\n",
    "\n",
    "\n",
    "---\n",
    "\n",
    "\n",
    "\n",
    "> > > > > > > > > © 2024 Institute of Data\n",
    "\n",
    "\n",
    "---\n",
    "\n",
    "\n",
    "\n",
    "---\n",
    "\n",
    "\n",
    "\n"
   ]
  }
 ],
 "metadata": {
  "colab": {
   "provenance": [
    {
     "file_id": "1RknypYS3TD4wPumGiPV69EWtkq-3UBwF",
     "timestamp": 1553136072736
    }
   ]
  },
  "kernelspec": {
   "display_name": "Python 3 (ipykernel)",
   "language": "python",
   "name": "python3"
  },
  "language_info": {
   "codemirror_mode": {
    "name": "ipython",
    "version": 3
   },
   "file_extension": ".py",
   "mimetype": "text/x-python",
   "name": "python",
   "nbconvert_exporter": "python",
   "pygments_lexer": "ipython3",
   "version": "3.10.14"
  }
 },
 "nbformat": 4,
 "nbformat_minor": 4
}
