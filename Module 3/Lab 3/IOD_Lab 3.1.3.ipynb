{
 "cells": [
  {
   "cell_type": "markdown",
   "metadata": {
    "id": "O4slJmP6lJPO"
   },
   "source": [
    "<div>\n",
    "<img src=https://www.institutedata.com/wp-content/uploads/2019/10/iod_h_tp_primary_c.svg width=\"300\">\n",
    "</div>"
   ]
  },
  {
   "cell_type": "markdown",
   "metadata": {
    "id": "YgGme6aRlJPT"
   },
   "source": [
    "# Lab 3.1.3:\n",
    "# *Database Programming with Python and SQLite*"
   ]
  },
  {
   "cell_type": "markdown",
   "metadata": {
    "id": "qv6NIGfOlJPW"
   },
   "source": [
    "<a name=\"demo\"></a>\n",
    "## Using SQLite\n",
    "\n",
    "### Advantages of SQLite\n",
    "\n",
    "- does not run on a separate server\n",
    "- creates portable SQL databases saved in a single file\n",
    "- databases are stored in a very efficient manner and allow fast querying\n",
    "- ideal for small databases or databases that need to be copied across machines.\n",
    "- prototyping applications (e.g. as an embedded database server in a Python program).\n",
    "\n"
   ]
  },
  {
   "cell_type": "markdown",
   "metadata": {
    "id": "IHIaKfRelJPc"
   },
   "source": [
    "### The `sqlite3` Command Line Utility\n",
    "\n",
    "- useful for basic SQL tasks and database maintenance\n",
    "- for creating and dropping databases, it may be safer to use the command line than to roll the code into a Python program"
   ]
  },
  {
   "cell_type": "markdown",
   "metadata": {
    "id": "adOx7ovjlJPf"
   },
   "source": [
    "1. Add the sqlite3 installation folder to your PATH environment variable.\n",
    "2. Open a command window.\n",
    "3. Navigate to your preferred working directory.\n",
    "4. Start the sqlite3 command line utility and create a database called \"ex1\":\n",
    "\n",
    "`$ sqlite3 ex1`\n",
    "\n",
    "Output:  \n",
    "\n",
    "`SQLite version 3.8.5 2014-05-29 12:36:14\n",
    "Enter \".help\" for usage hints.\n",
    "sqlite>`\n",
    "\n",
    "*Nb. If you leave out the database name (after `sqlite3`, above) a new, temporary database will be created; it will be destroyed upon exiting sqlite3.*  \n"
   ]
  },
  {
   "cell_type": "markdown",
   "metadata": {
    "id": "nuPeNybYlJPj"
   },
   "source": [
    "Enter the following commands at the sqlite prompt (not shown):\n",
    "\n",
    "`create table tbl1(one varchar(10), two smallint);\n",
    "insert into tbl1 values('hello!',10);\n",
    "insert into tbl1 values('goodbye', 20);\n",
    "select * from tbl1;`\n",
    "\n",
    "Output:  \n",
    "\n",
    "`hello!|10\n",
    "goodbye|20`"
   ]
  },
  {
   "cell_type": "markdown",
   "metadata": {
    "id": "G7c-GNh_lJPl"
   },
   "source": [
    "Enter `.help` at the sqlite3 command prompt. This lists the available \"dot commands\".\n",
    "\n",
    "Some of the more useful dot commands include:\n",
    "\n",
    "`  \n",
    ".backup ?DB? FILE      Backup DB (default \"main\") to FILE.\n",
    ".cd DIRECTORY          Change the working directory to DIRECTORY\n",
    ".clone NEWDB           Clone data into NEWDB from the existing database\n",
    ".databases             List names and files of attached databases\n",
    ".dump ?TABLE? ...      Dump the database in an SQL text format.\n",
    ".excel                 Display the output of next command in a spreadsheet\n",
    ".exit                  Exit this program\n",
    ".headers on|off        Turn display of headers on or off\n",
    ".help                  Show this message\n",
    ".import FILE TABLE     Import data from FILE into TABLE\n",
    ".indexes ?TABLE?       Show names of all indexes.\n",
    ".quit                  Exit this program\n",
    ".read FILENAME         Execute SQL in FILENAME\n",
    ".restore ?DB? FILE     Restore content of DB (default \"main\") from FILE\n",
    ".save FILE             Write in-memory database into FILE\n",
    ".tables ?TABLE?        List names of tables.`\n"
   ]
  },
  {
   "cell_type": "markdown",
   "metadata": {
    "id": "UGuSmoHMlJPn"
   },
   "source": [
    "### The `sqlite3` package\n",
    "\n",
    "The easiest way to incorporate an SQL database into a Python application is by using the `sqlite3` package for [`Python 2.7`](https://docs.python.org/2.7/library/sqlite3.html) or [`Python 3.x`](https://docs.python.org/3/library/sqlite3.html).\n",
    "\n",
    "Open a connection to an SQLite database file.  As before, if the file does not already exist it will automatically be created."
   ]
  },
  {
   "cell_type": "code",
   "execution_count": 1,
   "metadata": {},
   "outputs": [
    {
     "name": "stdout",
     "output_type": "stream",
     "text": [
      "Requirement already satisfied: pandas in c:\\users\\tien\\anaconda3\\envs\\iod\\lib\\site-packages (2.2.2)\n",
      "Requirement already satisfied: numpy>=1.22.4 in c:\\users\\tien\\appdata\\roaming\\python\\python310\\site-packages (from pandas) (2.0.0)\n",
      "Requirement already satisfied: python-dateutil>=2.8.2 in c:\\users\\tien\\anaconda3\\envs\\iod\\lib\\site-packages (from pandas) (2.8.2)\n",
      "Requirement already satisfied: pytz>=2020.1 in c:\\users\\tien\\anaconda3\\envs\\iod\\lib\\site-packages (from pandas) (2024.1)\n",
      "Requirement already satisfied: tzdata>=2022.7 in c:\\users\\tien\\anaconda3\\envs\\iod\\lib\\site-packages (from pandas) (2024.1)\n",
      "Requirement already satisfied: six>=1.5 in c:\\users\\tien\\anaconda3\\envs\\iod\\lib\\site-packages (from python-dateutil>=2.8.2->pandas) (1.16.0)\n"
     ]
    }
   ],
   "source": [
    "!pip install pandas"
   ]
  },
  {
   "cell_type": "code",
   "execution_count": 2,
   "metadata": {},
   "outputs": [
    {
     "name": "stdout",
     "output_type": "stream",
     "text": [
      "Requirement already satisfied: numpy in c:\\users\\tien\\appdata\\roaming\\python\\python310\\site-packages (2.0.0)\n"
     ]
    }
   ],
   "source": [
    "!pip install numpy"
   ]
  },
  {
   "cell_type": "code",
   "execution_count": 1,
   "metadata": {
    "ExecuteTime": {
     "end_time": "2019-03-21T02:45:26.790620Z",
     "start_time": "2019-03-21T02:45:26.783638Z"
    },
    "id": "kDA5eAPilJPo"
   },
   "outputs": [],
   "source": [
    "import sqlite3\n",
    "sqlite_db = 'test_db.sqlite'\n",
    "conn = sqlite3.connect(sqlite_db)\n",
    "c = conn.cursor()\n"
   ]
  },
  {
   "cell_type": "code",
   "execution_count": 2,
   "metadata": {},
   "outputs": [
    {
     "data": {
      "text/plain": [
       "'C:\\\\Users\\\\Tien\\\\Downloads\\\\IOD\\\\Module 3\\\\Lab 3'"
      ]
     },
     "execution_count": 2,
     "metadata": {},
     "output_type": "execute_result"
    }
   ],
   "source": [
    "pwd"
   ]
  },
  {
   "cell_type": "markdown",
   "metadata": {
    "id": "SbbON3DXlJPt"
   },
   "source": [
    "Commands can be executed by passing them as string arguments to the `execute` method of the cursor we just created for this database."
   ]
  },
  {
   "cell_type": "markdown",
   "metadata": {
    "id": "9YezTIZxlJPu"
   },
   "source": [
    "*Nb. If this script has never been run before, the following will raise an (inconsequential) error message:*"
   ]
  },
  {
   "cell_type": "code",
   "execution_count": 3,
   "metadata": {
    "ExecuteTime": {
     "end_time": "2019-03-21T02:53:18.454636Z",
     "start_time": "2019-03-21T02:53:18.434692Z"
    },
    "colab": {
     "base_uri": "https://localhost:8080/",
     "height": 222
    },
    "executionInfo": {
     "elapsed": 418,
     "status": "error",
     "timestamp": 1656472962314,
     "user": {
      "displayName": "Muru Raj",
      "userId": "16263509272652930332"
     },
     "user_tz": -480
    },
    "id": "vf0t6T2mlJPw",
    "outputId": "0512a379-d0f1-449f-aca4-076e9eb8fac3"
   },
   "outputs": [],
   "source": [
    "c.execute('DROP TABLE houses;')\n",
    "\n",
    "# Save (commit) the changes:\n",
    "conn.commit()"
   ]
  },
  {
   "cell_type": "code",
   "execution_count": 4,
   "metadata": {
    "ExecuteTime": {
     "end_time": "2019-03-21T02:53:29.356866Z",
     "start_time": "2019-03-21T02:53:29.332924Z"
    },
    "id": "jSfkJrVWlJPz"
   },
   "outputs": [],
   "source": [
    "c.execute('CREATE TABLE houses (field1 INTEGER PRIMARY KEY, sqft INTEGER, bdrms INTEGER, age INTEGER, price INTEGER);')\n",
    "conn.commit()"
   ]
  },
  {
   "cell_type": "markdown",
   "metadata": {
    "id": "_BWciGvRlJP3"
   },
   "source": [
    "With the database saved the table should now be viewable using SQLite Manager.\n",
    "\n",
    "#### Adding data\n",
    "\n",
    "Since we're back in python, we can now use regular programming techniques in conjunction with the sqlite connection.  In particular, the cursor's `execute()` method supports value substitution using the `?` character, which makes adding multiple records a bit easier.  See the [docs](https://docs.python.org/2.7/library/sqlite3.html) for more details.\n",
    "\n",
    "> c.execute(sql_command, values)"
   ]
  },
  {
   "cell_type": "code",
   "execution_count": 5,
   "metadata": {
    "ExecuteTime": {
     "end_time": "2019-03-21T02:53:32.085517Z",
     "start_time": "2019-03-21T02:53:32.065541Z"
    },
    "id": "EFU0wSP1lJP4"
   },
   "outputs": [],
   "source": [
    "# A\n",
    "last_sale = (None, 4000, 5, 22, 619000)\n",
    "\n",
    "# Execute Command\n",
    "c.execute('INSERT INTO houses VALUES (?,?,?,?,?)',last_sale)\n",
    "\n",
    "# Remember to commit the changes\n",
    "conn.commit()"
   ]
  },
  {
   "cell_type": "markdown",
   "metadata": {
    "id": "t7h9HnjDlJP7"
   },
   "source": [
    "Notice that in this syntax we use the python `None` value, rather than `NULL`, to trigger SQLite to auto-increment the Primary Key.\n",
    "\n",
    "There is a related cursor method `executemany()` which takes an array of tuples and loops through them, substituting one tuple at a time.\n",
    "\n",
    "> c.executemany(sql_command, values)"
   ]
  },
  {
   "cell_type": "code",
   "execution_count": 6,
   "metadata": {
    "ExecuteTime": {
     "end_time": "2019-03-21T02:53:39.925817Z",
     "start_time": "2019-03-21T02:53:39.899884Z"
    },
    "id": "MA2Xia7IlJP8"
   },
   "outputs": [],
   "source": [
    "# A\n",
    "recent_sales = [\n",
    "  (None, 2390, 4, 34, 319000),\n",
    "  (None, 1870, 3, 14, 289000),\n",
    "  (None, 1505, 3, 90, 269000),\n",
    "]\n",
    "\n",
    "# Nb. The \"?\" parameters are placeholders for data that will map to the table columns during insertion;\n",
    "# this is a security measure against SQL injection attacks:\n",
    "#\n",
    "c.executemany('INSERT INTO houses VALUES (?, ?, ?, ?, ?)', recent_sales)\n",
    "\n",
    "conn.commit()"
   ]
  },
  {
   "cell_type": "markdown",
   "metadata": {
    "id": "4re-XRYUlAj7"
   },
   "source": [
    "Select all rows from houses"
   ]
  },
  {
   "cell_type": "code",
   "execution_count": 7,
   "metadata": {
    "ExecuteTime": {
     "end_time": "2019-03-21T02:53:42.873911Z",
     "start_time": "2019-03-21T02:53:42.860919Z"
    },
    "colab": {
     "base_uri": "https://localhost:8080/"
    },
    "executionInfo": {
     "elapsed": 5,
     "status": "ok",
     "timestamp": 1656473111637,
     "user": {
      "displayName": "Muru Raj",
      "userId": "16263509272652930332"
     },
     "user_tz": -480
    },
    "id": "aQPGUlLZlJP-",
    "outputId": "80b43a8b-b12d-400f-9846-273735f1bb55"
   },
   "outputs": [
    {
     "data": {
      "text/plain": [
       "[(1, 4000, 5, 22, 619000),\n",
       " (2, 2390, 4, 34, 319000),\n",
       " (3, 1870, 3, 14, 289000),\n",
       " (4, 1505, 3, 90, 269000)]"
      ]
     },
     "execution_count": 7,
     "metadata": {},
     "output_type": "execute_result"
    }
   ],
   "source": [
    "# A\n",
    "query = 'Select * from houses'\n",
    "c.execute(query)\n",
    "c.fetchall()\n",
    "#pd.DataFrame(c.fetchall())"
   ]
  },
  {
   "cell_type": "markdown",
   "metadata": {
    "id": "Rua_QrCClJQF"
   },
   "source": [
    "\n",
    "\n",
    "\n",
    "#### Adding data from a csv file\n",
    "One way to populate the database from a file is to use `numpy.genfromtxt` to read the file into an array (converted to a list for easier handling), and then `INSERT` those records into the database.  The `genfromtxt` function has options including the output data type, handling of missing values, skipping of header and footer rows, columns to read, and more."
   ]
  },
  {
   "cell_type": "code",
   "execution_count": null,
   "metadata": {},
   "outputs": [],
   "source": [
    "!pip uninstall numpy"
   ]
  },
  {
   "cell_type": "raw",
   "metadata": {
    "ExecuteTime": {
     "end_time": "2019-03-21T03:00:15.086181Z",
     "start_time": "2019-03-21T03:00:15.078202Z"
    },
    "id": "DbzyW9LclJQG"
   },
   "source": [
    "import sys\n",
    "!{sys.executable} -m pip install --user numpy"
   ]
  },
  {
   "cell_type": "code",
   "execution_count": 8,
   "metadata": {},
   "outputs": [],
   "source": [
    "import numpy as np\n",
    "data = np.genfromtxt('housing-data.csv', delimiter=',' , skip_header = 1).tolist()"
   ]
  },
  {
   "cell_type": "code",
   "execution_count": 9,
   "metadata": {},
   "outputs": [
    {
     "data": {
      "text/plain": [
       "[[2104.0, 3.0, 70.0, 399900.0],\n",
       " [1600.0, 3.0, 28.0, 329900.0],\n",
       " [2400.0, 3.0, 44.0, 369000.0],\n",
       " [1416.0, 2.0, 49.0, 232000.0],\n",
       " [3000.0, 4.0, 75.0, 539900.0],\n",
       " [1985.0, 4.0, 61.0, 299900.0],\n",
       " [1534.0, 3.0, 12.0, 314900.0],\n",
       " [1427.0, 3.0, 57.0, 198999.0],\n",
       " [1380.0, 3.0, 14.0, 212000.0],\n",
       " [1494.0, 3.0, 15.0, 242500.0],\n",
       " [1940.0, 4.0, 7.0, 239999.0],\n",
       " [2000.0, 3.0, 27.0, 347000.0],\n",
       " [1890.0, 3.0, 45.0, 329999.0],\n",
       " [4478.0, 5.0, 49.0, 699900.0],\n",
       " [1268.0, 3.0, 58.0, 259900.0],\n",
       " [2300.0, 4.0, 77.0, 449900.0],\n",
       " [1320.0, 2.0, 62.0, 299900.0],\n",
       " [1236.0, 3.0, 78.0, 199900.0],\n",
       " [2609.0, 4.0, 5.0, 499998.0],\n",
       " [3031.0, 4.0, 21.0, 599000.0],\n",
       " [1767.0, 3.0, 44.0, 252900.0],\n",
       " [1888.0, 2.0, 79.0, 255000.0],\n",
       " [1604.0, 3.0, 13.0, 242900.0],\n",
       " [1962.0, 4.0, 53.0, 259900.0],\n",
       " [3890.0, 3.0, 36.0, 573900.0],\n",
       " [1100.0, 3.0, 60.0, 249900.0],\n",
       " [1458.0, 3.0, 29.0, 464500.0],\n",
       " [2526.0, 3.0, 13.0, 469000.0],\n",
       " [2200.0, 3.0, 28.0, 475000.0],\n",
       " [2637.0, 3.0, 25.0, 299900.0],\n",
       " [1839.0, 2.0, 40.0, 349900.0],\n",
       " [1000.0, 1.0, 5.0, 169900.0],\n",
       " [2040.0, 4.0, 75.0, 314900.0],\n",
       " [3137.0, 3.0, 67.0, 579900.0],\n",
       " [1811.0, 4.0, 24.0, 285900.0],\n",
       " [1437.0, 3.0, 50.0, 249900.0],\n",
       " [1239.0, 3.0, 22.0, 229900.0],\n",
       " [2132.0, 4.0, 28.0, 345000.0],\n",
       " [4215.0, 4.0, 66.0, 549000.0],\n",
       " [2162.0, 4.0, 43.0, 287000.0],\n",
       " [1664.0, 2.0, 40.0, 368500.0],\n",
       " [2238.0, 3.0, 37.0, 329900.0],\n",
       " [2567.0, 4.0, 57.0, 314000.0],\n",
       " [1200.0, 3.0, 76.0, 299000.0],\n",
       " [852.0, 2.0, 70.0, 179900.0],\n",
       " [1852.0, 4.0, 64.0, 299900.0],\n",
       " [1203.0, 3.0, 11.0, 239500.0]]"
      ]
     },
     "execution_count": 9,
     "metadata": {},
     "output_type": "execute_result"
    }
   ],
   "source": [
    "data"
   ]
  },
  {
   "cell_type": "raw",
   "metadata": {
    "id": "uvqTmTEHfuvj"
   },
   "source": [
    "from numpy import genfromtext\n",
    "\n",
    "\n",
    "# import into nparray of ints, then convert to list of lists:\n",
    "data = genfromtxt('housing-data.csv', dtype = 'i8',\n",
    "                    delimiter = ',', skip_header = 1).tolist()"
   ]
  },
  {
   "cell_type": "markdown",
   "metadata": {
    "id": "rsYzLBGglJQI"
   },
   "source": [
    "Suppose we need to put a placeholder in the first column for data that will be available later. Best practice is to insert the value `None`:"
   ]
  },
  {
   "cell_type": "code",
   "execution_count": 10,
   "metadata": {
    "ExecuteTime": {
     "end_time": "2019-03-21T03:00:17.647051Z",
     "start_time": "2019-03-21T03:00:17.642063Z"
    },
    "id": "IpIp0WZhlJQI"
   },
   "outputs": [],
   "source": [
    "# prepend a None value to beginning of each sub-list:\n",
    "for d in data:\n",
    "    d.insert(0, None)"
   ]
  },
  {
   "cell_type": "markdown",
   "metadata": {
    "id": "FwHtbxRTlJQL"
   },
   "source": [
    "*Nb. This is why we converted the input array to a list. An array can only hold one type of data (integers in this case) so we could not have inserted `None` before we did this conversion.*"
   ]
  },
  {
   "cell_type": "code",
   "execution_count": 11,
   "metadata": {
    "ExecuteTime": {
     "end_time": "2019-03-21T03:00:20.313136Z",
     "start_time": "2019-03-21T03:00:20.306156Z"
    },
    "id": "dpjV2gEIlJQL",
    "outputId": "553d1507-35e9-4682-fd2f-141d26513a2c"
   },
   "outputs": [
    {
     "name": "stdout",
     "output_type": "stream",
     "text": [
      "<class 'list'>\n",
      "[[None, 2104.0, 3.0, 70.0, 399900.0], [None, 1600.0, 3.0, 28.0, 329900.0], [None, 2400.0, 3.0, 44.0, 369000.0]]\n"
     ]
    }
   ],
   "source": [
    "# check:\n",
    "print(type(data))\n",
    "print(data[0:3])"
   ]
  },
  {
   "cell_type": "markdown",
   "metadata": {
    "id": "2YuxctislJQP"
   },
   "source": [
    "Now we can insert each list item as a row of fields in the database."
   ]
  },
  {
   "cell_type": "code",
   "execution_count": 12,
   "metadata": {
    "ExecuteTime": {
     "end_time": "2019-03-21T03:00:23.383321Z",
     "start_time": "2019-03-21T03:00:23.360381Z"
    },
    "id": "1X78UleXlJQP"
   },
   "outputs": [],
   "source": [
    "# loop through data, running an INSERT on each record (i.e. sublist):\n",
    "for d in data:\n",
    "    c.execute('INSERT INTO houses VALUES (?, ?, ?, ?, ?)', d)\n",
    "\n",
    "conn.commit()"
   ]
  },
  {
   "cell_type": "markdown",
   "metadata": {
    "id": "fOU5sJDmlJQS"
   },
   "source": [
    "In this case, because we were inserting the same value for all records, so we could have simply used a 'None' in the numpy `insert` method at column 0."
   ]
  },
  {
   "cell_type": "code",
   "execution_count": 13,
   "metadata": {
    "ExecuteTime": {
     "end_time": "2019-03-21T03:00:26.207906Z",
     "start_time": "2019-03-21T03:00:26.192925Z"
    },
    "id": "sDig16BalJQS"
   },
   "outputs": [],
   "source": [
    "import numpy as np\n",
    "d1 = np.asarray([1200, 3, 15, 250000])\n",
    "d1 = d1.tolist()\n",
    "d1.insert(0, None)\n",
    "d1\n",
    "c.execute('INSERT INTO houses VALUES (?, ?, ?, ?, ?)', d1)\n",
    "conn.commit()"
   ]
  },
  {
   "cell_type": "markdown",
   "metadata": {
    "id": "FVZ3jVc3lJQT"
   },
   "source": [
    "#### Deleting Rows"
   ]
  },
  {
   "cell_type": "markdown",
   "metadata": {
    "id": "fwGFqJKplJQU"
   },
   "source": [
    "The `DELETE FROM` statement can be used with a `WHERE` clause to specify rows to delete based on some criteria."
   ]
  },
  {
   "cell_type": "code",
   "execution_count": 14,
   "metadata": {
    "ExecuteTime": {
     "end_time": "2019-03-21T03:00:28.930270Z",
     "start_time": "2019-03-21T03:00:28.913316Z"
    },
    "id": "G-t-_J1alJQU"
   },
   "outputs": [],
   "source": [
    "c.execute('DELETE FROM houses WHERE field1 IN (52, 53)')\n",
    "conn.commit()"
   ]
  },
  {
   "cell_type": "markdown",
   "metadata": {
    "id": "dBd4Rh8DlJQW"
   },
   "source": [
    "QUIZ: What would `DELETE FROM houses` do?"
   ]
  },
  {
   "cell_type": "markdown",
   "metadata": {
    "id": "omubeB6qlJQW"
   },
   "source": [
    "#### Filtering Rows"
   ]
  },
  {
   "cell_type": "markdown",
   "metadata": {
    "id": "0x6oaa-UlU2c"
   },
   "source": [
    "**1. Select Rows Where Bedrooms = 4**"
   ]
  },
  {
   "cell_type": "code",
   "execution_count": 15,
   "metadata": {
    "ExecuteTime": {
     "end_time": "2019-03-21T03:00:32.102245Z",
     "start_time": "2019-03-21T03:00:32.091281Z"
    },
    "id": "tET_cYfWlJQX"
   },
   "outputs": [
    {
     "data": {
      "text/plain": [
       "[(2, 2390, 4, 34, 319000),\n",
       " (9, 3000, 4, 75, 539900),\n",
       " (10, 1985, 4, 61, 299900),\n",
       " (15, 1940, 4, 7, 239999),\n",
       " (20, 2300, 4, 77, 449900),\n",
       " (23, 2609, 4, 5, 499998),\n",
       " (24, 3031, 4, 21, 599000),\n",
       " (28, 1962, 4, 53, 259900),\n",
       " (37, 2040, 4, 75, 314900),\n",
       " (39, 1811, 4, 24, 285900),\n",
       " (42, 2132, 4, 28, 345000),\n",
       " (43, 4215, 4, 66, 549000),\n",
       " (44, 2162, 4, 43, 287000),\n",
       " (47, 2567, 4, 57, 314000),\n",
       " (50, 1852, 4, 64, 299900)]"
      ]
     },
     "execution_count": 15,
     "metadata": {},
     "output_type": "execute_result"
    }
   ],
   "source": [
    "# ANSWER\n",
    "results= c.execute(\"SELECT * FROM houses Where bdrms=4\");\n",
    "results.fetchall()"
   ]
  },
  {
   "cell_type": "markdown",
   "metadata": {
    "id": "sTNiWQB2lJQg"
   },
   "source": [
    "**2. The following query calculates the average floor area and price of each size of house (i.e. by number of bedrooms):**"
   ]
  },
  {
   "cell_type": "code",
   "execution_count": 16,
   "metadata": {
    "ExecuteTime": {
     "end_time": "2019-03-21T03:00:40.229917Z",
     "start_time": "2019-03-21T03:00:40.215956Z"
    },
    "id": "nkFpYIbVlJQg",
    "outputId": "a56eebd4-9f0b-483d-9e30-4305de3e25b6"
   },
   "outputs": [
    {
     "data": {
      "text/plain": [
       "[(1, 1000.0, 169900.0),\n",
       " (2, 1496.5, 280866.6666666667),\n",
       " (3, 1827.5555555555557, 322892.51851851854),\n",
       " (4, 2399.733333333333, 373553.13333333336),\n",
       " (5, 4239.0, 659450.0)]"
      ]
     },
     "execution_count": 16,
     "metadata": {},
     "output_type": "execute_result"
    }
   ],
   "source": [
    "# ANSWER\n",
    "results = c.execute(\"SELECT bdrms, AVG(sqft) AS avg_sqft, AVG(price) AS avg_price FROM houses GROUP BY bdrms\")\n",
    "results.fetchall()"
   ]
  },
  {
   "cell_type": "markdown",
   "metadata": {
    "id": "7K9VDroqlJQi"
   },
   "source": [
    "### Pandas connector\n",
    "\n",
    "While databases provide many analytical capabilities, at some point we may need to pull data into Python for more flexible processing. Large, fixed operations would be more efficient in a database, but Pandas allows for interactive processing.\n",
    "\n",
    "For example, if you want to aggregate nightly log-ins or sales for a report or dashboard, this would be a fixed operation on a large dataset. These computations would run more efficiently in the database system itself.\n",
    "\n",
    "However, if we wanted to model the patterns of login behaviour or factors driving sales, then we would import the data to Python where we could use its simple interfaces to powerful analytic libraries."
   ]
  },
  {
   "cell_type": "code",
   "execution_count": 17,
   "metadata": {
    "ExecuteTime": {
     "end_time": "2019-03-21T03:00:47.378382Z",
     "start_time": "2019-03-21T03:00:46.506361Z"
    },
    "id": "tvI0P-r8lJQj"
   },
   "outputs": [],
   "source": [
    "import pandas as pd\n",
    "from pandas.io import sql"
   ]
  },
  {
   "cell_type": "markdown",
   "metadata": {
    "id": "gBz6pxPFlJQk"
   },
   "source": [
    "Pandas can connect to most relational databases. In this demonstration, we will create and connect to a SQLite database."
   ]
  },
  {
   "cell_type": "markdown",
   "metadata": {
    "id": "3dZYouA_lJQk"
   },
   "source": [
    "### Writing data into a database\n",
    "\n",
    "Data in Pandas can be loaded into a relational database.\n",
    "\n",
    "If the data table is not too large, we can load all of it into a Pandas DataFrame:"
   ]
  },
  {
   "cell_type": "code",
   "execution_count": 18,
   "metadata": {
    "ExecuteTime": {
     "end_time": "2019-03-21T03:00:57.272152Z",
     "start_time": "2019-03-21T03:00:57.245228Z"
    },
    "id": "GfjtD2iylJQl",
    "outputId": "efe6eddd-8fae-4ad3-d8b9-c34c3444a015"
   },
   "outputs": [
    {
     "data": {
      "text/html": [
       "<div>\n",
       "<style scoped>\n",
       "    .dataframe tbody tr th:only-of-type {\n",
       "        vertical-align: middle;\n",
       "    }\n",
       "\n",
       "    .dataframe tbody tr th {\n",
       "        vertical-align: top;\n",
       "    }\n",
       "\n",
       "    .dataframe thead th {\n",
       "        text-align: right;\n",
       "    }\n",
       "</style>\n",
       "<table border=\"1\" class=\"dataframe\">\n",
       "  <thead>\n",
       "    <tr style=\"text-align: right;\">\n",
       "      <th></th>\n",
       "      <th>sqft</th>\n",
       "      <th>bdrms</th>\n",
       "      <th>age</th>\n",
       "      <th>price</th>\n",
       "    </tr>\n",
       "  </thead>\n",
       "  <tbody>\n",
       "    <tr>\n",
       "      <th>0</th>\n",
       "      <td>2104</td>\n",
       "      <td>3</td>\n",
       "      <td>70</td>\n",
       "      <td>399900</td>\n",
       "    </tr>\n",
       "    <tr>\n",
       "      <th>1</th>\n",
       "      <td>1600</td>\n",
       "      <td>3</td>\n",
       "      <td>28</td>\n",
       "      <td>329900</td>\n",
       "    </tr>\n",
       "    <tr>\n",
       "      <th>2</th>\n",
       "      <td>2400</td>\n",
       "      <td>3</td>\n",
       "      <td>44</td>\n",
       "      <td>369000</td>\n",
       "    </tr>\n",
       "    <tr>\n",
       "      <th>3</th>\n",
       "      <td>1416</td>\n",
       "      <td>2</td>\n",
       "      <td>49</td>\n",
       "      <td>232000</td>\n",
       "    </tr>\n",
       "    <tr>\n",
       "      <th>4</th>\n",
       "      <td>3000</td>\n",
       "      <td>4</td>\n",
       "      <td>75</td>\n",
       "      <td>539900</td>\n",
       "    </tr>\n",
       "  </tbody>\n",
       "</table>\n",
       "</div>"
      ],
      "text/plain": [
       "   sqft  bdrms  age   price\n",
       "0  2104      3   70  399900\n",
       "1  1600      3   28  329900\n",
       "2  2400      3   44  369000\n",
       "3  1416      2   49  232000\n",
       "4  3000      4   75  539900"
      ]
     },
     "execution_count": 18,
     "metadata": {},
     "output_type": "execute_result"
    }
   ],
   "source": [
    "# Nb. Use low_memory=False to ensure that type inference does not fail due to buffered processing of input:\n",
    "data = pd.read_csv('housing-data.csv', low_memory = False)\n",
    "data.head()"
   ]
  },
  {
   "cell_type": "raw",
   "metadata": {
    "id": "3fD3CvPRlJQo"
   },
   "source": [
    "We can move data in the opposite direction -- from a DataFrame to a database -- using the `to_sql` command, similar to the `to_csv` command.\n",
    "\n",
    "`to_sql` takes as arguments:\n",
    "    - `name`, the table name to create\n",
    "    - `con`, a connection to a database\n",
    "    - `index`, whether to input the index column\n",
    "    - `schema`, if we want to write a custom schema for the new table\n",
    "    - `if_exists`, what to do if the table already exists. We can overwrite it, add to it, or fail"
   ]
  },
  {
   "cell_type": "markdown",
   "metadata": {
    "id": "Q2W5ZbrHlJQo"
   },
   "source": [
    "This copies our `data` DataFrame to a sqlite3 table called `houses_pandas`:"
   ]
  },
  {
   "cell_type": "code",
   "execution_count": 19,
   "metadata": {
    "ExecuteTime": {
     "end_time": "2019-03-21T03:01:06.485595Z",
     "start_time": "2019-03-21T03:01:06.010981Z"
    },
    "id": "BoyMHydFlJQp"
   },
   "outputs": [
    {
     "data": {
      "text/plain": [
       "47"
      ]
     },
     "execution_count": 19,
     "metadata": {},
     "output_type": "execute_result"
    }
   ],
   "source": [
    "data.to_sql('houses_pandas', con = conn, if_exists = 'replace', index = False)"
   ]
  },
  {
   "cell_type": "markdown",
   "metadata": {
    "id": "WqPJA5l_lJQr"
   },
   "source": [
    "Run a query to get the average price of each house size from this table:"
   ]
  },
  {
   "cell_type": "code",
   "execution_count": 20,
   "metadata": {
    "ExecuteTime": {
     "end_time": "2019-03-21T03:01:09.023417Z",
     "start_time": "2019-03-21T03:01:09.016436Z"
    },
    "id": "w5Uf5INrlJQr"
   },
   "outputs": [
    {
     "data": {
      "text/plain": [
       "[(2104, 3, 70, 399900),\n",
       " (1600, 3, 28, 329900),\n",
       " (2400, 3, 44, 369000),\n",
       " (1416, 2, 49, 232000),\n",
       " (3000, 4, 75, 539900),\n",
       " (1985, 4, 61, 299900),\n",
       " (1534, 3, 12, 314900),\n",
       " (1427, 3, 57, 198999),\n",
       " (1380, 3, 14, 212000),\n",
       " (1494, 3, 15, 242500)]"
      ]
     },
     "execution_count": 20,
     "metadata": {},
     "output_type": "execute_result"
    }
   ],
   "source": [
    "#ANSWER\n",
    "c.execute(\"SELECT * FROM houses_pandas LIMIT 10\").fetchall()"
   ]
  },
  {
   "cell_type": "code",
   "execution_count": 21,
   "metadata": {},
   "outputs": [
    {
     "data": {
      "text/plain": [
       "[(1, 169900.0),\n",
       " (2, 280866.6666666667),\n",
       " (3, 326403.92),\n",
       " (4, 377449.78571428574),\n",
       " (5, 699900.0)]"
      ]
     },
     "execution_count": 21,
     "metadata": {},
     "output_type": "execute_result"
    }
   ],
   "source": [
    "c.execute(\"SELECT bdrms, AVG(price) FROM houses_pandas GROUP BY bdrms\").fetchall()"
   ]
  },
  {
   "cell_type": "markdown",
   "metadata": {
    "id": "CJtvJ5EylJQu"
   },
   "source": [
    "## Discussion\n",
    "\n",
    "**Scenarios for using Pandas with SQLite**\n",
    "\n",
    "1. When would you want to use Pandas on a dataset before storing it in a database?\n",
    "\n",
    "2. When would you want to use Pandas on a dataset retrieved from a database?"
   ]
  },
  {
   "cell_type": "markdown",
   "metadata": {
    "id": "YZ7J3ZyUlJQu"
   },
   "source": [
    "<a name=\"guided-practice\"></a>\n",
    "\n",
    "\n",
    "# Reference: SQL Syntax\n",
    "\n",
    "\n",
    "#### SELECT Statement\n",
    "Every query should start with `SELECT`.  `SELECT` is followed by the names of the columns in the output.\n",
    "\n",
    "`SELECT` is always paired with `FROM`, and `FROM` identifies the table to retrieve data from.\n",
    "\n",
    "```sql\n",
    "SELECT\n",
    "<columns>\n",
    "FROM\n",
    "<table>\n",
    "```\n",
    "\n",
    "`SELECT *` denotes returns *all* of the columns.\n",
    "\n",
    "Housing Data example:\n",
    "```sql\n",
    "SELECT\n",
    "sqft, bdrms\n",
    "FROM houses_pandas;\n",
    "```\n",
    "\n",
    "**Check:** Write a query that returns the `sqft`, `bdrms` and `price`.\n",
    "\n",
    "```sql\n",
    "SELECT\n",
    "sqft, bdrms, price\n",
    "FROM houses_pandas;\n",
    "```\n",
    "\n",
    "#### WHERE Clause\n",
    "`WHERE` is used to filter table to a specific criteria and follows the `FROM` clause.\n",
    "\n",
    "```sql\n",
    "SELECT\n",
    "<columns>\n",
    "FROM\n",
    "<table>\n",
    "WHERE\n",
    "<condition>\n",
    "```\n",
    "Example:\n",
    "```sql\n",
    "SELECT\n",
    "sqft, bdrms, age, price\n",
    "FROM houses_pandas\n",
    "WHERE bdrms = 2 and price < 250000;\n",
    "```\n",
    "\n",
    "The condition is effectively a row filter; rows that match the condition will be included in the rowset that is returned by the query.\n",
    "\n",
    "**Check:** Write a query that returns the `sqft`, `bdrms`, `age` for houses older than 60 years.\n",
    ">```sql\n",
    "SELECT\n",
    "sqft, bdrms, age\n",
    "FROM houses_pandas\n",
    "WHERE age > 60;\n",
    "```"
   ]
  },
  {
   "cell_type": "markdown",
   "metadata": {
    "id": "u5hFKdhQlJQu"
   },
   "source": [
    "### AGGREGATIONS\n",
    "\n",
    "Aggregations (or aggregate functions) are functions where the values of multiple rows are grouped together as input on certain criteria to form a single value of more significant meaning or measurement such as a set, a bag or a list.\n",
    "\n",
    "Examples of aggregate functions:\n",
    "\n",
    "- Average (i.e., arithmetic mean)\n",
    "- Count\n",
    "- Maximum\n",
    "- Minimum\n",
    "- Median\n",
    "- Mode\n",
    "- Sum\n",
    "\n",
    "In SQL they are performed in a `SELECT` statement as follows.\n",
    "\n",
    "```sql\n",
    "SELECT COUNT(price)\n",
    "FROM houses_pandas;\n",
    "```\n",
    "\n",
    "```sql\n",
    "SELECT AVG(sqft), MIN(price), MAX(price)\n",
    "FROM houses_pandas\n",
    "WHERE bdrms = 2;\n",
    "```"
   ]
  },
  {
   "cell_type": "markdown",
   "metadata": {
    "id": "CscvF7JthEEO"
   },
   "source": [
    "### Read Order Data\n",
    "- P12-ListOfOrders\n",
    "- P12-OrderBreakdown"
   ]
  },
  {
   "cell_type": "markdown",
   "metadata": {
    "id": "DOl3mmXohEEP"
   },
   "source": [
    "#### 1. Read CSV into DataFrame"
   ]
  },
  {
   "cell_type": "code",
   "execution_count": 22,
   "metadata": {
    "ExecuteTime": {
     "end_time": "2019-03-21T03:12:07.534283Z",
     "start_time": "2019-03-21T03:12:07.477433Z"
    },
    "id": "Q6QO2rjrhEER"
   },
   "outputs": [],
   "source": [
    "# Reading CSV to Dataframe\n",
    "orders = pd.read_csv('P12-ListOfOrders.csv', encoding = 'utf-8')\n",
    "orders_break_down =  pd.read_csv('P12-OrderBreakdown.csv', encoding = 'utf-8')"
   ]
  },
  {
   "cell_type": "code",
   "execution_count": 23,
   "metadata": {
    "ExecuteTime": {
     "end_time": "2019-03-21T03:12:26.465643Z",
     "start_time": "2019-03-21T03:12:26.437719Z"
    },
    "id": "ap_uuKx6hEET",
    "outputId": "5454cc0b-5b6d-4afc-9f7e-a0d2e20aedf2"
   },
   "outputs": [
    {
     "data": {
      "text/html": [
       "<div>\n",
       "<style scoped>\n",
       "    .dataframe tbody tr th:only-of-type {\n",
       "        vertical-align: middle;\n",
       "    }\n",
       "\n",
       "    .dataframe tbody tr th {\n",
       "        vertical-align: top;\n",
       "    }\n",
       "\n",
       "    .dataframe thead th {\n",
       "        text-align: right;\n",
       "    }\n",
       "</style>\n",
       "<table border=\"1\" class=\"dataframe\">\n",
       "  <thead>\n",
       "    <tr style=\"text-align: right;\">\n",
       "      <th></th>\n",
       "      <th>Order ID</th>\n",
       "      <th>Order Date</th>\n",
       "      <th>Customer Name</th>\n",
       "      <th>Country</th>\n",
       "    </tr>\n",
       "  </thead>\n",
       "  <tbody>\n",
       "    <tr>\n",
       "      <th>0</th>\n",
       "      <td>IT-2011-3647632</td>\n",
       "      <td>2011-01-01</td>\n",
       "      <td>Eugene Moren</td>\n",
       "      <td>Sweden</td>\n",
       "    </tr>\n",
       "    <tr>\n",
       "      <th>1</th>\n",
       "      <td>ES-2011-4869686</td>\n",
       "      <td>2011-01-03</td>\n",
       "      <td>Dorothy Dickinson</td>\n",
       "      <td>United Kingdom</td>\n",
       "    </tr>\n",
       "    <tr>\n",
       "      <th>2</th>\n",
       "      <td>ES-2011-4939443</td>\n",
       "      <td>2011-01-04</td>\n",
       "      <td>Arthur Prichep</td>\n",
       "      <td>France</td>\n",
       "    </tr>\n",
       "    <tr>\n",
       "      <th>3</th>\n",
       "      <td>IT-2011-2942451</td>\n",
       "      <td>2011-01-04</td>\n",
       "      <td>Grant Thornton</td>\n",
       "      <td>United Kingdom</td>\n",
       "    </tr>\n",
       "    <tr>\n",
       "      <th>4</th>\n",
       "      <td>ES-2011-3848439</td>\n",
       "      <td>2011-01-05</td>\n",
       "      <td>Michael Granlund</td>\n",
       "      <td>France</td>\n",
       "    </tr>\n",
       "  </tbody>\n",
       "</table>\n",
       "</div>"
      ],
      "text/plain": [
       "          Order ID  Order Date      Customer Name         Country\n",
       "0  IT-2011-3647632  2011-01-01       Eugene Moren          Sweden\n",
       "1  ES-2011-4869686  2011-01-03  Dorothy Dickinson  United Kingdom\n",
       "2  ES-2011-4939443  2011-01-04     Arthur Prichep          France\n",
       "3  IT-2011-2942451  2011-01-04     Grant Thornton  United Kingdom\n",
       "4  ES-2011-3848439  2011-01-05   Michael Granlund          France"
      ]
     },
     "execution_count": 23,
     "metadata": {},
     "output_type": "execute_result"
    }
   ],
   "source": [
    "orders.head()"
   ]
  },
  {
   "cell_type": "code",
   "execution_count": 24,
   "metadata": {
    "ExecuteTime": {
     "end_time": "2019-03-21T03:13:14.105960Z",
     "start_time": "2019-03-21T03:13:14.090003Z"
    },
    "id": "m88fsu3ChEEW",
    "outputId": "cda0ef93-c898-4a46-83a9-8abd8bacc7b8"
   },
   "outputs": [
    {
     "data": {
      "text/html": [
       "<div>\n",
       "<style scoped>\n",
       "    .dataframe tbody tr th:only-of-type {\n",
       "        vertical-align: middle;\n",
       "    }\n",
       "\n",
       "    .dataframe tbody tr th {\n",
       "        vertical-align: top;\n",
       "    }\n",
       "\n",
       "    .dataframe thead th {\n",
       "        text-align: right;\n",
       "    }\n",
       "</style>\n",
       "<table border=\"1\" class=\"dataframe\">\n",
       "  <thead>\n",
       "    <tr style=\"text-align: right;\">\n",
       "      <th></th>\n",
       "      <th>Order ID</th>\n",
       "      <th>Product Name</th>\n",
       "      <th>Discount</th>\n",
       "      <th>Sales</th>\n",
       "      <th>Quantity</th>\n",
       "      <th>Category</th>\n",
       "    </tr>\n",
       "  </thead>\n",
       "  <tbody>\n",
       "    <tr>\n",
       "      <th>0</th>\n",
       "      <td>IT-2011-3647632</td>\n",
       "      <td>Enermax Note Cards, Premium</td>\n",
       "      <td>0.5</td>\n",
       "      <td>45.0</td>\n",
       "      <td>3</td>\n",
       "      <td>Office Supplies</td>\n",
       "    </tr>\n",
       "    <tr>\n",
       "      <th>1</th>\n",
       "      <td>ES-2011-4869686</td>\n",
       "      <td>Dania Corner Shelving, Traditional</td>\n",
       "      <td>0.0</td>\n",
       "      <td>854.0</td>\n",
       "      <td>7</td>\n",
       "      <td>Furniture</td>\n",
       "    </tr>\n",
       "    <tr>\n",
       "      <th>2</th>\n",
       "      <td>ES-2011-4939443</td>\n",
       "      <td>Binney &amp; Smith Sketch Pad, Easy-Erase</td>\n",
       "      <td>0.0</td>\n",
       "      <td>140.0</td>\n",
       "      <td>3</td>\n",
       "      <td>Office Supplies</td>\n",
       "    </tr>\n",
       "    <tr>\n",
       "      <th>3</th>\n",
       "      <td>IT-2011-2942451</td>\n",
       "      <td>Boston Markers, Easy-Erase</td>\n",
       "      <td>0.5</td>\n",
       "      <td>27.0</td>\n",
       "      <td>2</td>\n",
       "      <td>Office Supplies</td>\n",
       "    </tr>\n",
       "    <tr>\n",
       "      <th>4</th>\n",
       "      <td>IT-2011-2942451</td>\n",
       "      <td>Eldon Folders, Single Width</td>\n",
       "      <td>0.5</td>\n",
       "      <td>17.0</td>\n",
       "      <td>2</td>\n",
       "      <td>Office Supplies</td>\n",
       "    </tr>\n",
       "  </tbody>\n",
       "</table>\n",
       "</div>"
      ],
      "text/plain": [
       "          Order ID                           Product Name  Discount  Sales  \\\n",
       "0  IT-2011-3647632            Enermax Note Cards, Premium       0.5   45.0   \n",
       "1  ES-2011-4869686     Dania Corner Shelving, Traditional       0.0  854.0   \n",
       "2  ES-2011-4939443  Binney & Smith Sketch Pad, Easy-Erase       0.0  140.0   \n",
       "3  IT-2011-2942451             Boston Markers, Easy-Erase       0.5   27.0   \n",
       "4  IT-2011-2942451            Eldon Folders, Single Width       0.5   17.0   \n",
       "\n",
       "   Quantity         Category  \n",
       "0         3  Office Supplies  \n",
       "1         7        Furniture  \n",
       "2         3  Office Supplies  \n",
       "3         2  Office Supplies  \n",
       "4         2  Office Supplies  "
      ]
     },
     "execution_count": 24,
     "metadata": {},
     "output_type": "execute_result"
    }
   ],
   "source": [
    "orders_break_down.head()"
   ]
  },
  {
   "cell_type": "markdown",
   "metadata": {
    "id": "lB9YvqpKhEEY"
   },
   "source": [
    "#### 2. Replace Space with Underscore in Column Names"
   ]
  },
  {
   "cell_type": "code",
   "execution_count": 25,
   "metadata": {
    "ExecuteTime": {
     "end_time": "2019-03-21T03:18:03.275638Z",
     "start_time": "2019-03-21T03:18:03.269624Z"
    },
    "id": "ICMk2oRAhEEZ"
   },
   "outputs": [],
   "source": [
    "# ANSWER\n",
    "orders.columns = [o.replace(' ', '_') for o in orders.columns.str.lower()]"
   ]
  },
  {
   "cell_type": "code",
   "execution_count": 26,
   "metadata": {
    "ExecuteTime": {
     "end_time": "2019-03-21T03:18:32.931223Z",
     "start_time": "2019-03-21T03:18:32.925208Z"
    },
    "id": "PZQ0WBbLhEEc"
   },
   "outputs": [],
   "source": [
    "# ANSWER\n",
    "orders_break_down.columns = [o.replace(' ', '_') for o in orders_break_down.columns.str.lower()]"
   ]
  },
  {
   "cell_type": "markdown",
   "metadata": {
    "id": "u11trn6HhEEg"
   },
   "source": [
    "#### 3. Check DataTypes"
   ]
  },
  {
   "cell_type": "code",
   "execution_count": 27,
   "metadata": {
    "ExecuteTime": {
     "end_time": "2019-03-21T03:20:00.147608Z",
     "start_time": "2019-03-21T03:20:00.140627Z"
    },
    "id": "1XvSDzIqhEEh",
    "outputId": "3970ec4b-52e8-4075-a450-7ac2d1cf62a5"
   },
   "outputs": [
    {
     "data": {
      "text/plain": [
       "order_id         object\n",
       "order_date       object\n",
       "customer_name    object\n",
       "country          object\n",
       "dtype: object"
      ]
     },
     "execution_count": 27,
     "metadata": {},
     "output_type": "execute_result"
    }
   ],
   "source": [
    "# ANSWER\n",
    "orders.dtypes"
   ]
  },
  {
   "cell_type": "code",
   "execution_count": 28,
   "metadata": {
    "ExecuteTime": {
     "end_time": "2019-03-21T03:20:17.053453Z",
     "start_time": "2019-03-21T03:20:17.041477Z"
    },
    "id": "nqNNnTiUhEEj",
    "outputId": "5afac8cc-78e5-4f57-9d96-6d5aa4d122b4"
   },
   "outputs": [
    {
     "data": {
      "text/plain": [
       "order_id         object\n",
       "product_name     object\n",
       "discount        float64\n",
       "sales           float64\n",
       "quantity          int64\n",
       "category         object\n",
       "dtype: object"
      ]
     },
     "execution_count": 28,
     "metadata": {},
     "output_type": "execute_result"
    }
   ],
   "source": [
    "# ANSWER\n",
    "orders_break_down.dtypes"
   ]
  },
  {
   "cell_type": "markdown",
   "metadata": {
    "id": "wmw7wdLxhEEn"
   },
   "source": [
    "#### 4. Save these two dataframes as a table in sqlite"
   ]
  },
  {
   "cell_type": "code",
   "execution_count": 31,
   "metadata": {},
   "outputs": [],
   "source": [
    "import sqlite3\n",
    "\n"
   ]
  },
  {
   "cell_type": "code",
   "execution_count": 32,
   "metadata": {},
   "outputs": [
    {
     "data": {
      "text/plain": [
       "8047"
      ]
     },
     "execution_count": 32,
     "metadata": {},
     "output_type": "execute_result"
    }
   ],
   "source": [
    "# Establishing Local DB connection\n",
    "db_connection = sqlite3.connect('eshop.db')\n",
    "\n",
    "# Save these two dataframes as a table in sqlite\n",
    "orders.to_sql('orders', db_connection, if_exists='replace', index=False)\n",
    "orders_break_down.to_sql('order_break_down', db_connection, if_exists='replace', index=False)"
   ]
  },
  {
   "cell_type": "markdown",
   "metadata": {
    "id": "5UoZC5cOhEEr"
   },
   "source": [
    "#### 5. Select Number of Orders for Each Customer"
   ]
  },
  {
   "cell_type": "markdown",
   "metadata": {
    "id": "vs59fH_4jw1d"
   },
   "source": [
    "We can use the `sql` function in `pandas.io` to run SQL queries to the database with the `.read_sql()` method. Here's an example:"
   ]
  },
  {
   "cell_type": "code",
   "execution_count": 33,
   "metadata": {
    "id": "ofIXqXaljw1d"
   },
   "outputs": [
    {
     "data": {
      "text/html": [
       "<div>\n",
       "<style scoped>\n",
       "    .dataframe tbody tr th:only-of-type {\n",
       "        vertical-align: middle;\n",
       "    }\n",
       "\n",
       "    .dataframe tbody tr th {\n",
       "        vertical-align: top;\n",
       "    }\n",
       "\n",
       "    .dataframe thead th {\n",
       "        text-align: right;\n",
       "    }\n",
       "</style>\n",
       "<table border=\"1\" class=\"dataframe\">\n",
       "  <thead>\n",
       "    <tr style=\"text-align: right;\">\n",
       "      <th></th>\n",
       "      <th>order_id</th>\n",
       "      <th>order_date</th>\n",
       "      <th>customer_name</th>\n",
       "      <th>country</th>\n",
       "    </tr>\n",
       "  </thead>\n",
       "  <tbody>\n",
       "    <tr>\n",
       "      <th>0</th>\n",
       "      <td>IT-2011-3647632</td>\n",
       "      <td>2011-01-01</td>\n",
       "      <td>Eugene Moren</td>\n",
       "      <td>Sweden</td>\n",
       "    </tr>\n",
       "    <tr>\n",
       "      <th>1</th>\n",
       "      <td>ES-2011-4869686</td>\n",
       "      <td>2011-01-03</td>\n",
       "      <td>Dorothy Dickinson</td>\n",
       "      <td>United Kingdom</td>\n",
       "    </tr>\n",
       "    <tr>\n",
       "      <th>2</th>\n",
       "      <td>ES-2011-4939443</td>\n",
       "      <td>2011-01-04</td>\n",
       "      <td>Arthur Prichep</td>\n",
       "      <td>France</td>\n",
       "    </tr>\n",
       "    <tr>\n",
       "      <th>3</th>\n",
       "      <td>IT-2011-2942451</td>\n",
       "      <td>2011-01-04</td>\n",
       "      <td>Grant Thornton</td>\n",
       "      <td>United Kingdom</td>\n",
       "    </tr>\n",
       "    <tr>\n",
       "      <th>4</th>\n",
       "      <td>ES-2011-3848439</td>\n",
       "      <td>2011-01-05</td>\n",
       "      <td>Michael Granlund</td>\n",
       "      <td>France</td>\n",
       "    </tr>\n",
       "    <tr>\n",
       "      <th>5</th>\n",
       "      <td>ES-2011-5433855</td>\n",
       "      <td>2011-01-07</td>\n",
       "      <td>Dave Poirier</td>\n",
       "      <td>France</td>\n",
       "    </tr>\n",
       "    <tr>\n",
       "      <th>6</th>\n",
       "      <td>IT-2011-4546695</td>\n",
       "      <td>2011-01-08</td>\n",
       "      <td>Darren Powers</td>\n",
       "      <td>France</td>\n",
       "    </tr>\n",
       "    <tr>\n",
       "      <th>7</th>\n",
       "      <td>ES-2011-1138719</td>\n",
       "      <td>2011-01-11</td>\n",
       "      <td>Eric Murdock</td>\n",
       "      <td>Italy</td>\n",
       "    </tr>\n",
       "    <tr>\n",
       "      <th>8</th>\n",
       "      <td>ES-2011-1466305</td>\n",
       "      <td>2011-01-11</td>\n",
       "      <td>Mick Brown</td>\n",
       "      <td>Austria</td>\n",
       "    </tr>\n",
       "    <tr>\n",
       "      <th>9</th>\n",
       "      <td>ES-2011-4359424</td>\n",
       "      <td>2011-01-11</td>\n",
       "      <td>Dorothy Dickinson</td>\n",
       "      <td>Spain</td>\n",
       "    </tr>\n",
       "  </tbody>\n",
       "</table>\n",
       "</div>"
      ],
      "text/plain": [
       "          order_id  order_date      customer_name         country\n",
       "0  IT-2011-3647632  2011-01-01       Eugene Moren          Sweden\n",
       "1  ES-2011-4869686  2011-01-03  Dorothy Dickinson  United Kingdom\n",
       "2  ES-2011-4939443  2011-01-04     Arthur Prichep          France\n",
       "3  IT-2011-2942451  2011-01-04     Grant Thornton  United Kingdom\n",
       "4  ES-2011-3848439  2011-01-05   Michael Granlund          France\n",
       "5  ES-2011-5433855  2011-01-07       Dave Poirier          France\n",
       "6  IT-2011-4546695  2011-01-08      Darren Powers          France\n",
       "7  ES-2011-1138719  2011-01-11       Eric Murdock           Italy\n",
       "8  ES-2011-1466305  2011-01-11         Mick Brown         Austria\n",
       "9  ES-2011-4359424  2011-01-11  Dorothy Dickinson           Spain"
      ]
     },
     "execution_count": 33,
     "metadata": {},
     "output_type": "execute_result"
    }
   ],
   "source": [
    "# Select first 10 rows of all columns in orders table\n",
    "\n",
    "query = \"\"\"\n",
    "        SELECT *\n",
    "        FROM orders\n",
    "        LIMIT 10;\n",
    "        \"\"\"\n",
    "\n",
    "orders_head_10 = sql.read_sql(query, con=db_connection)\n",
    "orders_head_10"
   ]
  },
  {
   "cell_type": "code",
   "execution_count": 39,
   "metadata": {
    "ExecuteTime": {
     "end_time": "2019-03-21T03:31:48.381069Z",
     "start_time": "2019-03-21T03:31:48.359128Z"
    },
    "id": "aIqdAoTnhEEr"
   },
   "outputs": [
    {
     "data": {
      "text/html": [
       "<div>\n",
       "<style scoped>\n",
       "    .dataframe tbody tr th:only-of-type {\n",
       "        vertical-align: middle;\n",
       "    }\n",
       "\n",
       "    .dataframe tbody tr th {\n",
       "        vertical-align: top;\n",
       "    }\n",
       "\n",
       "    .dataframe thead th {\n",
       "        text-align: right;\n",
       "    }\n",
       "</style>\n",
       "<table border=\"1\" class=\"dataframe\">\n",
       "  <thead>\n",
       "    <tr style=\"text-align: right;\">\n",
       "      <th></th>\n",
       "      <th>customer_name</th>\n",
       "      <th>num_orders</th>\n",
       "    </tr>\n",
       "  </thead>\n",
       "  <tbody>\n",
       "    <tr>\n",
       "      <th>0</th>\n",
       "      <td>Aaron Bergman</td>\n",
       "      <td>11</td>\n",
       "    </tr>\n",
       "    <tr>\n",
       "      <th>1</th>\n",
       "      <td>Aaron Hawkins</td>\n",
       "      <td>7</td>\n",
       "    </tr>\n",
       "    <tr>\n",
       "      <th>2</th>\n",
       "      <td>Aaron Smayling</td>\n",
       "      <td>12</td>\n",
       "    </tr>\n",
       "    <tr>\n",
       "      <th>3</th>\n",
       "      <td>Adam Bellavance</td>\n",
       "      <td>4</td>\n",
       "    </tr>\n",
       "    <tr>\n",
       "      <th>4</th>\n",
       "      <td>Adam Hart</td>\n",
       "      <td>8</td>\n",
       "    </tr>\n",
       "    <tr>\n",
       "      <th>...</th>\n",
       "      <td>...</td>\n",
       "      <td>...</td>\n",
       "    </tr>\n",
       "    <tr>\n",
       "      <th>787</th>\n",
       "      <td>Xylona Preis</td>\n",
       "      <td>2</td>\n",
       "    </tr>\n",
       "    <tr>\n",
       "      <th>788</th>\n",
       "      <td>Yana Sorensen</td>\n",
       "      <td>5</td>\n",
       "    </tr>\n",
       "    <tr>\n",
       "      <th>789</th>\n",
       "      <td>Yoseph Carroll</td>\n",
       "      <td>11</td>\n",
       "    </tr>\n",
       "    <tr>\n",
       "      <th>790</th>\n",
       "      <td>Zuschuss Carroll</td>\n",
       "      <td>9</td>\n",
       "    </tr>\n",
       "    <tr>\n",
       "      <th>791</th>\n",
       "      <td>Zuschuss Donatelli</td>\n",
       "      <td>6</td>\n",
       "    </tr>\n",
       "  </tbody>\n",
       "</table>\n",
       "<p>792 rows × 2 columns</p>\n",
       "</div>"
      ],
      "text/plain": [
       "          customer_name  num_orders\n",
       "0         Aaron Bergman          11\n",
       "1         Aaron Hawkins           7\n",
       "2        Aaron Smayling          12\n",
       "3       Adam Bellavance           4\n",
       "4             Adam Hart           8\n",
       "..                  ...         ...\n",
       "787        Xylona Preis           2\n",
       "788       Yana Sorensen           5\n",
       "789      Yoseph Carroll          11\n",
       "790    Zuschuss Carroll           9\n",
       "791  Zuschuss Donatelli           6\n",
       "\n",
       "[792 rows x 2 columns]"
      ]
     },
     "execution_count": 39,
     "metadata": {},
     "output_type": "execute_result"
    }
   ],
   "source": [
    "# Select Number of Distinct Orders for Each Customer\n",
    "\n",
    "query = \"\"\"\n",
    "SELECT customer_name, COUNT(DISTINCT order_id) as num_orders\n",
    "FROM orders\n",
    "GROUP BY customer_name\n",
    "\"\"\"\n",
    "customer_orders = pd.read_sql(query, db_connection)\n",
    "customer_orders"
   ]
  },
  {
   "cell_type": "markdown",
   "metadata": {
    "id": "GE91fL7thEE2"
   },
   "source": [
    "#### 6. Select Number of Customers for Each Country"
   ]
  },
  {
   "cell_type": "code",
   "execution_count": 40,
   "metadata": {
    "ExecuteTime": {
     "end_time": "2019-03-21T03:34:57.019169Z",
     "start_time": "2019-03-21T03:34:57.000244Z"
    },
    "id": "ZIfcGHCJhEE2"
   },
   "outputs": [
    {
     "data": {
      "text/html": [
       "<div>\n",
       "<style scoped>\n",
       "    .dataframe tbody tr th:only-of-type {\n",
       "        vertical-align: middle;\n",
       "    }\n",
       "\n",
       "    .dataframe tbody tr th {\n",
       "        vertical-align: top;\n",
       "    }\n",
       "\n",
       "    .dataframe thead th {\n",
       "        text-align: right;\n",
       "    }\n",
       "</style>\n",
       "<table border=\"1\" class=\"dataframe\">\n",
       "  <thead>\n",
       "    <tr style=\"text-align: right;\">\n",
       "      <th></th>\n",
       "      <th>country</th>\n",
       "      <th>num_customers</th>\n",
       "    </tr>\n",
       "  </thead>\n",
       "  <tbody>\n",
       "    <tr>\n",
       "      <th>0</th>\n",
       "      <td>Austria</td>\n",
       "      <td>125</td>\n",
       "    </tr>\n",
       "    <tr>\n",
       "      <th>1</th>\n",
       "      <td>Belgium</td>\n",
       "      <td>66</td>\n",
       "    </tr>\n",
       "    <tr>\n",
       "      <th>2</th>\n",
       "      <td>Denmark</td>\n",
       "      <td>28</td>\n",
       "    </tr>\n",
       "    <tr>\n",
       "      <th>3</th>\n",
       "      <td>Finland</td>\n",
       "      <td>33</td>\n",
       "    </tr>\n",
       "    <tr>\n",
       "      <th>4</th>\n",
       "      <td>France</td>\n",
       "      <td>568</td>\n",
       "    </tr>\n",
       "    <tr>\n",
       "      <th>5</th>\n",
       "      <td>Germany</td>\n",
       "      <td>505</td>\n",
       "    </tr>\n",
       "    <tr>\n",
       "      <th>6</th>\n",
       "      <td>Ireland</td>\n",
       "      <td>48</td>\n",
       "    </tr>\n",
       "    <tr>\n",
       "      <th>7</th>\n",
       "      <td>Italy</td>\n",
       "      <td>351</td>\n",
       "    </tr>\n",
       "    <tr>\n",
       "      <th>8</th>\n",
       "      <td>Netherlands</td>\n",
       "      <td>172</td>\n",
       "    </tr>\n",
       "    <tr>\n",
       "      <th>9</th>\n",
       "      <td>Norway</td>\n",
       "      <td>37</td>\n",
       "    </tr>\n",
       "    <tr>\n",
       "      <th>10</th>\n",
       "      <td>Portugal</td>\n",
       "      <td>36</td>\n",
       "    </tr>\n",
       "    <tr>\n",
       "      <th>11</th>\n",
       "      <td>Spain</td>\n",
       "      <td>306</td>\n",
       "    </tr>\n",
       "    <tr>\n",
       "      <th>12</th>\n",
       "      <td>Sweden</td>\n",
       "      <td>96</td>\n",
       "    </tr>\n",
       "    <tr>\n",
       "      <th>13</th>\n",
       "      <td>Switzerland</td>\n",
       "      <td>39</td>\n",
       "    </tr>\n",
       "    <tr>\n",
       "      <th>14</th>\n",
       "      <td>United Kingdom</td>\n",
       "      <td>473</td>\n",
       "    </tr>\n",
       "  </tbody>\n",
       "</table>\n",
       "</div>"
      ],
      "text/plain": [
       "           country  num_customers\n",
       "0          Austria            125\n",
       "1          Belgium             66\n",
       "2          Denmark             28\n",
       "3          Finland             33\n",
       "4           France            568\n",
       "5          Germany            505\n",
       "6          Ireland             48\n",
       "7            Italy            351\n",
       "8      Netherlands            172\n",
       "9           Norway             37\n",
       "10        Portugal             36\n",
       "11           Spain            306\n",
       "12          Sweden             96\n",
       "13     Switzerland             39\n",
       "14  United Kingdom            473"
      ]
     },
     "execution_count": 40,
     "metadata": {},
     "output_type": "execute_result"
    }
   ],
   "source": [
    "# Select Number of Customers for Each Country\n",
    "query = \"\"\"\n",
    "SELECT country, COUNT(DISTINCT customer_name) as num_customers\n",
    "FROM orders\n",
    "GROUP BY country\n",
    "\"\"\"\n",
    "country_customers = pd.read_sql(query, db_connection)\n",
    "country_customers"
   ]
  },
  {
   "cell_type": "markdown",
   "metadata": {
    "id": "fIBpY4KjhEE5"
   },
   "source": [
    "#### 7.A Select discount, sales, quantity for Each Order from orders_break_down Table"
   ]
  },
  {
   "cell_type": "code",
   "execution_count": 41,
   "metadata": {
    "ExecuteTime": {
     "end_time": "2019-03-21T03:37:54.802697Z",
     "start_time": "2019-03-21T03:37:54.774773Z"
    },
    "id": "L_HKwM5BhEE6"
   },
   "outputs": [
    {
     "name": "stdout",
     "output_type": "stream",
     "text": [
      "          order_id  discount  sales  quantity\n",
      "0  IT-2011-3647632       0.5   45.0         3\n",
      "1  ES-2011-4869686       0.0  854.0         7\n",
      "2  ES-2011-4939443       0.0  140.0         3\n",
      "3  IT-2011-2942451       0.5   27.0         2\n",
      "4  IT-2011-2942451       0.5   17.0         2\n"
     ]
    }
   ],
   "source": [
    "#  Select discount, sales, quantity for Each Order from orders_break_down Table\n",
    "\n",
    "query = \"\"\"\n",
    "SELECT order_id, discount, sales, quantity\n",
    "FROM order_break_down\n",
    "\"\"\"\n",
    "\n",
    "order_details = pd.read_sql(query, db_connection)\n",
    "\n",
    "print(order_details.head())"
   ]
  },
  {
   "cell_type": "markdown",
   "metadata": {
    "id": "-R-ObbBfhEE_"
   },
   "source": [
    "#### 7.B Select discount, sales, quantity, total price for Each Order from orders_break_down Table\n",
    "\n",
    "> Total Price = sales * quantity - discount"
   ]
  },
  {
   "cell_type": "code",
   "execution_count": 42,
   "metadata": {
    "ExecuteTime": {
     "end_time": "2019-03-21T03:39:34.392179Z",
     "start_time": "2019-03-21T03:39:34.349294Z"
    },
    "id": "J9KbOXChhEE_"
   },
   "outputs": [
    {
     "data": {
      "text/html": [
       "<div>\n",
       "<style scoped>\n",
       "    .dataframe tbody tr th:only-of-type {\n",
       "        vertical-align: middle;\n",
       "    }\n",
       "\n",
       "    .dataframe tbody tr th {\n",
       "        vertical-align: top;\n",
       "    }\n",
       "\n",
       "    .dataframe thead th {\n",
       "        text-align: right;\n",
       "    }\n",
       "</style>\n",
       "<table border=\"1\" class=\"dataframe\">\n",
       "  <thead>\n",
       "    <tr style=\"text-align: right;\">\n",
       "      <th></th>\n",
       "      <th>order_id</th>\n",
       "      <th>discount</th>\n",
       "      <th>sales</th>\n",
       "      <th>quantity</th>\n",
       "      <th>total_price</th>\n",
       "    </tr>\n",
       "  </thead>\n",
       "  <tbody>\n",
       "    <tr>\n",
       "      <th>0</th>\n",
       "      <td>IT-2011-3647632</td>\n",
       "      <td>0.5</td>\n",
       "      <td>45.0</td>\n",
       "      <td>3</td>\n",
       "      <td>134.5</td>\n",
       "    </tr>\n",
       "    <tr>\n",
       "      <th>1</th>\n",
       "      <td>ES-2011-4869686</td>\n",
       "      <td>0.0</td>\n",
       "      <td>854.0</td>\n",
       "      <td>7</td>\n",
       "      <td>5978.0</td>\n",
       "    </tr>\n",
       "    <tr>\n",
       "      <th>2</th>\n",
       "      <td>ES-2011-4939443</td>\n",
       "      <td>0.0</td>\n",
       "      <td>140.0</td>\n",
       "      <td>3</td>\n",
       "      <td>420.0</td>\n",
       "    </tr>\n",
       "    <tr>\n",
       "      <th>3</th>\n",
       "      <td>IT-2011-2942451</td>\n",
       "      <td>0.5</td>\n",
       "      <td>27.0</td>\n",
       "      <td>2</td>\n",
       "      <td>53.5</td>\n",
       "    </tr>\n",
       "    <tr>\n",
       "      <th>4</th>\n",
       "      <td>IT-2011-2942451</td>\n",
       "      <td>0.5</td>\n",
       "      <td>17.0</td>\n",
       "      <td>2</td>\n",
       "      <td>33.5</td>\n",
       "    </tr>\n",
       "    <tr>\n",
       "      <th>...</th>\n",
       "      <td>...</td>\n",
       "      <td>...</td>\n",
       "      <td>...</td>\n",
       "      <td>...</td>\n",
       "      <td>...</td>\n",
       "    </tr>\n",
       "    <tr>\n",
       "      <th>8042</th>\n",
       "      <td>ES-2014-3458802</td>\n",
       "      <td>0.0</td>\n",
       "      <td>245.0</td>\n",
       "      <td>2</td>\n",
       "      <td>490.0</td>\n",
       "    </tr>\n",
       "    <tr>\n",
       "      <th>8043</th>\n",
       "      <td>IT-2014-3715679</td>\n",
       "      <td>0.5</td>\n",
       "      <td>30.0</td>\n",
       "      <td>2</td>\n",
       "      <td>59.5</td>\n",
       "    </tr>\n",
       "    <tr>\n",
       "      <th>8044</th>\n",
       "      <td>IT-2014-3715679</td>\n",
       "      <td>0.5</td>\n",
       "      <td>23.0</td>\n",
       "      <td>4</td>\n",
       "      <td>91.5</td>\n",
       "    </tr>\n",
       "    <tr>\n",
       "      <th>8045</th>\n",
       "      <td>IT-2014-3715679</td>\n",
       "      <td>0.5</td>\n",
       "      <td>108.0</td>\n",
       "      <td>3</td>\n",
       "      <td>323.5</td>\n",
       "    </tr>\n",
       "    <tr>\n",
       "      <th>8046</th>\n",
       "      <td>ES-2014-3458802</td>\n",
       "      <td>0.0</td>\n",
       "      <td>867.0</td>\n",
       "      <td>5</td>\n",
       "      <td>4335.0</td>\n",
       "    </tr>\n",
       "  </tbody>\n",
       "</table>\n",
       "<p>8047 rows × 5 columns</p>\n",
       "</div>"
      ],
      "text/plain": [
       "             order_id  discount  sales  quantity  total_price\n",
       "0     IT-2011-3647632       0.5   45.0         3        134.5\n",
       "1     ES-2011-4869686       0.0  854.0         7       5978.0\n",
       "2     ES-2011-4939443       0.0  140.0         3        420.0\n",
       "3     IT-2011-2942451       0.5   27.0         2         53.5\n",
       "4     IT-2011-2942451       0.5   17.0         2         33.5\n",
       "...               ...       ...    ...       ...          ...\n",
       "8042  ES-2014-3458802       0.0  245.0         2        490.0\n",
       "8043  IT-2014-3715679       0.5   30.0         2         59.5\n",
       "8044  IT-2014-3715679       0.5   23.0         4         91.5\n",
       "8045  IT-2014-3715679       0.5  108.0         3        323.5\n",
       "8046  ES-2014-3458802       0.0  867.0         5       4335.0\n",
       "\n",
       "[8047 rows x 5 columns]"
      ]
     },
     "execution_count": 42,
     "metadata": {},
     "output_type": "execute_result"
    }
   ],
   "source": [
    "# Select discount, sales, quantity, total price for Each Order Id from orders_break_down Table\n",
    "query = \"\"\"\n",
    "SELECT \n",
    "    order_id, \n",
    "    discount, \n",
    "    sales, \n",
    "    quantity, \n",
    "    (sales * quantity - discount) as total_price\n",
    "FROM order_break_down\n",
    "\"\"\"\n",
    "\n",
    "order_details = pd.read_sql(query, db_connection)\n",
    "order_details"
   ]
  },
  {
   "cell_type": "code",
   "execution_count": 44,
   "metadata": {},
   "outputs": [
    {
     "data": {
      "text/html": [
       "<div>\n",
       "<style scoped>\n",
       "    .dataframe tbody tr th:only-of-type {\n",
       "        vertical-align: middle;\n",
       "    }\n",
       "\n",
       "    .dataframe tbody tr th {\n",
       "        vertical-align: top;\n",
       "    }\n",
       "\n",
       "    .dataframe thead th {\n",
       "        text-align: right;\n",
       "    }\n",
       "</style>\n",
       "<table border=\"1\" class=\"dataframe\">\n",
       "  <thead>\n",
       "    <tr style=\"text-align: right;\">\n",
       "      <th></th>\n",
       "      <th>order_id</th>\n",
       "      <th>discount</th>\n",
       "      <th>sales</th>\n",
       "      <th>quantity</th>\n",
       "      <th>total_price</th>\n",
       "    </tr>\n",
       "  </thead>\n",
       "  <tbody>\n",
       "    <tr>\n",
       "      <th>0</th>\n",
       "      <td>ES-2011-1001989</td>\n",
       "      <td>0.1</td>\n",
       "      <td>229.0</td>\n",
       "      <td>9</td>\n",
       "      <td>2060.9</td>\n",
       "    </tr>\n",
       "    <tr>\n",
       "      <th>1</th>\n",
       "      <td>ES-2011-1010958</td>\n",
       "      <td>0.0</td>\n",
       "      <td>58.0</td>\n",
       "      <td>2</td>\n",
       "      <td>116.0</td>\n",
       "    </tr>\n",
       "    <tr>\n",
       "      <th>2</th>\n",
       "      <td>ES-2011-1010958</td>\n",
       "      <td>0.0</td>\n",
       "      <td>140.0</td>\n",
       "      <td>6</td>\n",
       "      <td>840.0</td>\n",
       "    </tr>\n",
       "    <tr>\n",
       "      <th>3</th>\n",
       "      <td>ES-2011-1012469</td>\n",
       "      <td>0.0</td>\n",
       "      <td>148.0</td>\n",
       "      <td>3</td>\n",
       "      <td>444.0</td>\n",
       "    </tr>\n",
       "    <tr>\n",
       "      <th>4</th>\n",
       "      <td>ES-2011-1043483</td>\n",
       "      <td>0.0</td>\n",
       "      <td>224.0</td>\n",
       "      <td>11</td>\n",
       "      <td>2464.0</td>\n",
       "    </tr>\n",
       "    <tr>\n",
       "      <th>...</th>\n",
       "      <td>...</td>\n",
       "      <td>...</td>\n",
       "      <td>...</td>\n",
       "      <td>...</td>\n",
       "      <td>...</td>\n",
       "    </tr>\n",
       "    <tr>\n",
       "      <th>8042</th>\n",
       "      <td>IT-2014-5975833</td>\n",
       "      <td>0.1</td>\n",
       "      <td>832.0</td>\n",
       "      <td>3</td>\n",
       "      <td>2495.9</td>\n",
       "    </tr>\n",
       "    <tr>\n",
       "      <th>8043</th>\n",
       "      <td>IT-2014-5984498</td>\n",
       "      <td>0.5</td>\n",
       "      <td>83.0</td>\n",
       "      <td>1</td>\n",
       "      <td>82.5</td>\n",
       "    </tr>\n",
       "    <tr>\n",
       "      <th>8044</th>\n",
       "      <td>IT-2014-5989338</td>\n",
       "      <td>0.1</td>\n",
       "      <td>1603.0</td>\n",
       "      <td>9</td>\n",
       "      <td>14426.9</td>\n",
       "    </tr>\n",
       "    <tr>\n",
       "      <th>8045</th>\n",
       "      <td>IT-2014-5992832</td>\n",
       "      <td>0.0</td>\n",
       "      <td>74.0</td>\n",
       "      <td>8</td>\n",
       "      <td>592.0</td>\n",
       "    </tr>\n",
       "    <tr>\n",
       "      <th>8046</th>\n",
       "      <td>IT-2014-5992832</td>\n",
       "      <td>0.1</td>\n",
       "      <td>534.0</td>\n",
       "      <td>3</td>\n",
       "      <td>1601.9</td>\n",
       "    </tr>\n",
       "  </tbody>\n",
       "</table>\n",
       "<p>8047 rows × 5 columns</p>\n",
       "</div>"
      ],
      "text/plain": [
       "             order_id  discount   sales  quantity  total_price\n",
       "0     ES-2011-1001989       0.1   229.0         9       2060.9\n",
       "1     ES-2011-1010958       0.0    58.0         2        116.0\n",
       "2     ES-2011-1010958       0.0   140.0         6        840.0\n",
       "3     ES-2011-1012469       0.0   148.0         3        444.0\n",
       "4     ES-2011-1043483       0.0   224.0        11       2464.0\n",
       "...               ...       ...     ...       ...          ...\n",
       "8042  IT-2014-5975833       0.1   832.0         3       2495.9\n",
       "8043  IT-2014-5984498       0.5    83.0         1         82.5\n",
       "8044  IT-2014-5989338       0.1  1603.0         9      14426.9\n",
       "8045  IT-2014-5992832       0.0    74.0         8        592.0\n",
       "8046  IT-2014-5992832       0.1   534.0         3       1601.9\n",
       "\n",
       "[8047 rows x 5 columns]"
      ]
     },
     "execution_count": 44,
     "metadata": {},
     "output_type": "execute_result"
    }
   ],
   "source": [
    "#order ID\n",
    "query = \"\"\"\n",
    "SELECT \n",
    "    order_id, \n",
    "    discount, \n",
    "    sales, \n",
    "    quantity, \n",
    "    (sales * quantity - discount) as total_price\n",
    "FROM order_break_down\n",
    "ORDER BY order_id\n",
    "\"\"\"\n",
    "order_details = pd.read_sql(query, db_connection)\n",
    "order_details"
   ]
  },
  {
   "cell_type": "markdown",
   "metadata": {
    "ExecuteTime": {
     "end_time": "2019-03-21T03:42:08.012935Z",
     "start_time": "2019-03-21T03:42:08.008947Z"
    },
    "id": "2hM2p7HChEFB"
   },
   "source": [
    "#### 7.C Select All Orders from orders_break_down Table Where Total Price Greater Than 100"
   ]
  },
  {
   "cell_type": "code",
   "execution_count": 45,
   "metadata": {
    "ExecuteTime": {
     "end_time": "2019-03-21T03:42:42.744917Z",
     "start_time": "2019-03-21T03:42:42.709011Z"
    },
    "id": "8aj0ZZrthEFC"
   },
   "outputs": [
    {
     "data": {
      "text/html": [
       "<div>\n",
       "<style scoped>\n",
       "    .dataframe tbody tr th:only-of-type {\n",
       "        vertical-align: middle;\n",
       "    }\n",
       "\n",
       "    .dataframe tbody tr th {\n",
       "        vertical-align: top;\n",
       "    }\n",
       "\n",
       "    .dataframe thead th {\n",
       "        text-align: right;\n",
       "    }\n",
       "</style>\n",
       "<table border=\"1\" class=\"dataframe\">\n",
       "  <thead>\n",
       "    <tr style=\"text-align: right;\">\n",
       "      <th></th>\n",
       "      <th>order_id</th>\n",
       "      <th>discount</th>\n",
       "      <th>sales</th>\n",
       "      <th>quantity</th>\n",
       "      <th>total_price</th>\n",
       "    </tr>\n",
       "  </thead>\n",
       "  <tbody>\n",
       "    <tr>\n",
       "      <th>0</th>\n",
       "      <td>ES-2014-3785216</td>\n",
       "      <td>0.1</td>\n",
       "      <td>5729.0</td>\n",
       "      <td>14</td>\n",
       "      <td>80205.9</td>\n",
       "    </tr>\n",
       "    <tr>\n",
       "      <th>1</th>\n",
       "      <td>ES-2011-3248922</td>\n",
       "      <td>0.0</td>\n",
       "      <td>6517.0</td>\n",
       "      <td>12</td>\n",
       "      <td>78204.0</td>\n",
       "    </tr>\n",
       "    <tr>\n",
       "      <th>2</th>\n",
       "      <td>ES-2012-2183106</td>\n",
       "      <td>0.1</td>\n",
       "      <td>4748.0</td>\n",
       "      <td>14</td>\n",
       "      <td>66471.9</td>\n",
       "    </tr>\n",
       "    <tr>\n",
       "      <th>3</th>\n",
       "      <td>IT-2013-4602742</td>\n",
       "      <td>0.1</td>\n",
       "      <td>5726.0</td>\n",
       "      <td>10</td>\n",
       "      <td>57259.9</td>\n",
       "    </tr>\n",
       "    <tr>\n",
       "      <th>4</th>\n",
       "      <td>ES-2014-2637201</td>\n",
       "      <td>0.0</td>\n",
       "      <td>4141.0</td>\n",
       "      <td>13</td>\n",
       "      <td>53833.0</td>\n",
       "    </tr>\n",
       "    <tr>\n",
       "      <th>...</th>\n",
       "      <td>...</td>\n",
       "      <td>...</td>\n",
       "      <td>...</td>\n",
       "      <td>...</td>\n",
       "      <td>...</td>\n",
       "    </tr>\n",
       "    <tr>\n",
       "      <th>6461</th>\n",
       "      <td>ES-2012-1763830</td>\n",
       "      <td>0.5</td>\n",
       "      <td>34.0</td>\n",
       "      <td>3</td>\n",
       "      <td>101.5</td>\n",
       "    </tr>\n",
       "    <tr>\n",
       "      <th>6462</th>\n",
       "      <td>IT-2012-4099397</td>\n",
       "      <td>0.5</td>\n",
       "      <td>51.0</td>\n",
       "      <td>2</td>\n",
       "      <td>101.5</td>\n",
       "    </tr>\n",
       "    <tr>\n",
       "      <th>6463</th>\n",
       "      <td>ES-2013-4250046</td>\n",
       "      <td>0.5</td>\n",
       "      <td>51.0</td>\n",
       "      <td>2</td>\n",
       "      <td>101.5</td>\n",
       "    </tr>\n",
       "    <tr>\n",
       "      <th>6464</th>\n",
       "      <td>ES-2014-5784412</td>\n",
       "      <td>0.5</td>\n",
       "      <td>51.0</td>\n",
       "      <td>2</td>\n",
       "      <td>101.5</td>\n",
       "    </tr>\n",
       "    <tr>\n",
       "      <th>6465</th>\n",
       "      <td>IT-2014-5393609</td>\n",
       "      <td>0.5</td>\n",
       "      <td>102.0</td>\n",
       "      <td>1</td>\n",
       "      <td>101.5</td>\n",
       "    </tr>\n",
       "  </tbody>\n",
       "</table>\n",
       "<p>6466 rows × 5 columns</p>\n",
       "</div>"
      ],
      "text/plain": [
       "             order_id  discount   sales  quantity  total_price\n",
       "0     ES-2014-3785216       0.1  5729.0        14      80205.9\n",
       "1     ES-2011-3248922       0.0  6517.0        12      78204.0\n",
       "2     ES-2012-2183106       0.1  4748.0        14      66471.9\n",
       "3     IT-2013-4602742       0.1  5726.0        10      57259.9\n",
       "4     ES-2014-2637201       0.0  4141.0        13      53833.0\n",
       "...               ...       ...     ...       ...          ...\n",
       "6461  ES-2012-1763830       0.5    34.0         3        101.5\n",
       "6462  IT-2012-4099397       0.5    51.0         2        101.5\n",
       "6463  ES-2013-4250046       0.5    51.0         2        101.5\n",
       "6464  ES-2014-5784412       0.5    51.0         2        101.5\n",
       "6465  IT-2014-5393609       0.5   102.0         1        101.5\n",
       "\n",
       "[6466 rows x 5 columns]"
      ]
     },
     "execution_count": 45,
     "metadata": {},
     "output_type": "execute_result"
    }
   ],
   "source": [
    "# Select All Orders from orders_break_down Table Where Total Price Greater Than 100\n",
    "query = \"\"\"\n",
    "SELECT \n",
    "    order_id, \n",
    "    discount, \n",
    "    sales, \n",
    "    quantity, \n",
    "    (sales * quantity - discount) as total_price\n",
    "FROM order_break_down\n",
    "WHERE (sales * quantity - discount) > 100\n",
    "ORDER BY total_price DESC\n",
    "\"\"\"\n",
    "high_value_orders = pd.read_sql(query, db_connection)\n",
    "high_value_orders"
   ]
  },
  {
   "cell_type": "code",
   "execution_count": 46,
   "metadata": {},
   "outputs": [
    {
     "data": {
      "text/plain": [
       "'Total number of orders with price > 100: 6466'"
      ]
     },
     "execution_count": 46,
     "metadata": {},
     "output_type": "execute_result"
    }
   ],
   "source": [
    "f\"Total number of orders with price > 100: {len(high_value_orders)}\""
   ]
  },
  {
   "cell_type": "code",
   "execution_count": 47,
   "metadata": {},
   "outputs": [
    {
     "data": {
      "text/html": [
       "<div>\n",
       "<style scoped>\n",
       "    .dataframe tbody tr th:only-of-type {\n",
       "        vertical-align: middle;\n",
       "    }\n",
       "\n",
       "    .dataframe tbody tr th {\n",
       "        vertical-align: top;\n",
       "    }\n",
       "\n",
       "    .dataframe thead th {\n",
       "        text-align: right;\n",
       "    }\n",
       "</style>\n",
       "<table border=\"1\" class=\"dataframe\">\n",
       "  <thead>\n",
       "    <tr style=\"text-align: right;\">\n",
       "      <th></th>\n",
       "      <th>order_id</th>\n",
       "      <th>product_name</th>\n",
       "      <th>category</th>\n",
       "      <th>sales</th>\n",
       "      <th>quantity</th>\n",
       "      <th>discount</th>\n",
       "      <th>total_price</th>\n",
       "    </tr>\n",
       "  </thead>\n",
       "  <tbody>\n",
       "    <tr>\n",
       "      <th>0</th>\n",
       "      <td>ES-2014-3785216</td>\n",
       "      <td>Hon Executive Leather Armchair, Adjustable</td>\n",
       "      <td>Furniture</td>\n",
       "      <td>5729.0</td>\n",
       "      <td>14</td>\n",
       "      <td>0.1</td>\n",
       "      <td>80205.9</td>\n",
       "    </tr>\n",
       "    <tr>\n",
       "      <th>1</th>\n",
       "      <td>ES-2011-3248922</td>\n",
       "      <td>Hamilton Beach Stove, Silver</td>\n",
       "      <td>Office Supplies</td>\n",
       "      <td>6517.0</td>\n",
       "      <td>12</td>\n",
       "      <td>0.0</td>\n",
       "      <td>78204.0</td>\n",
       "    </tr>\n",
       "    <tr>\n",
       "      <th>2</th>\n",
       "      <td>ES-2012-2183106</td>\n",
       "      <td>Canon Wireless Fax, High-Speed</td>\n",
       "      <td>Technology</td>\n",
       "      <td>4748.0</td>\n",
       "      <td>14</td>\n",
       "      <td>0.1</td>\n",
       "      <td>66471.9</td>\n",
       "    </tr>\n",
       "    <tr>\n",
       "      <th>3</th>\n",
       "      <td>IT-2013-4602742</td>\n",
       "      <td>Samsung Smart Phone, VoIP</td>\n",
       "      <td>Technology</td>\n",
       "      <td>5726.0</td>\n",
       "      <td>10</td>\n",
       "      <td>0.1</td>\n",
       "      <td>57259.9</td>\n",
       "    </tr>\n",
       "    <tr>\n",
       "      <th>4</th>\n",
       "      <td>ES-2014-2637201</td>\n",
       "      <td>Brother Fax Machine, Laser</td>\n",
       "      <td>Technology</td>\n",
       "      <td>4141.0</td>\n",
       "      <td>13</td>\n",
       "      <td>0.0</td>\n",
       "      <td>53833.0</td>\n",
       "    </tr>\n",
       "    <tr>\n",
       "      <th>...</th>\n",
       "      <td>...</td>\n",
       "      <td>...</td>\n",
       "      <td>...</td>\n",
       "      <td>...</td>\n",
       "      <td>...</td>\n",
       "      <td>...</td>\n",
       "      <td>...</td>\n",
       "    </tr>\n",
       "    <tr>\n",
       "      <th>6461</th>\n",
       "      <td>ES-2012-1763830</td>\n",
       "      <td>Elite Scissors, High Speed</td>\n",
       "      <td>Office Supplies</td>\n",
       "      <td>34.0</td>\n",
       "      <td>3</td>\n",
       "      <td>0.5</td>\n",
       "      <td>101.5</td>\n",
       "    </tr>\n",
       "    <tr>\n",
       "      <th>6462</th>\n",
       "      <td>IT-2012-4099397</td>\n",
       "      <td>Sanford Canvas, Blue</td>\n",
       "      <td>Office Supplies</td>\n",
       "      <td>51.0</td>\n",
       "      <td>2</td>\n",
       "      <td>0.5</td>\n",
       "      <td>101.5</td>\n",
       "    </tr>\n",
       "    <tr>\n",
       "      <th>6463</th>\n",
       "      <td>ES-2013-4250046</td>\n",
       "      <td>Cardinal Binding Machine, Durable</td>\n",
       "      <td>Office Supplies</td>\n",
       "      <td>51.0</td>\n",
       "      <td>2</td>\n",
       "      <td>0.5</td>\n",
       "      <td>101.5</td>\n",
       "    </tr>\n",
       "    <tr>\n",
       "      <th>6464</th>\n",
       "      <td>ES-2014-5784412</td>\n",
       "      <td>Okidata Calculator, White</td>\n",
       "      <td>Technology</td>\n",
       "      <td>51.0</td>\n",
       "      <td>2</td>\n",
       "      <td>0.5</td>\n",
       "      <td>101.5</td>\n",
       "    </tr>\n",
       "    <tr>\n",
       "      <th>6465</th>\n",
       "      <td>IT-2014-5393609</td>\n",
       "      <td>Tenex Lockers, Single Width</td>\n",
       "      <td>Office Supplies</td>\n",
       "      <td>102.0</td>\n",
       "      <td>1</td>\n",
       "      <td>0.5</td>\n",
       "      <td>101.5</td>\n",
       "    </tr>\n",
       "  </tbody>\n",
       "</table>\n",
       "<p>6466 rows × 7 columns</p>\n",
       "</div>"
      ],
      "text/plain": [
       "             order_id                                product_name  \\\n",
       "0     ES-2014-3785216  Hon Executive Leather Armchair, Adjustable   \n",
       "1     ES-2011-3248922                Hamilton Beach Stove, Silver   \n",
       "2     ES-2012-2183106              Canon Wireless Fax, High-Speed   \n",
       "3     IT-2013-4602742                   Samsung Smart Phone, VoIP   \n",
       "4     ES-2014-2637201                  Brother Fax Machine, Laser   \n",
       "...               ...                                         ...   \n",
       "6461  ES-2012-1763830                  Elite Scissors, High Speed   \n",
       "6462  IT-2012-4099397                        Sanford Canvas, Blue   \n",
       "6463  ES-2013-4250046           Cardinal Binding Machine, Durable   \n",
       "6464  ES-2014-5784412                   Okidata Calculator, White   \n",
       "6465  IT-2014-5393609                 Tenex Lockers, Single Width   \n",
       "\n",
       "             category   sales  quantity  discount  total_price  \n",
       "0           Furniture  5729.0        14       0.1      80205.9  \n",
       "1     Office Supplies  6517.0        12       0.0      78204.0  \n",
       "2          Technology  4748.0        14       0.1      66471.9  \n",
       "3          Technology  5726.0        10       0.1      57259.9  \n",
       "4          Technology  4141.0        13       0.0      53833.0  \n",
       "...               ...     ...       ...       ...          ...  \n",
       "6461  Office Supplies    34.0         3       0.5        101.5  \n",
       "6462  Office Supplies    51.0         2       0.5        101.5  \n",
       "6463  Office Supplies    51.0         2       0.5        101.5  \n",
       "6464       Technology    51.0         2       0.5        101.5  \n",
       "6465  Office Supplies   102.0         1       0.5        101.5  \n",
       "\n",
       "[6466 rows x 7 columns]"
      ]
     },
     "execution_count": 47,
     "metadata": {},
     "output_type": "execute_result"
    }
   ],
   "source": [
    "#order the columns\n",
    "query = \"\"\"\n",
    "SELECT \n",
    "    order_id, \n",
    "    product_name,\n",
    "    category,\n",
    "    sales, \n",
    "    quantity, \n",
    "    discount,\n",
    "    (sales * quantity - discount) as total_price\n",
    "FROM order_break_down\n",
    "WHERE (sales * quantity - discount) > 100\n",
    "ORDER BY total_price DESC\n",
    "\"\"\"\n",
    "high_value_orders = pd.read_sql(query, db_connection)\n",
    "high_value_orders"
   ]
  },
  {
   "cell_type": "markdown",
   "metadata": {
    "id": "qAgJAmudhEFF"
   },
   "source": [
    "#### 8. Select All Customers And The Products They Have Bought"
   ]
  },
  {
   "cell_type": "code",
   "execution_count": 48,
   "metadata": {
    "ExecuteTime": {
     "end_time": "2019-03-21T03:48:23.774361Z",
     "start_time": "2019-03-21T03:48:23.719474Z"
    },
    "id": "HzKZ71SmhEFG"
   },
   "outputs": [
    {
     "data": {
      "text/html": [
       "<div>\n",
       "<style scoped>\n",
       "    .dataframe tbody tr th:only-of-type {\n",
       "        vertical-align: middle;\n",
       "    }\n",
       "\n",
       "    .dataframe tbody tr th {\n",
       "        vertical-align: top;\n",
       "    }\n",
       "\n",
       "    .dataframe thead th {\n",
       "        text-align: right;\n",
       "    }\n",
       "</style>\n",
       "<table border=\"1\" class=\"dataframe\">\n",
       "  <thead>\n",
       "    <tr style=\"text-align: right;\">\n",
       "      <th></th>\n",
       "      <th>order_id</th>\n",
       "      <th>customer_name</th>\n",
       "      <th>product_name</th>\n",
       "    </tr>\n",
       "  </thead>\n",
       "  <tbody>\n",
       "    <tr>\n",
       "      <th>0</th>\n",
       "      <td>ES-2011-1001989</td>\n",
       "      <td>Maureen Fritzler</td>\n",
       "      <td>Cardinal 3-Hole Punch, Clear</td>\n",
       "    </tr>\n",
       "    <tr>\n",
       "      <th>1</th>\n",
       "      <td>ES-2011-1010958</td>\n",
       "      <td>Liz Thompson</td>\n",
       "      <td>Cameo Peel and Seal, Security-Tint</td>\n",
       "    </tr>\n",
       "    <tr>\n",
       "      <th>2</th>\n",
       "      <td>ES-2011-1010958</td>\n",
       "      <td>Liz Thompson</td>\n",
       "      <td>Cardinal 3-Hole Punch, Economy</td>\n",
       "    </tr>\n",
       "    <tr>\n",
       "      <th>3</th>\n",
       "      <td>ES-2011-1012469</td>\n",
       "      <td>Maurice Satty</td>\n",
       "      <td>Cardinal Binding Machine, Clear</td>\n",
       "    </tr>\n",
       "    <tr>\n",
       "      <th>4</th>\n",
       "      <td>ES-2011-1043483</td>\n",
       "      <td>Sharelle Roach</td>\n",
       "      <td>Apple Headset, with Caller ID</td>\n",
       "    </tr>\n",
       "    <tr>\n",
       "      <th>5</th>\n",
       "      <td>ES-2011-1043483</td>\n",
       "      <td>Sharelle Roach</td>\n",
       "      <td>StarTech Card Printer, White</td>\n",
       "    </tr>\n",
       "    <tr>\n",
       "      <th>6</th>\n",
       "      <td>ES-2011-1043483</td>\n",
       "      <td>Sharelle Roach</td>\n",
       "      <td>Xerox Message Books, Premium</td>\n",
       "    </tr>\n",
       "    <tr>\n",
       "      <th>7</th>\n",
       "      <td>ES-2011-1058269</td>\n",
       "      <td>Michelle Moray</td>\n",
       "      <td>Avery Index Tab, Durable</td>\n",
       "    </tr>\n",
       "    <tr>\n",
       "      <th>8</th>\n",
       "      <td>ES-2011-1058269</td>\n",
       "      <td>Michelle Moray</td>\n",
       "      <td>Fellowes Lockers, Industrial</td>\n",
       "    </tr>\n",
       "    <tr>\n",
       "      <th>9</th>\n",
       "      <td>ES-2011-1058269</td>\n",
       "      <td>Michelle Moray</td>\n",
       "      <td>Nokia Smart Phone, Full Size</td>\n",
       "    </tr>\n",
       "  </tbody>\n",
       "</table>\n",
       "</div>"
      ],
      "text/plain": [
       "          order_id     customer_name                        product_name\n",
       "0  ES-2011-1001989  Maureen Fritzler        Cardinal 3-Hole Punch, Clear\n",
       "1  ES-2011-1010958      Liz Thompson  Cameo Peel and Seal, Security-Tint\n",
       "2  ES-2011-1010958      Liz Thompson      Cardinal 3-Hole Punch, Economy\n",
       "3  ES-2011-1012469     Maurice Satty     Cardinal Binding Machine, Clear\n",
       "4  ES-2011-1043483    Sharelle Roach       Apple Headset, with Caller ID\n",
       "5  ES-2011-1043483    Sharelle Roach        StarTech Card Printer, White\n",
       "6  ES-2011-1043483    Sharelle Roach        Xerox Message Books, Premium\n",
       "7  ES-2011-1058269    Michelle Moray            Avery Index Tab, Durable\n",
       "8  ES-2011-1058269    Michelle Moray        Fellowes Lockers, Industrial\n",
       "9  ES-2011-1058269    Michelle Moray        Nokia Smart Phone, Full Size"
      ]
     },
     "execution_count": 48,
     "metadata": {},
     "output_type": "execute_result"
    }
   ],
   "source": [
    "# Select All Order Ids, Customers And The Products (product_name) They Have Bought\n",
    "query = \"\"\"\n",
    "SELECT \n",
    "    o.order_id,\n",
    "    o.customer_name,\n",
    "    ob.product_name\n",
    "FROM \n",
    "    orders o\n",
    "JOIN \n",
    "    order_break_down ob ON o.order_id = ob.order_id\n",
    "ORDER BY \n",
    "    o.order_id, o.customer_name\n",
    "\"\"\"\n",
    "\n",
    "customer_products = pd.read_sql(query, db_connection)\n",
    "customer_products.head(10)\n"
   ]
  },
  {
   "cell_type": "code",
   "execution_count": 51,
   "metadata": {},
   "outputs": [
    {
     "name": "stdout",
     "output_type": "stream",
     "text": [
      "\n",
      "Total number of order-product combinations: 8047\n",
      "Number of unique orders: 4117\n",
      "Number of unique customers: 792\n"
     ]
    }
   ],
   "source": [
    "# Display the total number of rows\n",
    "print(f\"\\nTotal number of order-product combinations: {len(customer_products)}\")\n",
    "\n",
    "# Display a summary of unique orders and customers\n",
    "print(f\"Number of unique orders: {customer_products['order_id'].nunique()}\")\n",
    "print(f\"Number of unique customers: {customer_products['customer_name'].nunique()}\")"
   ]
  },
  {
   "cell_type": "markdown",
   "metadata": {
    "ExecuteTime": {
     "end_time": "2019-03-21T03:50:32.122897Z",
     "start_time": "2019-03-21T03:50:32.116914Z"
    },
    "id": "fWIg7LjUhEFK"
   },
   "source": [
    "#### 9.A Select Number of 'Furniture' Orders For Each Country"
   ]
  },
  {
   "cell_type": "code",
   "execution_count": 52,
   "metadata": {
    "ExecuteTime": {
     "end_time": "2019-03-21T03:56:42.800404Z",
     "start_time": "2019-03-21T03:56:42.759513Z"
    },
    "id": "061N5XX9hEFK"
   },
   "outputs": [
    {
     "name": "stdout",
     "output_type": "stream",
     "text": [
      "           country  furniture_order_count\n",
      "0           France                    260\n",
      "1          Germany                    224\n",
      "2   United Kingdom                    165\n",
      "3            Italy                    117\n",
      "4            Spain                    110\n",
      "5      Netherlands                     63\n",
      "6          Austria                     33\n",
      "7           Sweden                     29\n",
      "8          Belgium                     19\n",
      "9          Finland                     14\n",
      "10     Switzerland                     11\n",
      "11         Ireland                     10\n",
      "12         Denmark                      8\n",
      "13        Portugal                      7\n",
      "14          Norway                      6\n",
      "\n",
      "Total number of furniture orders across all countries: 1076\n"
     ]
    }
   ],
   "source": [
    "# Select Number of 'Furniture' Orders For Each Country\n",
    "query = \"\"\"\n",
    "SELECT \n",
    "    o.country,\n",
    "    COUNT(DISTINCT o.order_id) as furniture_order_count\n",
    "FROM \n",
    "    orders o\n",
    "JOIN \n",
    "    order_break_down ob ON o.order_id = ob.order_id\n",
    "WHERE \n",
    "    ob.category = 'Furniture'\n",
    "GROUP BY \n",
    "    o.country\n",
    "ORDER BY \n",
    "    furniture_order_count DESC\n",
    "\"\"\"\n",
    "\n",
    "# Execute the query and store the result in a DataFrame\n",
    "furniture_orders_by_country = pd.read_sql(query, db_connection)\n",
    "\n",
    "# Display the results\n",
    "print(furniture_orders_by_country)\n",
    "\n",
    "# Display the total number of furniture orders\n",
    "total_furniture_orders = furniture_orders_by_country['furniture_order_count'].sum()\n",
    "print(f\"\\nTotal number of furniture orders across all countries: {total_furniture_orders}\")"
   ]
  },
  {
   "cell_type": "code",
   "execution_count": 55,
   "metadata": {},
   "outputs": [
    {
     "name": "stdout",
     "output_type": "stream",
     "text": [
      "           country  furniture_order_count  percentage\n",
      "0           France                    260       24.16\n",
      "1          Germany                    224       20.82\n",
      "2   United Kingdom                    165       15.33\n",
      "3            Italy                    117       10.87\n",
      "4            Spain                    110       10.22\n",
      "5      Netherlands                     63        5.86\n",
      "6          Austria                     33        3.07\n",
      "7           Sweden                     29        2.70\n",
      "8          Belgium                     19        1.77\n",
      "9          Finland                     14        1.30\n",
      "10     Switzerland                     11        1.02\n",
      "11         Ireland                     10        0.93\n",
      "12         Denmark                      8        0.74\n",
      "13        Portugal                      7        0.65\n",
      "14          Norway                      6        0.56\n",
      "\n",
      "Total number of furniture orders across all countries: 1076\n"
     ]
    }
   ],
   "source": [
    "query = \"\"\"\n",
    "WITH furniture_orders AS (\n",
    "    SELECT \n",
    "        o.country,\n",
    "        COUNT(DISTINCT o.order_id) as furniture_order_count\n",
    "    FROM \n",
    "        orders o\n",
    "    JOIN \n",
    "        order_break_down ob ON o.order_id = ob.order_id\n",
    "    WHERE \n",
    "        ob.category = 'Furniture'\n",
    "    GROUP BY \n",
    "        o.country\n",
    ")\n",
    "SELECT \n",
    "    country,\n",
    "    furniture_order_count,\n",
    "    ROUND(furniture_order_count * 100.0 / (SELECT SUM(furniture_order_count) FROM furniture_orders), 2) as percentage\n",
    "FROM \n",
    "    furniture_orders\n",
    "ORDER BY \n",
    "    furniture_order_count DESC\n",
    "\"\"\"\n",
    "\n",
    "# Execute the query and store the result in a DataFrame\n",
    "furniture_orders_by_country = pd.read_sql(query, db_connection)\n",
    "\n",
    "# Display the results\n",
    "print(furniture_orders_by_country)\n",
    "\n",
    "# Display the total number of furniture orders\n",
    "total_furniture_orders = furniture_orders_by_country['furniture_order_count'].sum()\n",
    "print(f\"\\nTotal number of furniture orders across all countries: {total_furniture_orders}\")"
   ]
  },
  {
   "cell_type": "markdown",
   "metadata": {
    "id": "0jvgrcyGhEFO"
   },
   "source": [
    "#### 9.B Select Number of 'Furniture' Orders For The Country Denmark"
   ]
  },
  {
   "cell_type": "code",
   "execution_count": 56,
   "metadata": {
    "ExecuteTime": {
     "end_time": "2019-03-21T03:58:15.794528Z",
     "start_time": "2019-03-21T03:58:15.757627Z"
    },
    "id": "BjUN6GphhEFP"
   },
   "outputs": [
    {
     "name": "stdout",
     "output_type": "stream",
     "text": [
      "   country  furniture_order_count\n",
      "0  Denmark                      8\n",
      "\n",
      "Number of furniture orders in Denmark: 8\n"
     ]
    }
   ],
   "source": [
    "# Select Number of 'Furniture' Orders For The Country Denmark\n",
    "query = \"\"\"\n",
    "SELECT \n",
    "    o.country,\n",
    "    COUNT(DISTINCT o.order_id) as furniture_order_count\n",
    "FROM \n",
    "    orders o\n",
    "JOIN \n",
    "    order_break_down ob ON o.order_id = ob.order_id\n",
    "WHERE \n",
    "    ob.category = 'Furniture'\n",
    "    AND o.country = 'Denmark'\n",
    "GROUP BY \n",
    "    o.country\n",
    "\"\"\"\n",
    "\n",
    "# Execute the query and store the result in a DataFrame\n",
    "denmark_furniture_orders = pd.read_sql(query, db_connection)\n",
    "\n",
    "# Display the result\n",
    "if not denmark_furniture_orders.empty:\n",
    "    print(denmark_furniture_orders)\n",
    "    print(f\"\\nNumber of furniture orders in Denmark: {denmark_furniture_orders['furniture_order_count'].iloc[0]}\")\n",
    "else:\n",
    "    print(\"No furniture orders found for Denmark.\")\n",
    "\n"
   ]
  },
  {
   "cell_type": "code",
   "execution_count": 57,
   "metadata": {},
   "outputs": [
    {
     "name": "stdout",
     "output_type": "stream",
     "text": [
      "\n",
      "Total orders from Denmark: 29\n",
      "Percentage of furniture orders: 27.59%\n"
     ]
    }
   ],
   "source": [
    "# Get total number of orders from Denmark for comparison\n",
    "total_denmark_orders_query = \"\"\"\n",
    "SELECT COUNT(DISTINCT order_id) as total_orders\n",
    "FROM orders\n",
    "WHERE country = 'Denmark'\n",
    "\"\"\"\n",
    "total_denmark_orders = pd.read_sql(total_denmark_orders_query, db_connection)['total_orders'].iloc[0]\n",
    "\n",
    "if total_denmark_orders > 0:\n",
    "    furniture_percentage = (denmark_furniture_orders['furniture_order_count'].iloc[0] / total_denmark_orders) * 100 if not denmark_furniture_orders.empty else 0\n",
    "    print(f\"\\nTotal orders from Denmark: {total_denmark_orders}\")\n",
    "    print(f\"Percentage of furniture orders: {furniture_percentage:.2f}%\")\n",
    "else:\n",
    "    print(\"\\nNo orders found for Denmark.\")"
   ]
  },
  {
   "cell_type": "markdown",
   "metadata": {
    "id": "DvDJGO8ghEFU"
   },
   "source": [
    "#### 10. Select Total Sales With Discount and Without Discount for Each Country"
   ]
  },
  {
   "cell_type": "code",
   "execution_count": 58,
   "metadata": {
    "ExecuteTime": {
     "end_time": "2019-03-21T04:06:53.787002Z",
     "start_time": "2019-03-21T04:06:53.744143Z"
    },
    "id": "M6FiccIGhEFU"
   },
   "outputs": [
    {
     "name": "stdout",
     "output_type": "stream",
     "text": [
      "           country  sales_with_discount  sales_without_discount  total_sales\n",
      "0           France             479892.0                129791.0     609683.0\n",
      "1          Germany             243257.0                245424.0     488681.0\n",
      "2   United Kingdom              89643.0                330854.0     420497.0\n",
      "3            Italy              78645.0                174097.0     252742.0\n",
      "4            Spain              84507.0                164895.0     249402.0\n",
      "5          Austria                  0.0                 79382.0      79382.0\n",
      "6      Netherlands              70313.0                     0.0      70313.0\n",
      "7          Belgium                  0.0                 42320.0      42320.0\n",
      "8           Sweden              30490.0                     0.0      30490.0\n",
      "9      Switzerland                  0.0                 24874.0      24874.0\n",
      "10         Finland                  0.0                 20702.0      20702.0\n",
      "11          Norway                  0.0                 20529.0      20529.0\n",
      "12         Ireland              15998.0                     0.0      15998.0\n",
      "13        Portugal              15106.0                     0.0      15106.0\n",
      "14         Denmark               7763.0                     0.0       7763.0\n",
      "\n",
      "Total sales across all countries: $2,348,482.00\n",
      "Total sales with discount: $1,115,614.00 (47.50%)\n",
      "Total sales without discount: $1,232,868.00 (52.50%)\n"
     ]
    }
   ],
   "source": [
    "# Select Total Sales With Discount (discount > 0) and Without Discount (discount = 0) for Each Country\n",
    "query = \"\"\"\n",
    "SELECT \n",
    "    o.country,\n",
    "    SUM(CASE WHEN ob.discount > 0 THEN ob.sales ELSE 0 END) as sales_with_discount,\n",
    "    SUM(CASE WHEN ob.discount = 0 THEN ob.sales ELSE 0 END) as sales_without_discount,\n",
    "    SUM(ob.sales) as total_sales\n",
    "FROM \n",
    "    orders o\n",
    "JOIN \n",
    "    order_break_down ob ON o.order_id = ob.order_id\n",
    "GROUP BY \n",
    "    o.country\n",
    "ORDER BY \n",
    "    total_sales DESC\n",
    "\"\"\"\n",
    "\n",
    "# Execute the query and store the result in a DataFrame\n",
    "country_sales = pd.read_sql(query, db_connection)\n",
    "\n",
    "# Display the results\n",
    "print(country_sales)\n",
    "\n",
    "# Calculate and display some summary statistics\n",
    "total_sales = country_sales['total_sales'].sum()\n",
    "total_discounted_sales = country_sales['sales_with_discount'].sum()\n",
    "total_non_discounted_sales = country_sales['sales_without_discount'].sum()\n",
    "\n",
    "print(f\"\\nTotal sales across all countries: ${total_sales:,.2f}\")\n",
    "print(f\"Total sales with discount: ${total_discounted_sales:,.2f} ({total_discounted_sales/total_sales*100:.2f}%)\")\n",
    "print(f\"Total sales without discount: ${total_non_discounted_sales:,.2f} ({total_non_discounted_sales/total_sales*100:.2f}%)\")\n"
   ]
  },
  {
   "cell_type": "code",
   "execution_count": 59,
   "metadata": {},
   "outputs": [
    {
     "name": "stdout",
     "output_type": "stream",
     "text": [
      "\n",
      "Top 5 countries with highest percentage of discounted sales:\n",
      "        country  discount_percentage\n",
      "6   Netherlands                100.0\n",
      "8        Sweden                100.0\n",
      "12      Ireland                100.0\n",
      "13     Portugal                100.0\n",
      "14      Denmark                100.0\n"
     ]
    }
   ],
   "source": [
    "# Display countries with highest percentage of discounted sales\n",
    "country_sales['discount_percentage'] = country_sales['sales_with_discount'] / country_sales['total_sales'] * 100\n",
    "top_discounting_countries = country_sales.nlargest(5, 'discount_percentage')\n",
    "\n",
    "print(\"\\nTop 5 countries with highest percentage of discounted sales:\")\n",
    "print(top_discounting_countries[['country', 'discount_percentage']])"
   ]
  },
  {
   "cell_type": "markdown",
   "metadata": {
    "id": "72ARIXw2hEFb"
   },
   "source": [
    "#### 11.A Select Total Quantity, Total Sales for Each Country"
   ]
  },
  {
   "cell_type": "code",
   "execution_count": 60,
   "metadata": {
    "ExecuteTime": {
     "end_time": "2019-03-21T04:08:01.475925Z",
     "start_time": "2019-03-21T04:08:01.427057Z"
    },
    "id": "Fik5zcqJhEFe"
   },
   "outputs": [
    {
     "name": "stdout",
     "output_type": "stream",
     "text": [
      "           country  total_quantity  total_sales\n",
      "0           France            7329     609683.0\n",
      "1          Germany            6179     488681.0\n",
      "2   United Kingdom            4917     420497.0\n",
      "3            Italy            3612     252742.0\n",
      "4            Spain            2881     249402.0\n",
      "5          Austria             973      79382.0\n",
      "6      Netherlands            1526      70313.0\n",
      "7          Belgium             532      42320.0\n",
      "8           Sweden             753      30490.0\n",
      "9      Switzerland             308      24874.0\n",
      "10         Finland             201      20702.0\n",
      "11          Norway             261      20529.0\n",
      "12         Ireland             392      15998.0\n",
      "13        Portugal             286      15106.0\n",
      "14         Denmark             204       7763.0\n",
      "\n",
      "Total quantity across all countries: 30,354\n",
      "Total sales across all countries: $2,348,482.00\n"
     ]
    }
   ],
   "source": [
    "# Select Total Quantity, Total Sales for Each Country\n",
    "query = \"\"\"\n",
    "SELECT \n",
    "    o.country,\n",
    "    SUM(ob.quantity) as total_quantity,\n",
    "    SUM(ob.sales) as total_sales\n",
    "FROM \n",
    "    orders o\n",
    "JOIN \n",
    "    order_break_down ob ON o.order_id = ob.order_id\n",
    "GROUP BY \n",
    "    o.country\n",
    "ORDER BY \n",
    "    total_sales DESC\n",
    "\"\"\"\n",
    "\n",
    "# Execute the query and store the result in a DataFrame\n",
    "country_stats = pd.read_sql(query, db_connection)\n",
    "\n",
    "# Display the results\n",
    "print(country_stats)\n",
    "\n",
    "# Calculate and display some summary statistics\n",
    "total_quantity = country_stats['total_quantity'].sum()\n",
    "total_sales = country_stats['total_sales'].sum()\n",
    "\n",
    "print(f\"\\nTotal quantity across all countries: {total_quantity:,}\")\n",
    "print(f\"Total sales across all countries: ${total_sales:,.2f}\")\n"
   ]
  },
  {
   "cell_type": "code",
   "execution_count": 62,
   "metadata": {},
   "outputs": [
    {
     "name": "stdout",
     "output_type": "stream",
     "text": [
      "\n",
      "Top 5 countries by average sale per item:\n",
      "           country  avg_sale_per_item\n",
      "10         Finland         102.995025\n",
      "4            Spain          86.567858\n",
      "2   United Kingdom          85.519016\n",
      "0           France          83.187747\n",
      "5          Austria          81.584789\n"
     ]
    },
    {
     "data": {
      "image/png": "[encoded data removed]",
      "text/plain": [
       "<Figure size 1200x600 with 1 Axes>"
      ]
     },
     "metadata": {},
     "output_type": "display_data"
    }
   ],
   "source": [
    "# Calculate average sale per item for each country\n",
    "country_stats['avg_sale_per_item'] = country_stats['total_sales'] / country_stats['total_quantity']\n",
    "\n",
    "#top 5 countries by average sale per item\n",
    "top_avg_sale_countries = country_stats.nlargest(5, 'avg_sale_per_item')\n",
    "\n",
    "print(\"\\nTop 5 countries by average sale per item:\")\n",
    "print(top_avg_sale_countries[['country', 'avg_sale_per_item']])\n",
    "\n",
    "#Visualize the results\n",
    "import matplotlib.pyplot as plt\n",
    "\n",
    "plt.figure(figsize=(12, 6))\n",
    "plt.bar(country_stats['country'], country_stats['total_sales'])\n",
    "plt.title('Total Sales by Country')\n",
    "plt.xlabel('Country')\n",
    "plt.ylabel('Total Sales ($)')\n",
    "plt.xticks(rotation=90)\n",
    "plt.tight_layout()\n",
    "plt.show()"
   ]
  },
  {
   "cell_type": "markdown",
   "metadata": {
    "ExecuteTime": {
     "end_time": "2019-03-21T04:09:40.290543Z",
     "start_time": "2019-03-21T04:09:40.284556Z"
    },
    "id": "tldREt1phEFh"
   },
   "source": [
    "#### 11.B Select Top 3 Countries and Quantities Based on Total Sales"
   ]
  },
  {
   "cell_type": "code",
   "execution_count": 65,
   "metadata": {
    "ExecuteTime": {
     "end_time": "2019-03-21T04:11:24.632174Z",
     "start_time": "2019-03-21T04:11:24.619209Z"
    },
    "id": "T0TJjtLBhEFi"
   },
   "outputs": [
    {
     "name": "stdout",
     "output_type": "stream",
     "text": [
      "Top 3 Countries based on Total Sales:\n",
      "          country  total_quantity  total_sales\n",
      "0          France            7329     609683.0\n",
      "1         Germany            6179     488681.0\n",
      "2  United Kingdom            4917     420497.0\n"
     ]
    }
   ],
   "source": [
    "# Select Top 3 Countries and Quantities Based on Total Sales\n",
    "query = \"\"\"\n",
    "SELECT \n",
    "    o.country,\n",
    "    SUM(ob.quantity) as total_quantity,\n",
    "    SUM(ob.sales) as total_sales\n",
    "FROM \n",
    "    orders o\n",
    "JOIN \n",
    "    order_break_down ob ON o.order_id = ob.order_id\n",
    "GROUP BY \n",
    "    o.country\n",
    "ORDER BY \n",
    "    total_sales DESC\n",
    "LIMIT 3\n",
    "\"\"\"\n",
    "\n",
    "\n",
    "top_3_countries = pd.read_sql(query, db_connection)\n",
    "\n",
    "print(\"Top 3 Countries based on Total Sales:\")\n",
    "print(top_3_countries)"
   ]
  },
  {
   "cell_type": "markdown",
   "metadata": {
    "id": "M3zrxwdGhEFk"
   },
   "source": [
    "#### 11.C Select Bottom 3 Countries and Sales Based On Total Quantities"
   ]
  },
  {
   "cell_type": "code",
   "execution_count": 66,
   "metadata": {
    "ExecuteTime": {
     "end_time": "2019-03-21T04:12:43.968759Z",
     "start_time": "2019-03-21T04:12:43.953799Z"
    },
    "id": "XzSLPcv6hEFl"
   },
   "outputs": [
    {
     "name": "stdout",
     "output_type": "stream",
     "text": [
      "Bottom 3 Countries based on Total Quantities:\n",
      "   country  total_quantity  total_sales\n",
      "0  Finland             201      20702.0\n",
      "1  Denmark             204       7763.0\n",
      "2   Norway             261      20529.0\n"
     ]
    }
   ],
   "source": [
    "# Select Bottom 3 Countries and Sales Based On Total Quantities\n",
    "query = \"\"\"\n",
    "SELECT \n",
    "    o.country,\n",
    "    SUM(ob.quantity) as total_quantity,\n",
    "    SUM(ob.sales) as total_sales\n",
    "FROM \n",
    "    orders o\n",
    "JOIN \n",
    "    order_break_down ob ON o.order_id = ob.order_id\n",
    "GROUP BY \n",
    "    o.country\n",
    "ORDER BY \n",
    "    total_quantity ASC\n",
    "LIMIT 3\n",
    "\"\"\"\n",
    "\n",
    "\n",
    "bottom_3_countries = pd.read_sql(query, db_connection)\n",
    "\n",
    "print(\"Bottom 3 Countries based on Total Quantities:\")\n",
    "print(bottom_3_countries)"
   ]
  },
  {
   "cell_type": "markdown",
   "metadata": {
    "ExecuteTime": {
     "end_time": "2019-03-21T04:15:46.751912Z",
     "start_time": "2019-03-21T04:15:46.745926Z"
    },
    "id": "45ondjLLhEFo"
   },
   "source": [
    "#### 12. Select Average Sales By Category For The Country 'France'"
   ]
  },
  {
   "cell_type": "code",
   "execution_count": 67,
   "metadata": {
    "ExecuteTime": {
     "end_time": "2019-03-21T04:19:05.858570Z",
     "start_time": "2019-03-21T04:19:05.813681Z"
    },
    "id": "BwiyYRSThEFp"
   },
   "outputs": [
    {
     "name": "stdout",
     "output_type": "stream",
     "text": [
      "Average Sales by Category for France:\n",
      "          category  average_sales  number_of_orders  total_sales\n",
      "0       Technology     595.145078               325     229726.0\n",
      "1        Furniture     582.314381               260     174112.0\n",
      "2  Office Supplies     167.217709               775     205845.0\n"
     ]
    }
   ],
   "source": [
    "# Select Average Sales By Category For The Country 'France'\n",
    "query = \"\"\"\n",
    "SELECT \n",
    "    ob.category,\n",
    "    AVG(ob.sales) as average_sales,\n",
    "    COUNT(DISTINCT o.order_id) as number_of_orders,\n",
    "    SUM(ob.sales) as total_sales\n",
    "FROM \n",
    "    orders o\n",
    "JOIN \n",
    "    order_break_down ob ON o.order_id = ob.order_id\n",
    "WHERE \n",
    "    o.country = 'France'\n",
    "GROUP BY \n",
    "    ob.category\n",
    "ORDER BY \n",
    "    average_sales DESC\n",
    "\"\"\"\n",
    "\n",
    "france_category_sales = pd.read_sql(query, db_connection)\n",
    "\n",
    "\n",
    "print(\"Average Sales by Category for France:\")\n",
    "print(france_category_sales)"
   ]
  },
  {
   "cell_type": "code",
   "execution_count": 70,
   "metadata": {},
   "outputs": [
    {
     "name": "stdout",
     "output_type": "stream",
     "text": [
      "\n",
      "Sales Percentage by Category:\n",
      "          category  sales_percentage\n",
      "0       Technology         37.679581\n",
      "1        Furniture         28.557792\n",
      "2  Office Supplies         33.762627\n"
     ]
    }
   ],
   "source": [
    "#percentage of total sales for each category\n",
    "total_sales = france_category_sales['total_sales'].sum()\n",
    "france_category_sales['sales_percentage'] = (france_category_sales['total_sales'] / total_sales) * 100\n",
    "\n",
    "print(\"\\nSales Percentage by Category:\")\n",
    "print(france_category_sales[['category', 'sales_percentage']])"
   ]
  },
  {
   "cell_type": "markdown",
   "metadata": {
    "id": "Nsk-d3DyhEFs"
   },
   "source": [
    "#### 13. Select Country, Category and Average Sales Where Average Sales is The Highest"
   ]
  },
  {
   "cell_type": "code",
   "execution_count": 68,
   "metadata": {
    "ExecuteTime": {
     "end_time": "2019-03-21T04:21:04.081648Z",
     "start_time": "2019-03-21T04:21:04.038731Z"
    },
    "id": "yRK9ccVLhEFs"
   },
   "outputs": [
    {
     "name": "stdout",
     "output_type": "stream",
     "text": [
      "Country and Category with Highest Average Sales:\n",
      "       country    category  average_sales  number_of_orders  total_sales\n",
      "0  Switzerland  Technology     902.846154                11      11737.0\n"
     ]
    }
   ],
   "source": [
    "# Select Country, Category and Average Sales Where Average Sales is The Highest\n",
    "query = \"\"\"\n",
    "WITH avg_sales AS (\n",
    "    SELECT \n",
    "        o.country,\n",
    "        ob.category,\n",
    "        AVG(ob.sales) as average_sales,\n",
    "        COUNT(DISTINCT o.order_id) as number_of_orders,\n",
    "        SUM(ob.sales) as total_sales\n",
    "    FROM \n",
    "        orders o\n",
    "    JOIN \n",
    "        order_break_down ob ON o.order_id = ob.order_id\n",
    "    GROUP BY \n",
    "        o.country, ob.category\n",
    ")\n",
    "SELECT *\n",
    "FROM avg_sales\n",
    "WHERE average_sales = (SELECT MAX(average_sales) FROM avg_sales)\n",
    "\"\"\"\n",
    "\n",
    "highest_avg_sales = pd.read_sql(query, db_connection)\n",
    "\n",
    "print(\"Country and Category with Highest Average Sales:\")\n",
    "print(highest_avg_sales)\n"
   ]
  },
  {
   "cell_type": "markdown",
   "metadata": {
    "heading_collapsed": true,
    "id": "yNowUy0BlJQu"
   },
   "source": [
    "### JOINS\n",
    "\n",
    "Below is a link to a handy reference for SQL joins. In this chart joins are represented in terms of sets and venn diagrams.\n",
    "https://www.codeproject.com/Articles/33052/Visual-Representation-of-SQL-Joins\n",
    "\n",
    "Alternatively, remember the merge functionality of pandas.\n",
    "https://github.com/pandas-dev/pandas/blob/master/doc/cheatsheet/Pandas_Cheat_Sheet.pdf"
   ]
  },
  {
   "cell_type": "markdown",
   "metadata": {
    "id": "Jp0fdXBelJQv"
   },
   "source": [
    "### ADDITIONAL RESOURCES\n",
    "\n",
    "- [sqlite3 home](http://www.sqlite.org)  \n",
    "- [sqlite3 Python documentation](https://docs.python.org/3/library/sqlite3.html)\n",
    "- [SQLite Python tutorial](http://sebastianraschka.com/Articles/2014_sqlite_in_python_tutorial.html)  "
   ]
  },
  {
   "cell_type": "markdown",
   "metadata": {
    "id": "H6EyH-b4wGV5"
   },
   "source": [
    "\n",
    "\n",
    "---\n",
    "\n",
    "\n",
    "\n",
    "---\n",
    "\n",
    "\n",
    "\n",
    "> > > > > > > > > © 2023 Institute of Data\n",
    "\n",
    "\n",
    "---\n",
    "\n",
    "\n",
    "\n",
    "---\n",
    "\n",
    "\n",
    "\n"
   ]
  }
 ],
 "metadata": {
  "colab": {
   "provenance": []
  },
  "kernelspec": {
   "display_name": "Python 3 (ipykernel)",
   "language": "python",
   "name": "python3"
  },
  "language_info": {
   "codemirror_mode": {
    "name": "ipython",
    "version": 3
   },
   "file_extension": ".py",
   "mimetype": "text/x-python",
   "name": "python",
   "nbconvert_exporter": "python",
   "pygments_lexer": "ipython3",
   "version": "3.10.14"
  }
 },
 "nbformat": 4,
 "nbformat_minor": 4
}
