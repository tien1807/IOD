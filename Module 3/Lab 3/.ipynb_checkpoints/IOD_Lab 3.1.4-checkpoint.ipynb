{
 "cells": [
  {
   "cell_type": "markdown",
   "metadata": {
    "id": "s8RoBuCkB_bW"
   },
   "source": [
    "<div>\n",
    "<img src=https://www.institutedata.com/wp-content/uploads/2019/10/iod_h_tp_primary_c.svg width=\"300\">\n",
    "</div>"
   ]
  },
  {
   "cell_type": "markdown",
   "metadata": {
    "id": "cW5QEs4PB_bY"
   },
   "source": [
    "# Lab 3.1.4\n",
    "# *Python with MongoDB*"
   ]
  },
  {
   "cell_type": "markdown",
   "metadata": {
    "id": "VjUpP-kFB_bb"
   },
   "source": [
    "## Introduction to PyMongo"
   ]
  },
  {
   "cell_type": "markdown",
   "metadata": {
    "id": "wj_xDQwGKbpL"
   },
   "source": [
    "For this lab you will firstly need to install two programs (both for Windows and Mac users). If using Windows download then run the `msi` package in both cases.\n",
    "\n",
    "1) MongoDB Community Server from https://www.mongodb.com/try/download/community\n",
    "\n",
    "2) MongoDB Command Line Database Tools from https://www.mongodb.com/try/download/database-tools"
   ]
  },
  {
   "cell_type": "markdown",
   "metadata": {
    "id": "BTMUSSJ76fK-"
   },
   "source": [
    "**Installation instructions for Windows users:**\n",
    "\n",
    "[Install MongoDB Community Edition on Windows](https://www.mongodb.com/docs/manual/tutorial/install-mongodb-on-windows/)"
   ]
  },
  {
   "cell_type": "markdown",
   "metadata": {
    "id": "4-MG3HS74Naj"
   },
   "source": [
    "**The following resources may assist Mac users:**\n",
    "\n",
    "[Install MongoDB Community Edition on macOS](https://www.mongodb.com/docs/manual/tutorial/install-mongodb-on-os-x/)\n",
    "\n",
    "[How to Install Latest MongoDB on macOS](https://www.youtube.com/watch?v=NLw7Tln6IeM)\n",
    "\n",
    "[How to install HomeBrew (often this helps, if you are having issues with your setup)](https://www.youtube.com/watch?v=IWJKRmFLn-g)"
   ]
  },
  {
   "cell_type": "code",
   "execution_count": 4,
   "metadata": {
    "id": "ude3llGg4Naj"
   },
   "outputs": [
    {
     "name": "stdout",
     "output_type": "stream",
     "text": [
      "Collecting pymongo\n",
      "  Downloading pymongo-4.8.0-cp310-cp310-win_amd64.whl.metadata (22 kB)\n",
      "Collecting dnspython<3.0.0,>=1.16.0 (from pymongo)\n",
      "  Downloading dnspython-2.6.1-py3-none-any.whl.metadata (5.8 kB)\n",
      "Downloading pymongo-4.8.0-cp310-cp310-win_amd64.whl (582 kB)\n",
      "   ---------------------------------------- 0.0/582.0 kB ? eta -:--:--\n",
      "   ------- -------------------------------- 112.6/582.0 kB 2.2 MB/s eta 0:00:01\n",
      "   ------------------------------ --------- 440.3/582.0 kB 4.6 MB/s eta 0:00:01\n",
      "   ---------------------------------------- 582.0/582.0 kB 4.6 MB/s eta 0:00:00\n",
      "Downloading dnspython-2.6.1-py3-none-any.whl (307 kB)\n",
      "   ---------------------------------------- 0.0/307.7 kB ? eta -:--:--\n",
      "   ---------------------------------------- 307.7/307.7 kB 9.6 MB/s eta 0:00:00\n",
      "Installing collected packages: dnspython, pymongo\n",
      "Successfully installed dnspython-2.6.1 pymongo-4.8.0\n",
      "Note: you may need to restart the kernel to use updated packages.\n"
     ]
    }
   ],
   "source": [
    "pip install pymongo"
   ]
  },
  {
   "cell_type": "code",
   "execution_count": 5,
   "metadata": {
    "colab": {
     "base_uri": "https://localhost:8080/",
     "height": 383
    },
    "executionInfo": {
     "elapsed": 11,
     "status": "error",
     "timestamp": 1710482077396,
     "user": {
      "displayName": "Isabella Uslu",
      "userId": "15471511092561094644"
     },
     "user_tz": -660
    },
    "id": "56Yk9yQtB_bd",
    "outputId": "e8fe2eb1-981e-410b-fd58-93eddc833c78"
   },
   "outputs": [
    {
     "name": "stdout",
     "output_type": "stream",
     "text": [
      "Mongo version 4.8.0\n"
     ]
    }
   ],
   "source": [
    "from IPython.display import display, HTML\n",
    "import pymongo\n",
    "import pandas as pd\n",
    "from pymongo import MongoClient\n",
    "print ('Mongo version ' + pymongo.__version__)"
   ]
  },
  {
   "cell_type": "markdown",
   "metadata": {
    "id": "h5nSnXML4Pst"
   },
   "source": [
    "**Start the mongod server (if it isn't already running):**\n",
    "\n",
    "Windows:\n",
    "1. Using Command Prompt navigate to the folder containing `mongod.exe` (e.g. by typing cd \"C:\\Program Files\\MongoDB\\Server\\7.0\\bin\").\n",
    "2.  Execute `mongod` at the prompt.\n",
    "\n",
    "Mac:\n",
    "1. Run `brew services start mongodb-community@7.0`"
   ]
  },
  {
   "cell_type": "code",
   "execution_count": 6,
   "metadata": {
    "id": "NiYV2_VIB_bm"
   },
   "outputs": [],
   "source": [
    "# Creating a client object in our local machine\n",
    "client = MongoClient('localhost', 27017)"
   ]
  },
  {
   "cell_type": "code",
   "execution_count": 7,
   "metadata": {
    "id": "xkfJBF5i4Nal"
   },
   "outputs": [
    {
     "name": "stdout",
     "output_type": "stream",
     "text": [
      "['admin', 'config', 'local']\n"
     ]
    }
   ],
   "source": [
    "print(client.list_database_names())"
   ]
  },
  {
   "cell_type": "markdown",
   "metadata": {
    "id": "bAbG5bfy4Nam"
   },
   "source": [
    "In MongoDB, a **database** stores and manages collections of related data, similar to how you might organise files into folders on your computer."
   ]
  },
  {
   "cell_type": "markdown",
   "metadata": {
    "id": "vG8SqZDo4Nam"
   },
   "source": [
    "Create a new database:"
   ]
  },
  {
   "cell_type": "code",
   "execution_count": 8,
   "metadata": {
    "id": "UGsudTe24Nan"
   },
   "outputs": [],
   "source": [
    "db = client.test"
   ]
  },
  {
   "cell_type": "markdown",
   "metadata": {
    "id": "mLZ7RvZn4Nan"
   },
   "source": [
    "A **collection** in MongoDB is similar to a table in a relational database.\n",
    "Collections store documents (records) in a structured format (usually in BSON, which is a binary representation of JSON).\n",
    "The people collection likely contains documents related to people, such as user profiles, contact information, or other relevant data.\n",
    "Each document within the people collection represents an individual person or entity."
   ]
  },
  {
   "cell_type": "code",
   "execution_count": 9,
   "metadata": {
    "id": "6fu1nY6w4Nan"
   },
   "outputs": [
    {
     "name": "stdout",
     "output_type": "stream",
     "text": [
      "['admin', 'config', 'local']\n"
     ]
    }
   ],
   "source": [
    "print(client.list_database_names())"
   ]
  },
  {
   "cell_type": "markdown",
   "metadata": {
    "id": "g6jvYhsz4Nao"
   },
   "source": [
    "It is important to note that MongoDB is lazy: the db won't get created until data has been written to it!"
   ]
  },
  {
   "cell_type": "markdown",
   "metadata": {
    "id": "HvVFPpgRB_cA"
   },
   "source": [
    "Create a collection called \"shoppers\" (with object name `mycol`):"
   ]
  },
  {
   "cell_type": "code",
   "execution_count": 10,
   "metadata": {
    "id": "txROG8XV4Nap"
   },
   "outputs": [],
   "source": [
    "#ANSWER\n",
    "mycol = db.shoppers"
   ]
  },
  {
   "cell_type": "markdown",
   "metadata": {
    "id": "TRIbsM6VB_cE"
   },
   "source": [
    "Create a document (i.e. a dictionary) with two name:value items\n",
    "(\"name\" = \"Paul\", and \"address\" = \"Mansfield Ave\") and insert\n",
    "it into the \"shoppers\" collection:"
   ]
  },
  {
   "cell_type": "code",
   "execution_count": 11,
   "metadata": {
    "id": "KI1lYOBvB_cF"
   },
   "outputs": [
    {
     "name": "stdout",
     "output_type": "stream",
     "text": [
      "66b44c245fd75a711f4256a1\n"
     ]
    }
   ],
   "source": [
    "#ANSWER:\n",
    "mydict = { \"name\": \"Paul\", \"address\": \"Mansfield Ave\" }\n",
    "x = mycol.insert_one(mydict)\n",
    "print(x.inserted_id)"
   ]
  },
  {
   "cell_type": "markdown",
   "metadata": {
    "id": "_EEiTjd_B_cH"
   },
   "source": [
    "Now test for the existence of the database:"
   ]
  },
  {
   "cell_type": "code",
   "execution_count": 12,
   "metadata": {
    "id": "JsPz--uIB_cI"
   },
   "outputs": [
    {
     "name": "stdout",
     "output_type": "stream",
     "text": [
      "The 'test' database exists.\n",
      "All databases: ['admin', 'config', 'local', 'test']\n"
     ]
    }
   ],
   "source": [
    "#ANSWER:\n",
    "db_list = client.list_database_names()\n",
    "\n",
    "# Check if 'test' database exists\n",
    "if \"test\" in db_list:\n",
    "    print(\"The 'test' database exists.\")\n",
    "else:\n",
    "    print(\"The 'test' database does not exist.\")\n",
    "\n",
    "print(\"All databases:\", db_list)"
   ]
  },
  {
   "cell_type": "markdown",
   "metadata": {
    "id": "WvgAowAdB_cK"
   },
   "source": [
    "List all collections in the database:"
   ]
  },
  {
   "cell_type": "code",
   "execution_count": 13,
   "metadata": {
    "id": "JMl-YlPNB_cK"
   },
   "outputs": [
    {
     "name": "stdout",
     "output_type": "stream",
     "text": [
      "Collections in the 'test' database:\n",
      "- shoppers\n",
      "\n",
      "Total number of collections: 1\n"
     ]
    }
   ],
   "source": [
    "#ANSWER\n",
    "collection_list = db.list_collection_names()\n",
    "\n",
    "print(\"Collections in the 'test' database:\")\n",
    "for collection in collection_list:\n",
    "    print(f\"- {collection}\")\n",
    "\n",
    "print(f\"\\nTotal number of collections: {len(collection_list)}\")"
   ]
  },
  {
   "cell_type": "markdown",
   "metadata": {
    "id": "ZBpH0Q9dB_cM"
   },
   "source": [
    "Insert another record in the \"shoppers\" collection\n",
    "(\"name\" = \"Rafa\", \"address\" = \"Holder Drive\")\n",
    "and return the value of the _id field:"
   ]
  },
  {
   "cell_type": "code",
   "execution_count": 14,
   "metadata": {
    "id": "LzSwoIlIB_cN"
   },
   "outputs": [
    {
     "name": "stdout",
     "output_type": "stream",
     "text": [
      "Inserted document _id: 66b44cb75fd75a711f4256a2\n"
     ]
    }
   ],
   "source": [
    "new_shopper = {\n",
    "    \"name\": \"Rafa\",\n",
    "    \"address\": \"Holder Drive\"\n",
    "}\n",
    "\n",
    "# Insert the document into the collection\n",
    "result = mycol.insert_one(new_shopper)\n",
    "\n",
    "print(\"Inserted document _id:\", result.inserted_id)"
   ]
  },
  {
   "cell_type": "markdown",
   "metadata": {
    "id": "g81P900vB_cP"
   },
   "source": [
    "Given the list of dicts below, insert multiple documents into\n",
    "the collection using the insert_many() method:"
   ]
  },
  {
   "cell_type": "code",
   "execution_count": 15,
   "metadata": {
    "id": "E7fwTxbcB_cP"
   },
   "outputs": [],
   "source": [
    "mylist = [\n",
    "  { \"name\": \"Ashton\", \"address\": \"Axle St\"},\n",
    "  { \"name\": \"Benjamin\", \"address\": \"Green Dr\"},\n",
    "  { \"name\": \"Sally\", \"address\": \"Holly Blvd\"},\n",
    "  { \"name\": \"Helen\", \"address\": \"Castor Prom\"},\n",
    "  { \"name\": \"Craig\", \"address\": \"Parsons Way\"},\n",
    "  { \"name\": \"Betty\", \"address\": \"Watters St\"},\n",
    "  { \"name\": \"Aparna\", \"address\": \"Yonder Dr\"},\n",
    "  { \"name\": \"Kent\", \"address\": \"Garrison St\"},\n",
    "  { \"name\": \"Violet\", \"address\": \"Station St\"},\n",
    "  { \"name\": \"Svetlana\", \"address\": \"Wayman Ave\"}\n",
    "]"
   ]
  },
  {
   "cell_type": "code",
   "execution_count": 16,
   "metadata": {
    "id": "g6xDpO86B_cR"
   },
   "outputs": [
    {
     "name": "stdout",
     "output_type": "stream",
     "text": [
      "Inserted IDs:\n",
      "66b44ce15fd75a711f4256a3\n",
      "66b44ce15fd75a711f4256a4\n",
      "66b44ce15fd75a711f4256a5\n",
      "66b44ce15fd75a711f4256a6\n",
      "66b44ce15fd75a711f4256a7\n",
      "66b44ce15fd75a711f4256a8\n",
      "66b44ce15fd75a711f4256a9\n",
      "66b44ce15fd75a711f4256aa\n",
      "66b44ce15fd75a711f4256ab\n",
      "66b44ce15fd75a711f4256ac\n",
      "\n",
      "Number of documents inserted: 10\n"
     ]
    }
   ],
   "source": [
    "result = mycol.insert_many(mylist)\n",
    "\n",
    "# Print the list of the _id values of the inserted documents\n",
    "print(\"Inserted IDs:\")\n",
    "for id in result.inserted_ids:\n",
    "    print(id)\n",
    "print(f\"\\nNumber of documents inserted: {len(result.inserted_ids)}\")"
   ]
  },
  {
   "cell_type": "markdown",
   "metadata": {
    "id": "ZmuKgJ5SB_cU"
   },
   "source": [
    "Print a list of the _id values of the inserted documents:"
   ]
  },
  {
   "cell_type": "code",
   "execution_count": 23,
   "metadata": {
    "id": "zLS5mhlIB_cV",
    "outputId": "99da9bdf-3130-4ac4-b3d7-c44b6f622d5a"
   },
   "outputs": [
    {
     "name": "stdout",
     "output_type": "stream",
     "text": [
      "List of _id values of the inserted documents:\n",
      "[ObjectId('66b44e005fd75a711f4256d5'), ObjectId('66b44e005fd75a711f4256d6'), ObjectId('66b44e005fd75a711f4256d7'), ObjectId('66b44e005fd75a711f4256d8'), ObjectId('66b44e005fd75a711f4256d9'), ObjectId('66b44e005fd75a711f4256da'), ObjectId('66b44e005fd75a711f4256db'), ObjectId('66b44e005fd75a711f4256dc'), ObjectId('66b44e005fd75a711f4256dd'), ObjectId('66b44e005fd75a711f4256de')]\n"
     ]
    }
   ],
   "source": [
    "mylist = [\n",
    "  { \"name\": \"Ashton\", \"address\": \"Axle St\"},\n",
    "  { \"name\": \"Benjamin\", \"address\": \"Green Dr\"},\n",
    "  { \"name\": \"Sally\", \"address\": \"Holly Blvd\"},\n",
    "  { \"name\": \"Helen\", \"address\": \"Castor Prom\"},\n",
    "  { \"name\": \"Craig\", \"address\": \"Parsons Way\"},\n",
    "  { \"name\": \"Betty\", \"address\": \"Watters St\"},\n",
    "  { \"name\": \"Aparna\", \"address\": \"Yonder Dr\"},\n",
    "  { \"name\": \"Kent\", \"address\": \"Garrison St\"},\n",
    "  { \"name\": \"Violet\", \"address\": \"Station St\"},\n",
    "  { \"name\": \"Svetlana\", \"address\": \"Wayman Ave\"}\n",
    "]\n",
    "result = mycol.insert_many(mylist)\n",
    "\n",
    "# Print the list of the _id values of the inserted documents\n",
    "print(\"List of _id values of the inserted documents:\")\n",
    "print(result.inserted_ids)"
   ]
  },
  {
   "cell_type": "markdown",
   "metadata": {
    "id": "kC0U_tYqB_cX"
   },
   "source": [
    "Execute the next cell to insert a list of dicts with specified `_id`s:"
   ]
  },
  {
   "cell_type": "code",
   "execution_count": 24,
   "metadata": {
    "id": "RnAv0sMdB_cX",
    "outputId": "4f0760ea-05b1-4a4a-d879-784ac104ce6c"
   },
   "outputs": [
    {
     "name": "stdout",
     "output_type": "stream",
     "text": [
      "[1, 2, 3, 4, 5, 6, 7, 8, 9, 10, 11, 12]\n"
     ]
    }
   ],
   "source": [
    "mylist = [\n",
    "  { \"_id\": 1, \"name\": \"Paul\", \"address\": \"Mansfield Ave\"},\n",
    "  { \"_id\": 2, \"name\": \"Rafa\", \"address\": \"Holder Drive\"},\n",
    "  { \"_id\": 3, \"name\": \"Ashton\", \"address\": \"Axle St\"},\n",
    "  { \"_id\": 4, \"name\": \"Benjamin\", \"address\": \"Green Dr\"},\n",
    "  { \"_id\": 5, \"name\": \"Sally\", \"address\": \"Holly Blvd\"},\n",
    "  { \"_id\": 6, \"name\": \"Helen\", \"address\": \"Castor Prom\"},\n",
    "  { \"_id\": 7, \"name\": \"Craig\", \"address\": \"Parsons Way\"},\n",
    "  { \"_id\": 8, \"name\": \"Betty\", \"address\": \"Watters St\"},\n",
    "  { \"_id\": 9, \"name\": \"Aparna\", \"address\": \"Yonder Dr\"},\n",
    "  { \"_id\": 10, \"name\": \"Kent\", \"address\": \"Garrison St\"},\n",
    "  { \"_id\": 11, \"name\": \"Violet\", \"address\": \"Station St\"},\n",
    "  { \"_id\": 12, \"name\": \"Svetlana\", \"address\": \"Wayman Ave\"}\n",
    "]\n",
    "x = mycol.insert_many(mylist)\n",
    "print(x.inserted_ids)"
   ]
  },
  {
   "cell_type": "markdown",
   "metadata": {
    "id": "vVPR7vhNB_cZ"
   },
   "source": [
    "Now try inserting a new dict with an existing `_id`:"
   ]
  },
  {
   "cell_type": "code",
   "execution_count": 25,
   "metadata": {
    "id": "Gklp0IIIB_ca"
   },
   "outputs": [
    {
     "ename": "DuplicateKeyError",
     "evalue": "E11000 duplicate key error collection: test.shoppers index: _id_ dup key: { _id: 12 }, full error: {'index': 0, 'code': 11000, 'errmsg': 'E11000 duplicate key error collection: test.shoppers index: _id_ dup key: { _id: 12 }', 'keyPattern': {'_id': 1}, 'keyValue': {'_id': 12}}",
     "output_type": "error",
     "traceback": [
      "\u001b[1;31m---------------------------------------------------------------------------\u001b[0m",
      "\u001b[1;31mDuplicateKeyError\u001b[0m                         Traceback (most recent call last)",
      "Cell \u001b[1;32mIn[25], line 2\u001b[0m\n\u001b[0;32m      1\u001b[0m \u001b[38;5;66;03m# Warning -- This code will return an error as id no: 12 is already exists\u001b[39;00m\n\u001b[1;32m----> 2\u001b[0m x \u001b[38;5;241m=\u001b[39m \u001b[43mmycol\u001b[49m\u001b[38;5;241;43m.\u001b[39;49m\u001b[43minsert_one\u001b[49m\u001b[43m(\u001b[49m\u001b[43m{\u001b[49m\u001b[43m \u001b[49m\u001b[38;5;124;43m\"\u001b[39;49m\u001b[38;5;124;43m_id\u001b[39;49m\u001b[38;5;124;43m\"\u001b[39;49m\u001b[43m:\u001b[49m\u001b[43m \u001b[49m\u001b[38;5;241;43m12\u001b[39;49m\u001b[43m,\u001b[49m\u001b[43m \u001b[49m\u001b[38;5;124;43m\"\u001b[39;49m\u001b[38;5;124;43mname\u001b[39;49m\u001b[38;5;124;43m\"\u001b[39;49m\u001b[43m:\u001b[49m\u001b[43m \u001b[49m\u001b[38;5;124;43m\"\u001b[39;49m\u001b[38;5;124;43mLola\u001b[39;49m\u001b[38;5;124;43m\"\u001b[39;49m\u001b[43m,\u001b[49m\u001b[43m \u001b[49m\u001b[38;5;124;43m\"\u001b[39;49m\u001b[38;5;124;43maddress\u001b[39;49m\u001b[38;5;124;43m\"\u001b[39;49m\u001b[43m:\u001b[49m\u001b[43m \u001b[49m\u001b[38;5;124;43m\"\u001b[39;49m\u001b[38;5;124;43mProspect Dr\u001b[39;49m\u001b[38;5;124;43m\"\u001b[39;49m\u001b[43m}\u001b[49m\u001b[43m)\u001b[49m\n",
      "File \u001b[1;32m~\\anaconda3\\envs\\IOD\\lib\\site-packages\\pymongo\\collection.py:658\u001b[0m, in \u001b[0;36mCollection.insert_one\u001b[1;34m(self, document, bypass_document_validation, session, comment)\u001b[0m\n\u001b[0;32m    654\u001b[0m     document[\u001b[38;5;124m\"\u001b[39m\u001b[38;5;124m_id\u001b[39m\u001b[38;5;124m\"\u001b[39m] \u001b[38;5;241m=\u001b[39m ObjectId()  \u001b[38;5;66;03m# type: ignore[index]\u001b[39;00m\n\u001b[0;32m    656\u001b[0m write_concern \u001b[38;5;241m=\u001b[39m \u001b[38;5;28mself\u001b[39m\u001b[38;5;241m.\u001b[39m_write_concern_for(session)\n\u001b[0;32m    657\u001b[0m \u001b[38;5;28;01mreturn\u001b[39;00m InsertOneResult(\n\u001b[1;32m--> 658\u001b[0m     \u001b[38;5;28;43mself\u001b[39;49m\u001b[38;5;241;43m.\u001b[39;49m\u001b[43m_insert_one\u001b[49m\u001b[43m(\u001b[49m\n\u001b[0;32m    659\u001b[0m \u001b[43m        \u001b[49m\u001b[43mdocument\u001b[49m\u001b[43m,\u001b[49m\n\u001b[0;32m    660\u001b[0m \u001b[43m        \u001b[49m\u001b[43mordered\u001b[49m\u001b[38;5;241;43m=\u001b[39;49m\u001b[38;5;28;43;01mTrue\u001b[39;49;00m\u001b[43m,\u001b[49m\n\u001b[0;32m    661\u001b[0m \u001b[43m        \u001b[49m\u001b[43mwrite_concern\u001b[49m\u001b[38;5;241;43m=\u001b[39;49m\u001b[43mwrite_concern\u001b[49m\u001b[43m,\u001b[49m\n\u001b[0;32m    662\u001b[0m \u001b[43m        \u001b[49m\u001b[43mop_id\u001b[49m\u001b[38;5;241;43m=\u001b[39;49m\u001b[38;5;28;43;01mNone\u001b[39;49;00m\u001b[43m,\u001b[49m\n\u001b[0;32m    663\u001b[0m \u001b[43m        \u001b[49m\u001b[43mbypass_doc_val\u001b[49m\u001b[38;5;241;43m=\u001b[39;49m\u001b[43mbypass_document_validation\u001b[49m\u001b[43m,\u001b[49m\n\u001b[0;32m    664\u001b[0m \u001b[43m        \u001b[49m\u001b[43msession\u001b[49m\u001b[38;5;241;43m=\u001b[39;49m\u001b[43msession\u001b[49m\u001b[43m,\u001b[49m\n\u001b[0;32m    665\u001b[0m \u001b[43m        \u001b[49m\u001b[43mcomment\u001b[49m\u001b[38;5;241;43m=\u001b[39;49m\u001b[43mcomment\u001b[49m\u001b[43m,\u001b[49m\n\u001b[0;32m    666\u001b[0m \u001b[43m    \u001b[49m\u001b[43m)\u001b[49m,\n\u001b[0;32m    667\u001b[0m     write_concern\u001b[38;5;241m.\u001b[39macknowledged,\n\u001b[0;32m    668\u001b[0m )\n",
      "File \u001b[1;32m~\\anaconda3\\envs\\IOD\\lib\\site-packages\\pymongo\\collection.py:598\u001b[0m, in \u001b[0;36mCollection._insert_one\u001b[1;34m(self, doc, ordered, write_concern, op_id, bypass_doc_val, session, comment)\u001b[0m\n\u001b[0;32m    586\u001b[0m     result \u001b[38;5;241m=\u001b[39m conn\u001b[38;5;241m.\u001b[39mcommand(\n\u001b[0;32m    587\u001b[0m         \u001b[38;5;28mself\u001b[39m\u001b[38;5;241m.\u001b[39m__database\u001b[38;5;241m.\u001b[39mname,\n\u001b[0;32m    588\u001b[0m         command,\n\u001b[1;32m   (...)\u001b[0m\n\u001b[0;32m    593\u001b[0m         retryable_write\u001b[38;5;241m=\u001b[39mretryable_write,\n\u001b[0;32m    594\u001b[0m     )\n\u001b[0;32m    596\u001b[0m     _check_write_command_response(result)\n\u001b[1;32m--> 598\u001b[0m \u001b[38;5;28;43mself\u001b[39;49m\u001b[38;5;241;43m.\u001b[39;49m\u001b[43m__database\u001b[49m\u001b[38;5;241;43m.\u001b[39;49m\u001b[43mclient\u001b[49m\u001b[38;5;241;43m.\u001b[39;49m\u001b[43m_retryable_write\u001b[49m\u001b[43m(\u001b[49m\n\u001b[0;32m    599\u001b[0m \u001b[43m    \u001b[49m\u001b[43macknowledged\u001b[49m\u001b[43m,\u001b[49m\u001b[43m \u001b[49m\u001b[43m_insert_command\u001b[49m\u001b[43m,\u001b[49m\u001b[43m \u001b[49m\u001b[43msession\u001b[49m\u001b[43m,\u001b[49m\u001b[43m \u001b[49m\u001b[43moperation\u001b[49m\u001b[38;5;241;43m=\u001b[39;49m\u001b[43m_Op\u001b[49m\u001b[38;5;241;43m.\u001b[39;49m\u001b[43mINSERT\u001b[49m\n\u001b[0;32m    600\u001b[0m \u001b[43m\u001b[49m\u001b[43m)\u001b[49m\n\u001b[0;32m    602\u001b[0m \u001b[38;5;28;01mif\u001b[39;00m \u001b[38;5;129;01mnot\u001b[39;00m \u001b[38;5;28misinstance\u001b[39m(doc, RawBSONDocument):\n\u001b[0;32m    603\u001b[0m     \u001b[38;5;28;01mreturn\u001b[39;00m doc\u001b[38;5;241m.\u001b[39mget(\u001b[38;5;124m\"\u001b[39m\u001b[38;5;124m_id\u001b[39m\u001b[38;5;124m\"\u001b[39m)\n",
      "File \u001b[1;32m~\\anaconda3\\envs\\IOD\\lib\\site-packages\\pymongo\\mongo_client.py:1575\u001b[0m, in \u001b[0;36mMongoClient._retryable_write\u001b[1;34m(self, retryable, func, session, operation, bulk, operation_id)\u001b[0m\n\u001b[0;32m   1561\u001b[0m \u001b[38;5;250m\u001b[39m\u001b[38;5;124;03m\"\"\"Execute an operation with consecutive retries if possible\u001b[39;00m\n\u001b[0;32m   1562\u001b[0m \n\u001b[0;32m   1563\u001b[0m \u001b[38;5;124;03mReturns func()'s return value on success. On error retries the same\u001b[39;00m\n\u001b[1;32m   (...)\u001b[0m\n\u001b[0;32m   1572\u001b[0m \u001b[38;5;124;03m:param bulk: bulk abstraction to execute operations in bulk, defaults to None\u001b[39;00m\n\u001b[0;32m   1573\u001b[0m \u001b[38;5;124;03m\"\"\"\u001b[39;00m\n\u001b[0;32m   1574\u001b[0m \u001b[38;5;28;01mwith\u001b[39;00m \u001b[38;5;28mself\u001b[39m\u001b[38;5;241m.\u001b[39m_tmp_session(session) \u001b[38;5;28;01mas\u001b[39;00m s:\n\u001b[1;32m-> 1575\u001b[0m     \u001b[38;5;28;01mreturn\u001b[39;00m \u001b[38;5;28;43mself\u001b[39;49m\u001b[38;5;241;43m.\u001b[39;49m\u001b[43m_retry_with_session\u001b[49m\u001b[43m(\u001b[49m\u001b[43mretryable\u001b[49m\u001b[43m,\u001b[49m\u001b[43m \u001b[49m\u001b[43mfunc\u001b[49m\u001b[43m,\u001b[49m\u001b[43m \u001b[49m\u001b[43ms\u001b[49m\u001b[43m,\u001b[49m\u001b[43m \u001b[49m\u001b[43mbulk\u001b[49m\u001b[43m,\u001b[49m\u001b[43m \u001b[49m\u001b[43moperation\u001b[49m\u001b[43m,\u001b[49m\u001b[43m \u001b[49m\u001b[43moperation_id\u001b[49m\u001b[43m)\u001b[49m\n",
      "File \u001b[1;32m~\\anaconda3\\envs\\IOD\\lib\\site-packages\\pymongo\\mongo_client.py:1461\u001b[0m, in \u001b[0;36mMongoClient._retry_with_session\u001b[1;34m(self, retryable, func, session, bulk, operation, operation_id)\u001b[0m\n\u001b[0;32m   1456\u001b[0m \u001b[38;5;66;03m# Ensure that the options supports retry_writes and there is a valid session not in\u001b[39;00m\n\u001b[0;32m   1457\u001b[0m \u001b[38;5;66;03m# transaction, otherwise, we will not support retry behavior for this txn.\u001b[39;00m\n\u001b[0;32m   1458\u001b[0m retryable \u001b[38;5;241m=\u001b[39m \u001b[38;5;28mbool\u001b[39m(\n\u001b[0;32m   1459\u001b[0m     retryable \u001b[38;5;129;01mand\u001b[39;00m \u001b[38;5;28mself\u001b[39m\u001b[38;5;241m.\u001b[39moptions\u001b[38;5;241m.\u001b[39mretry_writes \u001b[38;5;129;01mand\u001b[39;00m session \u001b[38;5;129;01mand\u001b[39;00m \u001b[38;5;129;01mnot\u001b[39;00m session\u001b[38;5;241m.\u001b[39min_transaction\n\u001b[0;32m   1460\u001b[0m )\n\u001b[1;32m-> 1461\u001b[0m \u001b[38;5;28;01mreturn\u001b[39;00m \u001b[38;5;28;43mself\u001b[39;49m\u001b[38;5;241;43m.\u001b[39;49m\u001b[43m_retry_internal\u001b[49m\u001b[43m(\u001b[49m\n\u001b[0;32m   1462\u001b[0m \u001b[43m    \u001b[49m\u001b[43mfunc\u001b[49m\u001b[38;5;241;43m=\u001b[39;49m\u001b[43mfunc\u001b[49m\u001b[43m,\u001b[49m\n\u001b[0;32m   1463\u001b[0m \u001b[43m    \u001b[49m\u001b[43msession\u001b[49m\u001b[38;5;241;43m=\u001b[39;49m\u001b[43msession\u001b[49m\u001b[43m,\u001b[49m\n\u001b[0;32m   1464\u001b[0m \u001b[43m    \u001b[49m\u001b[43mbulk\u001b[49m\u001b[38;5;241;43m=\u001b[39;49m\u001b[43mbulk\u001b[49m\u001b[43m,\u001b[49m\n\u001b[0;32m   1465\u001b[0m \u001b[43m    \u001b[49m\u001b[43moperation\u001b[49m\u001b[38;5;241;43m=\u001b[39;49m\u001b[43moperation\u001b[49m\u001b[43m,\u001b[49m\n\u001b[0;32m   1466\u001b[0m \u001b[43m    \u001b[49m\u001b[43mretryable\u001b[49m\u001b[38;5;241;43m=\u001b[39;49m\u001b[43mretryable\u001b[49m\u001b[43m,\u001b[49m\n\u001b[0;32m   1467\u001b[0m \u001b[43m    \u001b[49m\u001b[43moperation_id\u001b[49m\u001b[38;5;241;43m=\u001b[39;49m\u001b[43moperation_id\u001b[49m\u001b[43m,\u001b[49m\n\u001b[0;32m   1468\u001b[0m \u001b[43m\u001b[49m\u001b[43m)\u001b[49m\n",
      "File \u001b[1;32m~\\anaconda3\\envs\\IOD\\lib\\site-packages\\pymongo\\_csot.py:108\u001b[0m, in \u001b[0;36mapply.<locals>.csot_wrapper\u001b[1;34m(self, *args, **kwargs)\u001b[0m\n\u001b[0;32m    106\u001b[0m         \u001b[38;5;28;01mwith\u001b[39;00m _TimeoutContext(timeout):\n\u001b[0;32m    107\u001b[0m             \u001b[38;5;28;01mreturn\u001b[39;00m func(\u001b[38;5;28mself\u001b[39m, \u001b[38;5;241m*\u001b[39margs, \u001b[38;5;241m*\u001b[39m\u001b[38;5;241m*\u001b[39mkwargs)\n\u001b[1;32m--> 108\u001b[0m \u001b[38;5;28;01mreturn\u001b[39;00m func(\u001b[38;5;28mself\u001b[39m, \u001b[38;5;241m*\u001b[39margs, \u001b[38;5;241m*\u001b[39m\u001b[38;5;241m*\u001b[39mkwargs)\n",
      "File \u001b[1;32m~\\anaconda3\\envs\\IOD\\lib\\site-packages\\pymongo\\mongo_client.py:1507\u001b[0m, in \u001b[0;36mMongoClient._retry_internal\u001b[1;34m(self, func, session, bulk, operation, is_read, address, read_pref, retryable, operation_id)\u001b[0m\n\u001b[0;32m   1470\u001b[0m \u001b[38;5;129m@_csot\u001b[39m\u001b[38;5;241m.\u001b[39mapply\n\u001b[0;32m   1471\u001b[0m \u001b[38;5;28;01mdef\u001b[39;00m \u001b[38;5;21m_retry_internal\u001b[39m(\n\u001b[0;32m   1472\u001b[0m     \u001b[38;5;28mself\u001b[39m,\n\u001b[1;32m   (...)\u001b[0m\n\u001b[0;32m   1481\u001b[0m     operation_id: Optional[\u001b[38;5;28mint\u001b[39m] \u001b[38;5;241m=\u001b[39m \u001b[38;5;28;01mNone\u001b[39;00m,\n\u001b[0;32m   1482\u001b[0m ) \u001b[38;5;241m-\u001b[39m\u001b[38;5;241m>\u001b[39m T:\n\u001b[0;32m   1483\u001b[0m \u001b[38;5;250m    \u001b[39m\u001b[38;5;124;03m\"\"\"Internal retryable helper for all client transactions.\u001b[39;00m\n\u001b[0;32m   1484\u001b[0m \n\u001b[0;32m   1485\u001b[0m \u001b[38;5;124;03m    :param func: Callback function we want to retry\u001b[39;00m\n\u001b[1;32m   (...)\u001b[0m\n\u001b[0;32m   1494\u001b[0m \u001b[38;5;124;03m    :return: Output of the calling func()\u001b[39;00m\n\u001b[0;32m   1495\u001b[0m \u001b[38;5;124;03m    \"\"\"\u001b[39;00m\n\u001b[0;32m   1496\u001b[0m     \u001b[38;5;28;01mreturn\u001b[39;00m \u001b[43m_ClientConnectionRetryable\u001b[49m\u001b[43m(\u001b[49m\n\u001b[0;32m   1497\u001b[0m \u001b[43m        \u001b[49m\u001b[43mmongo_client\u001b[49m\u001b[38;5;241;43m=\u001b[39;49m\u001b[38;5;28;43mself\u001b[39;49m\u001b[43m,\u001b[49m\n\u001b[0;32m   1498\u001b[0m \u001b[43m        \u001b[49m\u001b[43mfunc\u001b[49m\u001b[38;5;241;43m=\u001b[39;49m\u001b[43mfunc\u001b[49m\u001b[43m,\u001b[49m\n\u001b[0;32m   1499\u001b[0m \u001b[43m        \u001b[49m\u001b[43mbulk\u001b[49m\u001b[38;5;241;43m=\u001b[39;49m\u001b[43mbulk\u001b[49m\u001b[43m,\u001b[49m\n\u001b[0;32m   1500\u001b[0m \u001b[43m        \u001b[49m\u001b[43moperation\u001b[49m\u001b[38;5;241;43m=\u001b[39;49m\u001b[43moperation\u001b[49m\u001b[43m,\u001b[49m\n\u001b[0;32m   1501\u001b[0m \u001b[43m        \u001b[49m\u001b[43mis_read\u001b[49m\u001b[38;5;241;43m=\u001b[39;49m\u001b[43mis_read\u001b[49m\u001b[43m,\u001b[49m\n\u001b[0;32m   1502\u001b[0m \u001b[43m        \u001b[49m\u001b[43msession\u001b[49m\u001b[38;5;241;43m=\u001b[39;49m\u001b[43msession\u001b[49m\u001b[43m,\u001b[49m\n\u001b[0;32m   1503\u001b[0m \u001b[43m        \u001b[49m\u001b[43mread_pref\u001b[49m\u001b[38;5;241;43m=\u001b[39;49m\u001b[43mread_pref\u001b[49m\u001b[43m,\u001b[49m\n\u001b[0;32m   1504\u001b[0m \u001b[43m        \u001b[49m\u001b[43maddress\u001b[49m\u001b[38;5;241;43m=\u001b[39;49m\u001b[43maddress\u001b[49m\u001b[43m,\u001b[49m\n\u001b[0;32m   1505\u001b[0m \u001b[43m        \u001b[49m\u001b[43mretryable\u001b[49m\u001b[38;5;241;43m=\u001b[39;49m\u001b[43mretryable\u001b[49m\u001b[43m,\u001b[49m\n\u001b[0;32m   1506\u001b[0m \u001b[43m        \u001b[49m\u001b[43moperation_id\u001b[49m\u001b[38;5;241;43m=\u001b[39;49m\u001b[43moperation_id\u001b[49m\u001b[43m,\u001b[49m\n\u001b[1;32m-> 1507\u001b[0m \u001b[43m    \u001b[49m\u001b[43m)\u001b[49m\u001b[38;5;241;43m.\u001b[39;49m\u001b[43mrun\u001b[49m\u001b[43m(\u001b[49m\u001b[43m)\u001b[49m\n",
      "File \u001b[1;32m~\\anaconda3\\envs\\IOD\\lib\\site-packages\\pymongo\\mongo_client.py:2353\u001b[0m, in \u001b[0;36m_ClientConnectionRetryable.run\u001b[1;34m(self)\u001b[0m\n\u001b[0;32m   2351\u001b[0m \u001b[38;5;28mself\u001b[39m\u001b[38;5;241m.\u001b[39m_check_last_error(check_csot\u001b[38;5;241m=\u001b[39m\u001b[38;5;28;01mTrue\u001b[39;00m)\n\u001b[0;32m   2352\u001b[0m \u001b[38;5;28;01mtry\u001b[39;00m:\n\u001b[1;32m-> 2353\u001b[0m     \u001b[38;5;28;01mreturn\u001b[39;00m \u001b[38;5;28mself\u001b[39m\u001b[38;5;241m.\u001b[39m_read() \u001b[38;5;28;01mif\u001b[39;00m \u001b[38;5;28mself\u001b[39m\u001b[38;5;241m.\u001b[39m_is_read \u001b[38;5;28;01melse\u001b[39;00m \u001b[38;5;28;43mself\u001b[39;49m\u001b[38;5;241;43m.\u001b[39;49m\u001b[43m_write\u001b[49m\u001b[43m(\u001b[49m\u001b[43m)\u001b[49m\n\u001b[0;32m   2354\u001b[0m \u001b[38;5;28;01mexcept\u001b[39;00m ServerSelectionTimeoutError:\n\u001b[0;32m   2355\u001b[0m     \u001b[38;5;66;03m# The application may think the write was never attempted\u001b[39;00m\n\u001b[0;32m   2356\u001b[0m     \u001b[38;5;66;03m# if we raise ServerSelectionTimeoutError on the retry\u001b[39;00m\n\u001b[0;32m   2357\u001b[0m     \u001b[38;5;66;03m# attempt. Raise the original exception instead.\u001b[39;00m\n\u001b[0;32m   2358\u001b[0m     \u001b[38;5;28mself\u001b[39m\u001b[38;5;241m.\u001b[39m_check_last_error()\n",
      "File \u001b[1;32m~\\anaconda3\\envs\\IOD\\lib\\site-packages\\pymongo\\mongo_client.py:2470\u001b[0m, in \u001b[0;36m_ClientConnectionRetryable._write\u001b[1;34m(self)\u001b[0m\n\u001b[0;32m   2468\u001b[0m             \u001b[38;5;28mself\u001b[39m\u001b[38;5;241m.\u001b[39m_check_last_error()\n\u001b[0;32m   2469\u001b[0m             \u001b[38;5;28mself\u001b[39m\u001b[38;5;241m.\u001b[39m_retryable \u001b[38;5;241m=\u001b[39m \u001b[38;5;28;01mFalse\u001b[39;00m\n\u001b[1;32m-> 2470\u001b[0m         \u001b[38;5;28;01mreturn\u001b[39;00m \u001b[38;5;28;43mself\u001b[39;49m\u001b[38;5;241;43m.\u001b[39;49m\u001b[43m_func\u001b[49m\u001b[43m(\u001b[49m\u001b[38;5;28;43mself\u001b[39;49m\u001b[38;5;241;43m.\u001b[39;49m\u001b[43m_session\u001b[49m\u001b[43m,\u001b[49m\u001b[43m \u001b[49m\u001b[43mconn\u001b[49m\u001b[43m,\u001b[49m\u001b[43m \u001b[49m\u001b[38;5;28;43mself\u001b[39;49m\u001b[38;5;241;43m.\u001b[39;49m\u001b[43m_retryable\u001b[49m\u001b[43m)\u001b[49m  \u001b[38;5;66;03m# type: ignore\u001b[39;00m\n\u001b[0;32m   2471\u001b[0m \u001b[38;5;28;01mexcept\u001b[39;00m PyMongoError \u001b[38;5;28;01mas\u001b[39;00m exc:\n\u001b[0;32m   2472\u001b[0m     \u001b[38;5;28;01mif\u001b[39;00m \u001b[38;5;129;01mnot\u001b[39;00m \u001b[38;5;28mself\u001b[39m\u001b[38;5;241m.\u001b[39m_retryable:\n",
      "File \u001b[1;32m~\\anaconda3\\envs\\IOD\\lib\\site-packages\\pymongo\\collection.py:596\u001b[0m, in \u001b[0;36mCollection._insert_one.<locals>._insert_command\u001b[1;34m(session, conn, retryable_write)\u001b[0m\n\u001b[0;32m    584\u001b[0m     command[\u001b[38;5;124m\"\u001b[39m\u001b[38;5;124mbypassDocumentValidation\u001b[39m\u001b[38;5;124m\"\u001b[39m] \u001b[38;5;241m=\u001b[39m \u001b[38;5;28;01mTrue\u001b[39;00m\n\u001b[0;32m    586\u001b[0m result \u001b[38;5;241m=\u001b[39m conn\u001b[38;5;241m.\u001b[39mcommand(\n\u001b[0;32m    587\u001b[0m     \u001b[38;5;28mself\u001b[39m\u001b[38;5;241m.\u001b[39m__database\u001b[38;5;241m.\u001b[39mname,\n\u001b[0;32m    588\u001b[0m     command,\n\u001b[1;32m   (...)\u001b[0m\n\u001b[0;32m    593\u001b[0m     retryable_write\u001b[38;5;241m=\u001b[39mretryable_write,\n\u001b[0;32m    594\u001b[0m )\n\u001b[1;32m--> 596\u001b[0m \u001b[43m_check_write_command_response\u001b[49m\u001b[43m(\u001b[49m\u001b[43mresult\u001b[49m\u001b[43m)\u001b[49m\n",
      "File \u001b[1;32m~\\anaconda3\\envs\\IOD\\lib\\site-packages\\pymongo\\helpers.py:286\u001b[0m, in \u001b[0;36m_check_write_command_response\u001b[1;34m(result)\u001b[0m\n\u001b[0;32m    284\u001b[0m write_errors \u001b[38;5;241m=\u001b[39m result\u001b[38;5;241m.\u001b[39mget(\u001b[38;5;124m\"\u001b[39m\u001b[38;5;124mwriteErrors\u001b[39m\u001b[38;5;124m\"\u001b[39m)\n\u001b[0;32m    285\u001b[0m \u001b[38;5;28;01mif\u001b[39;00m write_errors:\n\u001b[1;32m--> 286\u001b[0m     \u001b[43m_raise_last_write_error\u001b[49m\u001b[43m(\u001b[49m\u001b[43mwrite_errors\u001b[49m\u001b[43m)\u001b[49m\n\u001b[0;32m    288\u001b[0m wce \u001b[38;5;241m=\u001b[39m _get_wce_doc(result)\n\u001b[0;32m    289\u001b[0m \u001b[38;5;28;01mif\u001b[39;00m wce:\n",
      "File \u001b[1;32m~\\anaconda3\\envs\\IOD\\lib\\site-packages\\pymongo\\helpers.py:256\u001b[0m, in \u001b[0;36m_raise_last_write_error\u001b[1;34m(write_errors)\u001b[0m\n\u001b[0;32m    254\u001b[0m error \u001b[38;5;241m=\u001b[39m write_errors[\u001b[38;5;241m-\u001b[39m\u001b[38;5;241m1\u001b[39m]\n\u001b[0;32m    255\u001b[0m \u001b[38;5;28;01mif\u001b[39;00m error\u001b[38;5;241m.\u001b[39mget(\u001b[38;5;124m\"\u001b[39m\u001b[38;5;124mcode\u001b[39m\u001b[38;5;124m\"\u001b[39m) \u001b[38;5;241m==\u001b[39m \u001b[38;5;241m11000\u001b[39m:\n\u001b[1;32m--> 256\u001b[0m     \u001b[38;5;28;01mraise\u001b[39;00m DuplicateKeyError(error\u001b[38;5;241m.\u001b[39mget(\u001b[38;5;124m\"\u001b[39m\u001b[38;5;124merrmsg\u001b[39m\u001b[38;5;124m\"\u001b[39m), \u001b[38;5;241m11000\u001b[39m, error)\n\u001b[0;32m    257\u001b[0m \u001b[38;5;28;01mraise\u001b[39;00m WriteError(error\u001b[38;5;241m.\u001b[39mget(\u001b[38;5;124m\"\u001b[39m\u001b[38;5;124merrmsg\u001b[39m\u001b[38;5;124m\"\u001b[39m), error\u001b[38;5;241m.\u001b[39mget(\u001b[38;5;124m\"\u001b[39m\u001b[38;5;124mcode\u001b[39m\u001b[38;5;124m\"\u001b[39m), error)\n",
      "\u001b[1;31mDuplicateKeyError\u001b[0m: E11000 duplicate key error collection: test.shoppers index: _id_ dup key: { _id: 12 }, full error: {'index': 0, 'code': 11000, 'errmsg': 'E11000 duplicate key error collection: test.shoppers index: _id_ dup key: { _id: 12 }', 'keyPattern': {'_id': 1}, 'keyValue': {'_id': 12}}"
     ]
    }
   ],
   "source": [
    "# Warning -- This code will return an error as id no: 12 is already exists\n",
    "x = mycol.insert_one({ \"_id\": 12, \"name\": \"Lola\", \"address\": \"Prospect Dr\"})"
   ]
  },
  {
   "cell_type": "code",
   "execution_count": 27,
   "metadata": {},
   "outputs": [],
   "source": [
    "from pymongo.errors import DuplicateKeyError"
   ]
  },
  {
   "cell_type": "code",
   "execution_count": 29,
   "metadata": {},
   "outputs": [
    {
     "name": "stdout",
     "output_type": "stream",
     "text": [
      "Error: Document with _id 12 already exists.\n",
      "\n",
      "Existing document with _id 12:\n",
      "{'_id': 12, 'name': 'Svetlana', 'address': 'Wayman Ave'}\n"
     ]
    }
   ],
   "source": [
    "# existing _id\n",
    "duplicate_doc = { \"_id\": 12, \"name\": \"Lola\", \"address\": \"Prospect Dr\"}\n",
    "\n",
    "try:\n",
    "    result = mycol.insert_one(duplicate_doc)\n",
    "    print(f\"Inserted document with _id: {result.inserted_id}\")\n",
    "except DuplicateKeyError:\n",
    "    print(f\"Error: Document with _id {duplicate_doc['_id']} already exists.\")\n",
    "\n",
    "# verify the existing document\n",
    "existing_doc = mycol.find_one({\"_id\": 12})\n",
    "print(\"\\nExisting document with _id 12:\")\n",
    "print(existing_doc)"
   ]
  },
  {
   "cell_type": "markdown",
   "metadata": {
    "id": "3CKpbRGDB_cb"
   },
   "source": [
    "So, if we want to manage `_id`s in code, we need to be careful!"
   ]
  },
  {
   "cell_type": "markdown",
   "metadata": {
    "id": "eAyExvFAB_cc"
   },
   "source": [
    "This returns the first document in the collection:"
   ]
  },
  {
   "cell_type": "code",
   "execution_count": 31,
   "metadata": {
    "id": "YzXmhIr4B_cc",
    "outputId": "271ee843-b56b-48d7-8b36-68d0e1eac5c1"
   },
   "outputs": [
    {
     "name": "stdout",
     "output_type": "stream",
     "text": [
      "{'_id': ObjectId('66b44c245fd75a711f4256a1'), 'name': 'Paul', 'address': 'Mansfield Ave'}\n"
     ]
    }
   ],
   "source": [
    "x = mycol.find_one()\n",
    "print(x)"
   ]
  },
  {
   "cell_type": "markdown",
   "metadata": {
    "id": "GWSokljaB_ce"
   },
   "source": [
    "Do the same for the document containing \"name\" = \"Ashton\":"
   ]
  },
  {
   "cell_type": "code",
   "execution_count": 32,
   "metadata": {
    "id": "cA5k8a_dB_cf"
   },
   "outputs": [
    {
     "name": "stdout",
     "output_type": "stream",
     "text": [
      "{'_id': ObjectId('66b44ce15fd75a711f4256a3'), 'name': 'Ashton', 'address': 'Axle St'}\n"
     ]
    }
   ],
   "source": [
    "x = mycol.find_one({\"name\": \"Ashton\"})\n",
    "if x:\n",
    "    print(x)\n",
    "else:\n",
    "    print(\"No document found with name 'Ashton'\")"
   ]
  },
  {
   "cell_type": "markdown",
   "metadata": {
    "id": "DFCVFHu7B_ch"
   },
   "source": [
    "This returns (and prints) all documents in the collection:"
   ]
  },
  {
   "cell_type": "code",
   "execution_count": 33,
   "metadata": {
    "id": "UXVB_CSMB_ch"
   },
   "outputs": [
    {
     "name": "stdout",
     "output_type": "stream",
     "text": [
      "{'_id': ObjectId('66b44c245fd75a711f4256a1'), 'name': 'Paul', 'address': 'Mansfield Ave'}\n",
      "{'_id': ObjectId('66b44cb75fd75a711f4256a2'), 'name': 'Rafa', 'address': 'Holder Drive'}\n",
      "{'_id': ObjectId('66b44ce15fd75a711f4256a3'), 'name': 'Ashton', 'address': 'Axle St'}\n",
      "{'_id': ObjectId('66b44ce15fd75a711f4256a4'), 'name': 'Benjamin', 'address': 'Green Dr'}\n",
      "{'_id': ObjectId('66b44ce15fd75a711f4256a5'), 'name': 'Sally', 'address': 'Holly Blvd'}\n",
      "{'_id': ObjectId('66b44ce15fd75a711f4256a6'), 'name': 'Helen', 'address': 'Castor Prom'}\n",
      "{'_id': ObjectId('66b44ce15fd75a711f4256a7'), 'name': 'Craig', 'address': 'Parsons Way'}\n",
      "{'_id': ObjectId('66b44ce15fd75a711f4256a8'), 'name': 'Betty', 'address': 'Watters St'}\n",
      "{'_id': ObjectId('66b44ce15fd75a711f4256a9'), 'name': 'Aparna', 'address': 'Yonder Dr'}\n",
      "{'_id': ObjectId('66b44ce15fd75a711f4256aa'), 'name': 'Kent', 'address': 'Garrison St'}\n",
      "{'_id': ObjectId('66b44ce15fd75a711f4256ab'), 'name': 'Violet', 'address': 'Station St'}\n",
      "{'_id': ObjectId('66b44ce15fd75a711f4256ac'), 'name': 'Svetlana', 'address': 'Wayman Ave'}\n",
      "{'_id': ObjectId('66b44da65fd75a711f4256ad'), 'name': 'Ashton', 'address': 'Axle St'}\n",
      "{'_id': ObjectId('66b44da65fd75a711f4256ae'), 'name': 'Benjamin', 'address': 'Green Dr'}\n",
      "{'_id': ObjectId('66b44da65fd75a711f4256af'), 'name': 'Sally', 'address': 'Holly Blvd'}\n",
      "{'_id': ObjectId('66b44da65fd75a711f4256b0'), 'name': 'Helen', 'address': 'Castor Prom'}\n",
      "{'_id': ObjectId('66b44da65fd75a711f4256b1'), 'name': 'Craig', 'address': 'Parsons Way'}\n",
      "{'_id': ObjectId('66b44da65fd75a711f4256b2'), 'name': 'Betty', 'address': 'Watters St'}\n",
      "{'_id': ObjectId('66b44da65fd75a711f4256b3'), 'name': 'Aparna', 'address': 'Yonder Dr'}\n",
      "{'_id': ObjectId('66b44da65fd75a711f4256b4'), 'name': 'Kent', 'address': 'Garrison St'}\n",
      "{'_id': ObjectId('66b44da65fd75a711f4256b5'), 'name': 'Violet', 'address': 'Station St'}\n",
      "{'_id': ObjectId('66b44da65fd75a711f4256b6'), 'name': 'Svetlana', 'address': 'Wayman Ave'}\n",
      "{'_id': ObjectId('66b44db95fd75a711f4256b7'), 'name': 'Ashton', 'address': 'Axle St'}\n",
      "{'_id': ObjectId('66b44db95fd75a711f4256b8'), 'name': 'Benjamin', 'address': 'Green Dr'}\n",
      "{'_id': ObjectId('66b44db95fd75a711f4256b9'), 'name': 'Sally', 'address': 'Holly Blvd'}\n",
      "{'_id': ObjectId('66b44db95fd75a711f4256ba'), 'name': 'Helen', 'address': 'Castor Prom'}\n",
      "{'_id': ObjectId('66b44db95fd75a711f4256bb'), 'name': 'Craig', 'address': 'Parsons Way'}\n",
      "{'_id': ObjectId('66b44db95fd75a711f4256bc'), 'name': 'Betty', 'address': 'Watters St'}\n",
      "{'_id': ObjectId('66b44db95fd75a711f4256bd'), 'name': 'Aparna', 'address': 'Yonder Dr'}\n",
      "{'_id': ObjectId('66b44db95fd75a711f4256be'), 'name': 'Kent', 'address': 'Garrison St'}\n",
      "{'_id': ObjectId('66b44db95fd75a711f4256bf'), 'name': 'Violet', 'address': 'Station St'}\n",
      "{'_id': ObjectId('66b44db95fd75a711f4256c0'), 'name': 'Svetlana', 'address': 'Wayman Ave'}\n",
      "{'_id': ObjectId('66b44dbf5fd75a711f4256c1'), 'name': 'Ashton', 'address': 'Axle St'}\n",
      "{'_id': ObjectId('66b44dbf5fd75a711f4256c2'), 'name': 'Benjamin', 'address': 'Green Dr'}\n",
      "{'_id': ObjectId('66b44dbf5fd75a711f4256c3'), 'name': 'Sally', 'address': 'Holly Blvd'}\n",
      "{'_id': ObjectId('66b44dbf5fd75a711f4256c4'), 'name': 'Helen', 'address': 'Castor Prom'}\n",
      "{'_id': ObjectId('66b44dbf5fd75a711f4256c5'), 'name': 'Craig', 'address': 'Parsons Way'}\n",
      "{'_id': ObjectId('66b44dbf5fd75a711f4256c6'), 'name': 'Betty', 'address': 'Watters St'}\n",
      "{'_id': ObjectId('66b44dbf5fd75a711f4256c7'), 'name': 'Aparna', 'address': 'Yonder Dr'}\n",
      "{'_id': ObjectId('66b44dbf5fd75a711f4256c8'), 'name': 'Kent', 'address': 'Garrison St'}\n",
      "{'_id': ObjectId('66b44dbf5fd75a711f4256c9'), 'name': 'Violet', 'address': 'Station St'}\n",
      "{'_id': ObjectId('66b44dbf5fd75a711f4256ca'), 'name': 'Svetlana', 'address': 'Wayman Ave'}\n",
      "{'_id': ObjectId('66b44df65fd75a711f4256cb'), 'name': 'Ashton', 'address': 'Axle St'}\n",
      "{'_id': ObjectId('66b44df65fd75a711f4256cc'), 'name': 'Benjamin', 'address': 'Green Dr'}\n",
      "{'_id': ObjectId('66b44df65fd75a711f4256cd'), 'name': 'Sally', 'address': 'Holly Blvd'}\n",
      "{'_id': ObjectId('66b44df65fd75a711f4256ce'), 'name': 'Helen', 'address': 'Castor Prom'}\n",
      "{'_id': ObjectId('66b44df65fd75a711f4256cf'), 'name': 'Craig', 'address': 'Parsons Way'}\n",
      "{'_id': ObjectId('66b44df65fd75a711f4256d0'), 'name': 'Betty', 'address': 'Watters St'}\n",
      "{'_id': ObjectId('66b44df65fd75a711f4256d1'), 'name': 'Aparna', 'address': 'Yonder Dr'}\n",
      "{'_id': ObjectId('66b44df65fd75a711f4256d2'), 'name': 'Kent', 'address': 'Garrison St'}\n",
      "{'_id': ObjectId('66b44df65fd75a711f4256d3'), 'name': 'Violet', 'address': 'Station St'}\n",
      "{'_id': ObjectId('66b44df65fd75a711f4256d4'), 'name': 'Svetlana', 'address': 'Wayman Ave'}\n",
      "{'_id': ObjectId('66b44e005fd75a711f4256d5'), 'name': 'Ashton', 'address': 'Axle St'}\n",
      "{'_id': ObjectId('66b44e005fd75a711f4256d6'), 'name': 'Benjamin', 'address': 'Green Dr'}\n",
      "{'_id': ObjectId('66b44e005fd75a711f4256d7'), 'name': 'Sally', 'address': 'Holly Blvd'}\n",
      "{'_id': ObjectId('66b44e005fd75a711f4256d8'), 'name': 'Helen', 'address': 'Castor Prom'}\n",
      "{'_id': ObjectId('66b44e005fd75a711f4256d9'), 'name': 'Craig', 'address': 'Parsons Way'}\n",
      "{'_id': ObjectId('66b44e005fd75a711f4256da'), 'name': 'Betty', 'address': 'Watters St'}\n",
      "{'_id': ObjectId('66b44e005fd75a711f4256db'), 'name': 'Aparna', 'address': 'Yonder Dr'}\n",
      "{'_id': ObjectId('66b44e005fd75a711f4256dc'), 'name': 'Kent', 'address': 'Garrison St'}\n",
      "{'_id': ObjectId('66b44e005fd75a711f4256dd'), 'name': 'Violet', 'address': 'Station St'}\n",
      "{'_id': ObjectId('66b44e005fd75a711f4256de'), 'name': 'Svetlana', 'address': 'Wayman Ave'}\n",
      "{'_id': 1, 'name': 'Paul', 'address': 'Mansfield Ave'}\n",
      "{'_id': 2, 'name': 'Rafa', 'address': 'Holder Drive'}\n",
      "{'_id': 3, 'name': 'Ashton', 'address': 'Axle St'}\n",
      "{'_id': 4, 'name': 'Benjamin', 'address': 'Green Dr'}\n",
      "{'_id': 5, 'name': 'Sally', 'address': 'Holly Blvd'}\n",
      "{'_id': 6, 'name': 'Helen', 'address': 'Castor Prom'}\n",
      "{'_id': 7, 'name': 'Craig', 'address': 'Parsons Way'}\n",
      "{'_id': 8, 'name': 'Betty', 'address': 'Watters St'}\n",
      "{'_id': 9, 'name': 'Aparna', 'address': 'Yonder Dr'}\n",
      "{'_id': 10, 'name': 'Kent', 'address': 'Garrison St'}\n",
      "{'_id': 11, 'name': 'Violet', 'address': 'Station St'}\n",
      "{'_id': 12, 'name': 'Svetlana', 'address': 'Wayman Ave'}\n"
     ]
    }
   ],
   "source": [
    "for x in mycol.find():\n",
    "    print(x)"
   ]
  },
  {
   "cell_type": "markdown",
   "metadata": {
    "id": "6dQsHIF6B_cj"
   },
   "source": [
    "This returns only the name and address fields:"
   ]
  },
  {
   "cell_type": "code",
   "execution_count": 34,
   "metadata": {
    "id": "OKY_Buz0B_ck"
   },
   "outputs": [
    {
     "name": "stdout",
     "output_type": "stream",
     "text": [
      "{'name': 'Paul', 'address': 'Mansfield Ave'}\n",
      "{'name': 'Rafa', 'address': 'Holder Drive'}\n",
      "{'name': 'Ashton', 'address': 'Axle St'}\n",
      "{'name': 'Benjamin', 'address': 'Green Dr'}\n",
      "{'name': 'Sally', 'address': 'Holly Blvd'}\n",
      "{'name': 'Helen', 'address': 'Castor Prom'}\n",
      "{'name': 'Craig', 'address': 'Parsons Way'}\n",
      "{'name': 'Betty', 'address': 'Watters St'}\n",
      "{'name': 'Aparna', 'address': 'Yonder Dr'}\n",
      "{'name': 'Kent', 'address': 'Garrison St'}\n",
      "{'name': 'Violet', 'address': 'Station St'}\n",
      "{'name': 'Svetlana', 'address': 'Wayman Ave'}\n",
      "{'name': 'Ashton', 'address': 'Axle St'}\n",
      "{'name': 'Benjamin', 'address': 'Green Dr'}\n",
      "{'name': 'Sally', 'address': 'Holly Blvd'}\n",
      "{'name': 'Helen', 'address': 'Castor Prom'}\n",
      "{'name': 'Craig', 'address': 'Parsons Way'}\n",
      "{'name': 'Betty', 'address': 'Watters St'}\n",
      "{'name': 'Aparna', 'address': 'Yonder Dr'}\n",
      "{'name': 'Kent', 'address': 'Garrison St'}\n",
      "{'name': 'Violet', 'address': 'Station St'}\n",
      "{'name': 'Svetlana', 'address': 'Wayman Ave'}\n",
      "{'name': 'Ashton', 'address': 'Axle St'}\n",
      "{'name': 'Benjamin', 'address': 'Green Dr'}\n",
      "{'name': 'Sally', 'address': 'Holly Blvd'}\n",
      "{'name': 'Helen', 'address': 'Castor Prom'}\n",
      "{'name': 'Craig', 'address': 'Parsons Way'}\n",
      "{'name': 'Betty', 'address': 'Watters St'}\n",
      "{'name': 'Aparna', 'address': 'Yonder Dr'}\n",
      "{'name': 'Kent', 'address': 'Garrison St'}\n",
      "{'name': 'Violet', 'address': 'Station St'}\n",
      "{'name': 'Svetlana', 'address': 'Wayman Ave'}\n",
      "{'name': 'Ashton', 'address': 'Axle St'}\n",
      "{'name': 'Benjamin', 'address': 'Green Dr'}\n",
      "{'name': 'Sally', 'address': 'Holly Blvd'}\n",
      "{'name': 'Helen', 'address': 'Castor Prom'}\n",
      "{'name': 'Craig', 'address': 'Parsons Way'}\n",
      "{'name': 'Betty', 'address': 'Watters St'}\n",
      "{'name': 'Aparna', 'address': 'Yonder Dr'}\n",
      "{'name': 'Kent', 'address': 'Garrison St'}\n",
      "{'name': 'Violet', 'address': 'Station St'}\n",
      "{'name': 'Svetlana', 'address': 'Wayman Ave'}\n",
      "{'name': 'Ashton', 'address': 'Axle St'}\n",
      "{'name': 'Benjamin', 'address': 'Green Dr'}\n",
      "{'name': 'Sally', 'address': 'Holly Blvd'}\n",
      "{'name': 'Helen', 'address': 'Castor Prom'}\n",
      "{'name': 'Craig', 'address': 'Parsons Way'}\n",
      "{'name': 'Betty', 'address': 'Watters St'}\n",
      "{'name': 'Aparna', 'address': 'Yonder Dr'}\n",
      "{'name': 'Kent', 'address': 'Garrison St'}\n",
      "{'name': 'Violet', 'address': 'Station St'}\n",
      "{'name': 'Svetlana', 'address': 'Wayman Ave'}\n",
      "{'name': 'Ashton', 'address': 'Axle St'}\n",
      "{'name': 'Benjamin', 'address': 'Green Dr'}\n",
      "{'name': 'Sally', 'address': 'Holly Blvd'}\n",
      "{'name': 'Helen', 'address': 'Castor Prom'}\n",
      "{'name': 'Craig', 'address': 'Parsons Way'}\n",
      "{'name': 'Betty', 'address': 'Watters St'}\n",
      "{'name': 'Aparna', 'address': 'Yonder Dr'}\n",
      "{'name': 'Kent', 'address': 'Garrison St'}\n",
      "{'name': 'Violet', 'address': 'Station St'}\n",
      "{'name': 'Svetlana', 'address': 'Wayman Ave'}\n",
      "{'name': 'Paul', 'address': 'Mansfield Ave'}\n",
      "{'name': 'Rafa', 'address': 'Holder Drive'}\n",
      "{'name': 'Ashton', 'address': 'Axle St'}\n",
      "{'name': 'Benjamin', 'address': 'Green Dr'}\n",
      "{'name': 'Sally', 'address': 'Holly Blvd'}\n",
      "{'name': 'Helen', 'address': 'Castor Prom'}\n",
      "{'name': 'Craig', 'address': 'Parsons Way'}\n",
      "{'name': 'Betty', 'address': 'Watters St'}\n",
      "{'name': 'Aparna', 'address': 'Yonder Dr'}\n",
      "{'name': 'Kent', 'address': 'Garrison St'}\n",
      "{'name': 'Violet', 'address': 'Station St'}\n",
      "{'name': 'Svetlana', 'address': 'Wayman Ave'}\n"
     ]
    }
   ],
   "source": [
    "for x in mycol.find({},{ \"_id\": 0, \"name\": 1, \"address\": 1 }):\n",
    "    print(x)"
   ]
  },
  {
   "cell_type": "markdown",
   "metadata": {
    "id": "9jAQ7LAdB_cm"
   },
   "source": [
    "Print only the `_id` and name fields:"
   ]
  },
  {
   "cell_type": "code",
   "execution_count": 35,
   "metadata": {
    "id": "FP14yQUQB_cn"
   },
   "outputs": [
    {
     "name": "stdout",
     "output_type": "stream",
     "text": [
      "{'_id': ObjectId('66b44c245fd75a711f4256a1'), 'name': 'Paul'}\n",
      "{'_id': ObjectId('66b44cb75fd75a711f4256a2'), 'name': 'Rafa'}\n",
      "{'_id': ObjectId('66b44ce15fd75a711f4256a3'), 'name': 'Ashton'}\n",
      "{'_id': ObjectId('66b44ce15fd75a711f4256a4'), 'name': 'Benjamin'}\n",
      "{'_id': ObjectId('66b44ce15fd75a711f4256a5'), 'name': 'Sally'}\n",
      "{'_id': ObjectId('66b44ce15fd75a711f4256a6'), 'name': 'Helen'}\n",
      "{'_id': ObjectId('66b44ce15fd75a711f4256a7'), 'name': 'Craig'}\n",
      "{'_id': ObjectId('66b44ce15fd75a711f4256a8'), 'name': 'Betty'}\n",
      "{'_id': ObjectId('66b44ce15fd75a711f4256a9'), 'name': 'Aparna'}\n",
      "{'_id': ObjectId('66b44ce15fd75a711f4256aa'), 'name': 'Kent'}\n",
      "{'_id': ObjectId('66b44ce15fd75a711f4256ab'), 'name': 'Violet'}\n",
      "{'_id': ObjectId('66b44ce15fd75a711f4256ac'), 'name': 'Svetlana'}\n",
      "{'_id': ObjectId('66b44da65fd75a711f4256ad'), 'name': 'Ashton'}\n",
      "{'_id': ObjectId('66b44da65fd75a711f4256ae'), 'name': 'Benjamin'}\n",
      "{'_id': ObjectId('66b44da65fd75a711f4256af'), 'name': 'Sally'}\n",
      "{'_id': ObjectId('66b44da65fd75a711f4256b0'), 'name': 'Helen'}\n",
      "{'_id': ObjectId('66b44da65fd75a711f4256b1'), 'name': 'Craig'}\n",
      "{'_id': ObjectId('66b44da65fd75a711f4256b2'), 'name': 'Betty'}\n",
      "{'_id': ObjectId('66b44da65fd75a711f4256b3'), 'name': 'Aparna'}\n",
      "{'_id': ObjectId('66b44da65fd75a711f4256b4'), 'name': 'Kent'}\n",
      "{'_id': ObjectId('66b44da65fd75a711f4256b5'), 'name': 'Violet'}\n",
      "{'_id': ObjectId('66b44da65fd75a711f4256b6'), 'name': 'Svetlana'}\n",
      "{'_id': ObjectId('66b44db95fd75a711f4256b7'), 'name': 'Ashton'}\n",
      "{'_id': ObjectId('66b44db95fd75a711f4256b8'), 'name': 'Benjamin'}\n",
      "{'_id': ObjectId('66b44db95fd75a711f4256b9'), 'name': 'Sally'}\n",
      "{'_id': ObjectId('66b44db95fd75a711f4256ba'), 'name': 'Helen'}\n",
      "{'_id': ObjectId('66b44db95fd75a711f4256bb'), 'name': 'Craig'}\n",
      "{'_id': ObjectId('66b44db95fd75a711f4256bc'), 'name': 'Betty'}\n",
      "{'_id': ObjectId('66b44db95fd75a711f4256bd'), 'name': 'Aparna'}\n",
      "{'_id': ObjectId('66b44db95fd75a711f4256be'), 'name': 'Kent'}\n",
      "{'_id': ObjectId('66b44db95fd75a711f4256bf'), 'name': 'Violet'}\n",
      "{'_id': ObjectId('66b44db95fd75a711f4256c0'), 'name': 'Svetlana'}\n",
      "{'_id': ObjectId('66b44dbf5fd75a711f4256c1'), 'name': 'Ashton'}\n",
      "{'_id': ObjectId('66b44dbf5fd75a711f4256c2'), 'name': 'Benjamin'}\n",
      "{'_id': ObjectId('66b44dbf5fd75a711f4256c3'), 'name': 'Sally'}\n",
      "{'_id': ObjectId('66b44dbf5fd75a711f4256c4'), 'name': 'Helen'}\n",
      "{'_id': ObjectId('66b44dbf5fd75a711f4256c5'), 'name': 'Craig'}\n",
      "{'_id': ObjectId('66b44dbf5fd75a711f4256c6'), 'name': 'Betty'}\n",
      "{'_id': ObjectId('66b44dbf5fd75a711f4256c7'), 'name': 'Aparna'}\n",
      "{'_id': ObjectId('66b44dbf5fd75a711f4256c8'), 'name': 'Kent'}\n",
      "{'_id': ObjectId('66b44dbf5fd75a711f4256c9'), 'name': 'Violet'}\n",
      "{'_id': ObjectId('66b44dbf5fd75a711f4256ca'), 'name': 'Svetlana'}\n",
      "{'_id': ObjectId('66b44df65fd75a711f4256cb'), 'name': 'Ashton'}\n",
      "{'_id': ObjectId('66b44df65fd75a711f4256cc'), 'name': 'Benjamin'}\n",
      "{'_id': ObjectId('66b44df65fd75a711f4256cd'), 'name': 'Sally'}\n",
      "{'_id': ObjectId('66b44df65fd75a711f4256ce'), 'name': 'Helen'}\n",
      "{'_id': ObjectId('66b44df65fd75a711f4256cf'), 'name': 'Craig'}\n",
      "{'_id': ObjectId('66b44df65fd75a711f4256d0'), 'name': 'Betty'}\n",
      "{'_id': ObjectId('66b44df65fd75a711f4256d1'), 'name': 'Aparna'}\n",
      "{'_id': ObjectId('66b44df65fd75a711f4256d2'), 'name': 'Kent'}\n",
      "{'_id': ObjectId('66b44df65fd75a711f4256d3'), 'name': 'Violet'}\n",
      "{'_id': ObjectId('66b44df65fd75a711f4256d4'), 'name': 'Svetlana'}\n",
      "{'_id': ObjectId('66b44e005fd75a711f4256d5'), 'name': 'Ashton'}\n",
      "{'_id': ObjectId('66b44e005fd75a711f4256d6'), 'name': 'Benjamin'}\n",
      "{'_id': ObjectId('66b44e005fd75a711f4256d7'), 'name': 'Sally'}\n",
      "{'_id': ObjectId('66b44e005fd75a711f4256d8'), 'name': 'Helen'}\n",
      "{'_id': ObjectId('66b44e005fd75a711f4256d9'), 'name': 'Craig'}\n",
      "{'_id': ObjectId('66b44e005fd75a711f4256da'), 'name': 'Betty'}\n",
      "{'_id': ObjectId('66b44e005fd75a711f4256db'), 'name': 'Aparna'}\n",
      "{'_id': ObjectId('66b44e005fd75a711f4256dc'), 'name': 'Kent'}\n",
      "{'_id': ObjectId('66b44e005fd75a711f4256dd'), 'name': 'Violet'}\n",
      "{'_id': ObjectId('66b44e005fd75a711f4256de'), 'name': 'Svetlana'}\n",
      "{'_id': 1, 'name': 'Paul'}\n",
      "{'_id': 2, 'name': 'Rafa'}\n",
      "{'_id': 3, 'name': 'Ashton'}\n",
      "{'_id': 4, 'name': 'Benjamin'}\n",
      "{'_id': 5, 'name': 'Sally'}\n",
      "{'_id': 6, 'name': 'Helen'}\n",
      "{'_id': 7, 'name': 'Craig'}\n",
      "{'_id': 8, 'name': 'Betty'}\n",
      "{'_id': 9, 'name': 'Aparna'}\n",
      "{'_id': 10, 'name': 'Kent'}\n",
      "{'_id': 11, 'name': 'Violet'}\n",
      "{'_id': 12, 'name': 'Svetlana'}\n"
     ]
    }
   ],
   "source": [
    "#ANSWER\n",
    "for x in mycol.find({}, {\"_id\": 1, \"name\": 1}):\n",
    "    print(x)"
   ]
  },
  {
   "cell_type": "markdown",
   "metadata": {
    "id": "esHLntbmB_cp"
   },
   "source": [
    "So, we must explicitly use `\"_id\": 0` to exclude it, but for other fields we simply omit them from the dict argument."
   ]
  },
  {
   "cell_type": "markdown",
   "metadata": {
    "id": "hSOdFGEpB_cq"
   },
   "source": [
    "To include field conditionals in a query, we use `$` operators. This finds addresses starting with \"S\" or greater:"
   ]
  },
  {
   "cell_type": "code",
   "execution_count": 36,
   "metadata": {
    "id": "KaHOWDwkB_cq",
    "outputId": "ad0a4e7b-72ba-4d56-9279-1fc242e30cf1",
    "scrolled": true
   },
   "outputs": [
    {
     "name": "stdout",
     "output_type": "stream",
     "text": [
      "{'_id': ObjectId('66b44ce15fd75a711f4256a8'), 'name': 'Betty', 'address': 'Watters St'}\n",
      "{'_id': ObjectId('66b44ce15fd75a711f4256a9'), 'name': 'Aparna', 'address': 'Yonder Dr'}\n",
      "{'_id': ObjectId('66b44ce15fd75a711f4256ab'), 'name': 'Violet', 'address': 'Station St'}\n",
      "{'_id': ObjectId('66b44ce15fd75a711f4256ac'), 'name': 'Svetlana', 'address': 'Wayman Ave'}\n",
      "{'_id': ObjectId('66b44da65fd75a711f4256b2'), 'name': 'Betty', 'address': 'Watters St'}\n",
      "{'_id': ObjectId('66b44da65fd75a711f4256b3'), 'name': 'Aparna', 'address': 'Yonder Dr'}\n",
      "{'_id': ObjectId('66b44da65fd75a711f4256b5'), 'name': 'Violet', 'address': 'Station St'}\n",
      "{'_id': ObjectId('66b44da65fd75a711f4256b6'), 'name': 'Svetlana', 'address': 'Wayman Ave'}\n",
      "{'_id': ObjectId('66b44db95fd75a711f4256bc'), 'name': 'Betty', 'address': 'Watters St'}\n",
      "{'_id': ObjectId('66b44db95fd75a711f4256bd'), 'name': 'Aparna', 'address': 'Yonder Dr'}\n",
      "{'_id': ObjectId('66b44db95fd75a711f4256bf'), 'name': 'Violet', 'address': 'Station St'}\n",
      "{'_id': ObjectId('66b44db95fd75a711f4256c0'), 'name': 'Svetlana', 'address': 'Wayman Ave'}\n",
      "{'_id': ObjectId('66b44dbf5fd75a711f4256c6'), 'name': 'Betty', 'address': 'Watters St'}\n",
      "{'_id': ObjectId('66b44dbf5fd75a711f4256c7'), 'name': 'Aparna', 'address': 'Yonder Dr'}\n",
      "{'_id': ObjectId('66b44dbf5fd75a711f4256c9'), 'name': 'Violet', 'address': 'Station St'}\n",
      "{'_id': ObjectId('66b44dbf5fd75a711f4256ca'), 'name': 'Svetlana', 'address': 'Wayman Ave'}\n",
      "{'_id': ObjectId('66b44df65fd75a711f4256d0'), 'name': 'Betty', 'address': 'Watters St'}\n",
      "{'_id': ObjectId('66b44df65fd75a711f4256d1'), 'name': 'Aparna', 'address': 'Yonder Dr'}\n",
      "{'_id': ObjectId('66b44df65fd75a711f4256d3'), 'name': 'Violet', 'address': 'Station St'}\n",
      "{'_id': ObjectId('66b44df65fd75a711f4256d4'), 'name': 'Svetlana', 'address': 'Wayman Ave'}\n",
      "{'_id': ObjectId('66b44e005fd75a711f4256da'), 'name': 'Betty', 'address': 'Watters St'}\n",
      "{'_id': ObjectId('66b44e005fd75a711f4256db'), 'name': 'Aparna', 'address': 'Yonder Dr'}\n",
      "{'_id': ObjectId('66b44e005fd75a711f4256dd'), 'name': 'Violet', 'address': 'Station St'}\n",
      "{'_id': ObjectId('66b44e005fd75a711f4256de'), 'name': 'Svetlana', 'address': 'Wayman Ave'}\n",
      "{'_id': 8, 'name': 'Betty', 'address': 'Watters St'}\n",
      "{'_id': 9, 'name': 'Aparna', 'address': 'Yonder Dr'}\n",
      "{'_id': 11, 'name': 'Violet', 'address': 'Station St'}\n",
      "{'_id': 12, 'name': 'Svetlana', 'address': 'Wayman Ave'}\n"
     ]
    }
   ],
   "source": [
    "myquery = { \"address\": { \"$gt\": \"S\" } }\n",
    "mydoc = mycol.find(myquery)\n",
    "for x in mydoc:\n",
    "    print(x)"
   ]
  },
  {
   "cell_type": "markdown",
   "metadata": {
    "id": "i3fUXWpiB_cs"
   },
   "source": [
    "Here are some more comparison operators:\n",
    "\n",
    "            $gt, $gte, $eq, $in, $nin, $exists, $and, $or, $not\n",
    "            \n",
    "Experiment with these until you understand how to use them."
   ]
  },
  {
   "cell_type": "code",
   "execution_count": null,
   "metadata": {
    "id": "ensDpd9VB_ct"
   },
   "outputs": [],
   "source": []
  },
  {
   "cell_type": "markdown",
   "metadata": {
    "id": "IxvWRoS3B_cu"
   },
   "source": [
    "Now find all docs with an address that begins with \"W\":  \n",
    "(HINT: The value for \"address\" in the argument should be the regex-based dict { \"$regex\": \"^W\" }.)"
   ]
  },
  {
   "cell_type": "code",
   "execution_count": 37,
   "metadata": {
    "id": "i5zMYTsdB_cu"
   },
   "outputs": [
    {
     "name": "stdout",
     "output_type": "stream",
     "text": [
      "Documents with address starting with 'W':\n",
      "{'_id': ObjectId('66b44ce15fd75a711f4256a8'), 'name': 'Betty', 'address': 'Watters St'}\n",
      "{'_id': ObjectId('66b44ce15fd75a711f4256ac'), 'name': 'Svetlana', 'address': 'Wayman Ave'}\n",
      "{'_id': ObjectId('66b44da65fd75a711f4256b2'), 'name': 'Betty', 'address': 'Watters St'}\n",
      "{'_id': ObjectId('66b44da65fd75a711f4256b6'), 'name': 'Svetlana', 'address': 'Wayman Ave'}\n",
      "{'_id': ObjectId('66b44db95fd75a711f4256bc'), 'name': 'Betty', 'address': 'Watters St'}\n",
      "{'_id': ObjectId('66b44db95fd75a711f4256c0'), 'name': 'Svetlana', 'address': 'Wayman Ave'}\n",
      "{'_id': ObjectId('66b44dbf5fd75a711f4256c6'), 'name': 'Betty', 'address': 'Watters St'}\n",
      "{'_id': ObjectId('66b44dbf5fd75a711f4256ca'), 'name': 'Svetlana', 'address': 'Wayman Ave'}\n",
      "{'_id': ObjectId('66b44df65fd75a711f4256d0'), 'name': 'Betty', 'address': 'Watters St'}\n",
      "{'_id': ObjectId('66b44df65fd75a711f4256d4'), 'name': 'Svetlana', 'address': 'Wayman Ave'}\n",
      "{'_id': ObjectId('66b44e005fd75a711f4256da'), 'name': 'Betty', 'address': 'Watters St'}\n",
      "{'_id': ObjectId('66b44e005fd75a711f4256de'), 'name': 'Svetlana', 'address': 'Wayman Ave'}\n",
      "{'_id': 8, 'name': 'Betty', 'address': 'Watters St'}\n",
      "{'_id': 12, 'name': 'Svetlana', 'address': 'Wayman Ave'}\n"
     ]
    }
   ],
   "source": [
    "#ANSWER:\n",
    "myquery = { \"address\": { \"$regex\": \"^W\" } }\n",
    "mydoc = mycol.find(myquery)\n",
    "\n",
    "print(\"Documents with address starting with 'W':\")\n",
    "for x in mydoc:\n",
    "    print(x)"
   ]
  },
  {
   "cell_type": "markdown",
   "metadata": {
    "id": "B1W9jlEnB_cw"
   },
   "source": [
    "Sorting can be applied by invoking the sort() method after the find() method. Sort the collection by the name field:"
   ]
  },
  {
   "cell_type": "code",
   "execution_count": 38,
   "metadata": {
    "id": "fzxxFYrtB_cw"
   },
   "outputs": [
    {
     "name": "stdout",
     "output_type": "stream",
     "text": [
      "Documents sorted by name (ascending order):\n",
      "Name: Aparna, Address: Yonder Dr\n",
      "Name: Aparna, Address: Yonder Dr\n",
      "Name: Aparna, Address: Yonder Dr\n",
      "Name: Aparna, Address: Yonder Dr\n",
      "Name: Aparna, Address: Yonder Dr\n",
      "Name: Aparna, Address: Yonder Dr\n",
      "Name: Aparna, Address: Yonder Dr\n",
      "Name: Ashton, Address: Axle St\n",
      "Name: Ashton, Address: Axle St\n",
      "Name: Ashton, Address: Axle St\n",
      "Name: Ashton, Address: Axle St\n",
      "Name: Ashton, Address: Axle St\n",
      "Name: Ashton, Address: Axle St\n",
      "Name: Ashton, Address: Axle St\n",
      "Name: Benjamin, Address: Green Dr\n",
      "Name: Benjamin, Address: Green Dr\n",
      "Name: Benjamin, Address: Green Dr\n",
      "Name: Benjamin, Address: Green Dr\n",
      "Name: Benjamin, Address: Green Dr\n",
      "Name: Benjamin, Address: Green Dr\n",
      "Name: Benjamin, Address: Green Dr\n",
      "Name: Betty, Address: Watters St\n",
      "Name: Betty, Address: Watters St\n",
      "Name: Betty, Address: Watters St\n",
      "Name: Betty, Address: Watters St\n",
      "Name: Betty, Address: Watters St\n",
      "Name: Betty, Address: Watters St\n",
      "Name: Betty, Address: Watters St\n",
      "Name: Craig, Address: Parsons Way\n",
      "Name: Craig, Address: Parsons Way\n",
      "Name: Craig, Address: Parsons Way\n",
      "Name: Craig, Address: Parsons Way\n",
      "Name: Craig, Address: Parsons Way\n",
      "Name: Craig, Address: Parsons Way\n",
      "Name: Craig, Address: Parsons Way\n",
      "Name: Helen, Address: Castor Prom\n",
      "Name: Helen, Address: Castor Prom\n",
      "Name: Helen, Address: Castor Prom\n",
      "Name: Helen, Address: Castor Prom\n",
      "Name: Helen, Address: Castor Prom\n",
      "Name: Helen, Address: Castor Prom\n",
      "Name: Helen, Address: Castor Prom\n",
      "Name: Kent, Address: Garrison St\n",
      "Name: Kent, Address: Garrison St\n",
      "Name: Kent, Address: Garrison St\n",
      "Name: Kent, Address: Garrison St\n",
      "Name: Kent, Address: Garrison St\n",
      "Name: Kent, Address: Garrison St\n",
      "Name: Kent, Address: Garrison St\n",
      "Name: Paul, Address: Mansfield Ave\n",
      "Name: Paul, Address: Mansfield Ave\n",
      "Name: Rafa, Address: Holder Drive\n",
      "Name: Rafa, Address: Holder Drive\n",
      "Name: Sally, Address: Holly Blvd\n",
      "Name: Sally, Address: Holly Blvd\n",
      "Name: Sally, Address: Holly Blvd\n",
      "Name: Sally, Address: Holly Blvd\n",
      "Name: Sally, Address: Holly Blvd\n",
      "Name: Sally, Address: Holly Blvd\n",
      "Name: Sally, Address: Holly Blvd\n",
      "Name: Svetlana, Address: Wayman Ave\n",
      "Name: Svetlana, Address: Wayman Ave\n",
      "Name: Svetlana, Address: Wayman Ave\n",
      "Name: Svetlana, Address: Wayman Ave\n",
      "Name: Svetlana, Address: Wayman Ave\n",
      "Name: Svetlana, Address: Wayman Ave\n",
      "Name: Svetlana, Address: Wayman Ave\n",
      "Name: Violet, Address: Station St\n",
      "Name: Violet, Address: Station St\n",
      "Name: Violet, Address: Station St\n",
      "Name: Violet, Address: Station St\n",
      "Name: Violet, Address: Station St\n",
      "Name: Violet, Address: Station St\n",
      "Name: Violet, Address: Station St\n"
     ]
    }
   ],
   "source": [
    "#ANSWER:\n",
    "sorted_docs = mycol.find().sort(\"name\", 1)\n",
    "\n",
    "print(\"Documents sorted by name (ascending order):\")\n",
    "for doc in sorted_docs:\n",
    "    print(f\"Name: {doc['name']}, Address: {doc['address']}\")"
   ]
  },
  {
   "cell_type": "markdown",
   "metadata": {
    "id": "esbldZv0B_cx"
   },
   "source": [
    "Now sort in reverse order (HINT: The sort() method takes an optional second parameter.)"
   ]
  },
  {
   "cell_type": "code",
   "execution_count": 39,
   "metadata": {
    "id": "k5oDnwVb4Naw"
   },
   "outputs": [
    {
     "name": "stdout",
     "output_type": "stream",
     "text": [
      "Documents sorted by name (descending order):\n",
      "Name: Violet, Address: Station St\n",
      "Name: Violet, Address: Station St\n",
      "Name: Violet, Address: Station St\n",
      "Name: Violet, Address: Station St\n",
      "Name: Violet, Address: Station St\n",
      "Name: Violet, Address: Station St\n",
      "Name: Violet, Address: Station St\n",
      "Name: Svetlana, Address: Wayman Ave\n",
      "Name: Svetlana, Address: Wayman Ave\n",
      "Name: Svetlana, Address: Wayman Ave\n",
      "Name: Svetlana, Address: Wayman Ave\n",
      "Name: Svetlana, Address: Wayman Ave\n",
      "Name: Svetlana, Address: Wayman Ave\n",
      "Name: Svetlana, Address: Wayman Ave\n",
      "Name: Sally, Address: Holly Blvd\n",
      "Name: Sally, Address: Holly Blvd\n",
      "Name: Sally, Address: Holly Blvd\n",
      "Name: Sally, Address: Holly Blvd\n",
      "Name: Sally, Address: Holly Blvd\n",
      "Name: Sally, Address: Holly Blvd\n",
      "Name: Sally, Address: Holly Blvd\n",
      "Name: Rafa, Address: Holder Drive\n",
      "Name: Rafa, Address: Holder Drive\n",
      "Name: Paul, Address: Mansfield Ave\n",
      "Name: Paul, Address: Mansfield Ave\n",
      "Name: Kent, Address: Garrison St\n",
      "Name: Kent, Address: Garrison St\n",
      "Name: Kent, Address: Garrison St\n",
      "Name: Kent, Address: Garrison St\n",
      "Name: Kent, Address: Garrison St\n",
      "Name: Kent, Address: Garrison St\n",
      "Name: Kent, Address: Garrison St\n",
      "Name: Helen, Address: Castor Prom\n",
      "Name: Helen, Address: Castor Prom\n",
      "Name: Helen, Address: Castor Prom\n",
      "Name: Helen, Address: Castor Prom\n",
      "Name: Helen, Address: Castor Prom\n",
      "Name: Helen, Address: Castor Prom\n",
      "Name: Helen, Address: Castor Prom\n",
      "Name: Craig, Address: Parsons Way\n",
      "Name: Craig, Address: Parsons Way\n",
      "Name: Craig, Address: Parsons Way\n",
      "Name: Craig, Address: Parsons Way\n",
      "Name: Craig, Address: Parsons Way\n",
      "Name: Craig, Address: Parsons Way\n",
      "Name: Craig, Address: Parsons Way\n",
      "Name: Betty, Address: Watters St\n",
      "Name: Betty, Address: Watters St\n",
      "Name: Betty, Address: Watters St\n",
      "Name: Betty, Address: Watters St\n",
      "Name: Betty, Address: Watters St\n",
      "Name: Betty, Address: Watters St\n",
      "Name: Betty, Address: Watters St\n",
      "Name: Benjamin, Address: Green Dr\n",
      "Name: Benjamin, Address: Green Dr\n",
      "Name: Benjamin, Address: Green Dr\n",
      "Name: Benjamin, Address: Green Dr\n",
      "Name: Benjamin, Address: Green Dr\n",
      "Name: Benjamin, Address: Green Dr\n",
      "Name: Benjamin, Address: Green Dr\n",
      "Name: Ashton, Address: Axle St\n",
      "Name: Ashton, Address: Axle St\n",
      "Name: Ashton, Address: Axle St\n",
      "Name: Ashton, Address: Axle St\n",
      "Name: Ashton, Address: Axle St\n",
      "Name: Ashton, Address: Axle St\n",
      "Name: Ashton, Address: Axle St\n",
      "Name: Aparna, Address: Yonder Dr\n",
      "Name: Aparna, Address: Yonder Dr\n",
      "Name: Aparna, Address: Yonder Dr\n",
      "Name: Aparna, Address: Yonder Dr\n",
      "Name: Aparna, Address: Yonder Dr\n",
      "Name: Aparna, Address: Yonder Dr\n",
      "Name: Aparna, Address: Yonder Dr\n"
     ]
    }
   ],
   "source": [
    "#ANSWER\n",
    "sorted_docs = mycol.find().sort(\"name\", -1)\n",
    "\n",
    "print(\"Documents sorted by name (descending order):\")\n",
    "for doc in sorted_docs:\n",
    "    print(f\"Name: {doc['name']}, Address: {doc['address']}\")"
   ]
  },
  {
   "cell_type": "markdown",
   "metadata": {
    "id": "s0oVQyDGB_cy"
   },
   "source": [
    "A single record can be deleted by specifying some criterion:"
   ]
  },
  {
   "cell_type": "code",
   "execution_count": 40,
   "metadata": {
    "id": "8yxmQAs6B_cy",
    "outputId": "1bc9d528-4034-438e-a68b-acc7f11efce4"
   },
   "outputs": [
    {
     "data": {
      "text/plain": [
       "DeleteResult({'n': 1, 'ok': 1.0}, acknowledged=True)"
      ]
     },
     "execution_count": 40,
     "metadata": {},
     "output_type": "execute_result"
    }
   ],
   "source": [
    "mycol.delete_one({ \"address\": \"Castor Prom\" })"
   ]
  },
  {
   "cell_type": "markdown",
   "metadata": {
    "id": "QqH7lF-uB_c0"
   },
   "source": [
    "Now delete all docs with the 2-digit `Id` values:"
   ]
  },
  {
   "cell_type": "code",
   "execution_count": 45,
   "metadata": {
    "id": "0pyYX1YUB_c0"
   },
   "outputs": [
    {
     "name": "stdout",
     "output_type": "stream",
     "text": [
      "Deleted 0 document(s)\n"
     ]
    }
   ],
   "source": [
    "from bson.regex import Regex\n",
    "\n",
    "# Query to match documents with 2-digit _id values\n",
    "query = {\"_id\": {\"$type\": \"int\", \"$regex\": Regex(\"^[0-9]{2}$\")}}\n",
    "\n",
    "# Delete the matching documents\n",
    "result = mycol.delete_many(query)\n",
    "\n",
    "print(f\"Deleted {result.deleted_count} document(s)\")\n"
   ]
  },
  {
   "cell_type": "markdown",
   "metadata": {
    "id": "CsjxNZY6B_c1"
   },
   "source": [
    "This would delete all docs:\n",
    "`x = mycol.delete_many({})`\n",
    "\n",
    "This would remove the collection:\n",
    "`mycol.drop()`\n",
    "\n",
    "This would drop the database:\n",
    "`client.drop_database('test')`"
   ]
  },
  {
   "cell_type": "markdown",
   "metadata": {
    "id": "2Dnc3vItB_c2"
   },
   "source": [
    "Change the first instance of \"address\" == \"Garrison St\" to \"Somers Ave\" using update_one().  \n",
    "(HINT: The 1st parameter of update_one() is the criterion (query); the 2nd is dict specifying the field to change and its new value.)"
   ]
  },
  {
   "cell_type": "code",
   "execution_count": 44,
   "metadata": {
    "id": "lhd3SoGjB_c2"
   },
   "outputs": [
    {
     "name": "stdout",
     "output_type": "stream",
     "text": [
      "Matched 0 document(s)\n",
      "Modified 0 document(s)\n"
     ]
    }
   ],
   "source": [
    "#ANSWER:\n",
    "query = {\"address\": \"Garrison St\"}\n",
    "\n",
    "new_values = {\"$set\": {\"address\": \"Somers Ave\"}}\n",
    "result = mycol.update_one(query, new_values)\n",
    "\n",
    "print(f\"Matched {result.matched_count} document(s)\")\n",
    "print(f\"Modified {result.modified_count} document(s)\")"
   ]
  },
  {
   "cell_type": "markdown",
   "metadata": {
    "id": "56frrtHFB_c3"
   },
   "source": [
    "The limit() method can be applied after the find() method to limit the number of docs returned. Show the first 5 docs:"
   ]
  },
  {
   "cell_type": "code",
   "execution_count": 46,
   "metadata": {
    "id": "iKI5zKUbB_c4",
    "scrolled": true
   },
   "outputs": [
    {
     "name": "stdout",
     "output_type": "stream",
     "text": [
      "First 5 documents in the collection:\n"
     ]
    }
   ],
   "source": [
    "#ANSWER:\n",
    "limited_docs = mycol.find().sort(\"_id\", 1).limit(5)\n",
    "\n",
    "print(\"First 5 documents in the collection:\")\n",
    "for doc in limited_docs:\n",
    "    print(f\"_id: {doc['_id']}, Name: {doc['name']}, Address: {doc['address']}\")"
   ]
  },
  {
   "cell_type": "markdown",
   "metadata": {
    "id": "eT0nESi-B_c5"
   },
   "source": [
    "## PyMongo for Data Science"
   ]
  },
  {
   "cell_type": "markdown",
   "metadata": {
    "id": "S_MH0UFpB_c5"
   },
   "source": [
    "MongoDB has many more features of interest to developers, but the main focus of a data scientist will be wrangling and munging the data. It may or may not be desirable to do all the data munging in Pandas; for a large, distributed database, it may be imperative to perform aggregation in MongoDB."
   ]
  },
  {
   "cell_type": "code",
   "execution_count": 47,
   "metadata": {
    "id": "TM1rIsJuB_c5"
   },
   "outputs": [],
   "source": [
    "# Ref:  https://rsandstroem.github.io/MongoDBDemo.html\n",
    "\n",
    "import pandas as pd\n",
    "import numpy as np"
   ]
  },
  {
   "cell_type": "markdown",
   "metadata": {
    "id": "L6kZkdjRB_c7"
   },
   "source": [
    "The following code in the next few cells, will create a database named \"command_test\" which populates its data from a local JSON file called dummyData.json (you need to download this from the Google Classroom DATA folder) using the mongoimport program.\n",
    "\n",
    "**Step 1**. Using the command prompt (Windows) or Terminal (Mac) change to the directory containing the file mongoimport.exe (example: cd \"C:\\Program Files\\MongoDB\\Tools\\100\\bin\")"
   ]
  },
  {
   "cell_type": "markdown",
   "metadata": {
    "id": "gr7dgFCC4Naz"
   },
   "source": [
    "**Step 2**. After you have changed your directory, copy/paste the line below in the command prompt/ terminal after modifying \"dummydata.json\" to include the path on your system where the file is located:\n",
    "<br>\n",
    "\n",
    "      mongoimport --db command_test --collection people --drop --file \"dummyData.json\"       \n",
    "\n",
    "- db: stands for database name that you use --> in our case, it is \"command_test\"\n",
    "- collection: stands for the collection you created within the database --> in our case it is \"people\"\n",
    "- file: stands for the file path to your \"dummyData.json\" file, which you downloaded from our Google Classroom DATA folder - you may need to modify \"dummyData.json\""
   ]
  },
  {
   "cell_type": "markdown",
   "metadata": {
    "id": "xFH0rxoY4Naz"
   },
   "source": [
    "**Step 3**. Copy/paste the line below into the command prompt or terminal:\n",
    "<br>\n",
    "\n",
    "    mongoimport -d command_test -c people --file \"dummyData.json\"\n"
   ]
  },
  {
   "cell_type": "code",
   "execution_count": 48,
   "metadata": {
    "id": "6WP7YGNXKbpZ"
   },
   "outputs": [],
   "source": [
    "#client = MongoClient('localhost', 27017) #connects to your local mongoDB"
   ]
  },
  {
   "cell_type": "markdown",
   "metadata": {
    "id": "5ut5OAY14Naz"
   },
   "source": [
    "If the above is successful, running the next cell should produce three records corresponding to the youngest people."
   ]
  },
  {
   "cell_type": "code",
   "execution_count": 49,
   "metadata": {
    "id": "fXByi5IfB_c_"
   },
   "outputs": [],
   "source": [
    "db = client.command_test\n",
    "collection = db.people\n",
    "cursor = collection.find().sort('Age',pymongo.ASCENDING).limit(3)\n",
    "for doc in cursor:\n",
    "    print (doc)"
   ]
  },
  {
   "cell_type": "markdown",
   "metadata": {
    "id": "vPnfkW2tB_dA"
   },
   "source": [
    "Here is a small demonstration of the MongoDB aggregation framework. We want to create a table of the number of persons in each country and their average age. To do it we group by country. We extract the results from MongoDB aggregation into a pandas dataframe, and use the country as index."
   ]
  },
  {
   "cell_type": "code",
   "execution_count": 50,
   "metadata": {
    "id": "s2q_B0m5B_dA"
   },
   "outputs": [
    {
     "ename": "KeyError",
     "evalue": "\"None of ['_id'] are in the columns\"",
     "output_type": "error",
     "traceback": [
      "\u001b[1;31m---------------------------------------------------------------------------\u001b[0m",
      "\u001b[1;31mKeyError\u001b[0m                                  Traceback (most recent call last)",
      "\u001b[1;32m~\\AppData\\Local\\Temp\\ipykernel_19440\\3444159373.py\u001b[0m in \u001b[0;36m?\u001b[1;34m()\u001b[0m\n\u001b[0;32m      7\u001b[0m ]\n\u001b[0;32m      8\u001b[0m \u001b[0maggResult\u001b[0m \u001b[1;33m=\u001b[0m \u001b[0mcollection\u001b[0m\u001b[1;33m.\u001b[0m\u001b[0maggregate\u001b[0m\u001b[1;33m(\u001b[0m\u001b[0mpipeline\u001b[0m\u001b[1;33m)\u001b[0m \u001b[1;31m# returns a cursor\u001b[0m\u001b[1;33m\u001b[0m\u001b[1;33m\u001b[0m\u001b[0m\n\u001b[0;32m      9\u001b[0m \u001b[1;33m\u001b[0m\u001b[0m\n\u001b[0;32m     10\u001b[0m \u001b[0mdf1\u001b[0m \u001b[1;33m=\u001b[0m \u001b[0mpd\u001b[0m\u001b[1;33m.\u001b[0m\u001b[0mDataFrame\u001b[0m\u001b[1;33m(\u001b[0m\u001b[0mlist\u001b[0m\u001b[1;33m(\u001b[0m\u001b[0maggResult\u001b[0m\u001b[1;33m)\u001b[0m\u001b[1;33m)\u001b[0m \u001b[1;31m# use list to turn the cursor to an array of documents\u001b[0m\u001b[1;33m\u001b[0m\u001b[1;33m\u001b[0m\u001b[0m\n\u001b[1;32m---> 11\u001b[1;33m \u001b[0mdf1\u001b[0m \u001b[1;33m=\u001b[0m \u001b[0mdf1\u001b[0m\u001b[1;33m.\u001b[0m\u001b[0mset_index\u001b[0m\u001b[1;33m(\u001b[0m\u001b[1;34m\"_id\"\u001b[0m\u001b[1;33m)\u001b[0m\u001b[1;33m\u001b[0m\u001b[1;33m\u001b[0m\u001b[0m\n\u001b[0m\u001b[0;32m     12\u001b[0m \u001b[0mdf1\u001b[0m\u001b[1;33m.\u001b[0m\u001b[0mhead\u001b[0m\u001b[1;33m(\u001b[0m\u001b[1;33m)\u001b[0m\u001b[1;33m\u001b[0m\u001b[1;33m\u001b[0m\u001b[0m\n",
      "\u001b[1;32m~\\anaconda3\\envs\\IOD\\lib\\site-packages\\pandas\\core\\frame.py\u001b[0m in \u001b[0;36m?\u001b[1;34m(self, keys, drop, append, inplace, verify_integrity)\u001b[0m\n\u001b[0;32m   6118\u001b[0m                     \u001b[1;32mif\u001b[0m \u001b[1;32mnot\u001b[0m \u001b[0mfound\u001b[0m\u001b[1;33m:\u001b[0m\u001b[1;33m\u001b[0m\u001b[1;33m\u001b[0m\u001b[0m\n\u001b[0;32m   6119\u001b[0m                         \u001b[0mmissing\u001b[0m\u001b[1;33m.\u001b[0m\u001b[0mappend\u001b[0m\u001b[1;33m(\u001b[0m\u001b[0mcol\u001b[0m\u001b[1;33m)\u001b[0m\u001b[1;33m\u001b[0m\u001b[1;33m\u001b[0m\u001b[0m\n\u001b[0;32m   6120\u001b[0m \u001b[1;33m\u001b[0m\u001b[0m\n\u001b[0;32m   6121\u001b[0m         \u001b[1;32mif\u001b[0m \u001b[0mmissing\u001b[0m\u001b[1;33m:\u001b[0m\u001b[1;33m\u001b[0m\u001b[1;33m\u001b[0m\u001b[0m\n\u001b[1;32m-> 6122\u001b[1;33m             \u001b[1;32mraise\u001b[0m \u001b[0mKeyError\u001b[0m\u001b[1;33m(\u001b[0m\u001b[1;34mf\"None of {missing} are in the columns\"\u001b[0m\u001b[1;33m)\u001b[0m\u001b[1;33m\u001b[0m\u001b[1;33m\u001b[0m\u001b[0m\n\u001b[0m\u001b[0;32m   6123\u001b[0m \u001b[1;33m\u001b[0m\u001b[0m\n\u001b[0;32m   6124\u001b[0m         \u001b[1;32mif\u001b[0m \u001b[0minplace\u001b[0m\u001b[1;33m:\u001b[0m\u001b[1;33m\u001b[0m\u001b[1;33m\u001b[0m\u001b[0m\n\u001b[0;32m   6125\u001b[0m             \u001b[0mframe\u001b[0m \u001b[1;33m=\u001b[0m \u001b[0mself\u001b[0m\u001b[1;33m\u001b[0m\u001b[1;33m\u001b[0m\u001b[0m\n",
      "\u001b[1;31mKeyError\u001b[0m: \"None of ['_id'] are in the columns\""
     ]
    }
   ],
   "source": [
    "pipeline = [\n",
    "        {\"$group\": {\"_id\":\"$Country\",\n",
    "             \"AvgAge\":{\"$avg\":\"$Age\"},\n",
    "             \"Count\":{\"$sum\":1},\n",
    "        }},\n",
    "        {\"$sort\":{\"Count\":-1,\"AvgAge\":1}}\n",
    "]\n",
    "aggResult = collection.aggregate(pipeline) # returns a cursor\n",
    "\n",
    "df1 = pd.DataFrame(list(aggResult)) # use list to turn the cursor to an array of documents\n",
    "df1 = df1.set_index(\"_id\")\n",
    "df1.head()"
   ]
  },
  {
   "cell_type": "markdown",
   "metadata": {
    "id": "H9vaINaBB_dB"
   },
   "source": [
    "For simple cases one can either use a cursor through find(\"search term\") or use the \"$match\" operator in the aggregation framework, like this:"
   ]
  },
  {
   "cell_type": "code",
   "execution_count": 51,
   "metadata": {
    "id": "3oymmJpUB_dB"
   },
   "outputs": [
    {
     "data": {
      "text/html": [
       "<div>\n",
       "<style scoped>\n",
       "    .dataframe tbody tr th:only-of-type {\n",
       "        vertical-align: middle;\n",
       "    }\n",
       "\n",
       "    .dataframe tbody tr th {\n",
       "        vertical-align: top;\n",
       "    }\n",
       "\n",
       "    .dataframe thead th {\n",
       "        text-align: right;\n",
       "    }\n",
       "</style>\n",
       "<table border=\"1\" class=\"dataframe\">\n",
       "  <thead>\n",
       "    <tr style=\"text-align: right;\">\n",
       "      <th></th>\n",
       "    </tr>\n",
       "  </thead>\n",
       "  <tbody>\n",
       "  </tbody>\n",
       "</table>\n",
       "</div>"
      ],
      "text/plain": [
       "Empty DataFrame\n",
       "Columns: []\n",
       "Index: []"
      ]
     },
     "execution_count": 51,
     "metadata": {},
     "output_type": "execute_result"
    }
   ],
   "source": [
    "pipeline = [\n",
    "        {\"$match\": {\"Country\":\"China\"}},\n",
    "]\n",
    "aggResult = collection.aggregate(pipeline)\n",
    "df2 = pd.DataFrame(list(aggResult))\n",
    "df2.head()"
   ]
  },
  {
   "cell_type": "markdown",
   "metadata": {
    "id": "terLdzDaB_dC"
   },
   "source": [
    "Now we can apply all the power of Python libraries to analyse and visualise the data. Here, we will use the folium package to plot markers for the locations of the people we just found in China (click on a marker to see their data):"
   ]
  },
  {
   "cell_type": "code",
   "execution_count": 52,
   "metadata": {
    "id": "v2lsaYlAB_dC"
   },
   "outputs": [],
   "source": [
    "# Un-comment and execute to install folium pkg (1st time only):\n",
    "# import sys\n",
    "# !{sys.executable} -m pip install folium"
   ]
  },
  {
   "cell_type": "code",
   "execution_count": 55,
   "metadata": {},
   "outputs": [
    {
     "name": "stdout",
     "output_type": "stream",
     "text": [
      "Collecting foliumNote: you may need to restart the kernel to use updated packages.\n",
      "\n",
      "  Using cached folium-0.17.0-py2.py3-none-any.whl.metadata (3.8 kB)\n",
      "Collecting branca>=0.6.0 (from folium)\n",
      "  Using cached branca-0.7.2-py3-none-any.whl.metadata (1.5 kB)\n",
      "Requirement already satisfied: jinja2>=2.9 in c:\\users\\tien\\anaconda3\\envs\\iod\\lib\\site-packages (from folium) (3.1.3)\n",
      "Requirement already satisfied: numpy in c:\\users\\tien\\appdata\\roaming\\python\\python310\\site-packages (from folium) (2.0.0)\n",
      "Requirement already satisfied: requests in c:\\users\\tien\\anaconda3\\envs\\iod\\lib\\site-packages (from folium) (2.31.0)\n",
      "Collecting xyzservices (from folium)\n",
      "  Downloading xyzservices-2024.6.0-py3-none-any.whl.metadata (4.0 kB)\n",
      "Requirement already satisfied: MarkupSafe>=2.0 in c:\\users\\tien\\anaconda3\\envs\\iod\\lib\\site-packages (from jinja2>=2.9->folium) (2.1.3)\n",
      "Requirement already satisfied: charset-normalizer<4,>=2 in c:\\users\\tien\\anaconda3\\envs\\iod\\lib\\site-packages (from requests->folium) (2.0.4)\n",
      "Requirement already satisfied: idna<4,>=2.5 in c:\\users\\tien\\anaconda3\\envs\\iod\\lib\\site-packages (from requests->folium) (3.7)\n",
      "Requirement already satisfied: urllib3<3,>=1.21.1 in c:\\users\\tien\\anaconda3\\envs\\iod\\lib\\site-packages (from requests->folium) (2.2.1)\n",
      "Requirement already satisfied: certifi>=2017.4.17 in c:\\users\\tien\\anaconda3\\envs\\iod\\lib\\site-packages (from requests->folium) (2024.2.2)\n",
      "Using cached folium-0.17.0-py2.py3-none-any.whl (108 kB)\n",
      "Using cached branca-0.7.2-py3-none-any.whl (25 kB)\n",
      "Downloading xyzservices-2024.6.0-py3-none-any.whl (83 kB)\n",
      "   ---------------------------------------- 0.0/83.9 kB ? eta -:--:--\n",
      "   ---- ----------------------------------- 10.2/83.9 kB ? eta -:--:--\n",
      "   ---------------------------------------  81.9/83.9 kB 1.5 MB/s eta 0:00:01\n",
      "   ---------------------------------------- 83.9/83.9 kB 1.2 MB/s eta 0:00:00\n",
      "Installing collected packages: xyzservices, branca, folium\n",
      "Successfully installed branca-0.7.2 folium-0.17.0 xyzservices-2024.6.0\n"
     ]
    }
   ],
   "source": [
    "pip install folium"
   ]
  },
  {
   "cell_type": "code",
   "execution_count": 56,
   "metadata": {
    "id": "SuRbCt48B_dD"
   },
   "outputs": [
    {
     "name": "stdout",
     "output_type": "stream",
     "text": [
      "Folium version 0.17.0\n"
     ]
    },
    {
     "data": {
      "text/html": [
       "<div style=\"width:100%;\"><div style=\"position:relative;width:100%;height:0;padding-bottom:60%;\"><span style=\"color:#565656\">Make this Notebook Trusted to load map: File -> Trust Notebook</span><iframe srcdoc=\"&lt;!DOCTYPE html&gt;\n",
       "&lt;html&gt;\n",
       "&lt;head&gt;\n",
       "    \n",
       "    &lt;meta http-equiv=&quot;content-type&quot; content=&quot;text/html; charset=UTF-8&quot; /&gt;\n",
       "    \n",
       "        &lt;script&gt;\n",
       "            L_NO_TOUCH = false;\n",
       "            L_DISABLE_3D = false;\n",
       "        &lt;/script&gt;\n",
       "    \n",
       "    &lt;style&gt;html, body {width: 100%;height: 100%;margin: 0;padding: 0;}&lt;/style&gt;\n",
       "    &lt;style&gt;#map {position:absolute;top:0;bottom:0;right:0;left:0;}&lt;/style&gt;\n",
       "    &lt;script src=&quot;https://cdn.jsdelivr.net/npm/leaflet@1.9.3/dist/leaflet.js&quot;&gt;&lt;/script&gt;\n",
       "    &lt;script src=&quot;https://code.jquery.com/jquery-3.7.1.min.js&quot;&gt;&lt;/script&gt;\n",
       "    &lt;script src=&quot;https://cdn.jsdelivr.net/npm/bootstrap@5.2.2/dist/js/bootstrap.bundle.min.js&quot;&gt;&lt;/script&gt;\n",
       "    &lt;script src=&quot;https://cdnjs.cloudflare.com/ajax/libs/Leaflet.awesome-markers/2.0.2/leaflet.awesome-markers.js&quot;&gt;&lt;/script&gt;\n",
       "    &lt;link rel=&quot;stylesheet&quot; href=&quot;https://cdn.jsdelivr.net/npm/leaflet@1.9.3/dist/leaflet.css&quot;/&gt;\n",
       "    &lt;link rel=&quot;stylesheet&quot; href=&quot;https://cdn.jsdelivr.net/npm/bootstrap@5.2.2/dist/css/bootstrap.min.css&quot;/&gt;\n",
       "    &lt;link rel=&quot;stylesheet&quot; href=&quot;https://netdna.bootstrapcdn.com/bootstrap/3.0.0/css/bootstrap-glyphicons.css&quot;/&gt;\n",
       "    &lt;link rel=&quot;stylesheet&quot; href=&quot;https://cdn.jsdelivr.net/npm/@fortawesome/fontawesome-free@6.2.0/css/all.min.css&quot;/&gt;\n",
       "    &lt;link rel=&quot;stylesheet&quot; href=&quot;https://cdnjs.cloudflare.com/ajax/libs/Leaflet.awesome-markers/2.0.2/leaflet.awesome-markers.css&quot;/&gt;\n",
       "    &lt;link rel=&quot;stylesheet&quot; href=&quot;https://cdn.jsdelivr.net/gh/python-visualization/folium/folium/templates/leaflet.awesome.rotate.min.css&quot;/&gt;\n",
       "    \n",
       "            &lt;meta name=&quot;viewport&quot; content=&quot;width=device-width,\n",
       "                initial-scale=1.0, maximum-scale=1.0, user-scalable=no&quot; /&gt;\n",
       "            &lt;style&gt;\n",
       "                #map_5d9a5b6fd9be2e6764611f43832f00b1 {\n",
       "                    position: relative;\n",
       "                    width: 100.0%;\n",
       "                    height: 100.0%;\n",
       "                    left: 0.0%;\n",
       "                    top: 0.0%;\n",
       "                }\n",
       "                .leaflet-container { font-size: 1rem; }\n",
       "            &lt;/style&gt;\n",
       "        \n",
       "&lt;/head&gt;\n",
       "&lt;body&gt;\n",
       "    \n",
       "    \n",
       "            &lt;div class=&quot;folium-map&quot; id=&quot;map_5d9a5b6fd9be2e6764611f43832f00b1&quot; &gt;&lt;/div&gt;\n",
       "        \n",
       "&lt;/body&gt;\n",
       "&lt;script&gt;\n",
       "    \n",
       "    \n",
       "            var map_5d9a5b6fd9be2e6764611f43832f00b1 = L.map(\n",
       "                &quot;map_5d9a5b6fd9be2e6764611f43832f00b1&quot;,\n",
       "                {\n",
       "                    center: [35.0, 100.0],\n",
       "                    crs: L.CRS.EPSG3857,\n",
       "                    zoom: 4,\n",
       "                    zoomControl: true,\n",
       "                    preferCanvas: false,\n",
       "                }\n",
       "            );\n",
       "\n",
       "            \n",
       "\n",
       "        \n",
       "    \n",
       "            var tile_layer_9034caa060b662a05f1a14c644fb3492 = L.tileLayer(\n",
       "                &quot;https://tile.openstreetmap.org/{z}/{x}/{y}.png&quot;,\n",
       "                {&quot;attribution&quot;: &quot;\\u0026copy; \\u003ca href=\\&quot;https://www.openstreetmap.org/copyright\\&quot;\\u003eOpenStreetMap\\u003c/a\\u003e contributors&quot;, &quot;detectRetina&quot;: false, &quot;maxNativeZoom&quot;: 19, &quot;maxZoom&quot;: 19, &quot;minZoom&quot;: 0, &quot;noWrap&quot;: false, &quot;opacity&quot;: 1, &quot;subdomains&quot;: &quot;abc&quot;, &quot;tms&quot;: false}\n",
       "            );\n",
       "        \n",
       "    \n",
       "            tile_layer_9034caa060b662a05f1a14c644fb3492.addTo(map_5d9a5b6fd9be2e6764611f43832f00b1);\n",
       "        \n",
       "&lt;/script&gt;\n",
       "&lt;/html&gt;\" style=\"position:absolute;width:100%;height:100%;left:0;top:0;border:none !important;\" allowfullscreen webkitallowfullscreen mozallowfullscreen></iframe></div></div>"
      ],
      "text/plain": [
       "<folium.folium.Map at 0x19854300cd0>"
      ]
     },
     "execution_count": 56,
     "metadata": {},
     "output_type": "execute_result"
    }
   ],
   "source": [
    "import folium\n",
    "print ('Folium version ' + folium.__version__)\n",
    "\n",
    "world_map = folium.Map(location = [35, 100], zoom_start = 4)\n",
    "for i in range(len(df2)):\n",
    "    location = [float(loc) for loc in df2.Location[i].split(',')]\n",
    "    folium.Marker(location = location, popup = df2.Name[i] + ', age:' + str(df2.Age[i])).add_to(world_map)\n",
    "\n",
    "world_map"
   ]
  },
  {
   "cell_type": "code",
   "execution_count": 54,
   "metadata": {
    "id": "vYQ_XhoF4Na0"
   },
   "outputs": [
    {
     "name": "stdout",
     "output_type": "stream",
     "text": [
      "['admin', 'config', 'local', 'test']\n",
      "['admin', 'config', 'local']\n"
     ]
    }
   ],
   "source": [
    "#Finally drop the databases created in the lab:\n",
    "print(client.list_database_names())\n",
    "client.drop_database('test')\n",
    "client.drop_database('command_test')\n",
    "print(client.list_database_names())"
   ]
  },
  {
   "cell_type": "markdown",
   "metadata": {
    "id": "Sr0Uxfq8B_dD"
   },
   "source": [
    "## HOMEWORK:\n"
   ]
  },
  {
   "cell_type": "markdown",
   "metadata": {
    "id": "82_s5XvcB_dD"
   },
   "source": [
    "1. Read up on how to perform aggregation in mongoDB. Insert a duplicate record into the collection:\n",
    "        mydict = {\"name\": \"Benjamin\", \"address\": \"Green Dr\"}\n",
    "   Now write a command to find docs with a duplicate \"name\" field (using aggregation) and remove them.  \n",
    "   Print the collection."
   ]
  },
  {
   "cell_type": "code",
   "execution_count": null,
   "metadata": {
    "id": "hnSSNTBuB_dD"
   },
   "outputs": [],
   "source": []
  },
  {
   "cell_type": "markdown",
   "metadata": {
    "id": "1Ndwie7xB_dE"
   },
   "source": [
    "2. Read up on how to apply indexes in mongoDB. Create an index on the \"name\" and \"address\" fields in this collection.\n",
    "   Print the indexes for the collection."
   ]
  },
  {
   "cell_type": "code",
   "execution_count": null,
   "metadata": {
    "id": "bFyHLpKyB_dE"
   },
   "outputs": [],
   "source": []
  },
  {
   "cell_type": "markdown",
   "metadata": {
    "id": "Hj8GdoOXC-Lu"
   },
   "source": [
    "\n",
    "\n",
    ">\n",
    ">\n",
    ">\n",
    "\n",
    "\n"
   ]
  },
  {
   "cell_type": "markdown",
   "metadata": {
    "id": "MlasiTKgDGdA"
   },
   "source": [
    "\n",
    "\n",
    "---\n",
    "\n",
    "\n",
    "\n",
    "---\n",
    "\n",
    "\n",
    "\n",
    "> > > > > > > > > © 2024 Institute of Data\n",
    "\n",
    "\n",
    "---\n",
    "\n",
    "\n",
    "\n",
    "---\n",
    "\n",
    "\n",
    "\n"
   ]
  }
 ],
 "metadata": {
  "colab": {
   "provenance": [
    {
     "file_id": "17D0zRG20oX_57CwR4eNwdLhO4Qhlk4Dx",
     "timestamp": 1553134552284
    }
   ]
  },
  "kernelspec": {
   "display_name": "Python 3 (ipykernel)",
   "language": "python",
   "name": "python3"
  },
  "language_info": {
   "codemirror_mode": {
    "name": "ipython",
    "version": 3
   },
   "file_extension": ".py",
   "mimetype": "text/x-python",
   "name": "python",
   "nbconvert_exporter": "python",
   "pygments_lexer": "ipython3",
   "version": "3.10.14"
  }
 },
 "nbformat": 4,
 "nbformat_minor": 4
}
