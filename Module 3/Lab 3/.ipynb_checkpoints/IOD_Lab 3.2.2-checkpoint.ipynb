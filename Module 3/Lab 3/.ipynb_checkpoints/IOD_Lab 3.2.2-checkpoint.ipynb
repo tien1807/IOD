{
 "cells": [
  {
   "cell_type": "markdown",
   "metadata": {
    "id": "nOGGU7gNKck0"
   },
   "source": [
    "<div>\n",
    "<img src=https://www.institutedata.com/wp-content/uploads/2019/10/iod_h_tp_primary_c.svg width=\"300\">\n",
    "</div>"
   ]
  },
  {
   "cell_type": "markdown",
   "metadata": {
    "id": "_D_idRWZKck4"
   },
   "source": [
    "# Lab 3.2.2\n",
    "# *Mining Social Media on Reddit*"
   ]
  },
  {
   "cell_type": "markdown",
   "metadata": {
    "id": "atJ1XMr3Kck7"
   },
   "source": [
    "## The Reddit API and the PRAW Package"
   ]
  },
  {
   "cell_type": "markdown",
   "metadata": {
    "id": "aJ9o1EfAKck-"
   },
   "source": [
    "The Reddit API is rich and complex, with many endpoints (https://www.reddit.com/dev/api/). It includes methods for navigating its collections, which include various kinds of media as well as comments. Fortunately, the Python library PRAW reduces much of this complexity.\n",
    "\n",
    "Reddit requires developers to create and authenticate an app before they can use the API, but the process is much less onerous than some, and does not have waiting period for approval of new developers."
   ]
  },
  {
   "cell_type": "markdown",
   "metadata": {
    "id": "egz9IUhlKclB"
   },
   "source": [
    "### 1. Create a Reddit App\n",
    "\n",
    "Go to https://www.reddit.com/prefs/apps and click \"create an app\".\n",
    "\n",
    "Enter the following in the form:\n",
    "\n",
    "- a name for your app\n",
    "- select \"script\" radio button\n",
    "- a description\n",
    "- a redirect URI\n",
    "\n",
    "(Nb. For pulling data into a data science experiment, a local port can be used for the Redirect URI; try http://127.0.0.1:1410)\n",
    "\n",
    "\n",
    "- click \"create app\"\n",
    "- from the form that displays, copy the following to a local text file (or to this notebook):\n",
    "\n",
    "  - name (the name you gave to your app)\n",
    "  - redirect URI\n",
    "  - personal use script (this is your OAuth 2 Client ID)\n",
    "  - secret (this is your OAuth 2 Secret)"
   ]
  },
  {
   "cell_type": "markdown",
   "metadata": {
    "id": "LF9V-LJ2KclE"
   },
   "source": [
    "### 2. Register for API Access\n",
    "\n",
    "- follow the link at https://www.reddit.com/wiki/api and read the terms of use for Reddit API access\n",
    "- fill in the form fields at the bottom\n",
    "  - make sure to enter your new OAuth Client ID where indicated\n",
    "  - your use case could be something like \"Training in API usage for data science projects\"\n",
    "  - your platform could be something like \"Jupyter Notebooks / Python\"\n",
    "  \n",
    "- click \"SUBMIT\"\n",
    "\n",
    "- when asked for User-Agent, enter something that fits this pattern:\n",
    "  `your_os-python:your_reddit_appname:v1.0 (by /u/your_reddit_username)`"
   ]
  },
  {
   "cell_type": "markdown",
   "metadata": {
    "id": "JIsv8YAMKclG"
   },
   "source": [
    "### 3. Load Python Libraries"
   ]
  },
  {
   "cell_type": "code",
   "execution_count": null,
   "metadata": {},
   "outputs": [],
   "source": [
    "#name (the name you gave to your app) = First API Attempt Py\n",
    "#redirect URI = http://127.0.0.1:1410\n",
    "#personal use script (this is your OAuth 2 Client ID) = 0J46s2Abykli5LP0Y0KM9A\n",
    "#secret (this is your OAuth 2 Secret) = 9k_k96fZjrQugMTuWrAFuObXVyNzog"
   ]
  },
  {
   "cell_type": "code",
   "execution_count": 1,
   "metadata": {
    "colab": {
     "base_uri": "https://localhost:8080/"
    },
    "executionInfo": {
     "elapsed": 4231,
     "status": "ok",
     "timestamp": 1685516919188,
     "user": {
      "displayName": "Maheshkumar Paik",
      "userId": "02349378107593826691"
     },
     "user_tz": -480
    },
    "id": "U3ZVHsiYoubq",
    "outputId": "ab731409-5046-47f5-aeed-c7d5a5b8f4bb"
   },
   "outputs": [
    {
     "name": "stdout",
     "output_type": "stream",
     "text": [
      "Collecting praw\n",
      "  Downloading praw-7.7.1-py3-none-any.whl.metadata (9.8 kB)\n",
      "Collecting prawcore<3,>=2.1 (from praw)\n",
      "  Downloading prawcore-2.4.0-py3-none-any.whl.metadata (5.0 kB)\n",
      "Collecting update-checker>=0.18 (from praw)\n",
      "  Downloading update_checker-0.18.0-py3-none-any.whl.metadata (2.3 kB)\n",
      "Requirement already satisfied: websocket-client>=0.54.0 in c:\\users\\tien\\anaconda3\\envs\\iod\\lib\\site-packages (from praw) (1.8.0)\n",
      "Requirement already satisfied: requests<3.0,>=2.6.0 in c:\\users\\tien\\anaconda3\\envs\\iod\\lib\\site-packages (from prawcore<3,>=2.1->praw) (2.31.0)\n",
      "Requirement already satisfied: charset-normalizer<4,>=2 in c:\\users\\tien\\anaconda3\\envs\\iod\\lib\\site-packages (from requests<3.0,>=2.6.0->prawcore<3,>=2.1->praw) (2.0.4)\n",
      "Requirement already satisfied: idna<4,>=2.5 in c:\\users\\tien\\anaconda3\\envs\\iod\\lib\\site-packages (from requests<3.0,>=2.6.0->prawcore<3,>=2.1->praw) (3.7)\n",
      "Requirement already satisfied: urllib3<3,>=1.21.1 in c:\\users\\tien\\anaconda3\\envs\\iod\\lib\\site-packages (from requests<3.0,>=2.6.0->prawcore<3,>=2.1->praw) (2.2.1)\n",
      "Requirement already satisfied: certifi>=2017.4.17 in c:\\users\\tien\\anaconda3\\envs\\iod\\lib\\site-packages (from requests<3.0,>=2.6.0->prawcore<3,>=2.1->praw) (2024.2.2)\n",
      "Downloading praw-7.7.1-py3-none-any.whl (191 kB)\n",
      "   ---------------------------------------- 0.0/191.0 kB ? eta -:--:--\n",
      "   ---------- ---------------------------- 51.2/191.0 kB 871.5 kB/s eta 0:00:01\n",
      "   ---------------------------------------- 191.0/191.0 kB 2.3 MB/s eta 0:00:00\n",
      "Downloading prawcore-2.4.0-py3-none-any.whl (17 kB)\n",
      "Downloading update_checker-0.18.0-py3-none-any.whl (7.0 kB)\n",
      "Installing collected packages: update-checker, prawcore, praw\n",
      "Successfully installed praw-7.7.1 prawcore-2.4.0 update-checker-0.18.0\n"
     ]
    }
   ],
   "source": [
    "!pip install praw"
   ]
  },
  {
   "cell_type": "code",
   "execution_count": 2,
   "metadata": {
    "id": "xqi2BT66KclI"
   },
   "outputs": [],
   "source": [
    "import praw\n",
    "import requests\n",
    "import json\n",
    "import pprint\n",
    "from datetime import datetime, date, time"
   ]
  },
  {
   "cell_type": "markdown",
   "metadata": {
    "id": "wwXaO9GPKclP"
   },
   "source": [
    "### 4. Authenticate from your Python script"
   ]
  },
  {
   "cell_type": "markdown",
   "metadata": {
    "id": "ZF5oh54RKclR"
   },
   "source": [
    "You could assign your authentication details explicitly, as follows:"
   ]
  },
  {
   "cell_type": "code",
   "execution_count": 3,
   "metadata": {
    "id": "qH2-X9juKclS"
   },
   "outputs": [],
   "source": [
    "my_user_agent = 'windows-python:First API Attempt Py:v1.0 (by /u/First API Attempt Py)'   # your user Agent string goes in here\n",
    "my_client_id = '0J46s2Abykli5LP0Y0KM9A'   # your Client ID string goes in here\n",
    "my_client_secret = '9k_k96fZjrQugMTuWrAFuObXVyNzog'   # your Secret string goes in here"
   ]
  },
  {
   "cell_type": "markdown",
   "metadata": {
    "id": "1TmzPxHIKclX"
   },
   "source": [
    "A better way would be to store these details externally, so they are not displayed in the notebook:\n",
    "\n",
    "- create a file called \"auth_reddit.json\" in your \"notebooks\" directory, and save your credentials there in JSON format:\n",
    "\n",
    "`{   \"my_client_id\": \"your Client ID string goes in here\",` <br>\n",
    "&nbsp;&nbsp;&nbsp;&nbsp;&nbsp;&nbsp;&nbsp;&nbsp;` \"my_client_secret\": \"your Secret string goes in here\",` <br>\n",
    "&nbsp;&nbsp;&nbsp;&nbsp;&nbsp;&nbsp;&nbsp;&nbsp;`\"my_user_agent\": \"your user Agent string goes in here\"` <br>\n",
    "`}`\n",
    "\n",
    "Use the following code to load the credentials:  "
   ]
  },
  {
   "cell_type": "code",
   "execution_count": 4,
   "metadata": {
    "colab": {
     "base_uri": "https://localhost:8080/",
     "height": 35
    },
    "executionInfo": {
     "elapsed": 324,
     "status": "ok",
     "timestamp": 1685517832027,
     "user": {
      "displayName": "Maheshkumar Paik",
      "userId": "02349378107593826691"
     },
     "user_tz": -480
    },
    "id": "mFbFWGnVKclY",
    "outputId": "97c00516-ffaa-4ea3-a62f-943f12278dcf"
   },
   "outputs": [
    {
     "data": {
      "text/plain": [
       "'C:\\\\Users\\\\Tien\\\\Downloads\\\\IOD\\\\Module 3\\\\Lab 3'"
      ]
     },
     "execution_count": 4,
     "metadata": {},
     "output_type": "execute_result"
    }
   ],
   "source": [
    "pwd()  # make sure your working directory is where the file is"
   ]
  },
  {
   "cell_type": "code",
   "execution_count": null,
   "metadata": {
    "colab": {
     "base_uri": "https://localhost:8080/"
    },
    "executionInfo": {
     "elapsed": 333,
     "status": "ok",
     "timestamp": 1685518100680,
     "user": {
      "displayName": "Maheshkumar Paik",
      "userId": "02349378107593826691"
     },
     "user_tz": -480
    },
    "id": "Jc5_dh-jKclc",
    "outputId": "8b5c246d-e9aa-4713-d041-6d7257ea69af"
   },
   "outputs": [
    {
     "name": "stdout",
     "output_type": "stream",
     "text": [
      "{   'my_client_id': 'lbwtuDzfyIJKuyViERgbgQ',\n",
      "    'my_client_secret': 'X8mr5_2ZetQmsCMal75bqwobIm23Fg',\n",
      "    'my_user_agent': 'IOD_JAN_Batch:123456:1.0'}\n"
     ]
    }
   ],
   "source": [
    "path_auth = 'auth_reddit.json'\n",
    "auth = json.loads(open(path_auth).read())\n",
    "pp = pprint.PrettyPrinter(indent=4)\n",
    "# For debugging only:\n",
    "\n",
    "pp.pprint(auth)\n",
    "\n",
    "\n"
   ]
  },
  {
   "cell_type": "code",
   "execution_count": null,
   "metadata": {
    "id": "IyPlUZ-wtRrS"
   },
   "outputs": [],
   "source": [
    "my_user_agent = auth['my_user_agent']\n",
    "my_client_id = auth['my_client_id']\n",
    "my_client_secret = auth['my_client_secret']"
   ]
  },
  {
   "cell_type": "markdown",
   "metadata": {
    "id": "lVKFy9rZKclf"
   },
   "source": [
    "Security considerations:\n",
    "- this method only keeps your credentials invisible as long as nobody else gets access to this notebook file\n",
    "- if you wanted another user to have access to the executable notebook without divulging your credentials you should set up an OAuth 2.0 workflow to let them obtain and apply their own API tokens when using your app\n",
    "- if you just want to share your analyses, you could use a separate script (which you don't share) to fetch the data and save it locally, then use a second notebook (with no API access) to load and analyse the locally stored data"
   ]
  },
  {
   "cell_type": "markdown",
   "metadata": {
    "id": "fgHqt72rKclg"
   },
   "source": [
    "### 5. Exploring the API"
   ]
  },
  {
   "cell_type": "markdown",
   "metadata": {
    "id": "ByEQS6QsKclh"
   },
   "source": [
    "Here is how to connect to Reddit with read-only access:"
   ]
  },
  {
   "cell_type": "code",
   "execution_count": 5,
   "metadata": {
    "colab": {
     "base_uri": "https://localhost:8080/"
    },
    "executionInfo": {
     "elapsed": 392,
     "status": "ok",
     "timestamp": 1685518185231,
     "user": {
      "displayName": "Maheshkumar Paik",
      "userId": "02349378107593826691"
     },
     "user_tz": -480
    },
    "id": "8hkZJlcJKcli",
    "outputId": "8e736632-b9cc-4ddd-808c-9fa125dada0f"
   },
   "outputs": [
    {
     "name": "stdout",
     "output_type": "stream",
     "text": [
      "Read-only = True\n"
     ]
    }
   ],
   "source": [
    "reddit = praw.Reddit(client_id = my_client_id,\n",
    "                     client_secret = my_client_secret,\n",
    "                     user_agent = my_user_agent)\n",
    "\n",
    "print('Read-only = ' + str(reddit.read_only))  # Output: True"
   ]
  },
  {
   "cell_type": "markdown",
   "metadata": {
    "id": "slGz0lS5Kclk"
   },
   "source": [
    "In the next cell, put the cursor after the '.' and hit the [tab] key to see the available members and methods in the response object:"
   ]
  },
  {
   "cell_type": "code",
   "execution_count": null,
   "metadata": {
    "id": "McKdW7YGqmk3"
   },
   "outputs": [],
   "source": [
    "reddit."
   ]
  },
  {
   "cell_type": "code",
   "execution_count": 6,
   "metadata": {
    "id": "poGsr4X9tv42"
   },
   "outputs": [],
   "source": [
    "subreddit_name = 'malaysia'\n",
    "subreddit = reddit.subreddit(subreddit_name)"
   ]
  },
  {
   "cell_type": "code",
   "execution_count": 7,
   "metadata": {
    "colab": {
     "base_uri": "https://localhost:8080/"
    },
    "executionInfo": {
     "elapsed": 96527,
     "status": "ok",
     "timestamp": 1685518357553,
     "user": {
      "displayName": "Maheshkumar Paik",
      "userId": "02349378107593826691"
     },
     "user_tz": -480
    },
    "id": "_iuNlRadtx9T",
    "outputId": "deee9289-d1f9-4811-eb8e-80db3438e8f1"
   },
   "outputs": [],
   "source": [
    "comments = []\n",
    "for comment in subreddit.comments(limit=1000):\n",
    "    comments.append(comment)"
   ]
  },
  {
   "cell_type": "code",
   "execution_count": 8,
   "metadata": {
    "colab": {
     "base_uri": "https://localhost:8080/"
    },
    "executionInfo": {
     "elapsed": 7,
     "status": "ok",
     "timestamp": 1685521538900,
     "user": {
      "displayName": "Maheshkumar Paik",
      "userId": "02349378107593826691"
     },
     "user_tz": -480
    },
    "id": "6MvyYewEKcll",
    "outputId": "3c40f831-334b-4f57-bd1b-d229134ae7f8"
   },
   "outputs": [
    {
     "data": {
      "text/plain": [
       "Subreddit(display_name='malaysia')"
      ]
     },
     "execution_count": 8,
     "metadata": {},
     "output_type": "execute_result"
    }
   ],
   "source": [
    "reddit.subreddit(subreddit_name)"
   ]
  },
  {
   "cell_type": "code",
   "execution_count": null,
   "metadata": {
    "id": "o5C8Bb2HtvTd"
   },
   "outputs": [],
   "source": []
  },
  {
   "cell_type": "markdown",
   "metadata": {
    "id": "AKfXBu7yKcln"
   },
   "source": [
    "Consult the PRAW and Reddit API documentation. Print a few of the response members below:"
   ]
  },
  {
   "cell_type": "code",
   "execution_count": null,
   "metadata": {
    "id": "31Njl99lKcln"
   },
   "outputs": [],
   "source": []
  },
  {
   "cell_type": "markdown",
   "metadata": {
    "id": "5L10cuKfKclp"
   },
   "source": [
    "Content in Reddit is grouped by topics called \"subreddits\". Content, called \"submissions\", is fetched by calling the `subreddit` method of the connection object (which is our `reddit` variable) with an argument that matches an actual topic.\n",
    "\n",
    "We also need to append a further method call to a \"subinstance\", such as one of the following:\n",
    "\n",
    "- controversial\n",
    "- gilded\n",
    "- hot\n",
    "- new\n",
    "- rising\n",
    "- top\n",
    "\n",
    "One of the submission objects members is `title`. Fetch and print 10 submission titles from the 'learnpython' subreddit using one of the subinstances above:"
   ]
  },
  {
   "cell_type": "code",
   "execution_count": 9,
   "metadata": {
    "colab": {
     "base_uri": "https://localhost:8080/"
    },
    "executionInfo": {
     "elapsed": 433,
     "status": "ok",
     "timestamp": 1685521546523,
     "user": {
      "displayName": "Maheshkumar Paik",
      "userId": "02349378107593826691"
     },
     "user_tz": -480
    },
    "id": "2W1iCDE9Kclp",
    "outputId": "1af1e406-d056-4cf6-da9c-e80705981b37"
   },
   "outputs": [
    {
     "name": "stdout",
     "output_type": "stream",
     "text": [
      "Ask Anything Monday - Weekly Thread\n",
      "Make sub-strings based on conditions\n",
      "What does indentation error mean ?\n",
      "How to console.log in streamlit \n",
      "How do I start programming in python \n",
      "MemoryError: Unable to allocate 87.2 GiB when joining dataframes in Python/VSCode\n",
      "Is it impossible to create my own Redis Cluster transport for Celery?\n",
      "Absolute beginner here- when to use int, float and str\n",
      "Looking for python tutor\n",
      "AttributeError: 'NoneType' object has no attribute 'iloc'\n"
     ]
    }
   ],
   "source": [
    "for submission in reddit.subreddit('learnpython').hot(limit=10):\n",
    "    print(submission.title)"
   ]
  },
  {
   "cell_type": "markdown",
   "metadata": {
    "id": "00coF0YJKclr"
   },
   "source": [
    "Now retrieve 10 authors:"
   ]
  },
  {
   "cell_type": "code",
   "execution_count": 10,
   "metadata": {
    "colab": {
     "base_uri": "https://localhost:8080/"
    },
    "executionInfo": {
     "elapsed": 7086,
     "status": "ok",
     "timestamp": 1685521557229,
     "user": {
      "displayName": "Maheshkumar Paik",
      "userId": "02349378107593826691"
     },
     "user_tz": -480
    },
    "id": "U1vTByCGKclr",
    "outputId": "836a8bf7-dbaa-45f2-ae11-559bee7c2744"
   },
   "outputs": [
    {
     "name": "stdout",
     "output_type": "stream",
     "text": [
      "AutoModerator\n",
      "ligma_bowls\n",
      "ElectricalAd4814\n",
      "JanEric1\n",
      "Fair-Athlete6745\n",
      "Foreign_Bluebird_105\n",
      "kolandball\n",
      "ElectricalAd4814\n",
      "saas_cloud_geek\n",
      "Superb-Finger-1249\n"
     ]
    }
   ],
   "source": [
    "for submission in reddit.subreddit('learnpython').hot(limit=10):\n",
    "    print(submission.author)"
   ]
  },
  {
   "cell_type": "markdown",
   "metadata": {
    "id": "dOFMMl6AKclt"
   },
   "source": [
    "Note that we obtained the titles and authors from separate API calls. Can we expect these to correspond to the same submissions? If not, how could we gurantee that they do?"
   ]
  },
  {
   "cell_type": "code",
   "execution_count": 11,
   "metadata": {
    "id": "eIPVr-WaKclu"
   },
   "outputs": [],
   "source": [
    "submissions=reddit.subreddit('learnpython')"
   ]
  },
  {
   "cell_type": "markdown",
   "metadata": {
    "id": "IjIJ6ojAKclv"
   },
   "source": [
    "Why doesn't the next cell produce output?"
   ]
  },
  {
   "cell_type": "code",
   "execution_count": 12,
   "metadata": {
    "colab": {
     "base_uri": "https://localhost:8080/",
     "height": 183
    },
    "executionInfo": {
     "elapsed": 6,
     "status": "error",
     "timestamp": 1685521616248,
     "user": {
      "displayName": "Maheshkumar Paik",
      "userId": "02349378107593826691"
     },
     "user_tz": -480
    },
    "id": "ifxjcJ2aKclw",
    "outputId": "7e555d2c-0489-4eaa-888d-66fe598c1bf9"
   },
   "outputs": [
    {
     "ename": "TypeError",
     "evalue": "'Subreddit' object is not iterable",
     "output_type": "error",
     "traceback": [
      "\u001b[1;31m---------------------------------------------------------------------------\u001b[0m",
      "\u001b[1;31mTypeError\u001b[0m                                 Traceback (most recent call last)",
      "Cell \u001b[1;32mIn[12], line 1\u001b[0m\n\u001b[1;32m----> 1\u001b[0m \u001b[38;5;28;01mfor\u001b[39;00m submission \u001b[38;5;129;01min\u001b[39;00m submissions:\n\u001b[0;32m      2\u001b[0m     \u001b[38;5;28mprint\u001b[39m(submission\u001b[38;5;241m.\u001b[39mcomments)\n",
      "\u001b[1;31mTypeError\u001b[0m: 'Subreddit' object is not iterable"
     ]
    }
   ],
   "source": [
    "for submission in submissions:\n",
    "    print(submission.comments)"
   ]
  },
  {
   "cell_type": "code",
   "execution_count": null,
   "metadata": {
    "id": "kPNVNapBKcly"
   },
   "outputs": [],
   "source": []
  },
  {
   "cell_type": "markdown",
   "metadata": {
    "id": "4aZ2OSd_Kclz"
   },
   "source": [
    "Print two comments associated with each of these submissions:"
   ]
  },
  {
   "cell_type": "code",
   "execution_count": 13,
   "metadata": {
    "colab": {
     "base_uri": "https://localhost:8080/"
    },
    "executionInfo": {
     "elapsed": 81419,
     "status": "ok",
     "timestamp": 1685521718870,
     "user": {
      "displayName": "Maheshkumar Paik",
      "userId": "02349378107593826691"
     },
     "user_tz": -480
    },
    "id": "RO4ppDPJKcl0",
    "outputId": "523482f9-0c62-42c2-d039-f0b34962ba26"
   },
   "outputs": [
    {
     "name": "stdout",
     "output_type": "stream",
     "text": [
      "Hi everyone, I’m having surgery on my eyes and in that time I can’t be looking at a screen any good podcast for learning Java for a beginner?\n",
      "Please help! Trying to deploy a pythonanywhere app..\n",
      "\n",
      "where am I supposed to put this virtual environment?? On my local folder? github somehow? pythonanywhere?\n",
      "\n",
      "I don't understand what the path is supposed to be.\n",
      "\n",
      "  \n",
      "WHERE I'M STUCK...\n",
      "\n",
      "# Create a virtualenv and install Django and any other requirements\n",
      "\n",
      "In your Bash console, create a virtualenv, naming it after your project, and choosing the version of Python you want to use:\n",
      "\n",
      "$ mkvirtualenv --python=   ***/usr/bin/***    python3.10 mysite-virtualenv  \n",
      "(mysite-virtualenv)$ pip install django  \n",
      "# or, if you have a requirements.txt:  \n",
      "(mysite-virtualenv)$ pip install -r requirements.txt\n",
      "You could do it with regex:\n",
      "\n",
      "    import re\n",
      "    \n",
      "    my_string = \"...python..123!.....\"\n",
      "    output = re.findall(r\"\\.+|[^.]+\", my_string)\n",
      "    print(output)  # ['...', 'python', '..', '123!', '.....']\n",
      "\n",
      "You can use online services like [regex101](https://regex101.com/) to validate your expression.\n",
      "The expression above does the following:\n",
      "\n",
      "- `\\.` matches the character `.`\n",
      "- `+` means that the previous token matches between 1 and unlimited times\n",
      "- `|` means that there is alternative, either match `\\.+` or `[^.]+`\n",
      "- `[^.]` means don't match the character `.`\n",
      "\n",
      "It could also be written like this `[.]+|[^.]+`. Either match the dot 1-unlimited times or match every other character except the dot 1-unlimited times.\n",
      "I'd suggest using `itertools.zip_longest`.\n",
      "\n",
      "    from itertools import zip_longest\n",
      "\n",
      "    data_1 = [\"...\", \"..\", \".....\"]\n",
      "    data_2 = [\"python\", \"123!\"]\n",
      "\n",
      "    result = \"\"\n",
      "\n",
      "    for pair in zip_longest(data_1, data_2, fillvalue=''):\n",
      "        result += ''.join(pair)\n",
      "\n",
      "    print(result)  # ...python..123!.....\n",
      "Yes it is about the spaces. The type of whitespace used for the indentation has to be consistent. e.g. if tab is used then the tab has to be consistently applied throughout the script.\n",
      "\n",
      "One problem is that sometimes copy pasting across text editors may cause some of these whitespace types to change, and such instances may be more difficult to spot.\n",
      "yes, your spaces are wrong.\n",
      "This is an important learning you're doing right now.\n",
      "\n",
      "You need to learn how to break your project down to the minimum thing that you can do (ie:get input and print it,get the location of all files in your source) do that thing and reassess what is the next minimum point you can do.\n",
      "\n",
      "If you're stuck write what you want to do in english and pseudo code (if you're able to) look it up online then learn what you need to learn to make it happen.\n",
      "\n",
      "Rinse and repeat until you finish your project.\n",
      "\n",
      "This isn't easy especially the first few times.\n",
      "Pick a module that does something cool, learn to use its methods and functions. Then pick another and another... This is the basis of modern programming. We stack libraries with some custom code to make cool things.\n",
      "\n",
      "For starters? I'm partial to Django. There are plenty of cool projects out there for you to learn from by building full stack web app. In Python!\n",
      "You would need to use a polars LazyFrame for an operation this memory-intensive.\n",
      "if you cant hold the entire frame, then maybe you could arrange your code so that it writes to the file as it processes it. Depending on what type is being returned from that function though\n",
      "\n",
      "it has to be connected all the way through to the reading of the file so that the data just flows in and then out. look up generators and iterators\n",
      ">  I get an error when I type print (\"text\"+int(variable) \n",
      "\n",
      "The expression `\"text\" + int(variable)` *must* fail because the \"+\" operator with a string to the left can only handle a string value on the right side.  To fix that expression you must convert `variable` to a string if it isn't one already.  Something like this:\n",
      "\n",
      "    print(\"text\" + str(variable))\n",
      "    #              ^^^\n",
      "\n",
      "Without knowing exactly what `variable` refers to we can't give more helpful advice.  So if using `str(...)` doesn't help, we will need to see your code.\n",
      "> For some reason I get an error when I type \n",
      "\n",
      ">     print(\"text\"+int(variable)\n",
      "\n",
      "> Though everything is referred and correct . I can't type in the text output with int. Anything I can do about it?\n",
      "\n",
      "Well that'd be the expected result. What do you expect to happen when you add a number to text?\n",
      "\n",
      "It's probably a bit early for you, but you can mostly ignore this by using string formatting.\n",
      "\n",
      "    print(f\"text{variable}\")\n",
      "It means, that when you are trying to get .ilock from something, this variable is already None. An error is not in lines you published here, but somewhere else.\n",
      "thanks, i've fixed the error\n"
     ]
    }
   ],
   "source": [
    "submissions = reddit.subreddit('learnpython').hot(limit=10)\n",
    "for submission in submissions:\n",
    "    top_level_comments = list(submission.comments)\n",
    "    all_comments = submission.comments.list()[:2]\n",
    "    for comment in all_comments:\n",
    "        print(comment.body)"
   ]
  },
  {
   "cell_type": "markdown",
   "metadata": {
    "id": "JvYEOesKKcl2"
   },
   "source": [
    "Referring to the API documentation, explore the submissions object and print some interesting data:"
   ]
  },
  {
   "cell_type": "code",
   "execution_count": null,
   "metadata": {
    "id": "glEShYZbKcl3"
   },
   "outputs": [],
   "source": []
  },
  {
   "cell_type": "markdown",
   "metadata": {
    "id": "Khno5kpWKcl5"
   },
   "source": [
    "#### Posting to Reddit"
   ]
  },
  {
   "cell_type": "markdown",
   "metadata": {
    "id": "zjnyN1OfKcl6"
   },
   "source": [
    "To be able to post to your Reddit account (i.e. contribute submissions), you need to connect to the API with read/write privilege. This requires an *authorised instance*, which is obtained by including your Reddit user name and password in the connection request:"
   ]
  },
  {
   "cell_type": "code",
   "execution_count": 14,
   "metadata": {
    "colab": {
     "base_uri": "https://localhost:8080/"
    },
    "executionInfo": {
     "elapsed": 12,
     "status": "ok",
     "timestamp": 1685521718870,
     "user": {
      "displayName": "Maheshkumar Paik",
      "userId": "02349378107593826691"
     },
     "user_tz": -480
    },
    "id": "ZXG7kouZKcl7",
    "outputId": "5afb108d-aab6-4bb9-af3e-8329d75b1c72"
   },
   "outputs": [
    {
     "name": "stdout",
     "output_type": "stream",
     "text": [
      "False\n"
     ]
    }
   ],
   "source": [
    "reddit = praw.Reddit(client_id='my client id',\n",
    "                     client_secret='my client secret',\n",
    "                     user_agent='my user agent',\n",
    "                     username='my username',\n",
    "                     password='my password')\n",
    "print(reddit.read_only)  # Output: False"
   ]
  },
  {
   "cell_type": "markdown",
   "metadata": {
    "id": "nEjrsF9vKcl-"
   },
   "source": [
    "You could hide these last two credentials by adding them to your JSON file and then reading all five values at once."
   ]
  },
  {
   "cell_type": "code",
   "execution_count": null,
   "metadata": {
    "id": "BVcbR0K1Kcl_"
   },
   "outputs": [],
   "source": []
  },
  {
   "cell_type": "markdown",
   "metadata": {
    "id": "WqBG4xS5Kk3X"
   },
   "source": [
    ">\n",
    ">\n"
   ]
  },
  {
   "cell_type": "markdown",
   "metadata": {
    "id": "EfPDz2gEKnRn"
   },
   "source": [
    ">\n",
    ">\n"
   ]
  },
  {
   "cell_type": "markdown",
   "metadata": {
    "id": "5Uo-KnYhKoRA"
   },
   "source": [
    "\n",
    "\n",
    "---\n",
    "\n",
    "\n",
    "\n",
    "---\n",
    "\n",
    "\n",
    "\n",
    "> > > > > > > > > © 2024 Institute of Data\n",
    "\n",
    "\n",
    "---\n",
    "\n",
    "\n",
    "\n",
    "---\n",
    "\n",
    "\n",
    "\n"
   ]
  }
 ],
 "metadata": {
  "colab": {
   "provenance": []
  },
  "kernelspec": {
   "display_name": "Python 3 (ipykernel)",
   "language": "python",
   "name": "python3"
  },
  "language_info": {
   "codemirror_mode": {
    "name": "ipython",
    "version": 3
   },
   "file_extension": ".py",
   "mimetype": "text/x-python",
   "name": "python",
   "nbconvert_exporter": "python",
   "pygments_lexer": "ipython3",
   "version": "3.10.14"
  }
 },
 "nbformat": 4,
 "nbformat_minor": 4
}
