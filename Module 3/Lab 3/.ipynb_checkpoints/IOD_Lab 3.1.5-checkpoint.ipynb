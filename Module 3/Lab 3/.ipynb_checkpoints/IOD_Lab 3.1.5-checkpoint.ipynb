{
 "cells": [
  {
   "cell_type": "markdown",
   "metadata": {
    "id": "gnfClx7-FfjU"
   },
   "source": [
    "<div>\n",
    "<img src=https://www.institutedata.com/wp-content/uploads/2019/10/iod_h_tp_primary_c.svg width=\"300\">\n",
    "</div>"
   ]
  },
  {
   "cell_type": "markdown",
   "metadata": {
    "id": "_shYCClxFfjX"
   },
   "source": [
    "# Lab 3.1.5\n",
    "# *Neo4j and Python*"
   ]
  },
  {
   "cell_type": "markdown",
   "metadata": {
    "id": "pDJmT5Y5Ffja"
   },
   "source": [
    "## Introduction\n",
    "\n",
    "Neo4j is the most popular graph database. Free versions include the Desktop (Developer) edition and the Community Server edition (which we can drive from Python).\n",
    "\n",
    "We will begin this lab by working through the tutorial embedded in the Neo4j *start* page to learn about graph databases structures and the Cypher query language. We will then see how to integrate a Neo4j database with a Python program."
   ]
  },
  {
   "cell_type": "markdown",
   "metadata": {
    "id": "--O6XzsrFfjc"
   },
   "source": [
    "The Community Server version can be downloaded here: https://neo4j.com/deployment-center/#releases\n",
    "* Link for additional assistance: [How To Neo4j Community Install On Windows 2019 Server For External Access](https://www.youtube.com/watch?v=JaWGwnPkOYA&t=105s)\n",
    "\n",
    "If installation here is unsuccessful try the Desktop edition: https://neo4j.com/download/\n",
    "* Link for additional assistance: [Neo4j (Graph Database) Crash Course](https://www.youtube.com/watch?v=8jNPelugC2s&t=597s)"
   ]
  },
  {
   "cell_type": "markdown",
   "metadata": {
    "id": "iLovaF_hFfje"
   },
   "source": [
    "- Go through the *Concepts* tutorial.\n",
    "- At the end, click *Intro* under *Keep getting started* heading and go through the tutorial.\n",
    "- At the end, click *Cypher* under *Keep getting started* heading and go through the tutorial.\n",
    "- At the end, click *The Movie Graph* under *Jump into code* heading and go through the tutorial.\n"
   ]
  },
  {
   "cell_type": "code",
   "execution_count": null,
   "metadata": {
    "id": "eSLGjx5XKGds"
   },
   "outputs": [],
   "source": [
    "#### (If you are using community)Add instruction to create/connect/start the database from neo4j localhost browser, otherwise your query won't work"
   ]
  },
  {
   "cell_type": "markdown",
   "metadata": {
    "id": "hpo-lWuhFfjg"
   },
   "source": [
    "## Driving Neo4j from Python\n",
    "\n",
    "There are a variety of Python libraries for Neo4j, some of which provide more compact (and simpler) ways of executing commands. To avoid having to learn too many different ways of doing the same thing, however, we will use the official one, which is based on the syntax of the Cypher query language."
   ]
  },
  {
   "cell_type": "markdown",
   "metadata": {
    "id": "9KKFMPT4Ffjh"
   },
   "source": [
    "The ***Neo4j Bolt Driver for Python*** is documented at https://neo4j.com/docs/api/python-driver/current/."
   ]
  },
  {
   "cell_type": "code",
   "execution_count": 1,
   "metadata": {
    "id": "IgBzpeZdKGdt"
   },
   "outputs": [
    {
     "name": "stdout",
     "output_type": "stream",
     "text": [
      "Collecting neo4j\n",
      "  Downloading neo4j-5.23.1-py3-none-any.whl.metadata (5.7 kB)\n",
      "Requirement already satisfied: pytz in c:\\users\\tien\\anaconda3\\envs\\iod\\lib\\site-packages (from neo4j) (2024.1)\n",
      "Downloading neo4j-5.23.1-py3-none-any.whl (293 kB)\n",
      "   ---------------------------------------- 0.0/293.6 kB ? eta -:--:--\n",
      "   - -------------------------------------- 10.2/293.6 kB ? eta -:--:--\n",
      "   --------------- ------------------------ 112.6/293.6 kB 1.6 MB/s eta 0:00:01\n",
      "   -------------------------- ------------- 194.6/293.6 kB 2.3 MB/s eta 0:00:01\n",
      "   ---------------------------------------  286.7/293.6 kB 1.8 MB/s eta 0:00:01\n",
      "   ---------------------------------------- 293.6/293.6 kB 1.8 MB/s eta 0:00:00\n",
      "Installing collected packages: neo4j\n",
      "Successfully installed neo4j-5.23.1\n"
     ]
    }
   ],
   "source": [
    "!pip install neo4j"
   ]
  },
  {
   "cell_type": "code",
   "execution_count": null,
   "metadata": {
    "id": "IydOe0ZgKGdu"
   },
   "outputs": [],
   "source": [
    "# After a while if you want to use neo4j, you can use this local browser link to log in\n",
    "# http://localhost:7474/browser/"
   ]
  },
  {
   "cell_type": "code",
   "execution_count": 2,
   "metadata": {
    "id": "HAhDdXNsFfji"
   },
   "outputs": [],
   "source": [
    "#from neo4j.v1 import GraphDatabase\n",
    "from neo4j import GraphDatabase\n",
    "\n",
    "#uri = \"bolt://localhost:7687\" ----> This should also work\n",
    "uri = \"neo4j://localhost:7687\"\n",
    "\n",
    "username = \"neo4j\"\n",
    "password = \"SuperPassword\" #----> your default password might not work in the first try, so you should change your password\n",
    "\n",
    "# How to change Neo4j default password?\n",
    "# After going to localhost:7474 in your browser, you will be prompted to log in.\n",
    "# Use the default login info:\n",
    "    # User: neo4j\n",
    "    # Password: neo4j\n",
    "# You’ll then be asked to change your password."
   ]
  },
  {
   "cell_type": "code",
   "execution_count": 3,
   "metadata": {
    "id": "0OvOtl7tFfjm"
   },
   "outputs": [],
   "source": [
    "driver = GraphDatabase.driver(uri, auth=(username, password))"
   ]
  },
  {
   "cell_type": "markdown",
   "metadata": {
    "id": "GYF3MCsMFfjq"
   },
   "source": [
    "To execute a query against a database using this driver, we need to wrap the Cypher query string in a function definition and pass the function to the `read_transaction` method of the `session` object. Our query function then has access to the `tx` object.\n",
    "\n",
    "Here is a function that finds all the movies that the requested `Person` acted in:"
   ]
  },
  {
   "cell_type": "code",
   "execution_count": 4,
   "metadata": {
    "id": "K3q7Wl8yFfjs"
   },
   "outputs": [],
   "source": [
    "def print_movies_by(tx, name):\n",
    "    for record in tx.run(\"MATCH (a:Person)-[:ACTED_IN]->(anyMovies) \"\n",
    "                         \"WHERE a.name = $name \"\n",
    "                         \"RETURN anyMovies\", name = name):\n",
    "        print(record[\"anyMovies\"])"
   ]
  },
  {
   "cell_type": "markdown",
   "metadata": {
    "id": "9EsP4CYhKGdw"
   },
   "source": [
    "**Note**: For the following queries to work the Movie Graph database should have been loaded with your Neo4j program."
   ]
  },
  {
   "cell_type": "markdown",
   "metadata": {
    "id": "MTNO6Y6eFfjx"
   },
   "source": [
    "Here is how to use it to list Tom Hanks' movies:"
   ]
  },
  {
   "cell_type": "code",
   "execution_count": 5,
   "metadata": {
    "id": "eQTlrnveFfjy",
    "outputId": "922251b0-2088-4a4c-8143-8b82401b065a"
   },
   "outputs": [
    {
     "name": "stderr",
     "output_type": "stream",
     "text": [
      "Unable to retrieve routing information\n",
      "Transaction failed and will be retried in 1.1841538089807302s (Unable to retrieve routing information)\n",
      "Unable to retrieve routing information\n",
      "Transaction failed and will be retried in 2.37800097321508s (Unable to retrieve routing information)\n",
      "Unable to retrieve routing information\n",
      "Transaction failed and will be retried in 3.4298952196694037s (Unable to retrieve routing information)\n",
      "Unable to retrieve routing information\n",
      "Transaction failed and will be retried in 8.288998275357367s (Unable to retrieve routing information)\n",
      "Unable to retrieve routing information\n"
     ]
    },
    {
     "ename": "ServiceUnavailable",
     "evalue": "Unable to retrieve routing information",
     "output_type": "error",
     "traceback": [
      "\u001b[1;31m---------------------------------------------------------------------------\u001b[0m",
      "\u001b[1;31mServiceUnavailable\u001b[0m                        Traceback (most recent call last)",
      "Cell \u001b[1;32mIn[5], line 2\u001b[0m\n\u001b[0;32m      1\u001b[0m \u001b[38;5;28;01mwith\u001b[39;00m driver\u001b[38;5;241m.\u001b[39msession() \u001b[38;5;28;01mas\u001b[39;00m session:\n\u001b[1;32m----> 2\u001b[0m     \u001b[43msession\u001b[49m\u001b[38;5;241;43m.\u001b[39;49m\u001b[43mexecute_read\u001b[49m\u001b[43m(\u001b[49m\u001b[43mprint_movies_by\u001b[49m\u001b[43m,\u001b[49m\u001b[43m \u001b[49m\u001b[38;5;124;43m\"\u001b[39;49m\u001b[38;5;124;43mTom Hanks\u001b[39;49m\u001b[38;5;124;43m\"\u001b[39;49m\u001b[43m)\u001b[49m\n",
      "File \u001b[1;32m~\\anaconda3\\envs\\IOD\\lib\\site-packages\\neo4j\\_sync\\work\\session.py:663\u001b[0m, in \u001b[0;36mSession.execute_read\u001b[1;34m(self, transaction_function, *args, **kwargs)\u001b[0m\n\u001b[0;32m    594\u001b[0m \u001b[38;5;129m@NonConcurrentMethodChecker\u001b[39m\u001b[38;5;241m.\u001b[39mnon_concurrent_method\n\u001b[0;32m    595\u001b[0m \u001b[38;5;28;01mdef\u001b[39;00m \u001b[38;5;21mexecute_read\u001b[39m(\n\u001b[0;32m    596\u001b[0m     \u001b[38;5;28mself\u001b[39m,\n\u001b[1;32m   (...)\u001b[0m\n\u001b[0;32m    600\u001b[0m     \u001b[38;5;241m*\u001b[39margs: _P\u001b[38;5;241m.\u001b[39margs, \u001b[38;5;241m*\u001b[39m\u001b[38;5;241m*\u001b[39mkwargs: _P\u001b[38;5;241m.\u001b[39mkwargs\n\u001b[0;32m    601\u001b[0m ) \u001b[38;5;241m-\u001b[39m\u001b[38;5;241m>\u001b[39m _R:\n\u001b[0;32m    602\u001b[0m \u001b[38;5;250m    \u001b[39m\u001b[38;5;124;03m\"\"\"Execute a unit of work in a managed read transaction.\u001b[39;00m\n\u001b[0;32m    603\u001b[0m \n\u001b[0;32m    604\u001b[0m \u001b[38;5;124;03m    .. note::\u001b[39;00m\n\u001b[1;32m   (...)\u001b[0m\n\u001b[0;32m    661\u001b[0m \u001b[38;5;124;03m    .. versionadded:: 5.0\u001b[39;00m\n\u001b[0;32m    662\u001b[0m \u001b[38;5;124;03m    \"\"\"\u001b[39;00m\n\u001b[1;32m--> 663\u001b[0m     \u001b[38;5;28;01mreturn\u001b[39;00m \u001b[38;5;28;43mself\u001b[39;49m\u001b[38;5;241;43m.\u001b[39;49m\u001b[43m_run_transaction\u001b[49m\u001b[43m(\u001b[49m\n\u001b[0;32m    664\u001b[0m \u001b[43m        \u001b[49m\u001b[43mREAD_ACCESS\u001b[49m\u001b[43m,\u001b[49m\u001b[43m \u001b[49m\u001b[43mTelemetryAPI\u001b[49m\u001b[38;5;241;43m.\u001b[39;49m\u001b[43mTX_FUNC\u001b[49m\u001b[43m,\u001b[49m\n\u001b[0;32m    665\u001b[0m \u001b[43m        \u001b[49m\u001b[43mtransaction_function\u001b[49m\u001b[43m,\u001b[49m\u001b[43m \u001b[49m\u001b[43margs\u001b[49m\u001b[43m,\u001b[49m\u001b[43m \u001b[49m\u001b[43mkwargs\u001b[49m\n\u001b[0;32m    666\u001b[0m \u001b[43m    \u001b[49m\u001b[43m)\u001b[49m\n",
      "File \u001b[1;32m~\\anaconda3\\envs\\IOD\\lib\\site-packages\\neo4j\\_sync\\work\\session.py:590\u001b[0m, in \u001b[0;36mSession._run_transaction\u001b[1;34m(self, access_mode, api, transaction_function, args, kwargs)\u001b[0m\n\u001b[0;32m    587\u001b[0m         \u001b[38;5;28;01mraise\u001b[39;00m\n\u001b[0;32m    589\u001b[0m \u001b[38;5;28;01mif\u001b[39;00m errors:\n\u001b[1;32m--> 590\u001b[0m     \u001b[38;5;28;01mraise\u001b[39;00m errors[\u001b[38;5;241m-\u001b[39m\u001b[38;5;241m1\u001b[39m]\n\u001b[0;32m    591\u001b[0m \u001b[38;5;28;01melse\u001b[39;00m:\n\u001b[0;32m    592\u001b[0m     \u001b[38;5;28;01mraise\u001b[39;00m ServiceUnavailable(\u001b[38;5;124m\"\u001b[39m\u001b[38;5;124mTransaction failed\u001b[39m\u001b[38;5;124m\"\u001b[39m)\n",
      "File \u001b[1;32m~\\anaconda3\\envs\\IOD\\lib\\site-packages\\neo4j\\_sync\\work\\session.py:545\u001b[0m, in \u001b[0;36mSession._run_transaction\u001b[1;34m(self, access_mode, api, transaction_function, args, kwargs)\u001b[0m\n\u001b[0;32m    543\u001b[0m \u001b[38;5;28;01mwhile\u001b[39;00m \u001b[38;5;28;01mTrue\u001b[39;00m:\n\u001b[0;32m    544\u001b[0m     \u001b[38;5;28;01mtry\u001b[39;00m:\n\u001b[1;32m--> 545\u001b[0m         \u001b[38;5;28;43mself\u001b[39;49m\u001b[38;5;241;43m.\u001b[39;49m\u001b[43m_open_transaction\u001b[49m\u001b[43m(\u001b[49m\n\u001b[0;32m    546\u001b[0m \u001b[43m            \u001b[49m\u001b[43mtx_cls\u001b[49m\u001b[38;5;241;43m=\u001b[39;49m\u001b[43mManagedTransaction\u001b[49m\u001b[43m,\u001b[49m\n\u001b[0;32m    547\u001b[0m \u001b[43m            \u001b[49m\u001b[43mapi\u001b[49m\u001b[38;5;241;43m=\u001b[39;49m\u001b[38;5;28;43;01mNone\u001b[39;49;00m\u001b[43m \u001b[49m\u001b[38;5;28;43;01mif\u001b[39;49;00m\u001b[43m \u001b[49m\u001b[43mtelemetry_sent\u001b[49m\u001b[43m \u001b[49m\u001b[38;5;28;43;01melse\u001b[39;49;00m\u001b[43m \u001b[49m\u001b[43mapi\u001b[49m\u001b[43m,\u001b[49m\n\u001b[0;32m    548\u001b[0m \u001b[43m            \u001b[49m\u001b[43maccess_mode\u001b[49m\u001b[38;5;241;43m=\u001b[39;49m\u001b[43maccess_mode\u001b[49m\u001b[43m,\u001b[49m\u001b[43m \u001b[49m\u001b[43mmetadata\u001b[49m\u001b[38;5;241;43m=\u001b[39;49m\u001b[43mmetadata\u001b[49m\u001b[43m,\u001b[49m\n\u001b[0;32m    549\u001b[0m \u001b[43m            \u001b[49m\u001b[43mtimeout\u001b[49m\u001b[38;5;241;43m=\u001b[39;49m\u001b[43mtimeout\u001b[49m\u001b[43m,\u001b[49m\u001b[43m \u001b[49m\u001b[43mapi_success_cb\u001b[49m\u001b[38;5;241;43m=\u001b[39;49m\u001b[43mapi_success_cb\u001b[49m\u001b[43m,\u001b[49m\n\u001b[0;32m    550\u001b[0m \u001b[43m        \u001b[49m\u001b[43m)\u001b[49m\n\u001b[0;32m    551\u001b[0m         \u001b[38;5;28;01massert\u001b[39;00m \u001b[38;5;28misinstance\u001b[39m(\u001b[38;5;28mself\u001b[39m\u001b[38;5;241m.\u001b[39m_transaction, ManagedTransaction)\n\u001b[0;32m    552\u001b[0m         tx \u001b[38;5;241m=\u001b[39m \u001b[38;5;28mself\u001b[39m\u001b[38;5;241m.\u001b[39m_transaction\n",
      "File \u001b[1;32m~\\anaconda3\\envs\\IOD\\lib\\site-packages\\neo4j\\_sync\\work\\session.py:424\u001b[0m, in \u001b[0;36mSession._open_transaction\u001b[1;34m(self, tx_cls, access_mode, api, metadata, timeout, api_success_cb)\u001b[0m\n\u001b[0;32m    413\u001b[0m \u001b[38;5;28;01mdef\u001b[39;00m \u001b[38;5;21m_open_transaction\u001b[39m(\n\u001b[0;32m    414\u001b[0m     \u001b[38;5;28mself\u001b[39m,\n\u001b[0;32m    415\u001b[0m     \u001b[38;5;241m*\u001b[39m,\n\u001b[1;32m   (...)\u001b[0m\n\u001b[0;32m    422\u001b[0m     api_success_cb: t\u001b[38;5;241m.\u001b[39mOptional[t\u001b[38;5;241m.\u001b[39mCallable[[\u001b[38;5;28mdict\u001b[39m], \u001b[38;5;28;01mNone\u001b[39;00m]] \u001b[38;5;241m=\u001b[39m \u001b[38;5;28;01mNone\u001b[39;00m,\n\u001b[0;32m    423\u001b[0m ) \u001b[38;5;241m-\u001b[39m\u001b[38;5;241m>\u001b[39m \u001b[38;5;28;01mNone\u001b[39;00m:\n\u001b[1;32m--> 424\u001b[0m     \u001b[38;5;28;43mself\u001b[39;49m\u001b[38;5;241;43m.\u001b[39;49m\u001b[43m_connect\u001b[49m\u001b[43m(\u001b[49m\u001b[43maccess_mode\u001b[49m\u001b[38;5;241;43m=\u001b[39;49m\u001b[43maccess_mode\u001b[49m\u001b[43m)\u001b[49m\n\u001b[0;32m    425\u001b[0m     \u001b[38;5;28;01massert\u001b[39;00m \u001b[38;5;28mself\u001b[39m\u001b[38;5;241m.\u001b[39m_connection \u001b[38;5;129;01mis\u001b[39;00m \u001b[38;5;129;01mnot\u001b[39;00m \u001b[38;5;28;01mNone\u001b[39;00m\n\u001b[0;32m    426\u001b[0m     \u001b[38;5;28;01mif\u001b[39;00m api \u001b[38;5;129;01mis\u001b[39;00m \u001b[38;5;129;01mnot\u001b[39;00m \u001b[38;5;28;01mNone\u001b[39;00m:\n",
      "File \u001b[1;32m~\\anaconda3\\envs\\IOD\\lib\\site-packages\\neo4j\\_sync\\work\\session.py:130\u001b[0m, in \u001b[0;36mSession._connect\u001b[1;34m(self, access_mode, **acquire_kwargs)\u001b[0m\n\u001b[0;32m    128\u001b[0m     access_mode \u001b[38;5;241m=\u001b[39m \u001b[38;5;28mself\u001b[39m\u001b[38;5;241m.\u001b[39m_config\u001b[38;5;241m.\u001b[39mdefault_access_mode\n\u001b[0;32m    129\u001b[0m \u001b[38;5;28;01mtry\u001b[39;00m:\n\u001b[1;32m--> 130\u001b[0m     \u001b[38;5;28msuper\u001b[39m()\u001b[38;5;241m.\u001b[39m_connect(\n\u001b[0;32m    131\u001b[0m         access_mode, auth\u001b[38;5;241m=\u001b[39m\u001b[38;5;28mself\u001b[39m\u001b[38;5;241m.\u001b[39m_config\u001b[38;5;241m.\u001b[39mauth, \u001b[38;5;241m*\u001b[39m\u001b[38;5;241m*\u001b[39macquire_kwargs\n\u001b[0;32m    132\u001b[0m     )\n\u001b[0;32m    133\u001b[0m \u001b[38;5;28;01mexcept\u001b[39;00m asyncio\u001b[38;5;241m.\u001b[39mCancelledError:\n\u001b[0;32m    134\u001b[0m     \u001b[38;5;28mself\u001b[39m\u001b[38;5;241m.\u001b[39m_handle_cancellation(message\u001b[38;5;241m=\u001b[39m\u001b[38;5;124m\"\u001b[39m\u001b[38;5;124m_connect\u001b[39m\u001b[38;5;124m\"\u001b[39m)\n",
      "File \u001b[1;32m~\\anaconda3\\envs\\IOD\\lib\\site-packages\\neo4j\\_sync\\work\\workspace.py:165\u001b[0m, in \u001b[0;36mWorkspace._connect\u001b[1;34m(self, access_mode, auth, **acquire_kwargs)\u001b[0m\n\u001b[0;32m    157\u001b[0m     \u001b[38;5;28;01melse\u001b[39;00m:\n\u001b[0;32m    158\u001b[0m         \u001b[38;5;66;03m# This is the first time we open a connection to a server in a\u001b[39;00m\n\u001b[0;32m    159\u001b[0m         \u001b[38;5;66;03m# cluster environment for this session without explicitly\u001b[39;00m\n\u001b[1;32m   (...)\u001b[0m\n\u001b[0;32m    162\u001b[0m         \u001b[38;5;66;03m# we shall use this database explicitly for all subsequent\u001b[39;00m\n\u001b[0;32m    163\u001b[0m         \u001b[38;5;66;03m# actions within this session.\u001b[39;00m\n\u001b[0;32m    164\u001b[0m         log\u001b[38;5;241m.\u001b[39mdebug(\u001b[38;5;124m\"\u001b[39m\u001b[38;5;124m[#0000]  _: <WORKSPACE> resolve home database\u001b[39m\u001b[38;5;124m\"\u001b[39m)\n\u001b[1;32m--> 165\u001b[0m         \u001b[38;5;28;43mself\u001b[39;49m\u001b[38;5;241;43m.\u001b[39;49m\u001b[43m_pool\u001b[49m\u001b[38;5;241;43m.\u001b[39;49m\u001b[43mupdate_routing_table\u001b[49m\u001b[43m(\u001b[49m\n\u001b[0;32m    166\u001b[0m \u001b[43m            \u001b[49m\u001b[43mdatabase\u001b[49m\u001b[38;5;241;43m=\u001b[39;49m\u001b[38;5;28;43mself\u001b[39;49m\u001b[38;5;241;43m.\u001b[39;49m\u001b[43m_config\u001b[49m\u001b[38;5;241;43m.\u001b[39;49m\u001b[43mdatabase\u001b[49m\u001b[43m,\u001b[49m\n\u001b[0;32m    167\u001b[0m \u001b[43m            \u001b[49m\u001b[43mimp_user\u001b[49m\u001b[38;5;241;43m=\u001b[39;49m\u001b[38;5;28;43mself\u001b[39;49m\u001b[38;5;241;43m.\u001b[39;49m\u001b[43m_config\u001b[49m\u001b[38;5;241;43m.\u001b[39;49m\u001b[43mimpersonated_user\u001b[49m\u001b[43m,\u001b[49m\n\u001b[0;32m    168\u001b[0m \u001b[43m            \u001b[49m\u001b[43mbookmarks\u001b[49m\u001b[38;5;241;43m=\u001b[39;49m\u001b[38;5;28;43mself\u001b[39;49m\u001b[38;5;241;43m.\u001b[39;49m\u001b[43m_get_bookmarks\u001b[49m\u001b[43m(\u001b[49m\u001b[43m)\u001b[49m\u001b[43m,\u001b[49m\n\u001b[0;32m    169\u001b[0m \u001b[43m            \u001b[49m\u001b[43mauth\u001b[49m\u001b[38;5;241;43m=\u001b[39;49m\u001b[43mauth\u001b[49m\u001b[43m,\u001b[49m\n\u001b[0;32m    170\u001b[0m \u001b[43m            \u001b[49m\u001b[43macquisition_timeout\u001b[49m\u001b[38;5;241;43m=\u001b[39;49m\u001b[43macquisition_timeout\u001b[49m\u001b[43m,\u001b[49m\n\u001b[0;32m    171\u001b[0m \u001b[43m            \u001b[49m\u001b[43mdatabase_callback\u001b[49m\u001b[38;5;241;43m=\u001b[39;49m\u001b[38;5;28;43mself\u001b[39;49m\u001b[38;5;241;43m.\u001b[39;49m\u001b[43m_set_cached_database\u001b[49m\n\u001b[0;32m    172\u001b[0m \u001b[43m        \u001b[49m\u001b[43m)\u001b[49m\n\u001b[0;32m    173\u001b[0m acquire_kwargs_ \u001b[38;5;241m=\u001b[39m {\n\u001b[0;32m    174\u001b[0m     \u001b[38;5;124m\"\u001b[39m\u001b[38;5;124maccess_mode\u001b[39m\u001b[38;5;124m\"\u001b[39m: access_mode,\n\u001b[0;32m    175\u001b[0m     \u001b[38;5;124m\"\u001b[39m\u001b[38;5;124mtimeout\u001b[39m\u001b[38;5;124m\"\u001b[39m: acquisition_timeout,\n\u001b[1;32m   (...)\u001b[0m\n\u001b[0;32m    179\u001b[0m     \u001b[38;5;124m\"\u001b[39m\u001b[38;5;124mliveness_check_timeout\u001b[39m\u001b[38;5;124m\"\u001b[39m: \u001b[38;5;28;01mNone\u001b[39;00m,\n\u001b[0;32m    180\u001b[0m }\n\u001b[0;32m    181\u001b[0m acquire_kwargs_\u001b[38;5;241m.\u001b[39mupdate(acquire_kwargs)\n",
      "File \u001b[1;32m~\\anaconda3\\envs\\IOD\\lib\\site-packages\\neo4j\\_sync\\io\\_pool.py:802\u001b[0m, in \u001b[0;36mNeo4jPool.update_routing_table\u001b[1;34m(self, database, imp_user, bookmarks, auth, acquisition_timeout, database_callback)\u001b[0m\n\u001b[0;32m    800\u001b[0m \u001b[38;5;66;03m# None of the routers have been successful, so just fail\u001b[39;00m\n\u001b[0;32m    801\u001b[0m log\u001b[38;5;241m.\u001b[39merror(\u001b[38;5;124m\"\u001b[39m\u001b[38;5;124mUnable to retrieve routing information\u001b[39m\u001b[38;5;124m\"\u001b[39m)\n\u001b[1;32m--> 802\u001b[0m \u001b[38;5;28;01mraise\u001b[39;00m ServiceUnavailable(\u001b[38;5;124m\"\u001b[39m\u001b[38;5;124mUnable to retrieve routing information\u001b[39m\u001b[38;5;124m\"\u001b[39m)\n",
      "\u001b[1;31mServiceUnavailable\u001b[0m: Unable to retrieve routing information"
     ]
    }
   ],
   "source": [
    "with driver.session() as session:\n",
    "    session.execute_read(print_movies_by, \"Tom Hanks\")"
   ]
  },
  {
   "cell_type": "code",
   "execution_count": 6,
   "metadata": {},
   "outputs": [],
   "source": [
    "uri = \"neo4j://localhost:7687\""
   ]
  },
  {
   "cell_type": "code",
   "execution_count": 7,
   "metadata": {},
   "outputs": [
    {
     "name": "stderr",
     "output_type": "stream",
     "text": [
      "Unable to retrieve routing information\n"
     ]
    },
    {
     "name": "stdout",
     "output_type": "stream",
     "text": [
      "An error occurred: Unable to retrieve routing information\n"
     ]
    }
   ],
   "source": [
    "from neo4j import GraphDatabase\n",
    "\n",
    "def test_connection(uri, user, password):\n",
    "    driver = GraphDatabase.driver(uri, auth=(user, password))\n",
    "    try:\n",
    "        with driver.session() as session:\n",
    "            result = session.run(\"RETURN 1 AS num\")\n",
    "            record = result.single()\n",
    "            print(\"Connection successful. Result:\", record[\"num\"])\n",
    "    except Exception as e:\n",
    "        print(\"An error occurred:\", str(e))\n",
    "    finally:\n",
    "        driver.close()\n",
    "\n",
    "# Replace with your actual connection details\n",
    "test_connection(\"neo4j://localhost:7687\", \"neo4j\", \"your_password\")"
   ]
  },
  {
   "cell_type": "markdown",
   "metadata": {
    "id": "QDEBcR_5Ffj1"
   },
   "source": [
    "Clearly, some further wrangling is required to produce neat output. (Read the documentation before you attempt this.)"
   ]
  },
  {
   "cell_type": "markdown",
   "metadata": {
    "id": "joJo0-GmFfj1"
   },
   "source": [
    "In fact, both the method of using the Neo4j Bolt Driver and the data returned by it are unwieldy. This is typical of low-level drivers."
   ]
  },
  {
   "cell_type": "markdown",
   "metadata": {
    "id": "bG--AtaEFfj2"
   },
   "source": [
    "Try building and running some more queries based on the code in examples queries in The Movie Graph tutorial."
   ]
  },
  {
   "cell_type": "code",
   "execution_count": null,
   "metadata": {
    "id": "W19ySgHfKGdy",
    "outputId": "f8a24c15-4f53-4b29-d751-f642941cb77c"
   },
   "outputs": [
    {
     "name": "stderr",
     "output_type": "stream",
     "text": [
      "Unable to retrieve routing information\n",
      "Transaction failed and will be retried in 0.9095292080181446s (Unable to retrieve routing information)\n",
      "Unable to retrieve routing information\n",
      "Transaction failed and will be retried in 1.991355326019283s (Unable to retrieve routing information)\n"
     ]
    }
   ],
   "source": [
    "# Prints a more readable output\n",
    "def print_movies_by(tx, name):\n",
    "    for record in tx.run(\"MATCH (a:Person)-[:ACTED_IN]->(movie:Movie) \"\n",
    "                         \"WHERE a.name = $name \"\n",
    "                         \"RETURN movie.title AS title, movie.tagline AS tagline, movie.released AS released\", name=name):\n",
    "        title = record[\"title\"]\n",
    "        tagline = record[\"tagline\"]\n",
    "        released = record[\"released\"]\n",
    "        print(f\"Title: {title}\")\n",
    "        print(f\"Tagline: {tagline}\")\n",
    "        print(f\"Released: {released}\")\n",
    "        print(\"=\" * 50)\n",
    "\n",
    "with driver.session() as session:\n",
    "    session.execute_read(print_movies_by, \"Tom Hanks\")\n"
   ]
  },
  {
   "cell_type": "markdown",
   "metadata": {
    "id": "GAEYkd-qKGdy"
   },
   "source": [
    "## 1. Find actors who have acted in more than a certain number of movies:"
   ]
  },
  {
   "cell_type": "code",
   "execution_count": null,
   "metadata": {
    "id": "RKclmOX6KGdy"
   },
   "outputs": [],
   "source": [
    "def find_actors_with_movies(tx, threshold):\n",
    "    query = (\n",
    "        \"MATCH (a:Person)-[:ACTED_IN]->(m:Movie) \"\n",
    "        \"WITH a, count(m) AS movieCount \"\n",
    "        \"WHERE movieCount > $threshold \"\n",
    "        \"RETURN a.name AS actorName, movieCount\"\n",
    "    )\n",
    "    result = tx.run(query, threshold=threshold)\n",
    "    for record in result:\n",
    "        print(record[\"actorName\"], \"acted in\", record[\"movieCount\"], \"movies\")\n"
   ]
  },
  {
   "cell_type": "code",
   "execution_count": null,
   "metadata": {
    "id": "1tS1JftxKGdz",
    "outputId": "8174f89e-ce92-41eb-fc4b-31a99d66d480"
   },
   "outputs": [
    {
     "name": "stdout",
     "output_type": "stream",
     "text": [
      "Keanu Reeves acted in 7 movies\n",
      "Tom Hanks acted in 12 movies\n"
     ]
    }
   ],
   "source": [
    "# Usage:\n",
    "driver = GraphDatabase.driver(\"bolt://localhost:7687\", auth=(username, password))\n",
    "with driver.session() as session:\n",
    "    session.execute_read(find_actors_with_movies, threshold=5)"
   ]
  },
  {
   "cell_type": "markdown",
   "metadata": {
    "id": "itJZaNfeKGdz"
   },
   "source": [
    "## 2. Identify co-actors of a specific actor"
   ]
  },
  {
   "cell_type": "code",
   "execution_count": null,
   "metadata": {
    "id": "_fnCwCnFKGdz"
   },
   "outputs": [],
   "source": [
    "def find_co_actors(tx, actor_name):\n",
    "    query = (\n",
    "        \"MATCH (a1:Person)-[:ACTED_IN]->(m:Movie)<-[:ACTED_IN]-(a2:Person) \"\n",
    "        \"WHERE a1.name = $actorName \"\n",
    "        \"RETURN a2.name AS coActorName, collect(m.title) AS movies\"\n",
    "    )\n",
    "    result = tx.run(query, actorName=actor_name)\n",
    "    data = [(record[\"coActorName\"], \", \".join(record[\"movies\"])) for record in result]\n",
    "    return data"
   ]
  },
  {
   "cell_type": "code",
   "execution_count": null,
   "metadata": {
    "id": "12nbhqkJKGdz",
    "outputId": "73a2ef09-53d7-44a0-8c73-94abf6a0ca45"
   },
   "outputs": [
    {
     "name": "stdout",
     "output_type": "stream",
     "text": [
      "Co-Actor Name           Movies\n",
      "----------------------  -------------------------------------------------------------\n",
      "Ed Harris               Apollo 13\n",
      "Gary Sinise             Apollo 13, The Green Mile\n",
      "Kevin Bacon             Apollo 13\n",
      "Bill Paxton             Apollo 13, A League of Their Own\n",
      "Parker Posey            You've Got Mail\n",
      "Greg Kinnear            You've Got Mail\n",
      "Meg Ryan                You've Got Mail, Joe Versus the Volcano, Sleepless in Seattle\n",
      "Steve Zahn              You've Got Mail\n",
      "Dave Chappelle          You've Got Mail\n",
      "Madonna                 A League of Their Own\n",
      "Rosie O'Donnell         A League of Their Own, Sleepless in Seattle\n",
      "Geena Davis             A League of Their Own\n",
      "Lori Petty              A League of Their Own\n",
      "Nathan Lane             Joe Versus the Volcano\n",
      "Liv Tyler               That Thing You Do\n",
      "Charlize Theron         That Thing You Do\n",
      "Ian McKellen            The Da Vinci Code\n",
      "Audrey Tautou           The Da Vinci Code\n",
      "Paul Bettany            The Da Vinci Code\n",
      "Jim Broadbent           Cloud Atlas\n",
      "Halle Berry             Cloud Atlas\n",
      "Hugo Weaving            Cloud Atlas\n",
      "Helen Hunt              Cast Away\n",
      "Sam Rockwell            The Green Mile\n",
      "Bonnie Hunt             The Green Mile\n",
      "Patricia Clarkson       The Green Mile\n",
      "James Cromwell          The Green Mile\n",
      "Michael Clarke Duncan   The Green Mile\n",
      "David Morse             The Green Mile\n",
      "Victor Garber           Sleepless in Seattle\n",
      "Bill Pullman            Sleepless in Seattle\n",
      "Rita Wilson             Sleepless in Seattle\n",
      "Julia Roberts           Charlie Wilson's War\n",
      "Philip Seymour Hoffman  Charlie Wilson's War\n"
     ]
    }
   ],
   "source": [
    "from tabulate import tabulate\n",
    "# Usage:\n",
    "# driver = GraphDatabase.driver(\"bolt://localhost:7687\", auth=(username, password))\n",
    "with driver.session() as session:\n",
    "    data = session.execute_read(???)\n",
    "\n",
    "print(tabulate(data, headers=[\"Co-Actor Name\", \"Movies\"]))\n"
   ]
  },
  {
   "cell_type": "markdown",
   "metadata": {
    "id": "-9Ii3M0RKGd0"
   },
   "source": [
    "## 3. Find movies released after a certain year:"
   ]
  },
  {
   "cell_type": "code",
   "execution_count": null,
   "metadata": {
    "id": "eqNpCrITKGd0"
   },
   "outputs": [],
   "source": [
    "def find_movies_after_year(tx, year):\n",
    "    query = (\n",
    "        \"MATCH (m:Movie) \"\n",
    "        \"WHERE m.released > $year \"\n",
    "        \"RETURN m.title AS movieTitle, m.released AS releaseYear\"\n",
    "    )\n",
    "    result = tx.run(query, year=year)\n",
    "    for record in result:\n",
    "        print(record[\"movieTitle\"], \"was released in\", record[\"releaseYear\"])\n"
   ]
  },
  {
   "cell_type": "code",
   "execution_count": null,
   "metadata": {
    "id": "WeyhQpPvKGd0",
    "outputId": "7e5e8c5a-bd89-411e-c8aa-9f9c797dae93"
   },
   "outputs": [
    {
     "name": "stdout",
     "output_type": "stream",
     "text": [
      "The Matrix Reloaded was released in 2003\n",
      "The Matrix Revolutions was released in 2003\n",
      "Something's Gotta Give was released in 2003\n",
      "The Polar Express was released in 2004\n",
      "RescueDawn was released in 2006\n",
      "The Da Vinci Code was released in 2006\n",
      "V for Vendetta was released in 2006\n",
      "Charlie Wilson's War was released in 2007\n",
      "Speed Racer was released in 2008\n",
      "Frost/Nixon was released in 2008\n",
      "Ninja Assassin was released in 2009\n",
      "Cloud Atlas was released in 2012\n"
     ]
    }
   ],
   "source": [
    "# Usage:\n",
    "#driver = GraphDatabase.driver(\"bolt://localhost:7687\", auth=(\"neo4j\", \"password\"))\n",
    "with driver.session() as session:\n",
    "    ???"
   ]
  },
  {
   "cell_type": "markdown",
   "metadata": {
    "id": "nJy_XtgyKGd0"
   },
   "source": [
    "## 4. Find movies in a particular genre:"
   ]
  },
  {
   "cell_type": "code",
   "execution_count": null,
   "metadata": {
    "id": "ecTp_NT_KGd0"
   },
   "outputs": [],
   "source": [
    "def find_movies_in_genre(tx, genre):\n",
    "    query = (\n",
    "        \"MATCH ???\"\n",
    "        \"WHERE g.name = $genre \"\n",
    "        \"RETURN m.title AS movieTitle\"\n",
    "    )\n",
    "    result = tx.run(query, genre=genre)\n",
    "    for record in result:\n",
    "        print(record[\"movieTitle\"], \"is in the\", genre, \"genre\")"
   ]
  },
  {
   "cell_type": "code",
   "execution_count": null,
   "metadata": {
    "id": "gh2xk2WIKGd0"
   },
   "outputs": [],
   "source": [
    "with driver.session() as session:\n",
    "    session.execute_read(find_movies_in_genre, genre=\"Action\")"
   ]
  },
  {
   "cell_type": "markdown",
   "metadata": {
    "id": "HYMf6h3kKGd0"
   },
   "source": [
    "## 5. Find movies directed by a specific director:"
   ]
  },
  {
   "cell_type": "code",
   "execution_count": null,
   "metadata": {
    "id": "XGXJVhnlKGd1"
   },
   "outputs": [],
   "source": [
    "def find_movies_by_director(tx, director):\n",
    "    query = (\n",
    "        \"MATCH ???\"\n",
    "        \"WHERE d.name = $director \"\n",
    "        \"RETURN m.title AS movieTitle\"\n",
    "    )\n",
    "    result = tx.run(query, director=director)\n",
    "    for record in result:\n",
    "        print(record[\"movieTitle\"], \"was directed by\", director)"
   ]
  },
  {
   "cell_type": "code",
   "execution_count": null,
   "metadata": {
    "id": "wbWCXdwsKGd1"
   },
   "outputs": [],
   "source": [
    "# Usage:\n",
    "#driver = GraphDatabase.driver(\"bolt://localhost:7687\", auth=(\"neo4j\", \"password\"))\n",
    "with driver.session() as session:\n",
    "    session.execute_read(find_movies_by_director, director=\"Steven Spielberg\")"
   ]
  },
  {
   "cell_type": "markdown",
   "metadata": {
    "id": "X4Yy4pHxKGd1"
   },
   "source": [
    "## 6. Find movies where a specific actor both acted in and directed:"
   ]
  },
  {
   "cell_type": "code",
   "execution_count": null,
   "metadata": {
    "id": "5YuO6lHZKGd1"
   },
   "outputs": [],
   "source": [
    "def find_movies_actor_directed(tx, actor_name):\n",
    "    query = (\n",
    "        \"MATCH ???\"\n",
    "        \"WHERE a.name = $actorName \"\n",
    "        \"RETURN m.title AS movieTitle\"\n",
    "    )\n",
    "    result = tx.run(query, actorName=actor_name)\n",
    "    for record in result:\n",
    "\n",
    "        print(actor_name, \"acted in and directed\", record[\"movieTitle\"])"
   ]
  },
  {
   "cell_type": "code",
   "execution_count": null,
   "metadata": {
    "id": "kwfQb1QxKGd1",
    "outputId": "f6ca33f4-55fa-4cd3-a42a-edf723741df9"
   },
   "outputs": [
    {
     "name": "stdout",
     "output_type": "stream",
     "text": [
      "Tom Hanks acted in and directed That Thing You Do\n"
     ]
    }
   ],
   "source": [
    "# Usage:\n",
    "#driver = GraphDatabase.driver(\"bolt://localhost:7687\", auth=(\"neo4j\", \"password\"))\n",
    "with driver.session() as session:\n",
    "    session.execute_read(find_movies_actor_directed, actor_name=\"Tom Hanks\")"
   ]
  },
  {
   "cell_type": "markdown",
   "metadata": {
    "id": "RAnfpS8VKGd1"
   },
   "source": [
    "## 7. Find actors who have worked in a specific genre:"
   ]
  },
  {
   "cell_type": "code",
   "execution_count": null,
   "metadata": {
    "id": "7If06_tDKGd1"
   },
   "outputs": [],
   "source": [
    "def find_actors_in_genre(tx, genre):\n",
    "    query = (\n",
    "        \"MATCH ???\"\n",
    "        \"WHERE g.name = $genre \"\n",
    "        \"RETURN DISTINCT a.name AS actorName\"\n",
    "    )\n",
    "    result = tx.run(query, genre=genre)\n",
    "    for record in result:\n",
    "        print(record[\"actorName\"], \"has worked in the\", genre, \"genre\")\n"
   ]
  },
  {
   "cell_type": "code",
   "execution_count": null,
   "metadata": {
    "id": "sjRbyn3CKGd1"
   },
   "outputs": [],
   "source": [
    "# Usage:\n",
    "#driver = GraphDatabase.driver(\"bolt://localhost:7687\", auth=(\"neo4j\", \"password\"))\n",
    "with driver.session() as session:\n",
    "    session.execute_read(find_actors_in_genre, genre=\"Comedy\")\n"
   ]
  },
  {
   "cell_type": "code",
   "execution_count": null,
   "metadata": {
    "id": "kaXi-OExFfj6"
   },
   "outputs": [],
   "source": [
    "session.close()\n",
    "driver.close()"
   ]
  },
  {
   "cell_type": "markdown",
   "metadata": {
    "id": "D-ZYErQTKGd2"
   },
   "source": [
    "### Additional Reference\n",
    "* [Build applications with Neo4j and Python](https://neo4j.com/docs/python-manual/current/)"
   ]
  },
  {
   "cell_type": "markdown",
   "metadata": {
    "id": "sNOPRB7rFfj9"
   },
   "source": [
    "## - END -"
   ]
  },
  {
   "cell_type": "markdown",
   "metadata": {
    "id": "RERADKgNFq9T"
   },
   "source": [
    "\n",
    "\n",
    "---\n",
    "\n",
    "\n",
    "\n",
    "---\n",
    "\n",
    "\n",
    "\n",
    "> > > > > > > > > © 2024 Institute of Data\n",
    "\n",
    "\n",
    "---\n",
    "\n",
    "\n",
    "\n",
    "---\n",
    "\n",
    "\n",
    "\n"
   ]
  }
 ],
 "metadata": {
  "colab": {
   "provenance": []
  },
  "kernelspec": {
   "display_name": "Python 3 (ipykernel)",
   "language": "python",
   "name": "python3"
  },
  "language_info": {
   "codemirror_mode": {
    "name": "ipython",
    "version": 3
   },
   "file_extension": ".py",
   "mimetype": "text/x-python",
   "name": "python",
   "nbconvert_exporter": "python",
   "pygments_lexer": "ipython3",
   "version": "3.10.14"
  }
 },
 "nbformat": 4,
 "nbformat_minor": 4
}
